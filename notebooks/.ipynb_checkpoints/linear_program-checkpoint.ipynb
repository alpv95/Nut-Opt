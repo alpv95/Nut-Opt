{
 "cells": [
  {
   "cell_type": "code",
   "execution_count": 1,
   "metadata": {},
   "outputs": [],
   "source": [
    "%matplotlib inline\n",
    "import numpy as np\n",
    "import matplotlib.pyplot as plt\n",
    "import pandas as pd\n",
    "import cvxpy as cp\n",
    "import json\n",
    "import plotly.express as px\n",
    "import plotly.graph_objects as go\n",
    "from plotly.subplots import make_subplots"
   ]
  },
  {
   "cell_type": "code",
   "execution_count": 21,
   "metadata": {},
   "outputs": [],
   "source": [
    "#definitions\n",
    "amino_acids = ['alanine', \n",
    "       'arginine', 'aspartic_acid', 'cystine', 'glutamic_acid', 'glycine',\n",
    "       'histidine', 'hydroxyproline', 'isoleucine', 'leucine', 'lysine',\n",
    "       'methionine', 'phenylalanine', 'proline', 'serine', 'threonine',\n",
    "       'tryptophan', 'tyrosine', 'valine',]\n",
    "essential = ['histidine', 'isoleucine', 'leucine', 'lysine', \n",
    "                         'methionine', 'phenylalanine', 'threonine', 'tryptophan', 'valine']\n",
    "minerals = ['calcium','copper','irom','magnesium','manganese','phosphorous','potassium','zink']\n",
    "vitamins = []\n",
    "summary = ['protein','carbohydrate','total_fat','water']"
   ]
  },
  {
   "cell_type": "code",
   "execution_count": 22,
   "metadata": {},
   "outputs": [],
   "source": [
    "df = pd.read_csv('../data/nutrition_clean.csv')\n",
    "names = pd.read_csv('../data/food_names.csv')\n",
    "names = names['name']\n",
    "name_to_idx = {v: k for k, v in names.to_dict().items()}\n",
    "columns_to_idx = {v: i for i, v in enumerate(df.columns)}\n",
    "\n",
    "with open('../data/units.json') as json_file:\n",
    "    units = json.load(json_file)"
   ]
  },
  {
   "cell_type": "markdown",
   "metadata": {},
   "source": [
    "## Constraints"
   ]
  },
  {
   "cell_type": "code",
   "execution_count": 82,
   "metadata": {},
   "outputs": [],
   "source": [
    "lower = {'calories': 2000,\n",
    " 'total_fat': 50,\n",
    " 'saturated_fat': 10,\n",
    " 'cholesterol': 50,\n",
    " 'sodium': 1500,\n",
    " 'choline': 550,\n",
    " 'folate': 400,\n",
    " 'folic_acid': 400,\n",
    " 'niacin': 16,\n",
    " 'pantothenic_acid': 5,\n",
    " 'riboflavin': 1.3,\n",
    " 'thiamin': 1.2,\n",
    " 'vitamin_a': 3000,\n",
    " 'vitamin_a_rae': ' mcg',\n",
    " 'carotene_alpha': ' mcg',\n",
    " 'carotene_beta': ' mcg',\n",
    " 'cryptoxanthin_beta': ' mcg',\n",
    " 'lutein_zeaxanthin': ' mcg',\n",
    " 'vitamin_b12': 2.4,\n",
    " 'vitamin_b6': 1.3,\n",
    " 'vitamin_c': 90,\n",
    " 'vitamin_d': 600,\n",
    " 'vitamin_e': 15,\n",
    " 'vitamin_k': 120,\n",
    " 'calcium': 1300,\n",
    " 'copper': 0.9,\n",
    " 'irom': 8,\n",
    " 'magnesium': 400,\n",
    " 'manganese': 2.3,\n",
    " 'phosphorous': 700,\n",
    " 'potassium': 4700,\n",
    " 'selenium': 55,\n",
    " 'zink': 11,\n",
    " 'protein': 70,\n",
    " 'alanine': ' g',\n",
    " 'arginine': ' g',\n",
    " 'aspartic_acid': ' g',\n",
    " 'cystine': 0.287,\n",
    " 'glutamic_acid': ' g',\n",
    " 'glycine': ' g',\n",
    " 'histidine': 0.7,\n",
    " 'hydroxyproline': 'g',\n",
    " 'isoleucine': 1.4,\n",
    " 'leucine': 2.73,\n",
    " 'lysine': 2.1,\n",
    " 'methionine': 0.728,\n",
    " 'phenylalanine': 0.875,\n",
    " 'proline': ' g',\n",
    " 'serine': ' g',\n",
    " 'threonine': 1.05,\n",
    " 'tryptophan': 0.28,\n",
    " 'tyrosine': 0.875,\n",
    " 'valine': 1.82,\n",
    " 'carbohydrate': 130, #130\n",
    " 'fiber': 38,\n",
    " 'sugars': 'g',\n",
    " 'fructose': 'g',\n",
    " 'galactose': 'g',\n",
    " 'glucose': 'g',\n",
    " 'lactose': 'g',\n",
    " 'maltose': 'g',\n",
    " 'sucrose': 'g',\n",
    " 'fat': 'g', #78\n",
    " 'saturated_fatty_acids': ' g',\n",
    " 'monounsaturated_fatty_acids': ' g',\n",
    " 'polyunsaturated_fatty_acids': 17,\n",
    " 'alcohol': 'g',\n",
    " 'ash': 'g',\n",
    " 'caffeine': 'g',\n",
    " 'theobromine': 'g',\n",
    " 'water': 100} #500\n",
    "\n",
    "upper = {'calories': 2500,\n",
    " 'total_fat': 120,\n",
    " 'saturated_fat': 25,\n",
    " 'cholesterol': 250,\n",
    " 'sodium': 3000,\n",
    " 'choline': 2500,\n",
    " 'folate': 900,\n",
    " 'folic_acid': 900,\n",
    " 'niacin': 30,\n",
    " 'pantothenic_acid': 100,\n",
    " 'riboflavin': 500,\n",
    " 'thiamin': 200,\n",
    " 'vitamin_a': 8000,\n",
    " 'vitamin_a_rae': ' mcg',\n",
    " 'carotene_alpha': ' mcg',\n",
    " 'carotene_beta': ' mcg',\n",
    " 'cryptoxanthin_beta': ' mcg',\n",
    " 'lutein_zeaxanthin': ' mcg',\n",
    " 'vitamin_b12': 8,\n",
    " 'vitamin_b6': 4,\n",
    " 'vitamin_c': 1000,\n",
    " 'vitamin_d': 5000,\n",
    " 'vitamin_e': 500,\n",
    " 'vitamin_k': 500,\n",
    " 'calcium': 2000,\n",
    " 'copper': 7,\n",
    " 'irom': 35,\n",
    " 'magnesium': 500,\n",
    " 'manganese': 7,\n",
    " 'phosphorous': 3500,\n",
    " 'potassium': 7000,\n",
    " 'selenium': 300,\n",
    " 'zink': 35,\n",
    " 'protein': 100,\n",
    " 'alanine': ' g',\n",
    " 'arginine': ' g',\n",
    " 'aspartic_acid': ' g',\n",
    " 'cystine': ' g',\n",
    " 'glutamic_acid': ' g',\n",
    " 'glycine': ' g',\n",
    " 'histidine': ' g',\n",
    " 'hydroxyproline': 'g',\n",
    " 'isoleucine': ' g',\n",
    " 'leucine': ' g',\n",
    " 'lysine': ' g',\n",
    " 'methionine': ' g',\n",
    " 'phenylalanine': ' g',\n",
    " 'proline': ' g',\n",
    " 'serine': ' g',\n",
    " 'threonine': ' g',\n",
    " 'tryptophan': ' g',\n",
    " 'tyrosine': ' g',\n",
    " 'valine': ' g',\n",
    " 'carbohydrate': 400, #300\n",
    " 'fiber': 55,\n",
    " 'sugars': 40,\n",
    " 'fructose': ' g',\n",
    " 'galactose': 'g',\n",
    " 'glucose': ' g',\n",
    " 'lactose': ' g',\n",
    " 'maltose': ' g',\n",
    " 'sucrose': ' g',\n",
    " 'fat': 'g', #120\n",
    " 'saturated_fatty_acids': ' g',\n",
    " 'monounsaturated_fatty_acids': ' g',\n",
    " 'polyunsaturated_fatty_acids': 30,\n",
    " 'alcohol': 5,\n",
    " 'ash': ' g',\n",
    " 'caffeine': ' mg',\n",
    " 'theobromine': ' mg',\n",
    " 'water': 2000}"
   ]
  },
  {
   "cell_type": "code",
   "execution_count": 83,
   "metadata": {},
   "outputs": [],
   "source": [
    "constraints = {k_up: (v_low, v_up) for (k_up, v_up), (_, v_low) in zip(upper.items(), lower.items()) \n",
    " if not (isinstance(v_low, str) and isinstance(v_up, str))}"
   ]
  },
  {
   "cell_type": "code",
   "execution_count": 84,
   "metadata": {
    "scrolled": false
   },
   "outputs": [
    {
     "data": {
      "text/plain": [
       "{'calories': (2000, 2500),\n",
       " 'saturated_fat': (10, 25),\n",
       " 'cholesterol': (50, 250),\n",
       " 'sodium': (1500, 3000),\n",
       " 'choline': (550, 2500),\n",
       " 'folate': (400, 900),\n",
       " 'folic_acid': (400, 900),\n",
       " 'niacin': (16, 30),\n",
       " 'pantothenic_acid': (5, 100),\n",
       " 'riboflavin': (1.3, 500),\n",
       " 'thiamin': (1.2, 200),\n",
       " 'vitamin_a': (3000, 8000),\n",
       " 'vitamin_b12': (2.4, 8),\n",
       " 'vitamin_b6': (1.3, 4),\n",
       " 'vitamin_c': (90, 1000),\n",
       " 'vitamin_d': (600, 5000),\n",
       " 'vitamin_e': (15, 500),\n",
       " 'vitamin_k': (120, 500),\n",
       " 'calcium': (1300, 2000),\n",
       " 'copper': (0.9, 7),\n",
       " 'irom': (8, 35),\n",
       " 'magnesium': (400, 500),\n",
       " 'manganese': (2.3, 7),\n",
       " 'phosphorous': (700, 3500),\n",
       " 'potassium': (4700, 7000),\n",
       " 'selenium': (55, 300),\n",
       " 'zink': (11, 35),\n",
       " 'protein': (70, 100),\n",
       " 'cystine': (0.287, ' g'),\n",
       " 'histidine': (0.7, ' g'),\n",
       " 'isoleucine': (1.4, ' g'),\n",
       " 'leucine': (2.73, ' g'),\n",
       " 'lysine': (2.1, ' g'),\n",
       " 'methionine': (0.728, ' g'),\n",
       " 'phenylalanine': (0.875, ' g'),\n",
       " 'threonine': (1.05, ' g'),\n",
       " 'tryptophan': (0.28, ' g'),\n",
       " 'tyrosine': (0.875, ' g'),\n",
       " 'valine': (1.82, ' g'),\n",
       " 'carbohydrate': (130, 400),\n",
       " 'fiber': (38, 55),\n",
       " 'sugars': ('g', 40),\n",
       " 'fat': (50, 120),\n",
       " 'polyunsaturated_fatty_acids': (17, 30),\n",
       " 'alcohol': ('g', 5),\n",
       " 'water': (100, 2000)}"
      ]
     },
     "execution_count": 84,
     "metadata": {},
     "output_type": "execute_result"
    }
   ],
   "source": [
    "constraints"
   ]
  },
  {
   "cell_type": "markdown",
   "metadata": {},
   "source": [
    "Minimize $|\\mathbf{x}|_1$\n",
    "\n",
    "subject to $b_1 \\leq A\\mathbf{x} \\leq b_2$\n",
    "\n",
    "where $\\mathbf{x} \\in \\mathcal{R}_+$\n",
    "\n",
    "$\\mathbf{x}: 1\\times 8763$\n",
    "\n",
    "$\\mathbf{x}$ is the vector of all food weights in units of 100g"
   ]
  },
  {
   "cell_type": "code",
   "execution_count": 85,
   "metadata": {},
   "outputs": [],
   "source": [
    "def get_constraint_vectors(constraints):\n",
    "    lower = []\n",
    "    upper = []\n",
    "    lower_idx = []\n",
    "    upper_idx = []\n",
    "    for k,v in constraints.items():\n",
    "        if not isinstance(v[0], str):\n",
    "            lower_idx.append(k)\n",
    "            lower.append(v[0])\n",
    "        if not isinstance(v[1], str):\n",
    "            upper_idx.append(k)\n",
    "            upper.append(v[1])\n",
    "    return lower, upper, lower_idx, upper_idx"
   ]
  },
  {
   "cell_type": "code",
   "execution_count": 86,
   "metadata": {},
   "outputs": [],
   "source": [
    "l, u, l_idxs, u_idxs = get_constraint_vectors(constraints)"
   ]
  },
  {
   "cell_type": "code",
   "execution_count": 87,
   "metadata": {},
   "outputs": [],
   "source": [
    "#should be roughly 70 x 8700, i.e. A.T.\n",
    "Al = df[l_idxs].values.T\n",
    "Au = df[u_idxs].values.T"
   ]
  },
  {
   "cell_type": "code",
   "execution_count": 88,
   "metadata": {},
   "outputs": [
    {
     "name": "stdout",
     "output_type": "stream",
     "text": [
      "Total weight:  457.3053003755828 g\n"
     ]
    }
   ],
   "source": [
    "# Least calorie solution (may need to control for beverages by placing constraint \n",
    "# or regularization on x, e.g. weight constraint)\n",
    "n = len(df)\n",
    "\n",
    "# Define and solve the CVXPY problem.\n",
    "x = cp.Variable(n)\n",
    "prob = cp.Problem(cp.Minimize(cp.norm1(x)),\n",
    "                 [Au @ x <= u, Al @ x >= l,])\n",
    "prob.solve()\n",
    "\n",
    "# Print result.\n",
    "print('Total weight: ',prob.value * 100, 'g')"
   ]
  },
  {
   "cell_type": "code",
   "execution_count": 89,
   "metadata": {},
   "outputs": [
    {
     "name": "stdout",
     "output_type": "stream",
     "text": [
      "2000.00kcal  calories\n",
      "120.14g  total_fat\n",
      "25.00g  saturated_fat\n",
      "250.00mg  cholesterol\n",
      "1500.00 mg  sodium\n",
      "550.00 mg  choline\n",
      "781.16 mcg  folate\n",
      "400.00 mcg  folic_acid\n",
      "24.75 mg  niacin\n",
      "5.25 mg  pantothenic_acid\n",
      "4.15 mg  riboflavin\n",
      "3.82 mg  thiamin\n",
      "4366.61 IU  vitamin_a\n",
      "1230.50 mcg  vitamin_a_rae\n",
      "1.24 mcg  carotene_alpha\n",
      "159.20 mcg  carotene_beta\n",
      "1.08 mcg  cryptoxanthin_beta\n",
      "219.35 mcg  lutein_zeaxanthin\n",
      "4.78 mcg  vitamin_b12\n",
      "1.31 mg  vitamin_b6\n",
      "90.00 mg  vitamin_c\n",
      "600.00 IU  vitamin_d\n",
      "15.00 mg  vitamin_e\n",
      "120.00 mcg  vitamin_k\n",
      "1300.00 mg  calcium\n",
      "2.78 mg  copper\n",
      "21.15 mg  irom\n",
      "500.00 mg  magnesium\n",
      "2.30 mg  manganese\n",
      "1599.59 mg  phosphorous\n",
      "4700.00 mg  potassium\n",
      "66.35 mcg  selenium\n",
      "13.81 mg  zink\n",
      "78.59 g  protein\n",
      "3.97 g  alanine\n",
      "4.80 g  arginine\n",
      "7.52 g  aspartic_acid\n",
      "0.90 g  cystine\n",
      "14.19 g  glutamic_acid\n",
      "4.25 g  glycine\n",
      "2.03 g  histidine\n",
      "0.00g  hydroxyproline\n",
      "3.79 g  isoleucine\n",
      "6.40 g  leucine\n",
      "5.64 g  lysine\n",
      "1.55 g  methionine\n",
      "3.55 g  phenylalanine\n",
      "5.77 g  proline\n",
      "3.93 g  serine\n",
      "3.23 g  threonine\n",
      "0.96 g  tryptophan\n",
      "2.90 g  tyrosine\n",
      "4.17 g  valine\n",
      "132.03 g  carbohydrate\n",
      "38.00 g  fiber\n",
      "40.00 g  sugars\n",
      "0.00 g  fructose\n",
      "0.00g  galactose\n",
      "0.07 g  glucose\n",
      "0.00 g  lactose\n",
      "0.23 g  maltose\n",
      "0.00 g  sucrose\n",
      "120.00 g  fat\n",
      "24.80 g  saturated_fatty_acids\n",
      "58.65 g  monounsaturated_fatty_acids\n",
      "25.95 g  polyunsaturated_fatty_acids\n",
      "5.00 g  alcohol\n",
      "17.52 g  ash\n",
      "26.56 mg  caffeine\n",
      "901.79 mg  theobromine\n",
      "100.00 g  water\n"
     ]
    }
   ],
   "source": [
    "final = df.values.T @ x.value\n",
    "for i, col in enumerate(df.columns):\n",
    "    print(f\"{final[i]:.2f}{units[col]}  {col}\")"
   ]
  },
  {
   "cell_type": "code",
   "execution_count": 92,
   "metadata": {},
   "outputs": [
    {
     "name": "stdout",
     "output_type": "stream",
     "text": [
      "               0         1\n",
      "0  saturated_fat  0.000997\n",
      "1    cholesterol  0.000146\n",
      "2      magnesium  0.000136\n",
      "3         sugars  0.001274\n",
      "4            fat  0.009582\n",
      "5        alcohol  0.002667\n"
     ]
    }
   ],
   "source": [
    "u_dual = prob.constraints[0].dual_value\n",
    "tol = 1e-6\n",
    "u_lim = pd.DataFrame([(nutrient, val) for nutrient, val in zip(np.array(u_idxs)[u_dual > tol], u_dual[u_dual > tol])])\n",
    "print(u_lim)"
   ]
  },
  {
   "cell_type": "code",
   "execution_count": 93,
   "metadata": {},
   "outputs": [
    {
     "name": "stdout",
     "output_type": "stream",
     "text": [
      "             0         1\n",
      "0     calories  0.002176\n",
      "1       sodium  0.000015\n",
      "2      choline  0.000297\n",
      "3   folic_acid  0.000015\n",
      "4    vitamin_c  0.000032\n",
      "5    vitamin_d  0.000010\n",
      "6    vitamin_e  0.000123\n",
      "7    vitamin_k  0.000064\n",
      "8      calcium  0.000074\n",
      "9    manganese  0.000460\n",
      "10   potassium  0.000067\n",
      "11       fiber  0.001647\n",
      "12       water  0.008779\n"
     ]
    }
   ],
   "source": [
    "l_dual = prob.constraints[1].dual_value\n",
    "tol = 1e-6\n",
    "l_lim = pd.DataFrame([(nutrient, val) for nutrient, val in zip(np.array(l_idxs)[l_dual > tol], l_dual[l_dual > tol])])\n",
    "print(l_lim)"
   ]
  },
  {
   "cell_type": "code",
   "execution_count": 94,
   "metadata": {},
   "outputs": [],
   "source": [
    "result = x.value\n",
    "idxs = np.array([i for i in range(len(result))])\n",
    "tol = 1e-6\n",
    "final_foods = pd.DataFrame([(names[food], food, val) for food, val in zip(idxs[result > tol], result[result > tol])])"
   ]
  },
  {
   "cell_type": "code",
   "execution_count": 95,
   "metadata": {},
   "outputs": [
    {
     "data": {
      "text/html": [
       "<div>\n",
       "<style scoped>\n",
       "    .dataframe tbody tr th:only-of-type {\n",
       "        vertical-align: middle;\n",
       "    }\n",
       "\n",
       "    .dataframe tbody tr th {\n",
       "        vertical-align: top;\n",
       "    }\n",
       "\n",
       "    .dataframe thead th {\n",
       "        text-align: right;\n",
       "    }\n",
       "</style>\n",
       "<table border=\"1\" class=\"dataframe\">\n",
       "  <thead>\n",
       "    <tr style=\"text-align: right;\">\n",
       "      <th></th>\n",
       "      <th>0</th>\n",
       "      <th>1</th>\n",
       "      <th>2</th>\n",
       "    </tr>\n",
       "  </thead>\n",
       "  <tbody>\n",
       "    <tr>\n",
       "      <th>13</th>\n",
       "      <td>Milk, with added vitamin A and vitamin D, regu...</td>\n",
       "      <td>5090</td>\n",
       "      <td>0.639470</td>\n",
       "    </tr>\n",
       "    <tr>\n",
       "      <th>5</th>\n",
       "      <td>Soybeans, raw, mature seeds</td>\n",
       "      <td>853</td>\n",
       "      <td>0.609297</td>\n",
       "    </tr>\n",
       "    <tr>\n",
       "      <th>17</th>\n",
       "      <td>Pork, simmered, cooked, chitterlings, variety ...</td>\n",
       "      <td>6541</td>\n",
       "      <td>0.548811</td>\n",
       "    </tr>\n",
       "    <tr>\n",
       "      <th>7</th>\n",
       "      <td>Potato chips, reduced fat, without salt</td>\n",
       "      <td>1954</td>\n",
       "      <td>0.517495</td>\n",
       "    </tr>\n",
       "    <tr>\n",
       "      <th>9</th>\n",
       "      <td>Oil, high oleic, canola, industrial</td>\n",
       "      <td>2378</td>\n",
       "      <td>0.476247</td>\n",
       "    </tr>\n",
       "    <tr>\n",
       "      <th>6</th>\n",
       "      <td>Frankfurter, low fat, beef</td>\n",
       "      <td>994</td>\n",
       "      <td>0.471681</td>\n",
       "    </tr>\n",
       "    <tr>\n",
       "      <th>14</th>\n",
       "      <td>Cocoa, processed with alkali, hi-fat or breakf...</td>\n",
       "      <td>5185</td>\n",
       "      <td>0.368832</td>\n",
       "    </tr>\n",
       "    <tr>\n",
       "      <th>11</th>\n",
       "      <td>Gums, seed gums (includes locust bean, guar)</td>\n",
       "      <td>2569</td>\n",
       "      <td>0.198783</td>\n",
       "    </tr>\n",
       "    <tr>\n",
       "      <th>4</th>\n",
       "      <td>Fat, chicken</td>\n",
       "      <td>580</td>\n",
       "      <td>0.195035</td>\n",
       "    </tr>\n",
       "    <tr>\n",
       "      <th>10</th>\n",
       "      <td>Vanilla extract, alcohol, imitation</td>\n",
       "      <td>2452</td>\n",
       "      <td>0.151976</td>\n",
       "    </tr>\n",
       "    <tr>\n",
       "      <th>1</th>\n",
       "      <td>Yeast extract spread</td>\n",
       "      <td>123</td>\n",
       "      <td>0.109995</td>\n",
       "    </tr>\n",
       "    <tr>\n",
       "      <th>18</th>\n",
       "      <td>Gelatin desserts, vitamin C, sodium, potassium...</td>\n",
       "      <td>7656</td>\n",
       "      <td>0.109322</td>\n",
       "    </tr>\n",
       "    <tr>\n",
       "      <th>12</th>\n",
       "      <td>Cereals ready-to-eat, Whole Grain TOTAL, GENER...</td>\n",
       "      <td>4817</td>\n",
       "      <td>0.053870</td>\n",
       "    </tr>\n",
       "    <tr>\n",
       "      <th>0</th>\n",
       "      <td>Egg, fresh, raw, yolk</td>\n",
       "      <td>63</td>\n",
       "      <td>0.032703</td>\n",
       "    </tr>\n",
       "    <tr>\n",
       "      <th>3</th>\n",
       "      <td>Parsley, fresh</td>\n",
       "      <td>480</td>\n",
       "      <td>0.029195</td>\n",
       "    </tr>\n",
       "    <tr>\n",
       "      <th>2</th>\n",
       "      <td>Fish oil, cod liver</td>\n",
       "      <td>239</td>\n",
       "      <td>0.024499</td>\n",
       "    </tr>\n",
       "    <tr>\n",
       "      <th>15</th>\n",
       "      <td>Soy sauce, made from hydrolyzed vegetable prot...</td>\n",
       "      <td>6016</td>\n",
       "      <td>0.019989</td>\n",
       "    </tr>\n",
       "    <tr>\n",
       "      <th>8</th>\n",
       "      <td>Oil, bowhead (Alaska Native), whale</td>\n",
       "      <td>2376</td>\n",
       "      <td>0.014630</td>\n",
       "    </tr>\n",
       "    <tr>\n",
       "      <th>16</th>\n",
       "      <td>Beef, boiled, cooked, variety meats and by-pro...</td>\n",
       "      <td>6291</td>\n",
       "      <td>0.001227</td>\n",
       "    </tr>\n",
       "  </tbody>\n",
       "</table>\n",
       "</div>"
      ],
      "text/plain": [
       "                                                    0     1         2\n",
       "13  Milk, with added vitamin A and vitamin D, regu...  5090  0.639470\n",
       "5                         Soybeans, raw, mature seeds   853  0.609297\n",
       "17  Pork, simmered, cooked, chitterlings, variety ...  6541  0.548811\n",
       "7             Potato chips, reduced fat, without salt  1954  0.517495\n",
       "9                 Oil, high oleic, canola, industrial  2378  0.476247\n",
       "6                          Frankfurter, low fat, beef   994  0.471681\n",
       "14  Cocoa, processed with alkali, hi-fat or breakf...  5185  0.368832\n",
       "11       Gums, seed gums (includes locust bean, guar)  2569  0.198783\n",
       "4                                        Fat, chicken   580  0.195035\n",
       "10                Vanilla extract, alcohol, imitation  2452  0.151976\n",
       "1                                Yeast extract spread   123  0.109995\n",
       "18  Gelatin desserts, vitamin C, sodium, potassium...  7656  0.109322\n",
       "12  Cereals ready-to-eat, Whole Grain TOTAL, GENER...  4817  0.053870\n",
       "0                               Egg, fresh, raw, yolk    63  0.032703\n",
       "3                                      Parsley, fresh   480  0.029195\n",
       "2                                 Fish oil, cod liver   239  0.024499\n",
       "15  Soy sauce, made from hydrolyzed vegetable prot...  6016  0.019989\n",
       "8                 Oil, bowhead (Alaska Native), whale  2376  0.014630\n",
       "16  Beef, boiled, cooked, variety meats and by-pro...  6291  0.001227"
      ]
     },
     "execution_count": 95,
     "metadata": {},
     "output_type": "execute_result"
    }
   ],
   "source": [
    "final_foods.sort_values(by=2,ascending=False)"
   ]
  },
  {
   "cell_type": "code",
   "execution_count": 35,
   "metadata": {},
   "outputs": [
    {
     "name": "stdout",
     "output_type": "stream",
     "text": [
      "Yeast extract spread 2100.0\n",
      "Fish oil, cod liver 0.0\n",
      "Vanilla extract 148.0\n",
      "Fat, chicken 0.0\n",
      "Soybeans, raw, mature seeds 1797.0\n",
      "Frankfurter, low fat, beef 129.0\n",
      "Snacks, plain, pork skins 127.0\n",
      "Egg Mix, USDA Commodity 373.0\n",
      "Potato chips, reduced fat, without salt 1744.0\n",
      "Formulated Bar, SOUTH BEACH protein bar 793.0\n",
      "Gums, seed gums (includes locust bean, guar) 0.0\n",
      "Cereals, dry, plain, original, MALT-O-MEAL 100.0\n",
      "Cereals ready-to-eat, KELLOGG'S PRODUCT 19, KELLOGG 179.0\n",
      "Protein supplement, powder, Muscle Milk Light, milk based 840.0\n",
      "Milk, with added vitamin A and vitamin D, regular, nonfat, dry 1794.0\n",
      "Formulated bar, all flavors, SNICKERS MARATHON Energy Bar, MARS SNACKFOOD US 351.0\n",
      "Pork, simmered, cooked, chitterlings, variety meats and by-products, fresh 14.0\n"
     ]
    }
   ],
   "source": [
    "for idx in final_foods[1]:\n",
    "    print(names[idx], df.iloc[idx]['potassium'])"
   ]
  },
  {
   "cell_type": "code",
   "execution_count": 69,
   "metadata": {},
   "outputs": [
    {
     "name": "stdout",
     "output_type": "stream",
     "text": [
      "calories 487.0\n",
      "total_fat 21.0\n",
      "saturated_fat 4.2\n",
      "sodium 8.0\n",
      "choline 53.0\n",
      "folate 10.0\n",
      "niacin 7.0\n",
      "riboflavin 0.27\n",
      "thiamin 0.21\n",
      "vitamin_b6 0.67\n",
      "vitamin_c 25.7\n",
      "vitamin_e 5.47\n",
      "vitamin_k 13.3\n",
      "calcium 21.0\n",
      "copper 0.348\n",
      "irom 1.35\n",
      "magnesium 89.0\n",
      "phosphorous 193.0\n",
      "potassium 1744.0\n",
      "selenium 8.1\n",
      "zink 1.01\n",
      "protein 7.1\n",
      "alanine 0.3586224489795918\n",
      "arginine 0.39405\n",
      "aspartic_acid 0.5819391086771264\n",
      "cystine 0.0733306010928961\n",
      "glutamic_acid 1.01042486411489\n",
      "glycine 0.2915444573591923\n",
      "histidine 0.1782435996687584\n",
      "isoleucine 0.2859009365940474\n",
      "leucine 0.500967094076655\n",
      "lysine 0.4915781017369727\n",
      "methionine 0.152961143405384\n",
      "phenylalanine 0.2599805624666785\n",
      "proline 0.2883880813605632\n",
      "serine 0.2629565149188422\n",
      "threonine 0.2574170616113744\n",
      "tryptophan 0.0716600678825051\n",
      "tyrosine 0.2136265247460558\n",
      "valine 0.317183661441189\n",
      "carbohydrate 67.8\n",
      "fiber 6.1\n",
      "sugars 0.22\n",
      "fat 20.8\n",
      "saturated_fatty_acids 4.16\n",
      "monounsaturated_fatty_acids 4.8\n",
      "polyunsaturated_fatty_acids 10.94\n",
      "ash 3.3\n",
      "water 1.0\n"
     ]
    }
   ],
   "source": [
    "for i, v in enumerate(df.iloc[1954].values):\n",
    "    if v != 0:\n",
    "        print(df.columns[i], v)"
   ]
  },
  {
   "cell_type": "code",
   "execution_count": 37,
   "metadata": {},
   "outputs": [],
   "source": [
    "low_lim_sum = []\n",
    "low_lim_ess = []\n",
    "low_lim_min = []\n",
    "for nutrient in summary:\n",
    "    low, upp = constraints[nutrient]\n",
    "    low_lim_sum.append(low)\n",
    "for nutrient in essential:\n",
    "    low, upp = constraints[nutrient]\n",
    "    low_lim_ess.append(low)\n",
    "for nutrient in minerals:\n",
    "    low, upp = constraints[nutrient]\n",
    "    low_lim_min.append(low)"
   ]
  },
  {
   "cell_type": "code",
   "execution_count": 55,
   "metadata": {},
   "outputs": [
    {
     "name": "stdout",
     "output_type": "stream",
     "text": [
      "97.39999999999999\n"
     ]
    },
    {
     "data": {
      "application/vnd.plotly.v1+json": {
       "config": {
        "plotlyServerURL": "https://plot.ly"
       },
       "data": [
        {
         "name": "lower_lim",
         "r": [
          70,
          150,
          50,
          100,
          70
         ],
         "subplot": "polar",
         "theta": [
          "protein",
          "carbohydrate",
          "total_fat",
          "water",
          "protein"
         ],
         "type": "scatterpolar"
        },
        {
         "fill": "toself",
         "name": "Gums, seed gums (includes locust bean, guar)",
         "r": [
          4.6,
          77.3,
          0.5,
          15,
          4.6
         ],
         "subplot": "polar",
         "theta": [
          "protein",
          "carbohydrate",
          "total_fat",
          "water",
          "protein"
         ],
         "type": "scatterpolar"
        },
        {
         "name": "lower_lim",
         "r": [
          0.7,
          1.4,
          2.73,
          2.1,
          0.728,
          0.875,
          1.05,
          0.28,
          1.82,
          0.7
         ],
         "subplot": "polar2",
         "theta": [
          "histidine",
          "isoleucine",
          "leucine",
          "lysine",
          "methionine",
          "phenylalanine",
          "threonine",
          "tryptophan",
          "valine",
          "histidine"
         ],
         "type": "scatterpolar"
        },
        {
         "fill": "toself",
         "name": "Gums, seed gums (includes locust bean, guar)",
         "r": [
          0.1154817687994772,
          0.1852315927229039,
          0.3245702299651567,
          0.3184872208436725,
          0.0991015858682769,
          0.1684381108939043,
          0.1667772511848341,
          0.0464276496140173,
          0.2054992736097844,
          0.1154817687994772
         ],
         "subplot": "polar2",
         "theta": [
          "histidine",
          "isoleucine",
          "leucine",
          "lysine",
          "methionine",
          "phenylalanine",
          "threonine",
          "tryptophan",
          "valine",
          "histidine"
         ],
         "type": "scatterpolar"
        },
        {
         "name": "lower_lim",
         "r": [
          1300,
          0.9,
          8,
          400,
          2.3,
          700,
          4700,
          11,
          1300
         ],
         "subplot": "polar3",
         "theta": [
          "calcium",
          "copper",
          "irom",
          "magnesium",
          "manganese",
          "phosphorous",
          "potassium",
          "zink",
          "calcium"
         ],
         "type": "scatterpolar"
        },
        {
         "fill": "toself",
         "name": "Gums, seed gums (includes locust bean, guar)",
         "r": [
          294,
          0,
          0,
          0,
          0,
          0,
          0,
          0,
          294
         ],
         "subplot": "polar3",
         "theta": [
          "calcium",
          "copper",
          "irom",
          "magnesium",
          "manganese",
          "phosphorous",
          "potassium",
          "zink",
          "calcium"
         ],
         "type": "scatterpolar"
        }
       ],
       "layout": {
        "height": 600,
        "polar": {
         "domain": {
          "x": [
           0,
           0.2888888888888889
          ],
          "y": [
           0,
           1
          ]
         },
         "radialaxis": {
          "visible": true
         }
        },
        "polar2": {
         "domain": {
          "x": [
           0.35555555555555557,
           0.6444444444444445
          ],
          "y": [
           0,
           1
          ]
         }
        },
        "polar3": {
         "domain": {
          "x": [
           0.7111111111111111,
           1
          ],
          "y": [
           0,
           1
          ]
         }
        },
        "showlegend": false,
        "template": {
         "data": {
          "bar": [
           {
            "error_x": {
             "color": "#2a3f5f"
            },
            "error_y": {
             "color": "#2a3f5f"
            },
            "marker": {
             "line": {
              "color": "#E5ECF6",
              "width": 0.5
             },
             "pattern": {
              "fillmode": "overlay",
              "size": 10,
              "solidity": 0.2
             }
            },
            "type": "bar"
           }
          ],
          "barpolar": [
           {
            "marker": {
             "line": {
              "color": "#E5ECF6",
              "width": 0.5
             },
             "pattern": {
              "fillmode": "overlay",
              "size": 10,
              "solidity": 0.2
             }
            },
            "type": "barpolar"
           }
          ],
          "carpet": [
           {
            "aaxis": {
             "endlinecolor": "#2a3f5f",
             "gridcolor": "white",
             "linecolor": "white",
             "minorgridcolor": "white",
             "startlinecolor": "#2a3f5f"
            },
            "baxis": {
             "endlinecolor": "#2a3f5f",
             "gridcolor": "white",
             "linecolor": "white",
             "minorgridcolor": "white",
             "startlinecolor": "#2a3f5f"
            },
            "type": "carpet"
           }
          ],
          "choropleth": [
           {
            "colorbar": {
             "outlinewidth": 0,
             "ticks": ""
            },
            "type": "choropleth"
           }
          ],
          "contour": [
           {
            "colorbar": {
             "outlinewidth": 0,
             "ticks": ""
            },
            "colorscale": [
             [
              0,
              "#0d0887"
             ],
             [
              0.1111111111111111,
              "#46039f"
             ],
             [
              0.2222222222222222,
              "#7201a8"
             ],
             [
              0.3333333333333333,
              "#9c179e"
             ],
             [
              0.4444444444444444,
              "#bd3786"
             ],
             [
              0.5555555555555556,
              "#d8576b"
             ],
             [
              0.6666666666666666,
              "#ed7953"
             ],
             [
              0.7777777777777778,
              "#fb9f3a"
             ],
             [
              0.8888888888888888,
              "#fdca26"
             ],
             [
              1,
              "#f0f921"
             ]
            ],
            "type": "contour"
           }
          ],
          "contourcarpet": [
           {
            "colorbar": {
             "outlinewidth": 0,
             "ticks": ""
            },
            "type": "contourcarpet"
           }
          ],
          "heatmap": [
           {
            "colorbar": {
             "outlinewidth": 0,
             "ticks": ""
            },
            "colorscale": [
             [
              0,
              "#0d0887"
             ],
             [
              0.1111111111111111,
              "#46039f"
             ],
             [
              0.2222222222222222,
              "#7201a8"
             ],
             [
              0.3333333333333333,
              "#9c179e"
             ],
             [
              0.4444444444444444,
              "#bd3786"
             ],
             [
              0.5555555555555556,
              "#d8576b"
             ],
             [
              0.6666666666666666,
              "#ed7953"
             ],
             [
              0.7777777777777778,
              "#fb9f3a"
             ],
             [
              0.8888888888888888,
              "#fdca26"
             ],
             [
              1,
              "#f0f921"
             ]
            ],
            "type": "heatmap"
           }
          ],
          "heatmapgl": [
           {
            "colorbar": {
             "outlinewidth": 0,
             "ticks": ""
            },
            "colorscale": [
             [
              0,
              "#0d0887"
             ],
             [
              0.1111111111111111,
              "#46039f"
             ],
             [
              0.2222222222222222,
              "#7201a8"
             ],
             [
              0.3333333333333333,
              "#9c179e"
             ],
             [
              0.4444444444444444,
              "#bd3786"
             ],
             [
              0.5555555555555556,
              "#d8576b"
             ],
             [
              0.6666666666666666,
              "#ed7953"
             ],
             [
              0.7777777777777778,
              "#fb9f3a"
             ],
             [
              0.8888888888888888,
              "#fdca26"
             ],
             [
              1,
              "#f0f921"
             ]
            ],
            "type": "heatmapgl"
           }
          ],
          "histogram": [
           {
            "marker": {
             "pattern": {
              "fillmode": "overlay",
              "size": 10,
              "solidity": 0.2
             }
            },
            "type": "histogram"
           }
          ],
          "histogram2d": [
           {
            "colorbar": {
             "outlinewidth": 0,
             "ticks": ""
            },
            "colorscale": [
             [
              0,
              "#0d0887"
             ],
             [
              0.1111111111111111,
              "#46039f"
             ],
             [
              0.2222222222222222,
              "#7201a8"
             ],
             [
              0.3333333333333333,
              "#9c179e"
             ],
             [
              0.4444444444444444,
              "#bd3786"
             ],
             [
              0.5555555555555556,
              "#d8576b"
             ],
             [
              0.6666666666666666,
              "#ed7953"
             ],
             [
              0.7777777777777778,
              "#fb9f3a"
             ],
             [
              0.8888888888888888,
              "#fdca26"
             ],
             [
              1,
              "#f0f921"
             ]
            ],
            "type": "histogram2d"
           }
          ],
          "histogram2dcontour": [
           {
            "colorbar": {
             "outlinewidth": 0,
             "ticks": ""
            },
            "colorscale": [
             [
              0,
              "#0d0887"
             ],
             [
              0.1111111111111111,
              "#46039f"
             ],
             [
              0.2222222222222222,
              "#7201a8"
             ],
             [
              0.3333333333333333,
              "#9c179e"
             ],
             [
              0.4444444444444444,
              "#bd3786"
             ],
             [
              0.5555555555555556,
              "#d8576b"
             ],
             [
              0.6666666666666666,
              "#ed7953"
             ],
             [
              0.7777777777777778,
              "#fb9f3a"
             ],
             [
              0.8888888888888888,
              "#fdca26"
             ],
             [
              1,
              "#f0f921"
             ]
            ],
            "type": "histogram2dcontour"
           }
          ],
          "mesh3d": [
           {
            "colorbar": {
             "outlinewidth": 0,
             "ticks": ""
            },
            "type": "mesh3d"
           }
          ],
          "parcoords": [
           {
            "line": {
             "colorbar": {
              "outlinewidth": 0,
              "ticks": ""
             }
            },
            "type": "parcoords"
           }
          ],
          "pie": [
           {
            "automargin": true,
            "type": "pie"
           }
          ],
          "scatter": [
           {
            "marker": {
             "colorbar": {
              "outlinewidth": 0,
              "ticks": ""
             }
            },
            "type": "scatter"
           }
          ],
          "scatter3d": [
           {
            "line": {
             "colorbar": {
              "outlinewidth": 0,
              "ticks": ""
             }
            },
            "marker": {
             "colorbar": {
              "outlinewidth": 0,
              "ticks": ""
             }
            },
            "type": "scatter3d"
           }
          ],
          "scattercarpet": [
           {
            "marker": {
             "colorbar": {
              "outlinewidth": 0,
              "ticks": ""
             }
            },
            "type": "scattercarpet"
           }
          ],
          "scattergeo": [
           {
            "marker": {
             "colorbar": {
              "outlinewidth": 0,
              "ticks": ""
             }
            },
            "type": "scattergeo"
           }
          ],
          "scattergl": [
           {
            "marker": {
             "colorbar": {
              "outlinewidth": 0,
              "ticks": ""
             }
            },
            "type": "scattergl"
           }
          ],
          "scattermapbox": [
           {
            "marker": {
             "colorbar": {
              "outlinewidth": 0,
              "ticks": ""
             }
            },
            "type": "scattermapbox"
           }
          ],
          "scatterpolar": [
           {
            "marker": {
             "colorbar": {
              "outlinewidth": 0,
              "ticks": ""
             }
            },
            "type": "scatterpolar"
           }
          ],
          "scatterpolargl": [
           {
            "marker": {
             "colorbar": {
              "outlinewidth": 0,
              "ticks": ""
             }
            },
            "type": "scatterpolargl"
           }
          ],
          "scatterternary": [
           {
            "marker": {
             "colorbar": {
              "outlinewidth": 0,
              "ticks": ""
             }
            },
            "type": "scatterternary"
           }
          ],
          "surface": [
           {
            "colorbar": {
             "outlinewidth": 0,
             "ticks": ""
            },
            "colorscale": [
             [
              0,
              "#0d0887"
             ],
             [
              0.1111111111111111,
              "#46039f"
             ],
             [
              0.2222222222222222,
              "#7201a8"
             ],
             [
              0.3333333333333333,
              "#9c179e"
             ],
             [
              0.4444444444444444,
              "#bd3786"
             ],
             [
              0.5555555555555556,
              "#d8576b"
             ],
             [
              0.6666666666666666,
              "#ed7953"
             ],
             [
              0.7777777777777778,
              "#fb9f3a"
             ],
             [
              0.8888888888888888,
              "#fdca26"
             ],
             [
              1,
              "#f0f921"
             ]
            ],
            "type": "surface"
           }
          ],
          "table": [
           {
            "cells": {
             "fill": {
              "color": "#EBF0F8"
             },
             "line": {
              "color": "white"
             }
            },
            "header": {
             "fill": {
              "color": "#C8D4E3"
             },
             "line": {
              "color": "white"
             }
            },
            "type": "table"
           }
          ]
         },
         "layout": {
          "annotationdefaults": {
           "arrowcolor": "#2a3f5f",
           "arrowhead": 0,
           "arrowwidth": 1
          },
          "autotypenumbers": "strict",
          "coloraxis": {
           "colorbar": {
            "outlinewidth": 0,
            "ticks": ""
           }
          },
          "colorscale": {
           "diverging": [
            [
             0,
             "#8e0152"
            ],
            [
             0.1,
             "#c51b7d"
            ],
            [
             0.2,
             "#de77ae"
            ],
            [
             0.3,
             "#f1b6da"
            ],
            [
             0.4,
             "#fde0ef"
            ],
            [
             0.5,
             "#f7f7f7"
            ],
            [
             0.6,
             "#e6f5d0"
            ],
            [
             0.7,
             "#b8e186"
            ],
            [
             0.8,
             "#7fbc41"
            ],
            [
             0.9,
             "#4d9221"
            ],
            [
             1,
             "#276419"
            ]
           ],
           "sequential": [
            [
             0,
             "#0d0887"
            ],
            [
             0.1111111111111111,
             "#46039f"
            ],
            [
             0.2222222222222222,
             "#7201a8"
            ],
            [
             0.3333333333333333,
             "#9c179e"
            ],
            [
             0.4444444444444444,
             "#bd3786"
            ],
            [
             0.5555555555555556,
             "#d8576b"
            ],
            [
             0.6666666666666666,
             "#ed7953"
            ],
            [
             0.7777777777777778,
             "#fb9f3a"
            ],
            [
             0.8888888888888888,
             "#fdca26"
            ],
            [
             1,
             "#f0f921"
            ]
           ],
           "sequentialminus": [
            [
             0,
             "#0d0887"
            ],
            [
             0.1111111111111111,
             "#46039f"
            ],
            [
             0.2222222222222222,
             "#7201a8"
            ],
            [
             0.3333333333333333,
             "#9c179e"
            ],
            [
             0.4444444444444444,
             "#bd3786"
            ],
            [
             0.5555555555555556,
             "#d8576b"
            ],
            [
             0.6666666666666666,
             "#ed7953"
            ],
            [
             0.7777777777777778,
             "#fb9f3a"
            ],
            [
             0.8888888888888888,
             "#fdca26"
            ],
            [
             1,
             "#f0f921"
            ]
           ]
          },
          "colorway": [
           "#636efa",
           "#EF553B",
           "#00cc96",
           "#ab63fa",
           "#FFA15A",
           "#19d3f3",
           "#FF6692",
           "#B6E880",
           "#FF97FF",
           "#FECB52"
          ],
          "font": {
           "color": "#2a3f5f"
          },
          "geo": {
           "bgcolor": "white",
           "lakecolor": "white",
           "landcolor": "#E5ECF6",
           "showlakes": true,
           "showland": true,
           "subunitcolor": "white"
          },
          "hoverlabel": {
           "align": "left"
          },
          "hovermode": "closest",
          "mapbox": {
           "style": "light"
          },
          "paper_bgcolor": "white",
          "plot_bgcolor": "#E5ECF6",
          "polar": {
           "angularaxis": {
            "gridcolor": "white",
            "linecolor": "white",
            "ticks": ""
           },
           "bgcolor": "#E5ECF6",
           "radialaxis": {
            "gridcolor": "white",
            "linecolor": "white",
            "ticks": ""
           }
          },
          "scene": {
           "xaxis": {
            "backgroundcolor": "#E5ECF6",
            "gridcolor": "white",
            "gridwidth": 2,
            "linecolor": "white",
            "showbackground": true,
            "ticks": "",
            "zerolinecolor": "white"
           },
           "yaxis": {
            "backgroundcolor": "#E5ECF6",
            "gridcolor": "white",
            "gridwidth": 2,
            "linecolor": "white",
            "showbackground": true,
            "ticks": "",
            "zerolinecolor": "white"
           },
           "zaxis": {
            "backgroundcolor": "#E5ECF6",
            "gridcolor": "white",
            "gridwidth": 2,
            "linecolor": "white",
            "showbackground": true,
            "ticks": "",
            "zerolinecolor": "white"
           }
          },
          "shapedefaults": {
           "line": {
            "color": "#2a3f5f"
           }
          },
          "ternary": {
           "aaxis": {
            "gridcolor": "white",
            "linecolor": "white",
            "ticks": ""
           },
           "baxis": {
            "gridcolor": "white",
            "linecolor": "white",
            "ticks": ""
           },
           "bgcolor": "#E5ECF6",
           "caxis": {
            "gridcolor": "white",
            "linecolor": "white",
            "ticks": ""
           }
          },
          "title": {
           "x": 0.05
          },
          "xaxis": {
           "automargin": true,
           "gridcolor": "white",
           "linecolor": "white",
           "ticks": "",
           "title": {
            "standoff": 15
           },
           "zerolinecolor": "white",
           "zerolinewidth": 2
          },
          "yaxis": {
           "automargin": true,
           "gridcolor": "white",
           "linecolor": "white",
           "ticks": "",
           "title": {
            "standoff": 15
           },
           "zerolinecolor": "white",
           "zerolinewidth": 2
          }
         }
        },
        "title": {
         "text": "Gums, seed gums (includes locust bean, guar)"
        },
        "width": 1800
       }
      },
      "text/html": [
       "<div>                            <div id=\"72945172-8a18-4d15-8f98-8b350b0f33f0\" class=\"plotly-graph-div\" style=\"height:600px; width:1800px;\"></div>            <script type=\"text/javascript\">                require([\"plotly\"], function(Plotly) {                    window.PLOTLYENV=window.PLOTLYENV || {};                                    if (document.getElementById(\"72945172-8a18-4d15-8f98-8b350b0f33f0\")) {                    Plotly.newPlot(                        \"72945172-8a18-4d15-8f98-8b350b0f33f0\",                        [{\"name\":\"lower_lim\",\"r\":[70,150,50,100,70],\"theta\":[\"protein\",\"carbohydrate\",\"total_fat\",\"water\",\"protein\"],\"type\":\"scatterpolar\",\"subplot\":\"polar\"},{\"fill\":\"toself\",\"name\":\"Gums, seed gums (includes locust bean, guar)\",\"r\":[4.6,77.3,0.5,15.0,4.6],\"theta\":[\"protein\",\"carbohydrate\",\"total_fat\",\"water\",\"protein\"],\"type\":\"scatterpolar\",\"subplot\":\"polar\"},{\"name\":\"lower_lim\",\"r\":[0.7,1.4,2.73,2.1,0.728,0.875,1.05,0.28,1.82,0.7],\"theta\":[\"histidine\",\"isoleucine\",\"leucine\",\"lysine\",\"methionine\",\"phenylalanine\",\"threonine\",\"tryptophan\",\"valine\",\"histidine\"],\"type\":\"scatterpolar\",\"subplot\":\"polar2\"},{\"fill\":\"toself\",\"name\":\"Gums, seed gums (includes locust bean, guar)\",\"r\":[0.1154817687994772,0.1852315927229039,0.3245702299651567,0.3184872208436725,0.0991015858682769,0.1684381108939043,0.1667772511848341,0.0464276496140173,0.2054992736097844,0.1154817687994772],\"theta\":[\"histidine\",\"isoleucine\",\"leucine\",\"lysine\",\"methionine\",\"phenylalanine\",\"threonine\",\"tryptophan\",\"valine\",\"histidine\"],\"type\":\"scatterpolar\",\"subplot\":\"polar2\"},{\"name\":\"lower_lim\",\"r\":[1300,0.9,8,400,2.3,700,4700,11,1300],\"theta\":[\"calcium\",\"copper\",\"irom\",\"magnesium\",\"manganese\",\"phosphorous\",\"potassium\",\"zink\",\"calcium\"],\"type\":\"scatterpolar\",\"subplot\":\"polar3\"},{\"fill\":\"toself\",\"name\":\"Gums, seed gums (includes locust bean, guar)\",\"r\":[294.0,0.0,0.0,0.0,0.0,0.0,0.0,0.0,294.0],\"theta\":[\"calcium\",\"copper\",\"irom\",\"magnesium\",\"manganese\",\"phosphorous\",\"potassium\",\"zink\",\"calcium\"],\"type\":\"scatterpolar\",\"subplot\":\"polar3\"}],                        {\"template\":{\"data\":{\"bar\":[{\"error_x\":{\"color\":\"#2a3f5f\"},\"error_y\":{\"color\":\"#2a3f5f\"},\"marker\":{\"line\":{\"color\":\"#E5ECF6\",\"width\":0.5},\"pattern\":{\"fillmode\":\"overlay\",\"size\":10,\"solidity\":0.2}},\"type\":\"bar\"}],\"barpolar\":[{\"marker\":{\"line\":{\"color\":\"#E5ECF6\",\"width\":0.5},\"pattern\":{\"fillmode\":\"overlay\",\"size\":10,\"solidity\":0.2}},\"type\":\"barpolar\"}],\"carpet\":[{\"aaxis\":{\"endlinecolor\":\"#2a3f5f\",\"gridcolor\":\"white\",\"linecolor\":\"white\",\"minorgridcolor\":\"white\",\"startlinecolor\":\"#2a3f5f\"},\"baxis\":{\"endlinecolor\":\"#2a3f5f\",\"gridcolor\":\"white\",\"linecolor\":\"white\",\"minorgridcolor\":\"white\",\"startlinecolor\":\"#2a3f5f\"},\"type\":\"carpet\"}],\"choropleth\":[{\"colorbar\":{\"outlinewidth\":0,\"ticks\":\"\"},\"type\":\"choropleth\"}],\"contour\":[{\"colorbar\":{\"outlinewidth\":0,\"ticks\":\"\"},\"colorscale\":[[0.0,\"#0d0887\"],[0.1111111111111111,\"#46039f\"],[0.2222222222222222,\"#7201a8\"],[0.3333333333333333,\"#9c179e\"],[0.4444444444444444,\"#bd3786\"],[0.5555555555555556,\"#d8576b\"],[0.6666666666666666,\"#ed7953\"],[0.7777777777777778,\"#fb9f3a\"],[0.8888888888888888,\"#fdca26\"],[1.0,\"#f0f921\"]],\"type\":\"contour\"}],\"contourcarpet\":[{\"colorbar\":{\"outlinewidth\":0,\"ticks\":\"\"},\"type\":\"contourcarpet\"}],\"heatmap\":[{\"colorbar\":{\"outlinewidth\":0,\"ticks\":\"\"},\"colorscale\":[[0.0,\"#0d0887\"],[0.1111111111111111,\"#46039f\"],[0.2222222222222222,\"#7201a8\"],[0.3333333333333333,\"#9c179e\"],[0.4444444444444444,\"#bd3786\"],[0.5555555555555556,\"#d8576b\"],[0.6666666666666666,\"#ed7953\"],[0.7777777777777778,\"#fb9f3a\"],[0.8888888888888888,\"#fdca26\"],[1.0,\"#f0f921\"]],\"type\":\"heatmap\"}],\"heatmapgl\":[{\"colorbar\":{\"outlinewidth\":0,\"ticks\":\"\"},\"colorscale\":[[0.0,\"#0d0887\"],[0.1111111111111111,\"#46039f\"],[0.2222222222222222,\"#7201a8\"],[0.3333333333333333,\"#9c179e\"],[0.4444444444444444,\"#bd3786\"],[0.5555555555555556,\"#d8576b\"],[0.6666666666666666,\"#ed7953\"],[0.7777777777777778,\"#fb9f3a\"],[0.8888888888888888,\"#fdca26\"],[1.0,\"#f0f921\"]],\"type\":\"heatmapgl\"}],\"histogram\":[{\"marker\":{\"pattern\":{\"fillmode\":\"overlay\",\"size\":10,\"solidity\":0.2}},\"type\":\"histogram\"}],\"histogram2d\":[{\"colorbar\":{\"outlinewidth\":0,\"ticks\":\"\"},\"colorscale\":[[0.0,\"#0d0887\"],[0.1111111111111111,\"#46039f\"],[0.2222222222222222,\"#7201a8\"],[0.3333333333333333,\"#9c179e\"],[0.4444444444444444,\"#bd3786\"],[0.5555555555555556,\"#d8576b\"],[0.6666666666666666,\"#ed7953\"],[0.7777777777777778,\"#fb9f3a\"],[0.8888888888888888,\"#fdca26\"],[1.0,\"#f0f921\"]],\"type\":\"histogram2d\"}],\"histogram2dcontour\":[{\"colorbar\":{\"outlinewidth\":0,\"ticks\":\"\"},\"colorscale\":[[0.0,\"#0d0887\"],[0.1111111111111111,\"#46039f\"],[0.2222222222222222,\"#7201a8\"],[0.3333333333333333,\"#9c179e\"],[0.4444444444444444,\"#bd3786\"],[0.5555555555555556,\"#d8576b\"],[0.6666666666666666,\"#ed7953\"],[0.7777777777777778,\"#fb9f3a\"],[0.8888888888888888,\"#fdca26\"],[1.0,\"#f0f921\"]],\"type\":\"histogram2dcontour\"}],\"mesh3d\":[{\"colorbar\":{\"outlinewidth\":0,\"ticks\":\"\"},\"type\":\"mesh3d\"}],\"parcoords\":[{\"line\":{\"colorbar\":{\"outlinewidth\":0,\"ticks\":\"\"}},\"type\":\"parcoords\"}],\"pie\":[{\"automargin\":true,\"type\":\"pie\"}],\"scatter\":[{\"marker\":{\"colorbar\":{\"outlinewidth\":0,\"ticks\":\"\"}},\"type\":\"scatter\"}],\"scatter3d\":[{\"line\":{\"colorbar\":{\"outlinewidth\":0,\"ticks\":\"\"}},\"marker\":{\"colorbar\":{\"outlinewidth\":0,\"ticks\":\"\"}},\"type\":\"scatter3d\"}],\"scattercarpet\":[{\"marker\":{\"colorbar\":{\"outlinewidth\":0,\"ticks\":\"\"}},\"type\":\"scattercarpet\"}],\"scattergeo\":[{\"marker\":{\"colorbar\":{\"outlinewidth\":0,\"ticks\":\"\"}},\"type\":\"scattergeo\"}],\"scattergl\":[{\"marker\":{\"colorbar\":{\"outlinewidth\":0,\"ticks\":\"\"}},\"type\":\"scattergl\"}],\"scattermapbox\":[{\"marker\":{\"colorbar\":{\"outlinewidth\":0,\"ticks\":\"\"}},\"type\":\"scattermapbox\"}],\"scatterpolar\":[{\"marker\":{\"colorbar\":{\"outlinewidth\":0,\"ticks\":\"\"}},\"type\":\"scatterpolar\"}],\"scatterpolargl\":[{\"marker\":{\"colorbar\":{\"outlinewidth\":0,\"ticks\":\"\"}},\"type\":\"scatterpolargl\"}],\"scatterternary\":[{\"marker\":{\"colorbar\":{\"outlinewidth\":0,\"ticks\":\"\"}},\"type\":\"scatterternary\"}],\"surface\":[{\"colorbar\":{\"outlinewidth\":0,\"ticks\":\"\"},\"colorscale\":[[0.0,\"#0d0887\"],[0.1111111111111111,\"#46039f\"],[0.2222222222222222,\"#7201a8\"],[0.3333333333333333,\"#9c179e\"],[0.4444444444444444,\"#bd3786\"],[0.5555555555555556,\"#d8576b\"],[0.6666666666666666,\"#ed7953\"],[0.7777777777777778,\"#fb9f3a\"],[0.8888888888888888,\"#fdca26\"],[1.0,\"#f0f921\"]],\"type\":\"surface\"}],\"table\":[{\"cells\":{\"fill\":{\"color\":\"#EBF0F8\"},\"line\":{\"color\":\"white\"}},\"header\":{\"fill\":{\"color\":\"#C8D4E3\"},\"line\":{\"color\":\"white\"}},\"type\":\"table\"}]},\"layout\":{\"annotationdefaults\":{\"arrowcolor\":\"#2a3f5f\",\"arrowhead\":0,\"arrowwidth\":1},\"autotypenumbers\":\"strict\",\"coloraxis\":{\"colorbar\":{\"outlinewidth\":0,\"ticks\":\"\"}},\"colorscale\":{\"diverging\":[[0,\"#8e0152\"],[0.1,\"#c51b7d\"],[0.2,\"#de77ae\"],[0.3,\"#f1b6da\"],[0.4,\"#fde0ef\"],[0.5,\"#f7f7f7\"],[0.6,\"#e6f5d0\"],[0.7,\"#b8e186\"],[0.8,\"#7fbc41\"],[0.9,\"#4d9221\"],[1,\"#276419\"]],\"sequential\":[[0.0,\"#0d0887\"],[0.1111111111111111,\"#46039f\"],[0.2222222222222222,\"#7201a8\"],[0.3333333333333333,\"#9c179e\"],[0.4444444444444444,\"#bd3786\"],[0.5555555555555556,\"#d8576b\"],[0.6666666666666666,\"#ed7953\"],[0.7777777777777778,\"#fb9f3a\"],[0.8888888888888888,\"#fdca26\"],[1.0,\"#f0f921\"]],\"sequentialminus\":[[0.0,\"#0d0887\"],[0.1111111111111111,\"#46039f\"],[0.2222222222222222,\"#7201a8\"],[0.3333333333333333,\"#9c179e\"],[0.4444444444444444,\"#bd3786\"],[0.5555555555555556,\"#d8576b\"],[0.6666666666666666,\"#ed7953\"],[0.7777777777777778,\"#fb9f3a\"],[0.8888888888888888,\"#fdca26\"],[1.0,\"#f0f921\"]]},\"colorway\":[\"#636efa\",\"#EF553B\",\"#00cc96\",\"#ab63fa\",\"#FFA15A\",\"#19d3f3\",\"#FF6692\",\"#B6E880\",\"#FF97FF\",\"#FECB52\"],\"font\":{\"color\":\"#2a3f5f\"},\"geo\":{\"bgcolor\":\"white\",\"lakecolor\":\"white\",\"landcolor\":\"#E5ECF6\",\"showlakes\":true,\"showland\":true,\"subunitcolor\":\"white\"},\"hoverlabel\":{\"align\":\"left\"},\"hovermode\":\"closest\",\"mapbox\":{\"style\":\"light\"},\"paper_bgcolor\":\"white\",\"plot_bgcolor\":\"#E5ECF6\",\"polar\":{\"angularaxis\":{\"gridcolor\":\"white\",\"linecolor\":\"white\",\"ticks\":\"\"},\"bgcolor\":\"#E5ECF6\",\"radialaxis\":{\"gridcolor\":\"white\",\"linecolor\":\"white\",\"ticks\":\"\"}},\"scene\":{\"xaxis\":{\"backgroundcolor\":\"#E5ECF6\",\"gridcolor\":\"white\",\"gridwidth\":2,\"linecolor\":\"white\",\"showbackground\":true,\"ticks\":\"\",\"zerolinecolor\":\"white\"},\"yaxis\":{\"backgroundcolor\":\"#E5ECF6\",\"gridcolor\":\"white\",\"gridwidth\":2,\"linecolor\":\"white\",\"showbackground\":true,\"ticks\":\"\",\"zerolinecolor\":\"white\"},\"zaxis\":{\"backgroundcolor\":\"#E5ECF6\",\"gridcolor\":\"white\",\"gridwidth\":2,\"linecolor\":\"white\",\"showbackground\":true,\"ticks\":\"\",\"zerolinecolor\":\"white\"}},\"shapedefaults\":{\"line\":{\"color\":\"#2a3f5f\"}},\"ternary\":{\"aaxis\":{\"gridcolor\":\"white\",\"linecolor\":\"white\",\"ticks\":\"\"},\"baxis\":{\"gridcolor\":\"white\",\"linecolor\":\"white\",\"ticks\":\"\"},\"bgcolor\":\"#E5ECF6\",\"caxis\":{\"gridcolor\":\"white\",\"linecolor\":\"white\",\"ticks\":\"\"}},\"title\":{\"x\":0.05},\"xaxis\":{\"automargin\":true,\"gridcolor\":\"white\",\"linecolor\":\"white\",\"ticks\":\"\",\"title\":{\"standoff\":15},\"zerolinecolor\":\"white\",\"zerolinewidth\":2},\"yaxis\":{\"automargin\":true,\"gridcolor\":\"white\",\"linecolor\":\"white\",\"ticks\":\"\",\"title\":{\"standoff\":15},\"zerolinecolor\":\"white\",\"zerolinewidth\":2}}},\"polar\":{\"domain\":{\"x\":[0.0,0.2888888888888889],\"y\":[0.0,1.0]},\"radialaxis\":{\"visible\":true}},\"polar2\":{\"domain\":{\"x\":[0.35555555555555557,0.6444444444444445],\"y\":[0.0,1.0]}},\"polar3\":{\"domain\":{\"x\":[0.7111111111111111,1.0],\"y\":[0.0,1.0]}},\"height\":600,\"width\":1800,\"title\":{\"text\":\"Gums, seed gums (includes locust bean, guar)\"},\"showlegend\":false},                        {\"responsive\": true}                    ).then(function(){\n",
       "                            \n",
       "var gd = document.getElementById('72945172-8a18-4d15-8f98-8b350b0f33f0');\n",
       "var x = new MutationObserver(function (mutations, observer) {{\n",
       "        var display = window.getComputedStyle(gd).display;\n",
       "        if (!display || display === 'none') {{\n",
       "            console.log([gd, 'removed!']);\n",
       "            Plotly.purge(gd);\n",
       "            observer.disconnect();\n",
       "        }}\n",
       "}});\n",
       "\n",
       "// Listen for the removal of the full notebook cells\n",
       "var notebookContainer = gd.closest('#notebook-container');\n",
       "if (notebookContainer) {{\n",
       "    x.observe(notebookContainer, {childList: true});\n",
       "}}\n",
       "\n",
       "// Listen for the clearing of the current output cell\n",
       "var outputEl = gd.closest('.output');\n",
       "if (outputEl) {{\n",
       "    x.observe(outputEl, {childList: true});\n",
       "}}\n",
       "\n",
       "                        })                };                });            </script>        </div>"
      ]
     },
     "metadata": {},
     "output_type": "display_data"
    }
   ],
   "source": [
    "idx = 2569\n",
    "print(df[summary].iloc[idx].sum())\n",
    "\n",
    "fig = make_subplots(rows=1, cols=3, specs=[[{'type':'polar'},{'type':'polar'},{'type':'polar'}]])\n",
    "\n",
    "fig.add_trace(go.Scatterpolar(\n",
    "      r=low_lim_sum + [low_lim_sum[0]],theta=summary + [summary[0]],\n",
    "      name='lower_lim'\n",
    "), row=1, col=1)\n",
    "\n",
    "fig.add_trace(go.Scatterpolar(\n",
    "      r=df[summary+[summary[0]]].iloc[idx],\n",
    "      theta=summary+ [summary[0]],\n",
    "      fill='toself',\n",
    "      name=names[idx]\n",
    "), row=1, col=1)\n",
    "\n",
    "fig.add_trace(go.Scatterpolar(\n",
    "      r=low_lim_ess + [low_lim_ess[0]],theta=essential + [essential[0]],\n",
    "      name='lower_lim'\n",
    "), row=1, col=2)\n",
    "\n",
    "fig.add_trace(go.Scatterpolar(\n",
    "      r=df[essential+[essential[0]]].iloc[idx],\n",
    "      theta=essential+ [essential[0]],\n",
    "      fill='toself',\n",
    "      name=names[idx]\n",
    "), row=1, col=2)\n",
    "\n",
    "fig.add_trace(go.Scatterpolar(\n",
    "      r=low_lim_min + [low_lim_min[0]],theta=minerals + [minerals[0]],\n",
    "      name='lower_lim'\n",
    "), row=1, col=3)\n",
    "\n",
    "fig.add_trace(go.Scatterpolar(\n",
    "      r=df[minerals+[minerals[0]]].iloc[idx],\n",
    "      theta=minerals+ [minerals[0]],\n",
    "      fill='toself',\n",
    "      name=names[idx]\n",
    "), row=1, col=3)\n",
    "\n",
    "\n",
    "\n",
    "fig.update_layout(\n",
    "    height=600, width=1800,\n",
    "    title=names[idx],\n",
    "  polar=dict(\n",
    "    radialaxis=dict(\n",
    "      visible=True,\n",
    "#       range=[0, 100]\n",
    "    )),\n",
    "  showlegend=False\n",
    ")\n",
    "\n",
    "fig.show()"
   ]
  },
  {
   "cell_type": "code",
   "execution_count": 50,
   "metadata": {},
   "outputs": [
    {
     "data": {
      "text/plain": [
       "protein          7.1\n",
       "carbohydrate    67.8\n",
       "total_fat       21.0\n",
       "water            1.0\n",
       "Name: 1954, dtype: float64"
      ]
     },
     "execution_count": 50,
     "metadata": {},
     "output_type": "execute_result"
    }
   ],
   "source": [
    "df[summary].iloc[1954]"
   ]
  },
  {
   "cell_type": "code",
   "execution_count": 51,
   "metadata": {},
   "outputs": [
    {
     "data": {
      "text/plain": [
       "protein         12.34\n",
       "carbohydrate    66.36\n",
       "total_fat       15.00\n",
       "water            5.05\n",
       "Name: 995, dtype: float64"
      ]
     },
     "execution_count": 51,
     "metadata": {},
     "output_type": "execute_result"
    }
   ],
   "source": [
    "df[summary].iloc[995]"
   ]
  },
  {
   "cell_type": "code",
   "execution_count": 52,
   "metadata": {},
   "outputs": [
    {
     "data": {
      "text/plain": [
       "protein         12.0\n",
       "carbohydrate     1.6\n",
       "total_fat        9.5\n",
       "water           63.8\n",
       "Name: 994, dtype: float64"
      ]
     },
     "execution_count": 52,
     "metadata": {},
     "output_type": "execute_result"
    }
   ],
   "source": [
    "df[summary].iloc[994]"
   ]
  },
  {
   "cell_type": "code",
   "execution_count": null,
   "metadata": {},
   "outputs": [],
   "source": []
  },
  {
   "cell_type": "code",
   "execution_count": null,
   "metadata": {},
   "outputs": [],
   "source": []
  },
  {
   "cell_type": "code",
   "execution_count": null,
   "metadata": {},
   "outputs": [],
   "source": []
  },
  {
   "cell_type": "code",
   "execution_count": null,
   "metadata": {},
   "outputs": [],
   "source": []
  },
  {
   "cell_type": "code",
   "execution_count": null,
   "metadata": {},
   "outputs": [],
   "source": []
  },
  {
   "cell_type": "code",
   "execution_count": null,
   "metadata": {},
   "outputs": [],
   "source": []
  },
  {
   "cell_type": "code",
   "execution_count": null,
   "metadata": {},
   "outputs": [],
   "source": []
  },
  {
   "cell_type": "code",
   "execution_count": 74,
   "metadata": {},
   "outputs": [
    {
     "data": {
      "text/html": [
       "<div>\n",
       "<style scoped>\n",
       "    .dataframe tbody tr th:only-of-type {\n",
       "        vertical-align: middle;\n",
       "    }\n",
       "\n",
       "    .dataframe tbody tr th {\n",
       "        vertical-align: top;\n",
       "    }\n",
       "\n",
       "    .dataframe thead th {\n",
       "        text-align: right;\n",
       "    }\n",
       "</style>\n",
       "<table border=\"1\" class=\"dataframe\">\n",
       "  <thead>\n",
       "    <tr style=\"text-align: right;\">\n",
       "      <th></th>\n",
       "      <th>protein</th>\n",
       "      <th>alanine</th>\n",
       "      <th>arginine</th>\n",
       "      <th>aspartic_acid</th>\n",
       "      <th>cystine</th>\n",
       "      <th>glutamic_acid</th>\n",
       "      <th>glycine</th>\n",
       "      <th>histidine</th>\n",
       "      <th>hydroxyproline</th>\n",
       "      <th>isoleucine</th>\n",
       "      <th>leucine</th>\n",
       "      <th>lysine</th>\n",
       "      <th>methionine</th>\n",
       "      <th>phenylalanine</th>\n",
       "      <th>proline</th>\n",
       "      <th>serine</th>\n",
       "      <th>threonine</th>\n",
       "      <th>tryptophan</th>\n",
       "      <th>tyrosine</th>\n",
       "      <th>valine</th>\n",
       "    </tr>\n",
       "  </thead>\n",
       "  <tbody>\n",
       "    <tr>\n",
       "      <th>4</th>\n",
       "      <td>1.10</td>\n",
       "      <td>0.0</td>\n",
       "      <td>0.0</td>\n",
       "      <td>0.0</td>\n",
       "      <td>0.0</td>\n",
       "      <td>0.0</td>\n",
       "      <td>0.0</td>\n",
       "      <td>0.0</td>\n",
       "      <td>0.0</td>\n",
       "      <td>0.0</td>\n",
       "      <td>0.0</td>\n",
       "      <td>0.0</td>\n",
       "      <td>0.0</td>\n",
       "      <td>0.0</td>\n",
       "      <td>0.0</td>\n",
       "      <td>0.0</td>\n",
       "      <td>0.0</td>\n",
       "      <td>0.0</td>\n",
       "      <td>0.0</td>\n",
       "      <td>0.0</td>\n",
       "    </tr>\n",
       "    <tr>\n",
       "      <th>9</th>\n",
       "      <td>23.00</td>\n",
       "      <td>0.0</td>\n",
       "      <td>0.0</td>\n",
       "      <td>0.0</td>\n",
       "      <td>0.0</td>\n",
       "      <td>0.0</td>\n",
       "      <td>0.0</td>\n",
       "      <td>0.0</td>\n",
       "      <td>0.0</td>\n",
       "      <td>0.0</td>\n",
       "      <td>0.0</td>\n",
       "      <td>0.0</td>\n",
       "      <td>0.0</td>\n",
       "      <td>0.0</td>\n",
       "      <td>0.0</td>\n",
       "      <td>0.0</td>\n",
       "      <td>0.0</td>\n",
       "      <td>0.0</td>\n",
       "      <td>0.0</td>\n",
       "      <td>0.0</td>\n",
       "    </tr>\n",
       "    <tr>\n",
       "      <th>12</th>\n",
       "      <td>0.11</td>\n",
       "      <td>0.0</td>\n",
       "      <td>0.0</td>\n",
       "      <td>0.0</td>\n",
       "      <td>0.0</td>\n",
       "      <td>0.0</td>\n",
       "      <td>0.0</td>\n",
       "      <td>0.0</td>\n",
       "      <td>0.0</td>\n",
       "      <td>0.0</td>\n",
       "      <td>0.0</td>\n",
       "      <td>0.0</td>\n",
       "      <td>0.0</td>\n",
       "      <td>0.0</td>\n",
       "      <td>0.0</td>\n",
       "      <td>0.0</td>\n",
       "      <td>0.0</td>\n",
       "      <td>0.0</td>\n",
       "      <td>0.0</td>\n",
       "      <td>0.0</td>\n",
       "    </tr>\n",
       "    <tr>\n",
       "      <th>14</th>\n",
       "      <td>19.40</td>\n",
       "      <td>0.0</td>\n",
       "      <td>0.0</td>\n",
       "      <td>0.0</td>\n",
       "      <td>0.0</td>\n",
       "      <td>0.0</td>\n",
       "      <td>0.0</td>\n",
       "      <td>0.0</td>\n",
       "      <td>0.0</td>\n",
       "      <td>0.0</td>\n",
       "      <td>0.0</td>\n",
       "      <td>0.0</td>\n",
       "      <td>0.0</td>\n",
       "      <td>0.0</td>\n",
       "      <td>0.0</td>\n",
       "      <td>0.0</td>\n",
       "      <td>0.0</td>\n",
       "      <td>0.0</td>\n",
       "      <td>0.0</td>\n",
       "      <td>0.0</td>\n",
       "    </tr>\n",
       "    <tr>\n",
       "      <th>17</th>\n",
       "      <td>0.91</td>\n",
       "      <td>0.0</td>\n",
       "      <td>0.0</td>\n",
       "      <td>0.0</td>\n",
       "      <td>0.0</td>\n",
       "      <td>0.0</td>\n",
       "      <td>0.0</td>\n",
       "      <td>0.0</td>\n",
       "      <td>0.0</td>\n",
       "      <td>0.0</td>\n",
       "      <td>0.0</td>\n",
       "      <td>0.0</td>\n",
       "      <td>0.0</td>\n",
       "      <td>0.0</td>\n",
       "      <td>0.0</td>\n",
       "      <td>0.0</td>\n",
       "      <td>0.0</td>\n",
       "      <td>0.0</td>\n",
       "      <td>0.0</td>\n",
       "      <td>0.0</td>\n",
       "    </tr>\n",
       "    <tr>\n",
       "      <th>...</th>\n",
       "      <td>...</td>\n",
       "      <td>...</td>\n",
       "      <td>...</td>\n",
       "      <td>...</td>\n",
       "      <td>...</td>\n",
       "      <td>...</td>\n",
       "      <td>...</td>\n",
       "      <td>...</td>\n",
       "      <td>...</td>\n",
       "      <td>...</td>\n",
       "      <td>...</td>\n",
       "      <td>...</td>\n",
       "      <td>...</td>\n",
       "      <td>...</td>\n",
       "      <td>...</td>\n",
       "      <td>...</td>\n",
       "      <td>...</td>\n",
       "      <td>...</td>\n",
       "      <td>...</td>\n",
       "      <td>...</td>\n",
       "    </tr>\n",
       "    <tr>\n",
       "      <th>8764</th>\n",
       "      <td>0.14</td>\n",
       "      <td>0.0</td>\n",
       "      <td>0.0</td>\n",
       "      <td>0.0</td>\n",
       "      <td>0.0</td>\n",
       "      <td>0.0</td>\n",
       "      <td>0.0</td>\n",
       "      <td>0.0</td>\n",
       "      <td>0.0</td>\n",
       "      <td>0.0</td>\n",
       "      <td>0.0</td>\n",
       "      <td>0.0</td>\n",
       "      <td>0.0</td>\n",
       "      <td>0.0</td>\n",
       "      <td>0.0</td>\n",
       "      <td>0.0</td>\n",
       "      <td>0.0</td>\n",
       "      <td>0.0</td>\n",
       "      <td>0.0</td>\n",
       "      <td>0.0</td>\n",
       "    </tr>\n",
       "    <tr>\n",
       "      <th>8767</th>\n",
       "      <td>1.78</td>\n",
       "      <td>0.0</td>\n",
       "      <td>0.0</td>\n",
       "      <td>0.0</td>\n",
       "      <td>0.0</td>\n",
       "      <td>0.0</td>\n",
       "      <td>0.0</td>\n",
       "      <td>0.0</td>\n",
       "      <td>0.0</td>\n",
       "      <td>0.0</td>\n",
       "      <td>0.0</td>\n",
       "      <td>0.0</td>\n",
       "      <td>0.0</td>\n",
       "      <td>0.0</td>\n",
       "      <td>0.0</td>\n",
       "      <td>0.0</td>\n",
       "      <td>0.0</td>\n",
       "      <td>0.0</td>\n",
       "      <td>0.0</td>\n",
       "      <td>0.0</td>\n",
       "    </tr>\n",
       "    <tr>\n",
       "      <th>8770</th>\n",
       "      <td>1.48</td>\n",
       "      <td>0.0</td>\n",
       "      <td>0.0</td>\n",
       "      <td>0.0</td>\n",
       "      <td>0.0</td>\n",
       "      <td>0.0</td>\n",
       "      <td>0.0</td>\n",
       "      <td>0.0</td>\n",
       "      <td>0.0</td>\n",
       "      <td>0.0</td>\n",
       "      <td>0.0</td>\n",
       "      <td>0.0</td>\n",
       "      <td>0.0</td>\n",
       "      <td>0.0</td>\n",
       "      <td>0.0</td>\n",
       "      <td>0.0</td>\n",
       "      <td>0.0</td>\n",
       "      <td>0.0</td>\n",
       "      <td>0.0</td>\n",
       "      <td>0.0</td>\n",
       "    </tr>\n",
       "    <tr>\n",
       "      <th>8771</th>\n",
       "      <td>3.20</td>\n",
       "      <td>0.0</td>\n",
       "      <td>0.0</td>\n",
       "      <td>0.0</td>\n",
       "      <td>0.0</td>\n",
       "      <td>0.0</td>\n",
       "      <td>0.0</td>\n",
       "      <td>0.0</td>\n",
       "      <td>0.0</td>\n",
       "      <td>0.0</td>\n",
       "      <td>0.0</td>\n",
       "      <td>0.0</td>\n",
       "      <td>0.0</td>\n",
       "      <td>0.0</td>\n",
       "      <td>0.0</td>\n",
       "      <td>0.0</td>\n",
       "      <td>0.0</td>\n",
       "      <td>0.0</td>\n",
       "      <td>0.0</td>\n",
       "      <td>0.0</td>\n",
       "    </tr>\n",
       "    <tr>\n",
       "      <th>8772</th>\n",
       "      <td>8.81</td>\n",
       "      <td>0.0</td>\n",
       "      <td>0.0</td>\n",
       "      <td>0.0</td>\n",
       "      <td>0.0</td>\n",
       "      <td>0.0</td>\n",
       "      <td>0.0</td>\n",
       "      <td>0.0</td>\n",
       "      <td>0.0</td>\n",
       "      <td>0.0</td>\n",
       "      <td>0.0</td>\n",
       "      <td>0.0</td>\n",
       "      <td>0.0</td>\n",
       "      <td>0.0</td>\n",
       "      <td>0.0</td>\n",
       "      <td>0.0</td>\n",
       "      <td>0.0</td>\n",
       "      <td>0.0</td>\n",
       "      <td>0.0</td>\n",
       "      <td>0.0</td>\n",
       "    </tr>\n",
       "  </tbody>\n",
       "</table>\n",
       "<p>3361 rows × 20 columns</p>\n",
       "</div>"
      ],
      "text/plain": [
       "      protein  alanine  arginine  aspartic_acid  cystine  glutamic_acid  \\\n",
       "4        1.10      0.0       0.0            0.0      0.0            0.0   \n",
       "9       23.00      0.0       0.0            0.0      0.0            0.0   \n",
       "12       0.11      0.0       0.0            0.0      0.0            0.0   \n",
       "14      19.40      0.0       0.0            0.0      0.0            0.0   \n",
       "17       0.91      0.0       0.0            0.0      0.0            0.0   \n",
       "...       ...      ...       ...            ...      ...            ...   \n",
       "8764     0.14      0.0       0.0            0.0      0.0            0.0   \n",
       "8767     1.78      0.0       0.0            0.0      0.0            0.0   \n",
       "8770     1.48      0.0       0.0            0.0      0.0            0.0   \n",
       "8771     3.20      0.0       0.0            0.0      0.0            0.0   \n",
       "8772     8.81      0.0       0.0            0.0      0.0            0.0   \n",
       "\n",
       "      glycine  histidine  hydroxyproline  isoleucine  leucine  lysine  \\\n",
       "4         0.0        0.0             0.0         0.0      0.0     0.0   \n",
       "9         0.0        0.0             0.0         0.0      0.0     0.0   \n",
       "12        0.0        0.0             0.0         0.0      0.0     0.0   \n",
       "14        0.0        0.0             0.0         0.0      0.0     0.0   \n",
       "17        0.0        0.0             0.0         0.0      0.0     0.0   \n",
       "...       ...        ...             ...         ...      ...     ...   \n",
       "8764      0.0        0.0             0.0         0.0      0.0     0.0   \n",
       "8767      0.0        0.0             0.0         0.0      0.0     0.0   \n",
       "8770      0.0        0.0             0.0         0.0      0.0     0.0   \n",
       "8771      0.0        0.0             0.0         0.0      0.0     0.0   \n",
       "8772      0.0        0.0             0.0         0.0      0.0     0.0   \n",
       "\n",
       "      methionine  phenylalanine  proline  serine  threonine  tryptophan  \\\n",
       "4            0.0            0.0      0.0     0.0        0.0         0.0   \n",
       "9            0.0            0.0      0.0     0.0        0.0         0.0   \n",
       "12           0.0            0.0      0.0     0.0        0.0         0.0   \n",
       "14           0.0            0.0      0.0     0.0        0.0         0.0   \n",
       "17           0.0            0.0      0.0     0.0        0.0         0.0   \n",
       "...          ...            ...      ...     ...        ...         ...   \n",
       "8764         0.0            0.0      0.0     0.0        0.0         0.0   \n",
       "8767         0.0            0.0      0.0     0.0        0.0         0.0   \n",
       "8770         0.0            0.0      0.0     0.0        0.0         0.0   \n",
       "8771         0.0            0.0      0.0     0.0        0.0         0.0   \n",
       "8772         0.0            0.0      0.0     0.0        0.0         0.0   \n",
       "\n",
       "      tyrosine  valine  \n",
       "4          0.0     0.0  \n",
       "9          0.0     0.0  \n",
       "12         0.0     0.0  \n",
       "14         0.0     0.0  \n",
       "17         0.0     0.0  \n",
       "...        ...     ...  \n",
       "8764       0.0     0.0  \n",
       "8767       0.0     0.0  \n",
       "8770       0.0     0.0  \n",
       "8771       0.0     0.0  \n",
       "8772       0.0     0.0  \n",
       "\n",
       "[3361 rows x 20 columns]"
      ]
     },
     "execution_count": 74,
     "metadata": {},
     "output_type": "execute_result"
    }
   ],
   "source": [
    "df[(df['protein'] > 0) * (df[amino_acids].sum(axis=1) == 0)][['protein']+amino_acids]"
   ]
  },
  {
   "cell_type": "code",
   "execution_count": 75,
   "metadata": {},
   "outputs": [
    {
     "data": {
      "text/html": [
       "<div>\n",
       "<style scoped>\n",
       "    .dataframe tbody tr th:only-of-type {\n",
       "        vertical-align: middle;\n",
       "    }\n",
       "\n",
       "    .dataframe tbody tr th {\n",
       "        vertical-align: top;\n",
       "    }\n",
       "\n",
       "    .dataframe thead th {\n",
       "        text-align: right;\n",
       "    }\n",
       "</style>\n",
       "<table border=\"1\" class=\"dataframe\">\n",
       "  <thead>\n",
       "    <tr style=\"text-align: right;\">\n",
       "      <th></th>\n",
       "      <th>protein</th>\n",
       "      <th>alanine</th>\n",
       "      <th>arginine</th>\n",
       "      <th>aspartic_acid</th>\n",
       "      <th>cystine</th>\n",
       "      <th>glutamic_acid</th>\n",
       "      <th>glycine</th>\n",
       "      <th>histidine</th>\n",
       "      <th>hydroxyproline</th>\n",
       "      <th>isoleucine</th>\n",
       "      <th>leucine</th>\n",
       "      <th>lysine</th>\n",
       "      <th>methionine</th>\n",
       "      <th>phenylalanine</th>\n",
       "      <th>proline</th>\n",
       "      <th>serine</th>\n",
       "      <th>threonine</th>\n",
       "      <th>tryptophan</th>\n",
       "      <th>tyrosine</th>\n",
       "      <th>valine</th>\n",
       "    </tr>\n",
       "  </thead>\n",
       "  <tbody>\n",
       "    <tr>\n",
       "      <th>615</th>\n",
       "      <td>0.0</td>\n",
       "      <td>0.000</td>\n",
       "      <td>0.000</td>\n",
       "      <td>0.002</td>\n",
       "      <td>0.000</td>\n",
       "      <td>0.002</td>\n",
       "      <td>0.000</td>\n",
       "      <td>0.000</td>\n",
       "      <td>0.0</td>\n",
       "      <td>0.000</td>\n",
       "      <td>0.001</td>\n",
       "      <td>0.000</td>\n",
       "      <td>0.000</td>\n",
       "      <td>0.000</td>\n",
       "      <td>0.000</td>\n",
       "      <td>0.000</td>\n",
       "      <td>0.000</td>\n",
       "      <td>0.000</td>\n",
       "      <td>0.000</td>\n",
       "      <td>0.000</td>\n",
       "    </tr>\n",
       "    <tr>\n",
       "      <th>1221</th>\n",
       "      <td>0.0</td>\n",
       "      <td>0.072</td>\n",
       "      <td>0.088</td>\n",
       "      <td>0.155</td>\n",
       "      <td>0.019</td>\n",
       "      <td>0.234</td>\n",
       "      <td>0.070</td>\n",
       "      <td>0.027</td>\n",
       "      <td>0.0</td>\n",
       "      <td>0.060</td>\n",
       "      <td>0.094</td>\n",
       "      <td>0.078</td>\n",
       "      <td>0.016</td>\n",
       "      <td>0.075</td>\n",
       "      <td>0.067</td>\n",
       "      <td>0.067</td>\n",
       "      <td>0.062</td>\n",
       "      <td>0.023</td>\n",
       "      <td>0.058</td>\n",
       "      <td>0.093</td>\n",
       "    </tr>\n",
       "    <tr>\n",
       "      <th>1474</th>\n",
       "      <td>0.0</td>\n",
       "      <td>0.003</td>\n",
       "      <td>0.002</td>\n",
       "      <td>0.003</td>\n",
       "      <td>0.001</td>\n",
       "      <td>0.007</td>\n",
       "      <td>0.001</td>\n",
       "      <td>0.001</td>\n",
       "      <td>0.0</td>\n",
       "      <td>0.001</td>\n",
       "      <td>0.005</td>\n",
       "      <td>0.001</td>\n",
       "      <td>0.001</td>\n",
       "      <td>0.002</td>\n",
       "      <td>0.003</td>\n",
       "      <td>0.002</td>\n",
       "      <td>0.001</td>\n",
       "      <td>0.000</td>\n",
       "      <td>0.001</td>\n",
       "      <td>0.002</td>\n",
       "    </tr>\n",
       "    <tr>\n",
       "      <th>2186</th>\n",
       "      <td>0.0</td>\n",
       "      <td>0.036</td>\n",
       "      <td>0.064</td>\n",
       "      <td>0.105</td>\n",
       "      <td>0.014</td>\n",
       "      <td>0.180</td>\n",
       "      <td>0.026</td>\n",
       "      <td>0.031</td>\n",
       "      <td>0.0</td>\n",
       "      <td>0.007</td>\n",
       "      <td>0.017</td>\n",
       "      <td>0.019</td>\n",
       "      <td>0.029</td>\n",
       "      <td>0.017</td>\n",
       "      <td>0.029</td>\n",
       "      <td>0.041</td>\n",
       "      <td>0.024</td>\n",
       "      <td>0.000</td>\n",
       "      <td>0.016</td>\n",
       "      <td>0.024</td>\n",
       "    </tr>\n",
       "    <tr>\n",
       "      <th>4438</th>\n",
       "      <td>0.0</td>\n",
       "      <td>0.013</td>\n",
       "      <td>0.007</td>\n",
       "      <td>0.003</td>\n",
       "      <td>0.000</td>\n",
       "      <td>0.017</td>\n",
       "      <td>0.002</td>\n",
       "      <td>0.001</td>\n",
       "      <td>0.0</td>\n",
       "      <td>0.001</td>\n",
       "      <td>0.002</td>\n",
       "      <td>0.002</td>\n",
       "      <td>0.000</td>\n",
       "      <td>0.002</td>\n",
       "      <td>0.002</td>\n",
       "      <td>0.002</td>\n",
       "      <td>0.002</td>\n",
       "      <td>0.000</td>\n",
       "      <td>0.000</td>\n",
       "      <td>0.002</td>\n",
       "    </tr>\n",
       "    <tr>\n",
       "      <th>4621</th>\n",
       "      <td>0.0</td>\n",
       "      <td>0.003</td>\n",
       "      <td>0.002</td>\n",
       "      <td>0.003</td>\n",
       "      <td>0.001</td>\n",
       "      <td>0.007</td>\n",
       "      <td>0.001</td>\n",
       "      <td>0.001</td>\n",
       "      <td>0.0</td>\n",
       "      <td>0.001</td>\n",
       "      <td>0.005</td>\n",
       "      <td>0.001</td>\n",
       "      <td>0.001</td>\n",
       "      <td>0.002</td>\n",
       "      <td>0.003</td>\n",
       "      <td>0.002</td>\n",
       "      <td>0.001</td>\n",
       "      <td>0.000</td>\n",
       "      <td>0.001</td>\n",
       "      <td>0.002</td>\n",
       "    </tr>\n",
       "  </tbody>\n",
       "</table>\n",
       "</div>"
      ],
      "text/plain": [
       "      protein  alanine  arginine  aspartic_acid  cystine  glutamic_acid  \\\n",
       "615       0.0    0.000     0.000          0.002    0.000          0.002   \n",
       "1221      0.0    0.072     0.088          0.155    0.019          0.234   \n",
       "1474      0.0    0.003     0.002          0.003    0.001          0.007   \n",
       "2186      0.0    0.036     0.064          0.105    0.014          0.180   \n",
       "4438      0.0    0.013     0.007          0.003    0.000          0.017   \n",
       "4621      0.0    0.003     0.002          0.003    0.001          0.007   \n",
       "\n",
       "      glycine  histidine  hydroxyproline  isoleucine  leucine  lysine  \\\n",
       "615     0.000      0.000             0.0       0.000    0.001   0.000   \n",
       "1221    0.070      0.027             0.0       0.060    0.094   0.078   \n",
       "1474    0.001      0.001             0.0       0.001    0.005   0.001   \n",
       "2186    0.026      0.031             0.0       0.007    0.017   0.019   \n",
       "4438    0.002      0.001             0.0       0.001    0.002   0.002   \n",
       "4621    0.001      0.001             0.0       0.001    0.005   0.001   \n",
       "\n",
       "      methionine  phenylalanine  proline  serine  threonine  tryptophan  \\\n",
       "615        0.000          0.000    0.000   0.000      0.000       0.000   \n",
       "1221       0.016          0.075    0.067   0.067      0.062       0.023   \n",
       "1474       0.001          0.002    0.003   0.002      0.001       0.000   \n",
       "2186       0.029          0.017    0.029   0.041      0.024       0.000   \n",
       "4438       0.000          0.002    0.002   0.002      0.002       0.000   \n",
       "4621       0.001          0.002    0.003   0.002      0.001       0.000   \n",
       "\n",
       "      tyrosine  valine  \n",
       "615      0.000   0.000  \n",
       "1221     0.058   0.093  \n",
       "1474     0.001   0.002  \n",
       "2186     0.016   0.024  \n",
       "4438     0.000   0.002  \n",
       "4621     0.001   0.002  "
      ]
     },
     "execution_count": 75,
     "metadata": {},
     "output_type": "execute_result"
    }
   ],
   "source": [
    "df[(df['protein'] == 0) * (df[amino_acids].sum(axis=1) > 0)][['protein']+amino_acids]"
   ]
  },
  {
   "cell_type": "code",
   "execution_count": 76,
   "metadata": {},
   "outputs": [],
   "source": [
    "complete = df[(df['protein'] > 0) * (df[amino_acids].sum(axis=1) > 0)][['protein']+amino_acids]"
   ]
  },
  {
   "cell_type": "code",
   "execution_count": 77,
   "metadata": {},
   "outputs": [],
   "source": [
    "amino_median = []\n",
    "for idx in range(len(amino_acids)):\n",
    "    ratio = complete[[amino_acids[idx]]].sum(axis=1) / complete['protein']\n",
    "    amino_median.append(ratio.median())\n",
    "amino_median = 0.9 * np.array(amino_median)"
   ]
  },
  {
   "cell_type": "code",
   "execution_count": 78,
   "metadata": {},
   "outputs": [
    {
     "name": "stderr",
     "output_type": "stream",
     "text": [
      "/var/folders/pj/mh9s37yn0r90tmd44r3slss00000gn/T/ipykernel_27438/715047728.py:4: SettingWithCopyWarning:\n",
      "\n",
      "\n",
      "A value is trying to be set on a copy of a slice from a DataFrame\n",
      "\n",
      "See the caveats in the documentation: https://pandas.pydata.org/pandas-docs/stable/user_guide/indexing.html#returning-a-view-versus-a-copy\n",
      "\n"
     ]
    }
   ],
   "source": [
    "mask = (df['protein'] > 0) * (df[amino_acids].sum(axis=1) == 0)\n",
    "fix = df[mask][['protein']].values * amino_median\n",
    "for idx in range(len(amino_acids)):\n",
    "    df[amino_acids[idx]][mask] = fix[:,idx]"
   ]
  },
  {
   "cell_type": "code",
   "execution_count": 82,
   "metadata": {},
   "outputs": [],
   "source": [
    "#Save amended data\n",
    "df.to_csv('../data/nutrition_augment.csv', index=False)"
   ]
  },
  {
   "cell_type": "code",
   "execution_count": null,
   "metadata": {},
   "outputs": [],
   "source": []
  }
 ],
 "metadata": {
  "kernelspec": {
   "display_name": "Python 3.9 nutopt",
   "language": "python",
   "name": "nutopt"
  },
  "language_info": {
   "codemirror_mode": {
    "name": "ipython",
    "version": 3
   },
   "file_extension": ".py",
   "mimetype": "text/x-python",
   "name": "python",
   "nbconvert_exporter": "python",
   "pygments_lexer": "ipython3",
   "version": "3.9.7"
  }
 },
 "nbformat": 4,
 "nbformat_minor": 5
}
