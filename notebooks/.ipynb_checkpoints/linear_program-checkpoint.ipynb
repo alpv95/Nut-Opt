{
 "cells": [
  {
   "cell_type": "code",
   "execution_count": 1,
   "id": "guilty-article",
   "metadata": {},
   "outputs": [],
   "source": [
    "%matplotlib inline\n",
    "import numpy as np\n",
    "import matplotlib.pyplot as plt\n",
    "import pandas as pd\n",
    "import cvxpy as cp\n",
    "import json\n",
    "import plotly.express as px\n",
    "import plotly.graph_objects as go\n",
    "from plotly.subplots import make_subplots"
   ]
  },
  {
   "cell_type": "code",
   "execution_count": 72,
   "id": "polar-interstate",
   "metadata": {},
   "outputs": [],
   "source": [
    "#definitions\n",
    "amino_acids = ['alanine', \n",
    "       'arginine', 'aspartic_acid', 'cystine', 'glutamic_acid', 'glycine',\n",
    "       'histidine', 'hydroxyproline', 'isoleucine', 'leucine', 'lysine',\n",
    "       'methionine', 'phenylalanine', 'proline', 'serine', 'threonine',\n",
    "       'tryptophan', 'tyrosine', 'valine',]\n",
    "essential = ['histidine', 'isoleucine', 'leucine', 'lysine', \n",
    "                         'methionine', 'phenylalanine', 'threonine', 'tryptophan', 'valine']\n",
    "macro_minerals = ['sodium', 'potassium', 'calcium', 'phosphorous','magnesium']\n",
    "trace_minerals = ['copper','irom','manganese','zink','selenium']\n",
    "vitamins = ['choline', 'riboflavin','thiamin','niacin','pantothenic_acid',\n",
    "            'folate','folic_acid','vitamin_a','vitamin_b12','vitamin_b6',\n",
    "            'vitamin_c','vitamin_d','vitamin_e','vitamin_k']\n",
    "fatty_acids = ['saturated_fatty_acids','monounsaturated_fatty_acids',\n",
    "               'polyunsaturated_fatty_acids']\n",
    "summary = ['protein','carbohydrate','sugars','total_fat','saturated_fat','fiber']\n",
    "other = ['cholesterol']"
   ]
  },
  {
   "cell_type": "code",
   "execution_count": 73,
   "id": "inside-horror",
   "metadata": {},
   "outputs": [],
   "source": [
    "df = pd.read_csv('../data/nutrition_clean.csv')\n",
    "names = pd.read_csv('../data/food_names.csv')\n",
    "names = names['name']\n",
    "name_to_idx = {v: k for k, v in names.to_dict().items()}\n",
    "columns_to_idx = {v: i for i, v in enumerate(df.columns)}\n",
    "\n",
    "with open('../data/units.json') as json_file:\n",
    "    units = json.load(json_file)"
   ]
  },
  {
   "cell_type": "markdown",
   "id": "bound-remainder",
   "metadata": {},
   "source": [
    "## Constraints"
   ]
  },
  {
   "cell_type": "code",
   "execution_count": 74,
   "id": "narrow-response",
   "metadata": {},
   "outputs": [],
   "source": [
    "lower = {'calories': 1900,\n",
    " 'total_fat': 50,\n",
    " 'saturated_fat': 10,\n",
    " 'cholesterol': 50,\n",
    " 'sodium': 1500,\n",
    " 'choline': 550,\n",
    " 'folate': 400,\n",
    " 'folic_acid': 400,\n",
    " 'niacin': 16,\n",
    " 'pantothenic_acid': 5,\n",
    " 'riboflavin': 1.3,\n",
    " 'thiamin': 1.2,\n",
    " 'vitamin_a': 3000,\n",
    " 'vitamin_a_rae': ' mcg',\n",
    " 'carotene_alpha': ' mcg',\n",
    " 'carotene_beta': ' mcg',\n",
    " 'cryptoxanthin_beta': ' mcg',\n",
    " 'lutein_zeaxanthin': ' mcg',\n",
    " 'vitamin_b12': 2.4,\n",
    " 'vitamin_b6': 1.3,\n",
    " 'vitamin_c': 90,\n",
    " 'vitamin_d': 600,\n",
    " 'vitamin_e': 15,\n",
    " 'vitamin_k': 120,\n",
    " 'calcium': 1300,\n",
    " 'copper': 0.9,\n",
    " 'irom': 8,\n",
    " 'magnesium': 400,\n",
    " 'manganese': 2.3,\n",
    " 'phosphorous': 700,\n",
    " 'potassium': 4700,\n",
    " 'selenium': 55,\n",
    " 'zink': 11,\n",
    " 'protein': 70,\n",
    " 'alanine': ' g',\n",
    " 'arginine': ' g',\n",
    " 'aspartic_acid': ' g',\n",
    " 'cystine': 0.287,\n",
    " 'glutamic_acid': ' g',\n",
    " 'glycine': ' g',\n",
    " 'histidine': 0.7,\n",
    " 'hydroxyproline': 'g',\n",
    " 'isoleucine': 1.4,\n",
    " 'leucine': 2.73,\n",
    " 'lysine': 2.1,\n",
    " 'methionine': 0.728,\n",
    " 'phenylalanine': 0.875,\n",
    " 'proline': ' g',\n",
    " 'serine': ' g',\n",
    " 'threonine': 1.05,\n",
    " 'tryptophan': 0.28,\n",
    " 'tyrosine': 0.875,\n",
    " 'valine': 1.82,\n",
    " 'carbohydrate': 130, #130\n",
    " 'fiber': 38,\n",
    " 'sugars': 'g',\n",
    " 'fructose': 'g',\n",
    " 'galactose': 'g',\n",
    " 'glucose': 'g',\n",
    " 'lactose': 'g',\n",
    " 'maltose': 'g',\n",
    " 'sucrose': 'g',\n",
    " 'fat': 'g', #78\n",
    " 'saturated_fatty_acids': ' g',\n",
    " 'monounsaturated_fatty_acids': ' g',\n",
    " 'polyunsaturated_fatty_acids': 17,\n",
    " 'alcohol': 'g',\n",
    " 'ash': 'g',\n",
    " 'caffeine': 'g',\n",
    " 'theobromine': 'g',\n",
    " 'water': 100} #500\n",
    "\n",
    "upper = {'calories': 2500,\n",
    " 'total_fat': 120,\n",
    " 'saturated_fat': 25,\n",
    " 'cholesterol': 250,\n",
    " 'sodium': 3000,\n",
    " 'choline': 2500,\n",
    " 'folate': 900,\n",
    " 'folic_acid': 900,\n",
    " 'niacin': 30,\n",
    " 'pantothenic_acid': 100,\n",
    " 'riboflavin': 500,\n",
    " 'thiamin': 200,\n",
    " 'vitamin_a': 8000,\n",
    " 'vitamin_a_rae': ' mcg',\n",
    " 'carotene_alpha': ' mcg',\n",
    " 'carotene_beta': ' mcg',\n",
    " 'cryptoxanthin_beta': ' mcg',\n",
    " 'lutein_zeaxanthin': ' mcg',\n",
    " 'vitamin_b12': 8,\n",
    " 'vitamin_b6': 4,\n",
    " 'vitamin_c': 1000,\n",
    " 'vitamin_d': 5000,\n",
    " 'vitamin_e': 500,\n",
    " 'vitamin_k': 500,\n",
    " 'calcium': 2000,\n",
    " 'copper': 7,\n",
    " 'irom': 35,\n",
    " 'magnesium': 500,\n",
    " 'manganese': 7,\n",
    " 'phosphorous': 3500,\n",
    " 'potassium': 7000,\n",
    " 'selenium': 300,\n",
    " 'zink': 35,\n",
    " 'protein': 100,\n",
    " 'alanine': ' g',\n",
    " 'arginine': ' g',\n",
    " 'aspartic_acid': ' g',\n",
    " 'cystine': ' g',\n",
    " 'glutamic_acid': ' g',\n",
    " 'glycine': ' g',\n",
    " 'histidine': ' g',\n",
    " 'hydroxyproline': 'g',\n",
    " 'isoleucine': ' g',\n",
    " 'leucine': ' g',\n",
    " 'lysine': ' g',\n",
    " 'methionine': ' g',\n",
    " 'phenylalanine': ' g',\n",
    " 'proline': ' g',\n",
    " 'serine': ' g',\n",
    " 'threonine': ' g',\n",
    " 'tryptophan': ' g',\n",
    " 'tyrosine': ' g',\n",
    " 'valine': ' g',\n",
    " 'carbohydrate': 400, #300\n",
    " 'fiber': 55,\n",
    " 'sugars': 40,\n",
    " 'fructose': ' g',\n",
    " 'galactose': 'g',\n",
    " 'glucose': ' g',\n",
    " 'lactose': ' g',\n",
    " 'maltose': ' g',\n",
    " 'sucrose': ' g',\n",
    " 'fat': 'g', #120\n",
    " 'saturated_fatty_acids': ' g',\n",
    " 'monounsaturated_fatty_acids': ' g',\n",
    " 'polyunsaturated_fatty_acids': 30,\n",
    " 'alcohol': 5,\n",
    " 'ash': ' g',\n",
    " 'caffeine': ' mg',\n",
    " 'theobromine': ' mg',\n",
    " 'water': 2000}"
   ]
  },
  {
   "cell_type": "code",
   "execution_count": 75,
   "id": "bottom-conditioning",
   "metadata": {},
   "outputs": [],
   "source": [
    "constraints = {k_up: (v_low, v_up) for (k_up, v_up), (_, v_low) in zip(upper.items(), lower.items()) \n",
    " if not (isinstance(v_low, str) and isinstance(v_up, str))}"
   ]
  },
  {
   "cell_type": "code",
   "execution_count": 76,
   "id": "ignored-injury",
   "metadata": {
    "scrolled": false
   },
   "outputs": [
    {
     "data": {
      "text/plain": [
       "{'calories': (1900, 2500),\n",
       " 'total_fat': (50, 120),\n",
       " 'saturated_fat': (10, 25),\n",
       " 'cholesterol': (50, 250),\n",
       " 'sodium': (1500, 3000),\n",
       " 'choline': (550, 2500),\n",
       " 'folate': (400, 900),\n",
       " 'folic_acid': (400, 900),\n",
       " 'niacin': (16, 30),\n",
       " 'pantothenic_acid': (5, 100),\n",
       " 'riboflavin': (1.3, 500),\n",
       " 'thiamin': (1.2, 200),\n",
       " 'vitamin_a': (3000, 8000),\n",
       " 'vitamin_b12': (2.4, 8),\n",
       " 'vitamin_b6': (1.3, 4),\n",
       " 'vitamin_c': (90, 1000),\n",
       " 'vitamin_d': (600, 5000),\n",
       " 'vitamin_e': (15, 500),\n",
       " 'vitamin_k': (120, 500),\n",
       " 'calcium': (1300, 2000),\n",
       " 'copper': (0.9, 7),\n",
       " 'irom': (8, 35),\n",
       " 'magnesium': (400, 500),\n",
       " 'manganese': (2.3, 7),\n",
       " 'phosphorous': (700, 3500),\n",
       " 'potassium': (4700, 7000),\n",
       " 'selenium': (55, 300),\n",
       " 'zink': (11, 35),\n",
       " 'protein': (70, 100),\n",
       " 'cystine': (0.287, ' g'),\n",
       " 'histidine': (0.7, ' g'),\n",
       " 'isoleucine': (1.4, ' g'),\n",
       " 'leucine': (2.73, ' g'),\n",
       " 'lysine': (2.1, ' g'),\n",
       " 'methionine': (0.728, ' g'),\n",
       " 'phenylalanine': (0.875, ' g'),\n",
       " 'threonine': (1.05, ' g'),\n",
       " 'tryptophan': (0.28, ' g'),\n",
       " 'tyrosine': (0.875, ' g'),\n",
       " 'valine': (1.82, ' g'),\n",
       " 'carbohydrate': (130, 400),\n",
       " 'fiber': (38, 55),\n",
       " 'sugars': ('g', 40),\n",
       " 'polyunsaturated_fatty_acids': (17, 30),\n",
       " 'alcohol': ('g', 5),\n",
       " 'water': (100, 2000)}"
      ]
     },
     "execution_count": 76,
     "metadata": {},
     "output_type": "execute_result"
    }
   ],
   "source": [
    "constraints"
   ]
  },
  {
   "cell_type": "markdown",
   "id": "forced-stake",
   "metadata": {},
   "source": [
    "Minimize $|\\mathbf{x}|_1$\n",
    "\n",
    "subject to $b_1 \\leq A\\mathbf{x} \\leq b_2$\n",
    "\n",
    "where $\\mathbf{x} \\in \\mathcal{R}_+$\n",
    "\n",
    "$\\mathbf{x}: 1\\times 8763$\n",
    "\n",
    "$\\mathbf{x}$ is the vector of all food weights in units of 100g"
   ]
  },
  {
   "cell_type": "code",
   "execution_count": 77,
   "id": "recovered-arrangement",
   "metadata": {},
   "outputs": [],
   "source": [
    "def get_constraint_vectors(constraints):\n",
    "    lower = []\n",
    "    upper = []\n",
    "    lower_idx = []\n",
    "    upper_idx = []\n",
    "    for k,v in constraints.items():\n",
    "        if not isinstance(v[0], str):\n",
    "            lower_idx.append(k)\n",
    "            lower.append(v[0])\n",
    "        if not isinstance(v[1], str):\n",
    "            upper_idx.append(k)\n",
    "            upper.append(v[1])\n",
    "    return lower, upper, lower_idx, upper_idx"
   ]
  },
  {
   "cell_type": "code",
   "execution_count": 78,
   "id": "advance-directive",
   "metadata": {},
   "outputs": [],
   "source": [
    "l, u, l_idxs, u_idxs = get_constraint_vectors(constraints)"
   ]
  },
  {
   "cell_type": "code",
   "execution_count": 79,
   "id": "brown-deployment",
   "metadata": {},
   "outputs": [],
   "source": [
    "#should be roughly 70 x 8700, i.e. A.T.\n",
    "Al_cal = df[l_idxs].values.T\n",
    "Au_cal = df[u_idxs].values.T\n",
    "\n",
    "c = Al_cal[0,:] \n",
    "Al_g = df[l_idxs].values.T\n",
    "Au_g = df[u_idxs].values.T\n",
    "Al_g[0,:] = 1\n",
    "Au_g[0,:] = 1\n",
    "l_g = l.copy()\n",
    "u_g = u.copy()\n",
    "# lower and upper bounds for weights of food in *100g \n",
    "l_g[0] = 1\n",
    "u_g[0] = 500\n",
    "ones = np.ones_like(c)"
   ]
  },
  {
   "cell_type": "code",
   "execution_count": 51,
   "id": "enclosed-breath",
   "metadata": {},
   "outputs": [
    {
     "name": "stdout",
     "output_type": "stream",
     "text": [
      "Total calories:  1900.0000000000048 kcal\n",
      "Total weight:  437.8383392972073 g\n"
     ]
    },
    {
     "data": {
      "text/html": [
       "<div>\n",
       "<style scoped>\n",
       "    .dataframe tbody tr th:only-of-type {\n",
       "        vertical-align: middle;\n",
       "    }\n",
       "\n",
       "    .dataframe tbody tr th {\n",
       "        vertical-align: top;\n",
       "    }\n",
       "\n",
       "    .dataframe thead th {\n",
       "        text-align: right;\n",
       "    }\n",
       "</style>\n",
       "<table border=\"1\" class=\"dataframe\">\n",
       "  <thead>\n",
       "    <tr style=\"text-align: right;\">\n",
       "      <th></th>\n",
       "      <th>0</th>\n",
       "      <th>1</th>\n",
       "      <th>2</th>\n",
       "    </tr>\n",
       "  </thead>\n",
       "  <tbody>\n",
       "    <tr>\n",
       "      <th>20</th>\n",
       "      <td>Pork, simmered, cooked, chitterlings, variety ...</td>\n",
       "      <td>6540</td>\n",
       "      <td>0.716118</td>\n",
       "    </tr>\n",
       "    <tr>\n",
       "      <th>16</th>\n",
       "      <td>Milk, with added vitamin A and vitamin D, regu...</td>\n",
       "      <td>5089</td>\n",
       "      <td>0.713639</td>\n",
       "    </tr>\n",
       "    <tr>\n",
       "      <th>5</th>\n",
       "      <td>Potato chips, reduced fat, without salt</td>\n",
       "      <td>1954</td>\n",
       "      <td>0.562921</td>\n",
       "    </tr>\n",
       "    <tr>\n",
       "      <th>17</th>\n",
       "      <td>Cocoa, processed with alkali, hi-fat or breakf...</td>\n",
       "      <td>5184</td>\n",
       "      <td>0.547534</td>\n",
       "    </tr>\n",
       "    <tr>\n",
       "      <th>10</th>\n",
       "      <td>Oil, high oleic, canola, industrial</td>\n",
       "      <td>2378</td>\n",
       "      <td>0.513569</td>\n",
       "    </tr>\n",
       "    <tr>\n",
       "      <th>13</th>\n",
       "      <td>Lambsquarters, raw (Northern Plains Indians)</td>\n",
       "      <td>2585</td>\n",
       "      <td>0.174747</td>\n",
       "    </tr>\n",
       "    <tr>\n",
       "      <th>12</th>\n",
       "      <td>Gums, seed gums (includes locust bean, guar)</td>\n",
       "      <td>2569</td>\n",
       "      <td>0.164321</td>\n",
       "    </tr>\n",
       "    <tr>\n",
       "      <th>8</th>\n",
       "      <td>Fish, dry heat, cooked, pink, salmon</td>\n",
       "      <td>2332</td>\n",
       "      <td>0.130240</td>\n",
       "    </tr>\n",
       "    <tr>\n",
       "      <th>21</th>\n",
       "      <td>Gelatin desserts, vitamin C, sodium, potassium...</td>\n",
       "      <td>7655</td>\n",
       "      <td>0.123088</td>\n",
       "    </tr>\n",
       "    <tr>\n",
       "      <th>0</th>\n",
       "      <td>Yeast extract spread</td>\n",
       "      <td>123</td>\n",
       "      <td>0.114481</td>\n",
       "    </tr>\n",
       "    <tr>\n",
       "      <th>3</th>\n",
       "      <td>Fat, chicken</td>\n",
       "      <td>580</td>\n",
       "      <td>0.114088</td>\n",
       "    </tr>\n",
       "    <tr>\n",
       "      <th>4</th>\n",
       "      <td>Soybeans, raw, mature seeds</td>\n",
       "      <td>853</td>\n",
       "      <td>0.112655</td>\n",
       "    </tr>\n",
       "    <tr>\n",
       "      <th>6</th>\n",
       "      <td>Fish, dry heat, cooked, chinook, salmon</td>\n",
       "      <td>1985</td>\n",
       "      <td>0.108208</td>\n",
       "    </tr>\n",
       "    <tr>\n",
       "      <th>9</th>\n",
       "      <td>Oil, bowhead (Alaska Native), whale</td>\n",
       "      <td>2376</td>\n",
       "      <td>0.099904</td>\n",
       "    </tr>\n",
       "    <tr>\n",
       "      <th>11</th>\n",
       "      <td>Vanilla extract, alcohol, imitation</td>\n",
       "      <td>2452</td>\n",
       "      <td>0.085638</td>\n",
       "    </tr>\n",
       "    <tr>\n",
       "      <th>15</th>\n",
       "      <td>Cereals ready-to-eat, Whole Grain TOTAL, GENER...</td>\n",
       "      <td>4816</td>\n",
       "      <td>0.042606</td>\n",
       "    </tr>\n",
       "    <tr>\n",
       "      <th>1</th>\n",
       "      <td>Fish oil, cod liver</td>\n",
       "      <td>239</td>\n",
       "      <td>0.017564</td>\n",
       "    </tr>\n",
       "    <tr>\n",
       "      <th>7</th>\n",
       "      <td>Soup, dry, chicken broth or bouillon</td>\n",
       "      <td>2267</td>\n",
       "      <td>0.012267</td>\n",
       "    </tr>\n",
       "    <tr>\n",
       "      <th>18</th>\n",
       "      <td>Margarine-like, with added vitamin D, with sal...</td>\n",
       "      <td>6145</td>\n",
       "      <td>0.011676</td>\n",
       "    </tr>\n",
       "    <tr>\n",
       "      <th>14</th>\n",
       "      <td>Protein supplement, powder, Muscle Milk Light,...</td>\n",
       "      <td>4434</td>\n",
       "      <td>0.004904</td>\n",
       "    </tr>\n",
       "    <tr>\n",
       "      <th>19</th>\n",
       "      <td>Beef, boiled, cooked, variety meats and by-pro...</td>\n",
       "      <td>6290</td>\n",
       "      <td>0.004414</td>\n",
       "    </tr>\n",
       "    <tr>\n",
       "      <th>2</th>\n",
       "      <td>Parsley, fresh</td>\n",
       "      <td>480</td>\n",
       "      <td>0.003802</td>\n",
       "    </tr>\n",
       "  </tbody>\n",
       "</table>\n",
       "</div>"
      ],
      "text/plain": [
       "                                                    0     1         2\n",
       "20  Pork, simmered, cooked, chitterlings, variety ...  6540  0.716118\n",
       "16  Milk, with added vitamin A and vitamin D, regu...  5089  0.713639\n",
       "5             Potato chips, reduced fat, without salt  1954  0.562921\n",
       "17  Cocoa, processed with alkali, hi-fat or breakf...  5184  0.547534\n",
       "10                Oil, high oleic, canola, industrial  2378  0.513569\n",
       "13       Lambsquarters, raw (Northern Plains Indians)  2585  0.174747\n",
       "12       Gums, seed gums (includes locust bean, guar)  2569  0.164321\n",
       "8                Fish, dry heat, cooked, pink, salmon  2332  0.130240\n",
       "21  Gelatin desserts, vitamin C, sodium, potassium...  7655  0.123088\n",
       "0                                Yeast extract spread   123  0.114481\n",
       "3                                        Fat, chicken   580  0.114088\n",
       "4                         Soybeans, raw, mature seeds   853  0.112655\n",
       "6             Fish, dry heat, cooked, chinook, salmon  1985  0.108208\n",
       "9                 Oil, bowhead (Alaska Native), whale  2376  0.099904\n",
       "11                Vanilla extract, alcohol, imitation  2452  0.085638\n",
       "15  Cereals ready-to-eat, Whole Grain TOTAL, GENER...  4816  0.042606\n",
       "1                                 Fish oil, cod liver   239  0.017564\n",
       "7                Soup, dry, chicken broth or bouillon  2267  0.012267\n",
       "18  Margarine-like, with added vitamin D, with sal...  6145  0.011676\n",
       "14  Protein supplement, powder, Muscle Milk Light,...  4434  0.004904\n",
       "19  Beef, boiled, cooked, variety meats and by-pro...  6290  0.004414\n",
       "2                                      Parsley, fresh   480  0.003802"
      ]
     },
     "execution_count": 51,
     "metadata": {},
     "output_type": "execute_result"
    }
   ],
   "source": [
    "n = len(df)\n",
    "\n",
    "# Define and solve the CVXPY problem: minimizing weight with calories fixed.\n",
    "x = cp.Variable(n)\n",
    "prob = cp.Problem(cp.Minimize(ones @ x), # Same as L1 norm minimization.\n",
    "                 [Au_cal @ x <= u, Al_cal @ x >= l, x >= 0])\n",
    "prob.solve()\n",
    "\n",
    "# Print result.\n",
    "print('Total calories: ', c @ x.value, 'kcal')\n",
    "print('Total weight: ', prob.value * 100, 'g')\n",
    "\n",
    "result = x.value\n",
    "idxs = np.array([i for i in range(len(result))])\n",
    "tol = 1e-6\n",
    "final_foods = pd.DataFrame([(names[food], food, val) for food, val in zip(idxs[result > tol], result[result > tol])])\n",
    "final_foods.sort_values(by=2,ascending=False)"
   ]
  },
  {
   "cell_type": "code",
   "execution_count": 52,
   "id": "conservative-harris",
   "metadata": {},
   "outputs": [
    {
     "name": "stdout",
     "output_type": "stream",
     "text": [
      "Total calories:  869.4665866743645 kcal\n",
      "Total weight:  2272.1971635343366 g\n"
     ]
    },
    {
     "data": {
      "text/html": [
       "<div>\n",
       "<style scoped>\n",
       "    .dataframe tbody tr th:only-of-type {\n",
       "        vertical-align: middle;\n",
       "    }\n",
       "\n",
       "    .dataframe tbody tr th {\n",
       "        vertical-align: top;\n",
       "    }\n",
       "\n",
       "    .dataframe thead th {\n",
       "        text-align: right;\n",
       "    }\n",
       "</style>\n",
       "<table border=\"1\" class=\"dataframe\">\n",
       "  <thead>\n",
       "    <tr style=\"text-align: right;\">\n",
       "      <th></th>\n",
       "      <th>0</th>\n",
       "      <th>1</th>\n",
       "      <th>2</th>\n",
       "    </tr>\n",
       "  </thead>\n",
       "  <tbody>\n",
       "    <tr>\n",
       "      <th>6</th>\n",
       "      <td>Water, generic, bottled</td>\n",
       "      <td>1170</td>\n",
       "      <td>11.153701</td>\n",
       "    </tr>\n",
       "    <tr>\n",
       "      <th>7</th>\n",
       "      <td>Cauliflower, raw, green</td>\n",
       "      <td>1174</td>\n",
       "      <td>4.333905</td>\n",
       "    </tr>\n",
       "    <tr>\n",
       "      <th>3</th>\n",
       "      <td>Watercress, raw</td>\n",
       "      <td>452</td>\n",
       "      <td>1.352581</td>\n",
       "    </tr>\n",
       "    <tr>\n",
       "      <th>10</th>\n",
       "      <td>Bamboo shoots, without salt, drained, boiled, ...</td>\n",
       "      <td>3838</td>\n",
       "      <td>0.994752</td>\n",
       "    </tr>\n",
       "    <tr>\n",
       "      <th>4</th>\n",
       "      <td>Chicken spread</td>\n",
       "      <td>487</td>\n",
       "      <td>0.669446</td>\n",
       "    </tr>\n",
       "    <tr>\n",
       "      <th>5</th>\n",
       "      <td>Fish, raw, mixed species, roe</td>\n",
       "      <td>669</td>\n",
       "      <td>0.568211</td>\n",
       "    </tr>\n",
       "    <tr>\n",
       "      <th>9</th>\n",
       "      <td>Cocoa, processed with alkali, unsweetened, dry...</td>\n",
       "      <td>3685</td>\n",
       "      <td>0.553046</td>\n",
       "    </tr>\n",
       "    <tr>\n",
       "      <th>14</th>\n",
       "      <td>Mushrooms, grilled, exposed to ultraviolet lig...</td>\n",
       "      <td>5294</td>\n",
       "      <td>0.491626</td>\n",
       "    </tr>\n",
       "    <tr>\n",
       "      <th>16</th>\n",
       "      <td>Cabbage, without salt, drained, boiled, cooked...</td>\n",
       "      <td>5924</td>\n",
       "      <td>0.486791</td>\n",
       "    </tr>\n",
       "    <tr>\n",
       "      <th>17</th>\n",
       "      <td>Tofu, prepared with calcium sulfate, salted an...</td>\n",
       "      <td>6069</td>\n",
       "      <td>0.430074</td>\n",
       "    </tr>\n",
       "    <tr>\n",
       "      <th>12</th>\n",
       "      <td>Asparagus, without salt, drained, boiled, cook...</td>\n",
       "      <td>4507</td>\n",
       "      <td>0.344800</td>\n",
       "    </tr>\n",
       "    <tr>\n",
       "      <th>15</th>\n",
       "      <td>Cereals ready-to-eat, FIBER ONE Bran Cereal, G...</td>\n",
       "      <td>5478</td>\n",
       "      <td>0.333820</td>\n",
       "    </tr>\n",
       "    <tr>\n",
       "      <th>11</th>\n",
       "      <td>Gelatin desserts, with aspartame, reduced calo...</td>\n",
       "      <td>4326</td>\n",
       "      <td>0.290338</td>\n",
       "    </tr>\n",
       "    <tr>\n",
       "      <th>8</th>\n",
       "      <td>Vitasoy USA Nasoya, Lite Silken Tofu</td>\n",
       "      <td>2261</td>\n",
       "      <td>0.210616</td>\n",
       "    </tr>\n",
       "    <tr>\n",
       "      <th>13</th>\n",
       "      <td>McDONALD'S, NEWMAN'S OWN Low Fat Balsamic Vina...</td>\n",
       "      <td>4862</td>\n",
       "      <td>0.188964</td>\n",
       "    </tr>\n",
       "    <tr>\n",
       "      <th>0</th>\n",
       "      <td>Oil, soybean lecithin</td>\n",
       "      <td>62</td>\n",
       "      <td>0.149268</td>\n",
       "    </tr>\n",
       "    <tr>\n",
       "      <th>1</th>\n",
       "      <td>Yeast extract spread</td>\n",
       "      <td>123</td>\n",
       "      <td>0.098624</td>\n",
       "    </tr>\n",
       "    <tr>\n",
       "      <th>2</th>\n",
       "      <td>Oil, wheat germ</td>\n",
       "      <td>423</td>\n",
       "      <td>0.043859</td>\n",
       "    </tr>\n",
       "    <tr>\n",
       "      <th>18</th>\n",
       "      <td>Mushrooms, raw, exposed to ultraviolet light, ...</td>\n",
       "      <td>6671</td>\n",
       "      <td>0.027547</td>\n",
       "    </tr>\n",
       "  </tbody>\n",
       "</table>\n",
       "</div>"
      ],
      "text/plain": [
       "                                                    0     1          2\n",
       "6                             Water, generic, bottled  1170  11.153701\n",
       "7                             Cauliflower, raw, green  1174   4.333905\n",
       "3                                     Watercress, raw   452   1.352581\n",
       "10  Bamboo shoots, without salt, drained, boiled, ...  3838   0.994752\n",
       "4                                      Chicken spread   487   0.669446\n",
       "5                       Fish, raw, mixed species, roe   669   0.568211\n",
       "9   Cocoa, processed with alkali, unsweetened, dry...  3685   0.553046\n",
       "14  Mushrooms, grilled, exposed to ultraviolet lig...  5294   0.491626\n",
       "16  Cabbage, without salt, drained, boiled, cooked...  5924   0.486791\n",
       "17  Tofu, prepared with calcium sulfate, salted an...  6069   0.430074\n",
       "12  Asparagus, without salt, drained, boiled, cook...  4507   0.344800\n",
       "15  Cereals ready-to-eat, FIBER ONE Bran Cereal, G...  5478   0.333820\n",
       "11  Gelatin desserts, with aspartame, reduced calo...  4326   0.290338\n",
       "8                Vitasoy USA Nasoya, Lite Silken Tofu  2261   0.210616\n",
       "13  McDONALD'S, NEWMAN'S OWN Low Fat Balsamic Vina...  4862   0.188964\n",
       "0                               Oil, soybean lecithin    62   0.149268\n",
       "1                                Yeast extract spread   123   0.098624\n",
       "2                                     Oil, wheat germ   423   0.043859\n",
       "18  Mushrooms, raw, exposed to ultraviolet light, ...  6671   0.027547"
      ]
     },
     "execution_count": 52,
     "metadata": {},
     "output_type": "execute_result"
    }
   ],
   "source": [
    "n = len(df)\n",
    "\n",
    "# Define and solve the CVXPY problem: minimizing calories with weight fixed.\n",
    "x2 = cp.Variable(n)\n",
    "prob2 = cp.Problem(cp.Minimize(c @ x2),\n",
    "                 [Au_g @ x2 <= u_g, Al_g @ x2 >= l_g, x2 >= 0])\n",
    "prob2.solve()\n",
    "\n",
    "# Print result.\n",
    "print('Total calories: ', prob2.value, 'kcal')\n",
    "print('Total weight: ', x2.value.sum() * 100, 'g')\n",
    "\n",
    "result = x2.value\n",
    "idxs = np.array([i for i in range(len(result))])\n",
    "tol = 1e-6\n",
    "final_foods = pd.DataFrame([(names[food], food, val) for food, val in zip(idxs[result > tol], result[result > tol])])\n",
    "final_foods.sort_values(by=2,ascending=False)"
   ]
  },
  {
   "cell_type": "code",
   "execution_count": 81,
   "id": "overhead-springer",
   "metadata": {},
   "outputs": [
    {
     "name": "stdout",
     "output_type": "stream",
     "text": [
      "Total calories:  869.4665866743788 kcal\n",
      "Total weight:  2272.1971635298737 g\n",
      "                                                    0     1          2\n",
      "6                             Water, generic, bottled  1170  11.153701\n",
      "7                             Cauliflower, raw, green  1174   4.333905\n",
      "3                                     Watercress, raw   452   1.352581\n",
      "10  Bamboo shoots, without salt, drained, boiled, ...  3838   0.994752\n",
      "4                                      Chicken spread   487   0.669446\n",
      "5                       Fish, raw, mixed species, roe   669   0.568211\n",
      "9   Cocoa, processed with alkali, unsweetened, dry...  3685   0.553046\n",
      "14  Mushrooms, grilled, exposed to ultraviolet lig...  5294   0.491626\n",
      "16  Cabbage, without salt, drained, boiled, cooked...  5924   0.486791\n",
      "17  Tofu, prepared with calcium sulfate, salted an...  6069   0.430074\n",
      "12  Asparagus, without salt, drained, boiled, cook...  4507   0.344800\n",
      "15  Cereals ready-to-eat, FIBER ONE Bran Cereal, G...  5478   0.333820\n",
      "11  Gelatin desserts, with aspartame, reduced calo...  4326   0.290338\n",
      "8                Vitasoy USA Nasoya, Lite Silken Tofu  2261   0.210616\n",
      "13  McDONALD'S, NEWMAN'S OWN Low Fat Balsamic Vina...  4862   0.188964\n",
      "0                               Oil, soybean lecithin    62   0.149268\n",
      "1                                Yeast extract spread   123   0.098624\n",
      "2                                     Oil, wheat germ   423   0.043859\n",
      "18  Mushrooms, raw, exposed to ultraviolet light, ...  6671   0.027547\n",
      "Total calories:  871.0776988678629 kcal\n",
      "Total weight:  1118.1822859775248 g\n",
      "                                                    0     1         2\n",
      "6                             Cauliflower, raw, green  1174  4.438843\n",
      "3                                     Watercress, raw   452  1.454885\n",
      "9   Bamboo shoots, without salt, drained, boiled, ...  3838  0.785427\n",
      "4                                      Chicken spread   487  0.661376\n",
      "8   Cocoa, processed with alkali, unsweetened, dry...  3685  0.586376\n",
      "5                       Fish, raw, mixed species, roe   669  0.569420\n",
      "15  Tofu, prepared with calcium sulfate, salted an...  6069  0.524015\n",
      "12  Mushrooms, grilled, exposed to ultraviolet lig...  5294  0.514445\n",
      "14  Cabbage, without salt, drained, boiled, cooked...  5924  0.502324\n",
      "13  Cereals ready-to-eat, FIBER ONE Bran Cereal, G...  5478  0.360862\n",
      "10  Gelatin desserts, with aspartame, reduced calo...  4326  0.281292\n",
      "7                Vitasoy USA Nasoya, Lite Silken Tofu  2261  0.150882\n",
      "0                               Oil, soybean lecithin    62  0.144689\n",
      "1                                Yeast extract spread   123  0.095787\n",
      "2                                     Oil, wheat germ   423  0.048137\n",
      "11  McDONALD'S, NEWMAN'S OWN Low Fat Balsamic Vina...  4862  0.038182\n",
      "16  Mushrooms, raw, exposed to ultraviolet light, ...  6671  0.024880\n",
      "Total calories:  871.1281429955493 kcal\n",
      "Total weight:  1113.0965299031634 g\n",
      "                                                    0     1         2\n",
      "6                             Cauliflower, raw, green  1174  4.412183\n",
      "3                                     Watercress, raw   452  1.453970\n",
      "10  Bamboo shoots, without salt, drained, boiled, ...  3838  0.787405\n",
      "4                                      Chicken spread   487  0.657726\n",
      "9   Cocoa, processed with alkali, unsweetened, dry...  3685  0.588269\n",
      "5                       Fish, raw, mixed species, roe   669  0.569966\n",
      "12  Mushrooms, grilled, exposed to ultraviolet lig...  5294  0.518734\n",
      "15  Tofu, prepared with calcium sulfate, salted an...  6069  0.516959\n",
      "14  Cabbage, without salt, drained, boiled, cooked...  5924  0.506891\n",
      "13  Cereals ready-to-eat, FIBER ONE Bran Cereal, G...  5478  0.361921\n",
      "11  Gelatin desserts, with aspartame, reduced calo...  4326  0.292224\n",
      "0                               Oil, soybean lecithin    62  0.147996\n",
      "8                Vitasoy USA Nasoya, Lite Silken Tofu  2261  0.146714\n",
      "1                                Yeast extract spread   123  0.095675\n",
      "2                                     Oil, wheat germ   423  0.048087\n",
      "16  Mushrooms, raw, exposed to ultraviolet light, ...  6671  0.023411\n",
      "7              Desserts, unsweetened, tablets, rennin  2073  0.002834\n",
      "Total calories:  881.597483562314 kcal\n",
      "Total weight:  866.3753827909434 g\n",
      "                                                    0     1         2\n",
      "7                             Cauliflower, raw, green  1174  2.644963\n",
      "4                                     Watercress, raw   452  1.516366\n",
      "11  Bamboo shoots, without salt, drained, boiled, ...  3838  0.814171\n",
      "10  Cocoa, processed with alkali, unsweetened, dry...  3685  0.718337\n",
      "14  Mushrooms, grilled, exposed to ultraviolet lig...  5294  0.677279\n",
      "6                       Fish, raw, mixed species, roe   669  0.365728\n",
      "12  Gelatin desserts, with aspartame, reduced calo...  4326  0.332452\n",
      "0                               Oil, soybean lecithin    62  0.287239\n",
      "15  Cereals ready-to-eat, FIBER ONE Bran Cereal, G...  5478  0.248079\n",
      "16  Cabbage, without salt, drained, boiled, cooked...  5924  0.234551\n",
      "5                                      Chicken spread   487  0.217115\n",
      "8                 Soy protein isolate, potassium type  1294  0.210252\n",
      "13  Cereals ready-to-eat, Whole Grain TOTAL, GENER...  4816  0.143508\n",
      "1                               Egg, fresh, raw, yolk    63  0.093142\n",
      "9              Desserts, unsweetened, tablets, rennin  2073  0.073936\n",
      "2                                Yeast extract spread   123  0.044615\n",
      "3                                Spices, chili powder   138  0.042018\n",
      "Total calories:  901.4698116791819 kcal\n",
      "Total weight:  564.9037485419022 g\n",
      "                                                    0     1         2\n",
      "5                             Cauliflower, raw, green  1174  0.884624\n",
      "8     Beet greens, with salt, drained, boiled, cooked  3247  0.877609\n",
      "12  Mushrooms, grilled, exposed to ultraviolet lig...  5294  0.756642\n",
      "9   Cocoa, processed with alkali, unsweetened, dry...  3685  0.715117\n",
      "10  Gelatin desserts, with aspartame, reduced calo...  4326  0.380667\n",
      "6                 Soy protein isolate, potassium type  1294  0.304774\n",
      "0                               Oil, soybean lecithin    62  0.293973\n",
      "13  Cereals ready-to-eat, FIBER ONE Bran Cereal, G...  5478  0.274773\n",
      "4                       Fish, raw, mixed species, roe   669  0.266760\n",
      "14  Soy sauce, made from hydrolyzed vegetable prot...  6015  0.223515\n",
      "11  Cereals ready-to-eat, Whole Grain TOTAL, GENER...  4816  0.184543\n",
      "16  Pork, simmered, cooked, chitterlings, variety ...  6540  0.182857\n",
      "15  Tofu, prepared with calcium sulfate, salted an...  6069  0.142673\n",
      "1                               Egg, fresh, raw, yolk    63  0.091779\n",
      "7              Desserts, unsweetened, tablets, rennin  2073  0.032325\n",
      "2                                Yeast extract spread   123  0.023799\n",
      "3                                     Spices, paprika   435  0.012608\n",
      "Total calories:  940.113103153637 kcal\n",
      "Total weight:  394.2963465107135 g\n",
      "                                                    0     1         2\n",
      "6                                         Carob flour   587  0.586871\n",
      "12  Cocoa, processed with alkali, unsweetened, dry...  3685  0.491823\n",
      "15  Soy sauce, made from hydrolyzed vegetable prot...  6015  0.438082\n",
      "17  Pork, simmered, cooked, chitterlings, variety ...  6540  0.392578\n",
      "7                       Fish, raw, mixed species, roe   669  0.365157\n",
      "9                 Soy protein isolate, potassium type  1294  0.355500\n",
      "0                               Oil, soybean lecithin    62  0.289833\n",
      "18  Mushrooms, raw, exposed to ultraviolet light, ...  6671  0.271476\n",
      "13  Cereals ready-to-eat, Whole Grain TOTAL, GENER...  4816  0.200852\n",
      "4                                     Spices, paprika   435  0.146307\n",
      "16  Cereals ready-to-eat, KRETSCHMER Toasted Wheat...  6068  0.110604\n",
      "3                                   Wheat bran, crude   351  0.110066\n",
      "11             Desserts, unsweetened, tablets, rennin  2073  0.052673\n",
      "2                                Yeast extract spread   123  0.045466\n",
      "5                                      Parsley, fresh   480  0.032186\n",
      "10                 Acerola, raw, (west indian cherry)  1347  0.023436\n",
      "14  Milk, with added vitamin A and vitamin D, regu...  5089  0.020725\n",
      "8                            Soy flour, raw, full-fat  1136  0.005391\n",
      "1                               Egg, fresh, raw, yolk    63  0.003938\n"
     ]
    },
    {
     "name": "stdout",
     "output_type": "stream",
     "text": [
      "Total calories:  953.9484042284087 kcal\n",
      "Total weight:  372.93835839515566 g\n",
      "                                                    0     1         2\n",
      "10  Cocoa, processed with alkali, unsweetened, dry...  3685  0.511448\n",
      "13  Cereals ready-to-eat, FIBER ONE Bran Cereal, G...  5478  0.497064\n",
      "12  Milk, with added vitamin A and vitamin D, regu...  5089  0.383383\n",
      "14  Soy sauce, made from hydrolyzed vegetable prot...  6015  0.381005\n",
      "16  Pork, simmered, cooked, chitterlings, variety ...  6540  0.320046\n",
      "0                               Oil, soybean lecithin    62  0.275896\n",
      "7                 Soy protein isolate, potassium type  1294  0.261306\n",
      "17  Mushrooms, raw, exposed to ultraviolet light, ...  6671  0.236871\n",
      "3                                Spices, chili powder   138  0.221478\n",
      "15  Cereals ready-to-eat, KRETSCHMER Toasted Wheat...  6068  0.165787\n",
      "6                       Fish, raw, mixed species, roe   669  0.158831\n",
      "11  Cereals ready-to-eat, Whole Grain TOTAL, GENER...  4816  0.099841\n",
      "1                               Egg, fresh, raw, yolk    63  0.086891\n",
      "2                                Yeast extract spread   123  0.037665\n",
      "8                  Acerola, raw, (west indian cherry)  1347  0.030530\n",
      "5                                      Parsley, fresh   480  0.026841\n",
      "9              Desserts, unsweetened, tablets, rennin  2073  0.025194\n",
      "4                                   Wheat bran, crude   351  0.009307\n",
      "Total calories:  967.3462814435809 kcal\n",
      "Total weight:  368.14531935066543 g\n",
      "                                                    0     1         2\n",
      "11  Cocoa, processed with alkali, unsweetened, dry...  3685  0.540893\n",
      "6                                         Carob flour   587  0.419262\n",
      "17  Pork, simmered, cooked, chitterlings, variety ...  6540  0.375281\n",
      "18  Mushrooms, raw, exposed to ultraviolet light, ...  6671  0.286268\n",
      "16  Soy sauce, made from hydrolyzed vegetable prot...  6015  0.272936\n",
      "9                 Soy protein isolate, potassium type  1294  0.259592\n",
      "8                            Soy flour, raw, full-fat  1136  0.257103\n",
      "0                               Oil, soybean lecithin    62  0.235307\n",
      "12  Cereals ready-to-eat, Whole Grain TOTAL, GENER...  4816  0.187923\n",
      "14  Milk, with added vitamin A and vitamin D, regu...  5089  0.185329\n",
      "7                       Fish, raw, mixed species, roe   669  0.159702\n",
      "15  Cereals ready-to-eat, FIBER ONE Bran Cereal, G...  5478  0.151636\n",
      "3                                Spices, chili powder   138  0.095394\n",
      "4                                     Spices, paprika   435  0.082495\n",
      "1                               Egg, fresh, raw, yolk    63  0.054142\n",
      "2                                Yeast extract spread   123  0.035234\n",
      "13  Beef, simmered, cooked, kidneys, variety meats...  4876  0.033334\n",
      "10                 Acerola, raw, (west indian cherry)  1347  0.025083\n",
      "5                                      Parsley, fresh   480  0.024539\n",
      "Total calories:  971.0174028885324 kcal\n",
      "Total weight:  367.6944704583388 g\n",
      "                                                    0     1         2\n",
      "10  Cocoa, processed with alkali, unsweetened, dry...  3685  0.495373\n",
      "6                                         Carob flour   587  0.479096\n",
      "16  Pork, simmered, cooked, chitterlings, variety ...  6540  0.391170\n",
      "17  Mushrooms, raw, exposed to ultraviolet light, ...  6671  0.359696\n",
      "7                            Soy flour, raw, full-fat  1136  0.319674\n",
      "8                 Soy protein isolate, potassium type  1294  0.291757\n",
      "15  Soy sauce, made from hydrolyzed vegetable prot...  6015  0.264381\n",
      "0                               Oil, soybean lecithin    62  0.221961\n",
      "11  Cereals ready-to-eat, Whole Grain TOTAL, GENER...  4816  0.205353\n",
      "3                                Spices, chili powder   138  0.126202\n",
      "14  Cereals ready-to-eat, FIBER ONE Bran Cereal, G...  5478  0.116121\n",
      "13  Milk, with added vitamin A and vitamin D, regu...  5089  0.113670\n",
      "1                               Egg, fresh, raw, yolk    63  0.092595\n",
      "4                                     Spices, paprika   435  0.066607\n",
      "12  Beef, simmered, cooked, kidneys, variety meats...  4876  0.054340\n",
      "2                                Yeast extract spread   123  0.031308\n",
      "9                  Acerola, raw, (west indian cherry)  1347  0.025413\n",
      "5                                      Parsley, fresh   480  0.022227\n",
      "Total calories:  1119.02968638408 kcal\n",
      "Total weight:  361.6126926574248 g\n",
      "                                                    0     1         2\n",
      "9                            Soy flour, raw, full-fat  1136  0.932448\n",
      "17  Pork, simmered, cooked, chitterlings, variety ...  6540  0.602136\n",
      "5                                 Hearts of palm, raw   192  0.505478\n",
      "8                                         Carob flour   587  0.355291\n",
      "18  Gelatin desserts, vitamin C, sodium, potassium...  7654  0.244027\n",
      "14  Cereals ready-to-eat, Whole Grain TOTAL, GENER...  4816  0.213948\n",
      "11                      Potato soup, dry mix, instant  1865  0.177324\n",
      "10                           Spices, ground, cinnamon  1141  0.155129\n",
      "13  Fish, dry heat, cooked, mixed species, yellowtail  4154  0.124616\n",
      "0                               Oil, soybean lecithin    62  0.076847\n",
      "6                                 Fish oil, cod liver   239  0.051830\n",
      "2                                Yeast extract spread   123  0.039480\n",
      "1                               Egg, fresh, raw, yolk    63  0.038845\n",
      "3                                Spices, chili powder   138  0.035993\n",
      "15  Nuts, with salt added, without peanuts, oil ro...  4971  0.022310\n",
      "4                                Spices, ground, sage   173  0.015820\n",
      "7                                  Carrot, dehydrated   285  0.014760\n",
      "12            Fish, dry heat, cooked, chinook, salmon  1985  0.005326\n",
      "16  Milk, with added vitamin A and vitamin D, regu...  5089  0.004519\n",
      "Total calories:  1130.4849693900862 kcal\n",
      "Total weight:  361.5457146973946 g\n",
      "                                                    0     1         2\n",
      "9                            Soy flour, raw, full-fat  1136  0.903219\n",
      "4                                 Hearts of palm, raw   192  0.587023\n",
      "16  Pork, simmered, cooked, chitterlings, variety ...  6540  0.546630\n",
      "12  Cereals ready-to-eat, Whole Grain TOTAL, GENER...  4816  0.247161\n",
      "10                      Potato soup, dry mix, instant  1865  0.238430\n",
      "17  Gelatin desserts, vitamin C, sodium, potassium...  7654  0.226422\n",
      "7                                    Corn bran, crude   379  0.192854\n",
      "8                                         Carob flour   587  0.184883\n",
      "11            Fish, dry heat, cooked, chinook, salmon  1985  0.121400\n",
      "0                               Oil, soybean lecithin    62  0.093572\n",
      "14  Milk, with added vitamin A and vitamin D, regu...  5089  0.080019\n",
      "1                               Egg, fresh, raw, yolk    63  0.052493\n",
      "5                                 Fish oil, cod liver   239  0.047102\n",
      "6                                  Carrot, dehydrated   285  0.033279\n",
      "2                                Yeast extract spread   123  0.024755\n",
      "3                                Spices, ground, sage   173  0.018575\n",
      "13  Nuts, with salt added, without peanuts, oil ro...  4971  0.017505\n",
      "15  Cereals ready-to-eat, KELLOGG'S ALL-BRAN COMPL...  5514  0.000136\n",
      "Total calories:  1130.4670993156578 kcal\n",
      "Total weight:  361.54571396546856 g\n",
      "                                                    0     1         2\n",
      "11                           Soy flour, raw, full-fat  1136  0.903299\n",
      "4                                 Hearts of palm, raw   192  0.587026\n",
      "19  Pork, simmered, cooked, chitterlings, variety ...  6540  0.546592\n",
      "15  Cereals ready-to-eat, Whole Grain TOTAL, GENER...  4816  0.247253\n",
      "12                      Potato soup, dry mix, instant  1865  0.238446\n",
      "20  Gelatin desserts, vitamin C, sodium, potassium...  7654  0.226471\n",
      "7                                    Corn bran, crude   379  0.192785\n",
      "10                                        Carob flour   587  0.185044\n",
      "13            Fish, dry heat, cooked, chinook, salmon  1985  0.121381\n",
      "0                               Oil, soybean lecithin    62  0.093632\n",
      "17  Milk, with added vitamin A and vitamin D, regu...  5089  0.079754\n",
      "1                               Egg, fresh, raw, yolk    63  0.052506\n",
      "5                                 Fish oil, cod liver   239  0.047112\n",
      "6                                  Carrot, dehydrated   285  0.033277\n",
      "2                                Yeast extract spread   123  0.024773\n",
      "3                                Spices, ground, sage   173  0.018566\n",
      "16  Nuts, with salt added, without peanuts, oil ro...  4971  0.017508\n",
      "8                                     Oil, wheat germ   423  0.000004\n",
      "9                                       Oil, hazelnut   516  0.000001\n",
      "18  Cereals ready-to-eat, KELLOGG'S ALL-BRAN COMPL...  5514  0.000001\n",
      "14         Cereals ready-to-eat, KASHI Honey Sunshine  2775  0.000001\n"
     ]
    }
   ],
   "source": [
    "n = len(df)\n",
    "idxs = np.array([i for i in range(n)])\n",
    "tol = 1e-6\n",
    "\n",
    "# Define and solve the CVXPY problem: minimizing calories and weight.\n",
    "x3 = cp.Variable(n)\n",
    "gamma = cp.Parameter(nonneg=True)\n",
    "prob3 = cp.Problem(cp.Minimize(c @ x3 + gamma * ones @ x3),\n",
    "                 [Au_g @ x3 <= u_g, Al_g @ x3 >= l_g, x3 >= 0])\n",
    "\n",
    "gamma_vals = [0.01,0.1,0.5,1,5,10,50,100,500,1000,1e4,1e5]\n",
    "for i in range(len(gamma_vals)):\n",
    "    gamma.value = gamma_vals[i]\n",
    "    prob3.solve()\n",
    "\n",
    "    # Print result.\n",
    "    print('Total calories: ', c @ x3.value, 'kcal')\n",
    "    print('Total weight: ', x3.value.sum() * 100, 'g')\n",
    "\n",
    "    result = x3.value\n",
    "    final_foods = pd.DataFrame([(names[food], food, val) for food, val \n",
    "                                in zip(idxs[result > tol], result[result > tol])])\n",
    "#     final_foods.sort_values(by=2,ascending=False)\n",
    "#     ordered = final_foods.sort_values(by=2,ascending=False).index\n",
    "    print(final_foods.sort_values(by=2,ascending=False))"
   ]
  },
  {
   "cell_type": "code",
   "execution_count": 71,
   "id": "fallen-comfort",
   "metadata": {},
   "outputs": [
    {
     "data": {
      "text/plain": [
       "array(['Oil, soybean lecithin', 'Egg, fresh, raw, yolk',\n",
       "       'Yeast extract spread', 'Spices, chili powder',\n",
       "       'Spices, ground, sage', 'Hearts of palm, raw',\n",
       "       'Fish oil, cod liver', 'Carrot, dehydrated', 'Corn bran, crude',\n",
       "       'Soy flour, raw, full-fat', 'Potato soup, dry mix, instant',\n",
       "       'Fish, dry heat, cooked, chinook, salmon',\n",
       "       'Cereals ready-to-eat, Whole Grain TOTAL, GENERAL MILLS',\n",
       "       'Nuts, with salt added, without peanuts, oil roasted, mixed nuts',\n",
       "       'Milk, with added vitamin A and vitamin D, regular, nonfat, dry',\n",
       "       'Pork, simmered, cooked, chitterlings, variety meats and by-products, fresh',\n",
       "       'Toddler formula, powder, PREMIUM (formerly ENFAMIL, LIPIL, NEXT STEP), ENFAGROW, MEAD JOHNSON',\n",
       "       'Gelatin desserts, vitamin C, sodium, potassium, added phosphorus, with aspartame, reduced calorie, dry mix'],\n",
       "      dtype=object)"
      ]
     },
     "execution_count": 71,
     "metadata": {},
     "output_type": "execute_result"
    }
   ],
   "source": [
    "final_foods[0].values"
   ]
  },
  {
   "cell_type": "code",
   "execution_count": 57,
   "id": "parliamentary-baseball",
   "metadata": {},
   "outputs": [
    {
     "data": {
      "image/png": "[encoded data removed]",
      "text/plain": [
       "<Figure size 864x864 with 6 Axes>"
      ]
     },
     "metadata": {
      "needs_background": "light"
     },
     "output_type": "display_data"
    }
   ],
   "source": [
    "fig, axs = plt.subplots(figsize=(12,12), ncols=2, nrows=3, subplot_kw=dict(polar=True), \n",
    "                        gridspec_kw={'wspace': 0.0, 'hspace': 0.5})\n",
    "axs = axs.flatten()\n",
    "# fig.suptitle(food_name, fontsize=20)\n",
    "\n",
    "for ax, group, radius in zip(axs,[summary, essential, \n",
    "                                  macro_minerals, trace_minerals, \n",
    "                                  vitamins, fatty_acids],[5,0.2,500,5,200,1]):\n",
    "    ax.set_ylim(0,radius)\n",
    "#     ax.set_rgrids([3,6,9])\n",
    "    \n",
    "    for idx in [12]:\n",
    "        food_name = final_foods.iloc[idx][0]\n",
    "        food_index = final_foods.iloc[idx][1]\n",
    "        weight = final_foods.iloc[idx][2]\n",
    "\n",
    "        radar_names = df.iloc[food_index][group].index\n",
    "        radar_vals = df.iloc[food_index][group].values\n",
    "\n",
    "        label_loc = np.linspace(start=0, stop=2*np.pi, num=len(radar_names) + 1)\n",
    "        radar_vals = np.append(radar_vals, radar_vals[0])\n",
    "        radar_names = np.append(radar_names, radar_names[0])\n",
    "\n",
    "        ax.plot(label_loc, radar_vals, lw=2, label=food_name)\n",
    "        ax.fill(label_loc, radar_vals, alpha=0.3)\n",
    "\n",
    "        lines, labels = ax.set_thetagrids(np.degrees(label_loc), labels=radar_names)\n",
    "    \n",
    "    ax.tick_params(axis='both', which='major', pad=10, labelsize=10)\n",
    "\n",
    "        \n",
    "ax.legend(loc='upper left', bbox_to_anchor=(1,1))\n",
    "plt.show()"
   ]
  },
  {
   "cell_type": "code",
   "execution_count": 38,
   "id": "published-colonial",
   "metadata": {},
   "outputs": [
    {
     "name": "stdout",
     "output_type": "stream",
     "text": [
      "766.23kcal  calories\n",
      "50.00g  total_fat\n",
      "11.61g  saturated_fat\n",
      "250.00mg  cholesterol\n",
      "3000.00 mg  sodium\n",
      "550.00 mg  choline\n",
      "884.17 mcg  folate\n",
      "400.00 mcg  folic_acid\n",
      "30.00 mg  niacin\n",
      "5.00 mg  pantothenic_acid\n",
      "3.90 mg  riboflavin\n",
      "3.72 mg  thiamin\n",
      "8000.00 IU  vitamin_a\n",
      "444.53 mcg  vitamin_a_rae\n",
      "0.00 mcg  carotene_alpha\n",
      "2602.40 mcg  carotene_beta\n",
      "0.00 mcg  cryptoxanthin_beta\n",
      "6487.34 mcg  lutein_zeaxanthin\n",
      "8.00 mcg  vitamin_b12\n",
      "1.36 mg  vitamin_b6\n",
      "226.20 mg  vitamin_c\n",
      "882.76 IU  vitamin_d\n",
      "15.00 mg  vitamin_e\n",
      "500.00 mcg  vitamin_k\n",
      "1300.00 mg  calcium\n",
      "3.15 mg  copper\n",
      "17.07 mg  irom\n",
      "500.00 mg  magnesium\n",
      "4.80 mg  manganese\n",
      "1372.46 mg  phosphorous\n",
      "4700.00 mg  potassium\n",
      "64.54 mcg  selenium\n",
      "11.00 mg  zink\n",
      "70.00 g  protein\n",
      "2.42 g  alanine\n",
      "2.53 g  arginine\n",
      "4.58 g  aspartic_acid\n",
      "0.55 g  cystine\n",
      "6.31 g  glutamic_acid\n",
      "1.86 g  glycine\n",
      "1.02 g  histidine\n",
      "0.00g  hydroxyproline\n",
      "1.94 g  isoleucine\n",
      "3.09 g  leucine\n",
      "2.78 g  lysine\n",
      "0.74 g  methionine\n",
      "1.98 g  phenylalanine\n",
      "2.21 g  proline\n",
      "1.97 g  serine\n",
      "1.83 g  threonine\n",
      "0.60 g  tryptophan\n",
      "1.44 g  tyrosine\n",
      "2.35 g  valine\n",
      "130.00 g  carbohydrate\n",
      "38.00 g  fiber\n",
      "10.09 g  sugars\n",
      "0.05 g  fructose\n",
      "0.00g  galactose\n",
      "2.23 g  glucose\n",
      "0.00 g  lactose\n",
      "0.21 g  maltose\n",
      "0.03 g  sucrose\n",
      "49.67 g  fat\n",
      "11.62 g  saturated_fatty_acids\n",
      "9.09 g  monounsaturated_fatty_acids\n",
      "17.00 g  polyunsaturated_fatty_acids\n",
      "-0.00 g  alcohol\n",
      "20.98 g  ash\n",
      "126.26 mg  caffeine\n",
      "1129.16 mg  theobromine\n",
      "860.00 g  water\n"
     ]
    }
   ],
   "source": [
    "final = df.values.T @ x3.value\n",
    "for i, col in enumerate(df.columns):\n",
    "    print(f\"{final[i]:.2f}{units[col]}  {col}\")"
   ]
  },
  {
   "cell_type": "code",
   "execution_count": 57,
   "id": "single-lyric",
   "metadata": {},
   "outputs": [
    {
     "name": "stdout",
     "output_type": "stream",
     "text": [
      "1900.00kcal  calories\n",
      "120.00g  total_fat\n",
      "25.00g  saturated_fat\n",
      "250.00mg  cholesterol\n",
      "1500.00 mg  sodium\n",
      "550.00 mg  choline\n",
      "612.20 mcg  folate\n",
      "400.00 mcg  folic_acid\n",
      "25.96 mg  niacin\n",
      "5.00 mg  pantothenic_acid\n",
      "3.97 mg  riboflavin\n",
      "3.49 mg  thiamin\n",
      "4476.97 IU  vitamin_a\n",
      "1162.03 mcg  vitamin_a_rae\n",
      "0.00 mcg  carotene_alpha\n",
      "233.31 mcg  carotene_beta\n",
      "0.00 mcg  cryptoxanthin_beta\n",
      "678.25 mcg  lutein_zeaxanthin\n",
      "5.59 mcg  vitamin_b12\n",
      "1.30 mg  vitamin_b6\n",
      "90.00 mg  vitamin_c\n",
      "600.00 IU  vitamin_d\n",
      "15.00 mg  vitamin_e\n",
      "120.00 mcg  vitamin_k\n",
      "1300.00 mg  calcium\n",
      "2.66 mg  copper\n",
      "15.27 mg  irom\n",
      "500.00 mg  magnesium\n",
      "2.30 mg  manganese\n",
      "1465.76 mg  phosphorous\n",
      "4700.00 mg  potassium\n",
      "69.34 mcg  selenium\n",
      "11.96 mg  zink\n",
      "70.00 g  protein\n",
      "3.57 g  alanine\n",
      "3.76 g  arginine\n",
      "5.92 g  aspartic_acid\n",
      "0.65 g  cystine\n",
      "11.82 g  glutamic_acid\n",
      "3.91 g  glycine\n",
      "1.74 g  histidine\n",
      "0.00g  hydroxyproline\n",
      "3.26 g  isoleucine\n",
      "5.52 g  leucine\n",
      "5.08 g  lysine\n",
      "1.52 g  methionine\n",
      "2.88 g  phenylalanine\n",
      "5.20 g  proline\n",
      "3.17 g  serine\n",
      "2.77 g  threonine\n",
      "0.77 g  tryptophan\n",
      "2.48 g  tyrosine\n",
      "3.68 g  valine\n",
      "130.00 g  carbohydrate\n",
      "38.00 g  fiber\n",
      "40.00 g  sugars\n",
      "0.00 g  fructose\n",
      "0.00g  galactose\n",
      "0.00 g  glucose\n",
      "0.00 g  lactose\n",
      "0.18 g  maltose\n",
      "0.00 g  sucrose\n",
      "119.94 g  fat\n",
      "24.75 g  saturated_fatty_acids\n",
      "56.94 g  monounsaturated_fatty_acids\n",
      "20.46 g  polyunsaturated_fatty_acids\n",
      "2.82 g  alcohol\n",
      "16.79 g  ash\n",
      "39.42 mg  caffeine\n",
      "1338.72 mg  theobromine\n",
      "100.00 g  water\n"
     ]
    }
   ],
   "source": [
    "final = df.values.T @ x.value\n",
    "for i, col in enumerate(df.columns):\n",
    "    print(f\"{final[i]:.2f}{units[col]}  {col}\")"
   ]
  },
  {
   "cell_type": "code",
   "execution_count": 92,
   "id": "surprised-evaluation",
   "metadata": {},
   "outputs": [
    {
     "name": "stdout",
     "output_type": "stream",
     "text": [
      "               0         1\n",
      "0  saturated_fat  0.000997\n",
      "1    cholesterol  0.000146\n",
      "2      magnesium  0.000136\n",
      "3         sugars  0.001274\n",
      "4            fat  0.009582\n",
      "5        alcohol  0.002667\n"
     ]
    }
   ],
   "source": [
    "u_dual = prob.constraints[0].dual_value\n",
    "tol = 1e-6\n",
    "u_lim = pd.DataFrame([(nutrient, val) for nutrient, val in zip(np.array(u_idxs)[u_dual > tol], u_dual[u_dual > tol])])\n",
    "print(u_lim)"
   ]
  },
  {
   "cell_type": "code",
   "execution_count": 93,
   "id": "champion-storm",
   "metadata": {},
   "outputs": [
    {
     "name": "stdout",
     "output_type": "stream",
     "text": [
      "             0         1\n",
      "0     calories  0.002176\n",
      "1       sodium  0.000015\n",
      "2      choline  0.000297\n",
      "3   folic_acid  0.000015\n",
      "4    vitamin_c  0.000032\n",
      "5    vitamin_d  0.000010\n",
      "6    vitamin_e  0.000123\n",
      "7    vitamin_k  0.000064\n",
      "8      calcium  0.000074\n",
      "9    manganese  0.000460\n",
      "10   potassium  0.000067\n",
      "11       fiber  0.001647\n",
      "12       water  0.008779\n"
     ]
    }
   ],
   "source": [
    "l_dual = prob.constraints[1].dual_value\n",
    "tol = 1e-6\n",
    "l_lim = pd.DataFrame([(nutrient, val) for nutrient, val in zip(np.array(l_idxs)[l_dual > tol], l_dual[l_dual > tol])])\n",
    "print(l_lim)"
   ]
  },
  {
   "cell_type": "code",
   "execution_count": 94,
   "id": "built-vaccine",
   "metadata": {},
   "outputs": [],
   "source": [
    "result = x.value\n",
    "idxs = np.array([i for i in range(len(result))])\n",
    "tol = 1e-6\n",
    "final_foods = pd.DataFrame([(names[food], food, val) for food, val in zip(idxs[result > tol], result[result > tol])])"
   ]
  },
  {
   "cell_type": "code",
   "execution_count": 95,
   "id": "academic-dominant",
   "metadata": {},
   "outputs": [
    {
     "data": {
      "text/html": [
       "<div>\n",
       "<style scoped>\n",
       "    .dataframe tbody tr th:only-of-type {\n",
       "        vertical-align: middle;\n",
       "    }\n",
       "\n",
       "    .dataframe tbody tr th {\n",
       "        vertical-align: top;\n",
       "    }\n",
       "\n",
       "    .dataframe thead th {\n",
       "        text-align: right;\n",
       "    }\n",
       "</style>\n",
       "<table border=\"1\" class=\"dataframe\">\n",
       "  <thead>\n",
       "    <tr style=\"text-align: right;\">\n",
       "      <th></th>\n",
       "      <th>0</th>\n",
       "      <th>1</th>\n",
       "      <th>2</th>\n",
       "    </tr>\n",
       "  </thead>\n",
       "  <tbody>\n",
       "    <tr>\n",
       "      <th>13</th>\n",
       "      <td>Milk, with added vitamin A and vitamin D, regu...</td>\n",
       "      <td>5090</td>\n",
       "      <td>0.639470</td>\n",
       "    </tr>\n",
       "    <tr>\n",
       "      <th>5</th>\n",
       "      <td>Soybeans, raw, mature seeds</td>\n",
       "      <td>853</td>\n",
       "      <td>0.609297</td>\n",
       "    </tr>\n",
       "    <tr>\n",
       "      <th>17</th>\n",
       "      <td>Pork, simmered, cooked, chitterlings, variety ...</td>\n",
       "      <td>6541</td>\n",
       "      <td>0.548811</td>\n",
       "    </tr>\n",
       "    <tr>\n",
       "      <th>7</th>\n",
       "      <td>Potato chips, reduced fat, without salt</td>\n",
       "      <td>1954</td>\n",
       "      <td>0.517495</td>\n",
       "    </tr>\n",
       "    <tr>\n",
       "      <th>9</th>\n",
       "      <td>Oil, high oleic, canola, industrial</td>\n",
       "      <td>2378</td>\n",
       "      <td>0.476247</td>\n",
       "    </tr>\n",
       "    <tr>\n",
       "      <th>6</th>\n",
       "      <td>Frankfurter, low fat, beef</td>\n",
       "      <td>994</td>\n",
       "      <td>0.471681</td>\n",
       "    </tr>\n",
       "    <tr>\n",
       "      <th>14</th>\n",
       "      <td>Cocoa, processed with alkali, hi-fat or breakf...</td>\n",
       "      <td>5185</td>\n",
       "      <td>0.368832</td>\n",
       "    </tr>\n",
       "    <tr>\n",
       "      <th>11</th>\n",
       "      <td>Gums, seed gums (includes locust bean, guar)</td>\n",
       "      <td>2569</td>\n",
       "      <td>0.198783</td>\n",
       "    </tr>\n",
       "    <tr>\n",
       "      <th>4</th>\n",
       "      <td>Fat, chicken</td>\n",
       "      <td>580</td>\n",
       "      <td>0.195035</td>\n",
       "    </tr>\n",
       "    <tr>\n",
       "      <th>10</th>\n",
       "      <td>Vanilla extract, alcohol, imitation</td>\n",
       "      <td>2452</td>\n",
       "      <td>0.151976</td>\n",
       "    </tr>\n",
       "    <tr>\n",
       "      <th>1</th>\n",
       "      <td>Yeast extract spread</td>\n",
       "      <td>123</td>\n",
       "      <td>0.109995</td>\n",
       "    </tr>\n",
       "    <tr>\n",
       "      <th>18</th>\n",
       "      <td>Gelatin desserts, vitamin C, sodium, potassium...</td>\n",
       "      <td>7656</td>\n",
       "      <td>0.109322</td>\n",
       "    </tr>\n",
       "    <tr>\n",
       "      <th>12</th>\n",
       "      <td>Cereals ready-to-eat, Whole Grain TOTAL, GENER...</td>\n",
       "      <td>4817</td>\n",
       "      <td>0.053870</td>\n",
       "    </tr>\n",
       "    <tr>\n",
       "      <th>0</th>\n",
       "      <td>Egg, fresh, raw, yolk</td>\n",
       "      <td>63</td>\n",
       "      <td>0.032703</td>\n",
       "    </tr>\n",
       "    <tr>\n",
       "      <th>3</th>\n",
       "      <td>Parsley, fresh</td>\n",
       "      <td>480</td>\n",
       "      <td>0.029195</td>\n",
       "    </tr>\n",
       "    <tr>\n",
       "      <th>2</th>\n",
       "      <td>Fish oil, cod liver</td>\n",
       "      <td>239</td>\n",
       "      <td>0.024499</td>\n",
       "    </tr>\n",
       "    <tr>\n",
       "      <th>15</th>\n",
       "      <td>Soy sauce, made from hydrolyzed vegetable prot...</td>\n",
       "      <td>6016</td>\n",
       "      <td>0.019989</td>\n",
       "    </tr>\n",
       "    <tr>\n",
       "      <th>8</th>\n",
       "      <td>Oil, bowhead (Alaska Native), whale</td>\n",
       "      <td>2376</td>\n",
       "      <td>0.014630</td>\n",
       "    </tr>\n",
       "    <tr>\n",
       "      <th>16</th>\n",
       "      <td>Beef, boiled, cooked, variety meats and by-pro...</td>\n",
       "      <td>6291</td>\n",
       "      <td>0.001227</td>\n",
       "    </tr>\n",
       "  </tbody>\n",
       "</table>\n",
       "</div>"
      ],
      "text/plain": [
       "                                                    0     1         2\n",
       "13  Milk, with added vitamin A and vitamin D, regu...  5090  0.639470\n",
       "5                         Soybeans, raw, mature seeds   853  0.609297\n",
       "17  Pork, simmered, cooked, chitterlings, variety ...  6541  0.548811\n",
       "7             Potato chips, reduced fat, without salt  1954  0.517495\n",
       "9                 Oil, high oleic, canola, industrial  2378  0.476247\n",
       "6                          Frankfurter, low fat, beef   994  0.471681\n",
       "14  Cocoa, processed with alkali, hi-fat or breakf...  5185  0.368832\n",
       "11       Gums, seed gums (includes locust bean, guar)  2569  0.198783\n",
       "4                                        Fat, chicken   580  0.195035\n",
       "10                Vanilla extract, alcohol, imitation  2452  0.151976\n",
       "1                                Yeast extract spread   123  0.109995\n",
       "18  Gelatin desserts, vitamin C, sodium, potassium...  7656  0.109322\n",
       "12  Cereals ready-to-eat, Whole Grain TOTAL, GENER...  4817  0.053870\n",
       "0                               Egg, fresh, raw, yolk    63  0.032703\n",
       "3                                      Parsley, fresh   480  0.029195\n",
       "2                                 Fish oil, cod liver   239  0.024499\n",
       "15  Soy sauce, made from hydrolyzed vegetable prot...  6016  0.019989\n",
       "8                 Oil, bowhead (Alaska Native), whale  2376  0.014630\n",
       "16  Beef, boiled, cooked, variety meats and by-pro...  6291  0.001227"
      ]
     },
     "execution_count": 95,
     "metadata": {},
     "output_type": "execute_result"
    }
   ],
   "source": [
    "final_foods.sort_values(by=2,ascending=False)"
   ]
  },
  {
   "cell_type": "code",
   "execution_count": 35,
   "id": "stylish-martin",
   "metadata": {},
   "outputs": [
    {
     "name": "stdout",
     "output_type": "stream",
     "text": [
      "Yeast extract spread 2100.0\n",
      "Fish oil, cod liver 0.0\n",
      "Vanilla extract 148.0\n",
      "Fat, chicken 0.0\n",
      "Soybeans, raw, mature seeds 1797.0\n",
      "Frankfurter, low fat, beef 129.0\n",
      "Snacks, plain, pork skins 127.0\n",
      "Egg Mix, USDA Commodity 373.0\n",
      "Potato chips, reduced fat, without salt 1744.0\n",
      "Formulated Bar, SOUTH BEACH protein bar 793.0\n",
      "Gums, seed gums (includes locust bean, guar) 0.0\n",
      "Cereals, dry, plain, original, MALT-O-MEAL 100.0\n",
      "Cereals ready-to-eat, KELLOGG'S PRODUCT 19, KELLOGG 179.0\n",
      "Protein supplement, powder, Muscle Milk Light, milk based 840.0\n",
      "Milk, with added vitamin A and vitamin D, regular, nonfat, dry 1794.0\n",
      "Formulated bar, all flavors, SNICKERS MARATHON Energy Bar, MARS SNACKFOOD US 351.0\n",
      "Pork, simmered, cooked, chitterlings, variety meats and by-products, fresh 14.0\n"
     ]
    }
   ],
   "source": [
    "for idx in final_foods[1]:\n",
    "    print(names[idx], df.iloc[idx]['potassium'])"
   ]
  },
  {
   "cell_type": "code",
   "execution_count": 58,
   "id": "checked-stretch",
   "metadata": {},
   "outputs": [
    {
     "name": "stdout",
     "output_type": "stream",
     "text": [
      "sodium 2.0\n",
      "calcium 10.0\n",
      "copper 0.007\n",
      "magnesium 2.0\n",
      "ash 0.07\n",
      "water 99.98\n"
     ]
    }
   ],
   "source": [
    "for i, v in enumerate(df.iloc[1170].values):\n",
    "    if v != 0:\n",
    "        print(df.columns[i], v)"
   ]
  },
  {
   "cell_type": "code",
   "execution_count": 37,
   "id": "occupied-athens",
   "metadata": {},
   "outputs": [],
   "source": [
    "low_lim_sum = []\n",
    "low_lim_ess = []\n",
    "low_lim_min = []\n",
    "for nutrient in summary:\n",
    "    low, upp = constraints[nutrient]\n",
    "    low_lim_sum.append(low)\n",
    "for nutrient in essential:\n",
    "    low, upp = constraints[nutrient]\n",
    "    low_lim_ess.append(low)\n",
    "for nutrient in minerals:\n",
    "    low, upp = constraints[nutrient]\n",
    "    low_lim_min.append(low)"
   ]
  },
  {
   "cell_type": "code",
   "execution_count": 116,
   "id": "swedish-northern",
   "metadata": {},
   "outputs": [
    {
     "name": "stdout",
     "output_type": "stream",
     "text": [
      "96.7\n"
     ]
    },
    {
     "data": {
      "application/vnd.plotly.v1+json": {
       "config": {
        "plotlyServerURL": "https://plot.ly"
       },
       "data": [
        {
         "name": "lower_lim",
         "r": [
          70,
          150,
          50,
          100,
          70
         ],
         "subplot": "polar",
         "theta": [
          "protein",
          "carbohydrate",
          "total_fat",
          "water",
          "protein"
         ],
         "type": "scatterpolar"
        },
        {
         "fill": "toself",
         "name": "Lambsquarters, raw (Northern Plains Indians)",
         "r": [
          4.21,
          6.96,
          0.3,
          85.23,
          4.21
         ],
         "subplot": "polar",
         "theta": [
          "protein",
          "carbohydrate",
          "total_fat",
          "water",
          "protein"
         ],
         "type": "scatterpolar"
        },
        {
         "name": "lower_lim",
         "r": [
          0.7,
          1.4,
          2.73,
          2.1,
          0.728,
          0.875,
          1.05,
          0.28,
          1.82,
          0.7
         ],
         "subplot": "polar2",
         "theta": [
          "histidine",
          "isoleucine",
          "leucine",
          "lysine",
          "methionine",
          "phenylalanine",
          "threonine",
          "tryptophan",
          "valine",
          "histidine"
         ],
         "type": "scatterpolar"
        },
        {
         "fill": "toself",
         "name": "Lambsquarters, raw (Northern Plains Indians)",
         "r": [
          0.1056909231838694,
          0.1695271750790056,
          0.297052319163763,
          0.2914850434243176,
          0.0906994948924883,
          0.1541574884485516,
          0.1526374407582938,
          0.0424913923641333,
          0.1880765091080853,
          0.1056909231838694
         ],
         "subplot": "polar2",
         "theta": [
          "histidine",
          "isoleucine",
          "leucine",
          "lysine",
          "methionine",
          "phenylalanine",
          "threonine",
          "tryptophan",
          "valine",
          "histidine"
         ],
         "type": "scatterpolar"
        },
        {
         "name": "lower_lim",
         "r": [
          1300,
          0.9,
          8,
          400,
          2.3,
          700,
          4700,
          11,
          1300
         ],
         "subplot": "polar3",
         "theta": [
          "calcium",
          "copper",
          "irom",
          "magnesium",
          "manganese",
          "phosphorous",
          "potassium",
          "zink",
          "calcium"
         ],
         "type": "scatterpolar"
        },
        {
         "fill": "toself",
         "name": "Lambsquarters, raw (Northern Plains Indians)",
         "r": [
          366,
          0.12,
          1.16,
          163,
          1.49,
          63,
          1270,
          0.72,
          366
         ],
         "subplot": "polar3",
         "theta": [
          "calcium",
          "copper",
          "irom",
          "magnesium",
          "manganese",
          "phosphorous",
          "potassium",
          "zink",
          "calcium"
         ],
         "type": "scatterpolar"
        }
       ],
       "layout": {
        "height": 600,
        "polar": {
         "domain": {
          "x": [
           0,
           0.2888888888888889
          ],
          "y": [
           0,
           1
          ]
         },
         "radialaxis": {
          "visible": true
         }
        },
        "polar2": {
         "domain": {
          "x": [
           0.35555555555555557,
           0.6444444444444445
          ],
          "y": [
           0,
           1
          ]
         }
        },
        "polar3": {
         "domain": {
          "x": [
           0.7111111111111111,
           1
          ],
          "y": [
           0,
           1
          ]
         }
        },
        "showlegend": false,
        "template": {
         "data": {
          "bar": [
           {
            "error_x": {
             "color": "#2a3f5f"
            },
            "error_y": {
             "color": "#2a3f5f"
            },
            "marker": {
             "line": {
              "color": "#E5ECF6",
              "width": 0.5
             },
             "pattern": {
              "fillmode": "overlay",
              "size": 10,
              "solidity": 0.2
             }
            },
            "type": "bar"
           }
          ],
          "barpolar": [
           {
            "marker": {
             "line": {
              "color": "#E5ECF6",
              "width": 0.5
             },
             "pattern": {
              "fillmode": "overlay",
              "size": 10,
              "solidity": 0.2
             }
            },
            "type": "barpolar"
           }
          ],
          "carpet": [
           {
            "aaxis": {
             "endlinecolor": "#2a3f5f",
             "gridcolor": "white",
             "linecolor": "white",
             "minorgridcolor": "white",
             "startlinecolor": "#2a3f5f"
            },
            "baxis": {
             "endlinecolor": "#2a3f5f",
             "gridcolor": "white",
             "linecolor": "white",
             "minorgridcolor": "white",
             "startlinecolor": "#2a3f5f"
            },
            "type": "carpet"
           }
          ],
          "choropleth": [
           {
            "colorbar": {
             "outlinewidth": 0,
             "ticks": ""
            },
            "type": "choropleth"
           }
          ],
          "contour": [
           {
            "colorbar": {
             "outlinewidth": 0,
             "ticks": ""
            },
            "colorscale": [
             [
              0,
              "#0d0887"
             ],
             [
              0.1111111111111111,
              "#46039f"
             ],
             [
              0.2222222222222222,
              "#7201a8"
             ],
             [
              0.3333333333333333,
              "#9c179e"
             ],
             [
              0.4444444444444444,
              "#bd3786"
             ],
             [
              0.5555555555555556,
              "#d8576b"
             ],
             [
              0.6666666666666666,
              "#ed7953"
             ],
             [
              0.7777777777777778,
              "#fb9f3a"
             ],
             [
              0.8888888888888888,
              "#fdca26"
             ],
             [
              1,
              "#f0f921"
             ]
            ],
            "type": "contour"
           }
          ],
          "contourcarpet": [
           {
            "colorbar": {
             "outlinewidth": 0,
             "ticks": ""
            },
            "type": "contourcarpet"
           }
          ],
          "heatmap": [
           {
            "colorbar": {
             "outlinewidth": 0,
             "ticks": ""
            },
            "colorscale": [
             [
              0,
              "#0d0887"
             ],
             [
              0.1111111111111111,
              "#46039f"
             ],
             [
              0.2222222222222222,
              "#7201a8"
             ],
             [
              0.3333333333333333,
              "#9c179e"
             ],
             [
              0.4444444444444444,
              "#bd3786"
             ],
             [
              0.5555555555555556,
              "#d8576b"
             ],
             [
              0.6666666666666666,
              "#ed7953"
             ],
             [
              0.7777777777777778,
              "#fb9f3a"
             ],
             [
              0.8888888888888888,
              "#fdca26"
             ],
             [
              1,
              "#f0f921"
             ]
            ],
            "type": "heatmap"
           }
          ],
          "heatmapgl": [
           {
            "colorbar": {
             "outlinewidth": 0,
             "ticks": ""
            },
            "colorscale": [
             [
              0,
              "#0d0887"
             ],
             [
              0.1111111111111111,
              "#46039f"
             ],
             [
              0.2222222222222222,
              "#7201a8"
             ],
             [
              0.3333333333333333,
              "#9c179e"
             ],
             [
              0.4444444444444444,
              "#bd3786"
             ],
             [
              0.5555555555555556,
              "#d8576b"
             ],
             [
              0.6666666666666666,
              "#ed7953"
             ],
             [
              0.7777777777777778,
              "#fb9f3a"
             ],
             [
              0.8888888888888888,
              "#fdca26"
             ],
             [
              1,
              "#f0f921"
             ]
            ],
            "type": "heatmapgl"
           }
          ],
          "histogram": [
           {
            "marker": {
             "pattern": {
              "fillmode": "overlay",
              "size": 10,
              "solidity": 0.2
             }
            },
            "type": "histogram"
           }
          ],
          "histogram2d": [
           {
            "colorbar": {
             "outlinewidth": 0,
             "ticks": ""
            },
            "colorscale": [
             [
              0,
              "#0d0887"
             ],
             [
              0.1111111111111111,
              "#46039f"
             ],
             [
              0.2222222222222222,
              "#7201a8"
             ],
             [
              0.3333333333333333,
              "#9c179e"
             ],
             [
              0.4444444444444444,
              "#bd3786"
             ],
             [
              0.5555555555555556,
              "#d8576b"
             ],
             [
              0.6666666666666666,
              "#ed7953"
             ],
             [
              0.7777777777777778,
              "#fb9f3a"
             ],
             [
              0.8888888888888888,
              "#fdca26"
             ],
             [
              1,
              "#f0f921"
             ]
            ],
            "type": "histogram2d"
           }
          ],
          "histogram2dcontour": [
           {
            "colorbar": {
             "outlinewidth": 0,
             "ticks": ""
            },
            "colorscale": [
             [
              0,
              "#0d0887"
             ],
             [
              0.1111111111111111,
              "#46039f"
             ],
             [
              0.2222222222222222,
              "#7201a8"
             ],
             [
              0.3333333333333333,
              "#9c179e"
             ],
             [
              0.4444444444444444,
              "#bd3786"
             ],
             [
              0.5555555555555556,
              "#d8576b"
             ],
             [
              0.6666666666666666,
              "#ed7953"
             ],
             [
              0.7777777777777778,
              "#fb9f3a"
             ],
             [
              0.8888888888888888,
              "#fdca26"
             ],
             [
              1,
              "#f0f921"
             ]
            ],
            "type": "histogram2dcontour"
           }
          ],
          "mesh3d": [
           {
            "colorbar": {
             "outlinewidth": 0,
             "ticks": ""
            },
            "type": "mesh3d"
           }
          ],
          "parcoords": [
           {
            "line": {
             "colorbar": {
              "outlinewidth": 0,
              "ticks": ""
             }
            },
            "type": "parcoords"
           }
          ],
          "pie": [
           {
            "automargin": true,
            "type": "pie"
           }
          ],
          "scatter": [
           {
            "marker": {
             "colorbar": {
              "outlinewidth": 0,
              "ticks": ""
             }
            },
            "type": "scatter"
           }
          ],
          "scatter3d": [
           {
            "line": {
             "colorbar": {
              "outlinewidth": 0,
              "ticks": ""
             }
            },
            "marker": {
             "colorbar": {
              "outlinewidth": 0,
              "ticks": ""
             }
            },
            "type": "scatter3d"
           }
          ],
          "scattercarpet": [
           {
            "marker": {
             "colorbar": {
              "outlinewidth": 0,
              "ticks": ""
             }
            },
            "type": "scattercarpet"
           }
          ],
          "scattergeo": [
           {
            "marker": {
             "colorbar": {
              "outlinewidth": 0,
              "ticks": ""
             }
            },
            "type": "scattergeo"
           }
          ],
          "scattergl": [
           {
            "marker": {
             "colorbar": {
              "outlinewidth": 0,
              "ticks": ""
             }
            },
            "type": "scattergl"
           }
          ],
          "scattermapbox": [
           {
            "marker": {
             "colorbar": {
              "outlinewidth": 0,
              "ticks": ""
             }
            },
            "type": "scattermapbox"
           }
          ],
          "scatterpolar": [
           {
            "marker": {
             "colorbar": {
              "outlinewidth": 0,
              "ticks": ""
             }
            },
            "type": "scatterpolar"
           }
          ],
          "scatterpolargl": [
           {
            "marker": {
             "colorbar": {
              "outlinewidth": 0,
              "ticks": ""
             }
            },
            "type": "scatterpolargl"
           }
          ],
          "scatterternary": [
           {
            "marker": {
             "colorbar": {
              "outlinewidth": 0,
              "ticks": ""
             }
            },
            "type": "scatterternary"
           }
          ],
          "surface": [
           {
            "colorbar": {
             "outlinewidth": 0,
             "ticks": ""
            },
            "colorscale": [
             [
              0,
              "#0d0887"
             ],
             [
              0.1111111111111111,
              "#46039f"
             ],
             [
              0.2222222222222222,
              "#7201a8"
             ],
             [
              0.3333333333333333,
              "#9c179e"
             ],
             [
              0.4444444444444444,
              "#bd3786"
             ],
             [
              0.5555555555555556,
              "#d8576b"
             ],
             [
              0.6666666666666666,
              "#ed7953"
             ],
             [
              0.7777777777777778,
              "#fb9f3a"
             ],
             [
              0.8888888888888888,
              "#fdca26"
             ],
             [
              1,
              "#f0f921"
             ]
            ],
            "type": "surface"
           }
          ],
          "table": [
           {
            "cells": {
             "fill": {
              "color": "#EBF0F8"
             },
             "line": {
              "color": "white"
             }
            },
            "header": {
             "fill": {
              "color": "#C8D4E3"
             },
             "line": {
              "color": "white"
             }
            },
            "type": "table"
           }
          ]
         },
         "layout": {
          "annotationdefaults": {
           "arrowcolor": "#2a3f5f",
           "arrowhead": 0,
           "arrowwidth": 1
          },
          "autotypenumbers": "strict",
          "coloraxis": {
           "colorbar": {
            "outlinewidth": 0,
            "ticks": ""
           }
          },
          "colorscale": {
           "diverging": [
            [
             0,
             "#8e0152"
            ],
            [
             0.1,
             "#c51b7d"
            ],
            [
             0.2,
             "#de77ae"
            ],
            [
             0.3,
             "#f1b6da"
            ],
            [
             0.4,
             "#fde0ef"
            ],
            [
             0.5,
             "#f7f7f7"
            ],
            [
             0.6,
             "#e6f5d0"
            ],
            [
             0.7,
             "#b8e186"
            ],
            [
             0.8,
             "#7fbc41"
            ],
            [
             0.9,
             "#4d9221"
            ],
            [
             1,
             "#276419"
            ]
           ],
           "sequential": [
            [
             0,
             "#0d0887"
            ],
            [
             0.1111111111111111,
             "#46039f"
            ],
            [
             0.2222222222222222,
             "#7201a8"
            ],
            [
             0.3333333333333333,
             "#9c179e"
            ],
            [
             0.4444444444444444,
             "#bd3786"
            ],
            [
             0.5555555555555556,
             "#d8576b"
            ],
            [
             0.6666666666666666,
             "#ed7953"
            ],
            [
             0.7777777777777778,
             "#fb9f3a"
            ],
            [
             0.8888888888888888,
             "#fdca26"
            ],
            [
             1,
             "#f0f921"
            ]
           ],
           "sequentialminus": [
            [
             0,
             "#0d0887"
            ],
            [
             0.1111111111111111,
             "#46039f"
            ],
            [
             0.2222222222222222,
             "#7201a8"
            ],
            [
             0.3333333333333333,
             "#9c179e"
            ],
            [
             0.4444444444444444,
             "#bd3786"
            ],
            [
             0.5555555555555556,
             "#d8576b"
            ],
            [
             0.6666666666666666,
             "#ed7953"
            ],
            [
             0.7777777777777778,
             "#fb9f3a"
            ],
            [
             0.8888888888888888,
             "#fdca26"
            ],
            [
             1,
             "#f0f921"
            ]
           ]
          },
          "colorway": [
           "#636efa",
           "#EF553B",
           "#00cc96",
           "#ab63fa",
           "#FFA15A",
           "#19d3f3",
           "#FF6692",
           "#B6E880",
           "#FF97FF",
           "#FECB52"
          ],
          "font": {
           "color": "#2a3f5f"
          },
          "geo": {
           "bgcolor": "white",
           "lakecolor": "white",
           "landcolor": "#E5ECF6",
           "showlakes": true,
           "showland": true,
           "subunitcolor": "white"
          },
          "hoverlabel": {
           "align": "left"
          },
          "hovermode": "closest",
          "mapbox": {
           "style": "light"
          },
          "paper_bgcolor": "white",
          "plot_bgcolor": "#E5ECF6",
          "polar": {
           "angularaxis": {
            "gridcolor": "white",
            "linecolor": "white",
            "ticks": ""
           },
           "bgcolor": "#E5ECF6",
           "radialaxis": {
            "gridcolor": "white",
            "linecolor": "white",
            "ticks": ""
           }
          },
          "scene": {
           "xaxis": {
            "backgroundcolor": "#E5ECF6",
            "gridcolor": "white",
            "gridwidth": 2,
            "linecolor": "white",
            "showbackground": true,
            "ticks": "",
            "zerolinecolor": "white"
           },
           "yaxis": {
            "backgroundcolor": "#E5ECF6",
            "gridcolor": "white",
            "gridwidth": 2,
            "linecolor": "white",
            "showbackground": true,
            "ticks": "",
            "zerolinecolor": "white"
           },
           "zaxis": {
            "backgroundcolor": "#E5ECF6",
            "gridcolor": "white",
            "gridwidth": 2,
            "linecolor": "white",
            "showbackground": true,
            "ticks": "",
            "zerolinecolor": "white"
           }
          },
          "shapedefaults": {
           "line": {
            "color": "#2a3f5f"
           }
          },
          "ternary": {
           "aaxis": {
            "gridcolor": "white",
            "linecolor": "white",
            "ticks": ""
           },
           "baxis": {
            "gridcolor": "white",
            "linecolor": "white",
            "ticks": ""
           },
           "bgcolor": "#E5ECF6",
           "caxis": {
            "gridcolor": "white",
            "linecolor": "white",
            "ticks": ""
           }
          },
          "title": {
           "x": 0.05
          },
          "xaxis": {
           "automargin": true,
           "gridcolor": "white",
           "linecolor": "white",
           "ticks": "",
           "title": {
            "standoff": 15
           },
           "zerolinecolor": "white",
           "zerolinewidth": 2
          },
          "yaxis": {
           "automargin": true,
           "gridcolor": "white",
           "linecolor": "white",
           "ticks": "",
           "title": {
            "standoff": 15
           },
           "zerolinecolor": "white",
           "zerolinewidth": 2
          }
         }
        },
        "title": {
         "text": "Lambsquarters, raw (Northern Plains Indians)"
        },
        "width": 1800
       }
      },
      "text/html": [
       "<div>                            <div id=\"2e4eb65f-a33c-435b-8b1a-1e8346159224\" class=\"plotly-graph-div\" style=\"height:600px; width:1800px;\"></div>            <script type=\"text/javascript\">                require([\"plotly\"], function(Plotly) {                    window.PLOTLYENV=window.PLOTLYENV || {};                                    if (document.getElementById(\"2e4eb65f-a33c-435b-8b1a-1e8346159224\")) {                    Plotly.newPlot(                        \"2e4eb65f-a33c-435b-8b1a-1e8346159224\",                        [{\"name\":\"lower_lim\",\"r\":[70,150,50,100,70],\"theta\":[\"protein\",\"carbohydrate\",\"total_fat\",\"water\",\"protein\"],\"type\":\"scatterpolar\",\"subplot\":\"polar\"},{\"fill\":\"toself\",\"name\":\"Lambsquarters, raw (Northern Plains Indians)\",\"r\":[4.21,6.96,0.3,85.23,4.21],\"theta\":[\"protein\",\"carbohydrate\",\"total_fat\",\"water\",\"protein\"],\"type\":\"scatterpolar\",\"subplot\":\"polar\"},{\"name\":\"lower_lim\",\"r\":[0.7,1.4,2.73,2.1,0.728,0.875,1.05,0.28,1.82,0.7],\"theta\":[\"histidine\",\"isoleucine\",\"leucine\",\"lysine\",\"methionine\",\"phenylalanine\",\"threonine\",\"tryptophan\",\"valine\",\"histidine\"],\"type\":\"scatterpolar\",\"subplot\":\"polar2\"},{\"fill\":\"toself\",\"name\":\"Lambsquarters, raw (Northern Plains Indians)\",\"r\":[0.1056909231838694,0.1695271750790056,0.297052319163763,0.2914850434243176,0.0906994948924883,0.1541574884485516,0.1526374407582938,0.0424913923641333,0.1880765091080853,0.1056909231838694],\"theta\":[\"histidine\",\"isoleucine\",\"leucine\",\"lysine\",\"methionine\",\"phenylalanine\",\"threonine\",\"tryptophan\",\"valine\",\"histidine\"],\"type\":\"scatterpolar\",\"subplot\":\"polar2\"},{\"name\":\"lower_lim\",\"r\":[1300,0.9,8,400,2.3,700,4700,11,1300],\"theta\":[\"calcium\",\"copper\",\"irom\",\"magnesium\",\"manganese\",\"phosphorous\",\"potassium\",\"zink\",\"calcium\"],\"type\":\"scatterpolar\",\"subplot\":\"polar3\"},{\"fill\":\"toself\",\"name\":\"Lambsquarters, raw (Northern Plains Indians)\",\"r\":[366.0,0.12,1.16,163.0,1.49,63.0,1270.0,0.72,366.0],\"theta\":[\"calcium\",\"copper\",\"irom\",\"magnesium\",\"manganese\",\"phosphorous\",\"potassium\",\"zink\",\"calcium\"],\"type\":\"scatterpolar\",\"subplot\":\"polar3\"}],                        {\"template\":{\"data\":{\"bar\":[{\"error_x\":{\"color\":\"#2a3f5f\"},\"error_y\":{\"color\":\"#2a3f5f\"},\"marker\":{\"line\":{\"color\":\"#E5ECF6\",\"width\":0.5},\"pattern\":{\"fillmode\":\"overlay\",\"size\":10,\"solidity\":0.2}},\"type\":\"bar\"}],\"barpolar\":[{\"marker\":{\"line\":{\"color\":\"#E5ECF6\",\"width\":0.5},\"pattern\":{\"fillmode\":\"overlay\",\"size\":10,\"solidity\":0.2}},\"type\":\"barpolar\"}],\"carpet\":[{\"aaxis\":{\"endlinecolor\":\"#2a3f5f\",\"gridcolor\":\"white\",\"linecolor\":\"white\",\"minorgridcolor\":\"white\",\"startlinecolor\":\"#2a3f5f\"},\"baxis\":{\"endlinecolor\":\"#2a3f5f\",\"gridcolor\":\"white\",\"linecolor\":\"white\",\"minorgridcolor\":\"white\",\"startlinecolor\":\"#2a3f5f\"},\"type\":\"carpet\"}],\"choropleth\":[{\"colorbar\":{\"outlinewidth\":0,\"ticks\":\"\"},\"type\":\"choropleth\"}],\"contour\":[{\"colorbar\":{\"outlinewidth\":0,\"ticks\":\"\"},\"colorscale\":[[0.0,\"#0d0887\"],[0.1111111111111111,\"#46039f\"],[0.2222222222222222,\"#7201a8\"],[0.3333333333333333,\"#9c179e\"],[0.4444444444444444,\"#bd3786\"],[0.5555555555555556,\"#d8576b\"],[0.6666666666666666,\"#ed7953\"],[0.7777777777777778,\"#fb9f3a\"],[0.8888888888888888,\"#fdca26\"],[1.0,\"#f0f921\"]],\"type\":\"contour\"}],\"contourcarpet\":[{\"colorbar\":{\"outlinewidth\":0,\"ticks\":\"\"},\"type\":\"contourcarpet\"}],\"heatmap\":[{\"colorbar\":{\"outlinewidth\":0,\"ticks\":\"\"},\"colorscale\":[[0.0,\"#0d0887\"],[0.1111111111111111,\"#46039f\"],[0.2222222222222222,\"#7201a8\"],[0.3333333333333333,\"#9c179e\"],[0.4444444444444444,\"#bd3786\"],[0.5555555555555556,\"#d8576b\"],[0.6666666666666666,\"#ed7953\"],[0.7777777777777778,\"#fb9f3a\"],[0.8888888888888888,\"#fdca26\"],[1.0,\"#f0f921\"]],\"type\":\"heatmap\"}],\"heatmapgl\":[{\"colorbar\":{\"outlinewidth\":0,\"ticks\":\"\"},\"colorscale\":[[0.0,\"#0d0887\"],[0.1111111111111111,\"#46039f\"],[0.2222222222222222,\"#7201a8\"],[0.3333333333333333,\"#9c179e\"],[0.4444444444444444,\"#bd3786\"],[0.5555555555555556,\"#d8576b\"],[0.6666666666666666,\"#ed7953\"],[0.7777777777777778,\"#fb9f3a\"],[0.8888888888888888,\"#fdca26\"],[1.0,\"#f0f921\"]],\"type\":\"heatmapgl\"}],\"histogram\":[{\"marker\":{\"pattern\":{\"fillmode\":\"overlay\",\"size\":10,\"solidity\":0.2}},\"type\":\"histogram\"}],\"histogram2d\":[{\"colorbar\":{\"outlinewidth\":0,\"ticks\":\"\"},\"colorscale\":[[0.0,\"#0d0887\"],[0.1111111111111111,\"#46039f\"],[0.2222222222222222,\"#7201a8\"],[0.3333333333333333,\"#9c179e\"],[0.4444444444444444,\"#bd3786\"],[0.5555555555555556,\"#d8576b\"],[0.6666666666666666,\"#ed7953\"],[0.7777777777777778,\"#fb9f3a\"],[0.8888888888888888,\"#fdca26\"],[1.0,\"#f0f921\"]],\"type\":\"histogram2d\"}],\"histogram2dcontour\":[{\"colorbar\":{\"outlinewidth\":0,\"ticks\":\"\"},\"colorscale\":[[0.0,\"#0d0887\"],[0.1111111111111111,\"#46039f\"],[0.2222222222222222,\"#7201a8\"],[0.3333333333333333,\"#9c179e\"],[0.4444444444444444,\"#bd3786\"],[0.5555555555555556,\"#d8576b\"],[0.6666666666666666,\"#ed7953\"],[0.7777777777777778,\"#fb9f3a\"],[0.8888888888888888,\"#fdca26\"],[1.0,\"#f0f921\"]],\"type\":\"histogram2dcontour\"}],\"mesh3d\":[{\"colorbar\":{\"outlinewidth\":0,\"ticks\":\"\"},\"type\":\"mesh3d\"}],\"parcoords\":[{\"line\":{\"colorbar\":{\"outlinewidth\":0,\"ticks\":\"\"}},\"type\":\"parcoords\"}],\"pie\":[{\"automargin\":true,\"type\":\"pie\"}],\"scatter\":[{\"marker\":{\"colorbar\":{\"outlinewidth\":0,\"ticks\":\"\"}},\"type\":\"scatter\"}],\"scatter3d\":[{\"line\":{\"colorbar\":{\"outlinewidth\":0,\"ticks\":\"\"}},\"marker\":{\"colorbar\":{\"outlinewidth\":0,\"ticks\":\"\"}},\"type\":\"scatter3d\"}],\"scattercarpet\":[{\"marker\":{\"colorbar\":{\"outlinewidth\":0,\"ticks\":\"\"}},\"type\":\"scattercarpet\"}],\"scattergeo\":[{\"marker\":{\"colorbar\":{\"outlinewidth\":0,\"ticks\":\"\"}},\"type\":\"scattergeo\"}],\"scattergl\":[{\"marker\":{\"colorbar\":{\"outlinewidth\":0,\"ticks\":\"\"}},\"type\":\"scattergl\"}],\"scattermapbox\":[{\"marker\":{\"colorbar\":{\"outlinewidth\":0,\"ticks\":\"\"}},\"type\":\"scattermapbox\"}],\"scatterpolar\":[{\"marker\":{\"colorbar\":{\"outlinewidth\":0,\"ticks\":\"\"}},\"type\":\"scatterpolar\"}],\"scatterpolargl\":[{\"marker\":{\"colorbar\":{\"outlinewidth\":0,\"ticks\":\"\"}},\"type\":\"scatterpolargl\"}],\"scatterternary\":[{\"marker\":{\"colorbar\":{\"outlinewidth\":0,\"ticks\":\"\"}},\"type\":\"scatterternary\"}],\"surface\":[{\"colorbar\":{\"outlinewidth\":0,\"ticks\":\"\"},\"colorscale\":[[0.0,\"#0d0887\"],[0.1111111111111111,\"#46039f\"],[0.2222222222222222,\"#7201a8\"],[0.3333333333333333,\"#9c179e\"],[0.4444444444444444,\"#bd3786\"],[0.5555555555555556,\"#d8576b\"],[0.6666666666666666,\"#ed7953\"],[0.7777777777777778,\"#fb9f3a\"],[0.8888888888888888,\"#fdca26\"],[1.0,\"#f0f921\"]],\"type\":\"surface\"}],\"table\":[{\"cells\":{\"fill\":{\"color\":\"#EBF0F8\"},\"line\":{\"color\":\"white\"}},\"header\":{\"fill\":{\"color\":\"#C8D4E3\"},\"line\":{\"color\":\"white\"}},\"type\":\"table\"}]},\"layout\":{\"annotationdefaults\":{\"arrowcolor\":\"#2a3f5f\",\"arrowhead\":0,\"arrowwidth\":1},\"autotypenumbers\":\"strict\",\"coloraxis\":{\"colorbar\":{\"outlinewidth\":0,\"ticks\":\"\"}},\"colorscale\":{\"diverging\":[[0,\"#8e0152\"],[0.1,\"#c51b7d\"],[0.2,\"#de77ae\"],[0.3,\"#f1b6da\"],[0.4,\"#fde0ef\"],[0.5,\"#f7f7f7\"],[0.6,\"#e6f5d0\"],[0.7,\"#b8e186\"],[0.8,\"#7fbc41\"],[0.9,\"#4d9221\"],[1,\"#276419\"]],\"sequential\":[[0.0,\"#0d0887\"],[0.1111111111111111,\"#46039f\"],[0.2222222222222222,\"#7201a8\"],[0.3333333333333333,\"#9c179e\"],[0.4444444444444444,\"#bd3786\"],[0.5555555555555556,\"#d8576b\"],[0.6666666666666666,\"#ed7953\"],[0.7777777777777778,\"#fb9f3a\"],[0.8888888888888888,\"#fdca26\"],[1.0,\"#f0f921\"]],\"sequentialminus\":[[0.0,\"#0d0887\"],[0.1111111111111111,\"#46039f\"],[0.2222222222222222,\"#7201a8\"],[0.3333333333333333,\"#9c179e\"],[0.4444444444444444,\"#bd3786\"],[0.5555555555555556,\"#d8576b\"],[0.6666666666666666,\"#ed7953\"],[0.7777777777777778,\"#fb9f3a\"],[0.8888888888888888,\"#fdca26\"],[1.0,\"#f0f921\"]]},\"colorway\":[\"#636efa\",\"#EF553B\",\"#00cc96\",\"#ab63fa\",\"#FFA15A\",\"#19d3f3\",\"#FF6692\",\"#B6E880\",\"#FF97FF\",\"#FECB52\"],\"font\":{\"color\":\"#2a3f5f\"},\"geo\":{\"bgcolor\":\"white\",\"lakecolor\":\"white\",\"landcolor\":\"#E5ECF6\",\"showlakes\":true,\"showland\":true,\"subunitcolor\":\"white\"},\"hoverlabel\":{\"align\":\"left\"},\"hovermode\":\"closest\",\"mapbox\":{\"style\":\"light\"},\"paper_bgcolor\":\"white\",\"plot_bgcolor\":\"#E5ECF6\",\"polar\":{\"angularaxis\":{\"gridcolor\":\"white\",\"linecolor\":\"white\",\"ticks\":\"\"},\"bgcolor\":\"#E5ECF6\",\"radialaxis\":{\"gridcolor\":\"white\",\"linecolor\":\"white\",\"ticks\":\"\"}},\"scene\":{\"xaxis\":{\"backgroundcolor\":\"#E5ECF6\",\"gridcolor\":\"white\",\"gridwidth\":2,\"linecolor\":\"white\",\"showbackground\":true,\"ticks\":\"\",\"zerolinecolor\":\"white\"},\"yaxis\":{\"backgroundcolor\":\"#E5ECF6\",\"gridcolor\":\"white\",\"gridwidth\":2,\"linecolor\":\"white\",\"showbackground\":true,\"ticks\":\"\",\"zerolinecolor\":\"white\"},\"zaxis\":{\"backgroundcolor\":\"#E5ECF6\",\"gridcolor\":\"white\",\"gridwidth\":2,\"linecolor\":\"white\",\"showbackground\":true,\"ticks\":\"\",\"zerolinecolor\":\"white\"}},\"shapedefaults\":{\"line\":{\"color\":\"#2a3f5f\"}},\"ternary\":{\"aaxis\":{\"gridcolor\":\"white\",\"linecolor\":\"white\",\"ticks\":\"\"},\"baxis\":{\"gridcolor\":\"white\",\"linecolor\":\"white\",\"ticks\":\"\"},\"bgcolor\":\"#E5ECF6\",\"caxis\":{\"gridcolor\":\"white\",\"linecolor\":\"white\",\"ticks\":\"\"}},\"title\":{\"x\":0.05},\"xaxis\":{\"automargin\":true,\"gridcolor\":\"white\",\"linecolor\":\"white\",\"ticks\":\"\",\"title\":{\"standoff\":15},\"zerolinecolor\":\"white\",\"zerolinewidth\":2},\"yaxis\":{\"automargin\":true,\"gridcolor\":\"white\",\"linecolor\":\"white\",\"ticks\":\"\",\"title\":{\"standoff\":15},\"zerolinecolor\":\"white\",\"zerolinewidth\":2}}},\"polar\":{\"domain\":{\"x\":[0.0,0.2888888888888889],\"y\":[0.0,1.0]},\"radialaxis\":{\"visible\":true}},\"polar2\":{\"domain\":{\"x\":[0.35555555555555557,0.6444444444444445],\"y\":[0.0,1.0]}},\"polar3\":{\"domain\":{\"x\":[0.7111111111111111,1.0],\"y\":[0.0,1.0]}},\"height\":600,\"width\":1800,\"title\":{\"text\":\"Lambsquarters, raw (Northern Plains Indians)\"},\"showlegend\":false},                        {\"responsive\": true}                    ).then(function(){\n",
       "                            \n",
       "var gd = document.getElementById('2e4eb65f-a33c-435b-8b1a-1e8346159224');\n",
       "var x = new MutationObserver(function (mutations, observer) {{\n",
       "        var display = window.getComputedStyle(gd).display;\n",
       "        if (!display || display === 'none') {{\n",
       "            console.log([gd, 'removed!']);\n",
       "            Plotly.purge(gd);\n",
       "            observer.disconnect();\n",
       "        }}\n",
       "}});\n",
       "\n",
       "// Listen for the removal of the full notebook cells\n",
       "var notebookContainer = gd.closest('#notebook-container');\n",
       "if (notebookContainer) {{\n",
       "    x.observe(notebookContainer, {childList: true});\n",
       "}}\n",
       "\n",
       "// Listen for the clearing of the current output cell\n",
       "var outputEl = gd.closest('.output');\n",
       "if (outputEl) {{\n",
       "    x.observe(outputEl, {childList: true});\n",
       "}}\n",
       "\n",
       "                        })                };                });            </script>        </div>"
      ]
     },
     "metadata": {},
     "output_type": "display_data"
    }
   ],
   "source": [
    "idx = 2585\n",
    "print(df[summary].iloc[idx].sum())\n",
    "\n",
    "fig = make_subplots(rows=1, cols=3, specs=[[{'type':'polar'},{'type':'polar'},{'type':'polar'}]])\n",
    "\n",
    "fig.add_trace(go.Scatterpolar(\n",
    "      r=low_lim_sum + [low_lim_sum[0]],theta=summary + [summary[0]],\n",
    "      name='lower_lim'\n",
    "), row=1, col=1)\n",
    "\n",
    "fig.add_trace(go.Scatterpolar(\n",
    "      r=df[summary+[summary[0]]].iloc[idx],\n",
    "      theta=summary+ [summary[0]],\n",
    "      fill='toself',\n",
    "      name=names[idx]\n",
    "), row=1, col=1)\n",
    "\n",
    "fig.add_trace(go.Scatterpolar(\n",
    "      r=low_lim_ess + [low_lim_ess[0]],theta=essential + [essential[0]],\n",
    "      name='lower_lim'\n",
    "), row=1, col=2)\n",
    "\n",
    "fig.add_trace(go.Scatterpolar(\n",
    "      r=df[essential+[essential[0]]].iloc[idx],\n",
    "      theta=essential+ [essential[0]],\n",
    "      fill='toself',\n",
    "      name=names[idx]\n",
    "), row=1, col=2)\n",
    "\n",
    "fig.add_trace(go.Scatterpolar(\n",
    "      r=low_lim_min + [low_lim_min[0]],theta=minerals + [minerals[0]],\n",
    "      name='lower_lim'\n",
    "), row=1, col=3)\n",
    "\n",
    "fig.add_trace(go.Scatterpolar(\n",
    "      r=df[minerals+[minerals[0]]].iloc[idx],\n",
    "      theta=minerals+ [minerals[0]],\n",
    "      fill='toself',\n",
    "      name=names[idx]\n",
    "), row=1, col=3)\n",
    "\n",
    "\n",
    "\n",
    "fig.update_layout(\n",
    "    height=600, width=1800,\n",
    "    title=names[idx],\n",
    "  polar=dict(\n",
    "    radialaxis=dict(\n",
    "      visible=True,\n",
    "#       range=[0, 100]\n",
    "    )),\n",
    "  showlegend=False\n",
    ")\n",
    "\n",
    "fig.show()"
   ]
  },
  {
   "cell_type": "code",
   "execution_count": 50,
   "id": "thousand-overall",
   "metadata": {},
   "outputs": [
    {
     "data": {
      "text/plain": [
       "protein          7.1\n",
       "carbohydrate    67.8\n",
       "total_fat       21.0\n",
       "water            1.0\n",
       "Name: 1954, dtype: float64"
      ]
     },
     "execution_count": 50,
     "metadata": {},
     "output_type": "execute_result"
    }
   ],
   "source": [
    "df[summary].iloc[1954]"
   ]
  },
  {
   "cell_type": "code",
   "execution_count": 51,
   "id": "pediatric-swing",
   "metadata": {},
   "outputs": [
    {
     "data": {
      "text/plain": [
       "protein         12.34\n",
       "carbohydrate    66.36\n",
       "total_fat       15.00\n",
       "water            5.05\n",
       "Name: 995, dtype: float64"
      ]
     },
     "execution_count": 51,
     "metadata": {},
     "output_type": "execute_result"
    }
   ],
   "source": [
    "df[summary].iloc[995]"
   ]
  },
  {
   "cell_type": "code",
   "execution_count": 52,
   "id": "minor-certificate",
   "metadata": {},
   "outputs": [
    {
     "data": {
      "text/plain": [
       "protein         12.0\n",
       "carbohydrate     1.6\n",
       "total_fat        9.5\n",
       "water           63.8\n",
       "Name: 994, dtype: float64"
      ]
     },
     "execution_count": 52,
     "metadata": {},
     "output_type": "execute_result"
    }
   ],
   "source": [
    "df[summary].iloc[994]"
   ]
  },
  {
   "cell_type": "code",
   "execution_count": null,
   "id": "concerned-accommodation",
   "metadata": {},
   "outputs": [],
   "source": []
  },
  {
   "cell_type": "code",
   "execution_count": null,
   "id": "divine-mobility",
   "metadata": {},
   "outputs": [],
   "source": []
  },
  {
   "cell_type": "code",
   "execution_count": null,
   "id": "alpine-baker",
   "metadata": {},
   "outputs": [],
   "source": []
  },
  {
   "cell_type": "code",
   "execution_count": null,
   "id": "reserved-constitution",
   "metadata": {},
   "outputs": [],
   "source": []
  },
  {
   "cell_type": "code",
   "execution_count": null,
   "id": "sustainable-first",
   "metadata": {},
   "outputs": [],
   "source": []
  },
  {
   "cell_type": "code",
   "execution_count": null,
   "id": "starting-burning",
   "metadata": {},
   "outputs": [],
   "source": []
  },
  {
   "cell_type": "code",
   "execution_count": null,
   "id": "precious-gospel",
   "metadata": {},
   "outputs": [],
   "source": []
  },
  {
   "cell_type": "code",
   "execution_count": 74,
   "id": "bigger-engine",
   "metadata": {},
   "outputs": [
    {
     "data": {
      "text/html": [
       "<div>\n",
       "<style scoped>\n",
       "    .dataframe tbody tr th:only-of-type {\n",
       "        vertical-align: middle;\n",
       "    }\n",
       "\n",
       "    .dataframe tbody tr th {\n",
       "        vertical-align: top;\n",
       "    }\n",
       "\n",
       "    .dataframe thead th {\n",
       "        text-align: right;\n",
       "    }\n",
       "</style>\n",
       "<table border=\"1\" class=\"dataframe\">\n",
       "  <thead>\n",
       "    <tr style=\"text-align: right;\">\n",
       "      <th></th>\n",
       "      <th>protein</th>\n",
       "      <th>alanine</th>\n",
       "      <th>arginine</th>\n",
       "      <th>aspartic_acid</th>\n",
       "      <th>cystine</th>\n",
       "      <th>glutamic_acid</th>\n",
       "      <th>glycine</th>\n",
       "      <th>histidine</th>\n",
       "      <th>hydroxyproline</th>\n",
       "      <th>isoleucine</th>\n",
       "      <th>leucine</th>\n",
       "      <th>lysine</th>\n",
       "      <th>methionine</th>\n",
       "      <th>phenylalanine</th>\n",
       "      <th>proline</th>\n",
       "      <th>serine</th>\n",
       "      <th>threonine</th>\n",
       "      <th>tryptophan</th>\n",
       "      <th>tyrosine</th>\n",
       "      <th>valine</th>\n",
       "    </tr>\n",
       "  </thead>\n",
       "  <tbody>\n",
       "    <tr>\n",
       "      <th>4</th>\n",
       "      <td>1.10</td>\n",
       "      <td>0.0</td>\n",
       "      <td>0.0</td>\n",
       "      <td>0.0</td>\n",
       "      <td>0.0</td>\n",
       "      <td>0.0</td>\n",
       "      <td>0.0</td>\n",
       "      <td>0.0</td>\n",
       "      <td>0.0</td>\n",
       "      <td>0.0</td>\n",
       "      <td>0.0</td>\n",
       "      <td>0.0</td>\n",
       "      <td>0.0</td>\n",
       "      <td>0.0</td>\n",
       "      <td>0.0</td>\n",
       "      <td>0.0</td>\n",
       "      <td>0.0</td>\n",
       "      <td>0.0</td>\n",
       "      <td>0.0</td>\n",
       "      <td>0.0</td>\n",
       "    </tr>\n",
       "    <tr>\n",
       "      <th>9</th>\n",
       "      <td>23.00</td>\n",
       "      <td>0.0</td>\n",
       "      <td>0.0</td>\n",
       "      <td>0.0</td>\n",
       "      <td>0.0</td>\n",
       "      <td>0.0</td>\n",
       "      <td>0.0</td>\n",
       "      <td>0.0</td>\n",
       "      <td>0.0</td>\n",
       "      <td>0.0</td>\n",
       "      <td>0.0</td>\n",
       "      <td>0.0</td>\n",
       "      <td>0.0</td>\n",
       "      <td>0.0</td>\n",
       "      <td>0.0</td>\n",
       "      <td>0.0</td>\n",
       "      <td>0.0</td>\n",
       "      <td>0.0</td>\n",
       "      <td>0.0</td>\n",
       "      <td>0.0</td>\n",
       "    </tr>\n",
       "    <tr>\n",
       "      <th>12</th>\n",
       "      <td>0.11</td>\n",
       "      <td>0.0</td>\n",
       "      <td>0.0</td>\n",
       "      <td>0.0</td>\n",
       "      <td>0.0</td>\n",
       "      <td>0.0</td>\n",
       "      <td>0.0</td>\n",
       "      <td>0.0</td>\n",
       "      <td>0.0</td>\n",
       "      <td>0.0</td>\n",
       "      <td>0.0</td>\n",
       "      <td>0.0</td>\n",
       "      <td>0.0</td>\n",
       "      <td>0.0</td>\n",
       "      <td>0.0</td>\n",
       "      <td>0.0</td>\n",
       "      <td>0.0</td>\n",
       "      <td>0.0</td>\n",
       "      <td>0.0</td>\n",
       "      <td>0.0</td>\n",
       "    </tr>\n",
       "    <tr>\n",
       "      <th>14</th>\n",
       "      <td>19.40</td>\n",
       "      <td>0.0</td>\n",
       "      <td>0.0</td>\n",
       "      <td>0.0</td>\n",
       "      <td>0.0</td>\n",
       "      <td>0.0</td>\n",
       "      <td>0.0</td>\n",
       "      <td>0.0</td>\n",
       "      <td>0.0</td>\n",
       "      <td>0.0</td>\n",
       "      <td>0.0</td>\n",
       "      <td>0.0</td>\n",
       "      <td>0.0</td>\n",
       "      <td>0.0</td>\n",
       "      <td>0.0</td>\n",
       "      <td>0.0</td>\n",
       "      <td>0.0</td>\n",
       "      <td>0.0</td>\n",
       "      <td>0.0</td>\n",
       "      <td>0.0</td>\n",
       "    </tr>\n",
       "    <tr>\n",
       "      <th>17</th>\n",
       "      <td>0.91</td>\n",
       "      <td>0.0</td>\n",
       "      <td>0.0</td>\n",
       "      <td>0.0</td>\n",
       "      <td>0.0</td>\n",
       "      <td>0.0</td>\n",
       "      <td>0.0</td>\n",
       "      <td>0.0</td>\n",
       "      <td>0.0</td>\n",
       "      <td>0.0</td>\n",
       "      <td>0.0</td>\n",
       "      <td>0.0</td>\n",
       "      <td>0.0</td>\n",
       "      <td>0.0</td>\n",
       "      <td>0.0</td>\n",
       "      <td>0.0</td>\n",
       "      <td>0.0</td>\n",
       "      <td>0.0</td>\n",
       "      <td>0.0</td>\n",
       "      <td>0.0</td>\n",
       "    </tr>\n",
       "    <tr>\n",
       "      <th>...</th>\n",
       "      <td>...</td>\n",
       "      <td>...</td>\n",
       "      <td>...</td>\n",
       "      <td>...</td>\n",
       "      <td>...</td>\n",
       "      <td>...</td>\n",
       "      <td>...</td>\n",
       "      <td>...</td>\n",
       "      <td>...</td>\n",
       "      <td>...</td>\n",
       "      <td>...</td>\n",
       "      <td>...</td>\n",
       "      <td>...</td>\n",
       "      <td>...</td>\n",
       "      <td>...</td>\n",
       "      <td>...</td>\n",
       "      <td>...</td>\n",
       "      <td>...</td>\n",
       "      <td>...</td>\n",
       "      <td>...</td>\n",
       "    </tr>\n",
       "    <tr>\n",
       "      <th>8764</th>\n",
       "      <td>0.14</td>\n",
       "      <td>0.0</td>\n",
       "      <td>0.0</td>\n",
       "      <td>0.0</td>\n",
       "      <td>0.0</td>\n",
       "      <td>0.0</td>\n",
       "      <td>0.0</td>\n",
       "      <td>0.0</td>\n",
       "      <td>0.0</td>\n",
       "      <td>0.0</td>\n",
       "      <td>0.0</td>\n",
       "      <td>0.0</td>\n",
       "      <td>0.0</td>\n",
       "      <td>0.0</td>\n",
       "      <td>0.0</td>\n",
       "      <td>0.0</td>\n",
       "      <td>0.0</td>\n",
       "      <td>0.0</td>\n",
       "      <td>0.0</td>\n",
       "      <td>0.0</td>\n",
       "    </tr>\n",
       "    <tr>\n",
       "      <th>8767</th>\n",
       "      <td>1.78</td>\n",
       "      <td>0.0</td>\n",
       "      <td>0.0</td>\n",
       "      <td>0.0</td>\n",
       "      <td>0.0</td>\n",
       "      <td>0.0</td>\n",
       "      <td>0.0</td>\n",
       "      <td>0.0</td>\n",
       "      <td>0.0</td>\n",
       "      <td>0.0</td>\n",
       "      <td>0.0</td>\n",
       "      <td>0.0</td>\n",
       "      <td>0.0</td>\n",
       "      <td>0.0</td>\n",
       "      <td>0.0</td>\n",
       "      <td>0.0</td>\n",
       "      <td>0.0</td>\n",
       "      <td>0.0</td>\n",
       "      <td>0.0</td>\n",
       "      <td>0.0</td>\n",
       "    </tr>\n",
       "    <tr>\n",
       "      <th>8770</th>\n",
       "      <td>1.48</td>\n",
       "      <td>0.0</td>\n",
       "      <td>0.0</td>\n",
       "      <td>0.0</td>\n",
       "      <td>0.0</td>\n",
       "      <td>0.0</td>\n",
       "      <td>0.0</td>\n",
       "      <td>0.0</td>\n",
       "      <td>0.0</td>\n",
       "      <td>0.0</td>\n",
       "      <td>0.0</td>\n",
       "      <td>0.0</td>\n",
       "      <td>0.0</td>\n",
       "      <td>0.0</td>\n",
       "      <td>0.0</td>\n",
       "      <td>0.0</td>\n",
       "      <td>0.0</td>\n",
       "      <td>0.0</td>\n",
       "      <td>0.0</td>\n",
       "      <td>0.0</td>\n",
       "    </tr>\n",
       "    <tr>\n",
       "      <th>8771</th>\n",
       "      <td>3.20</td>\n",
       "      <td>0.0</td>\n",
       "      <td>0.0</td>\n",
       "      <td>0.0</td>\n",
       "      <td>0.0</td>\n",
       "      <td>0.0</td>\n",
       "      <td>0.0</td>\n",
       "      <td>0.0</td>\n",
       "      <td>0.0</td>\n",
       "      <td>0.0</td>\n",
       "      <td>0.0</td>\n",
       "      <td>0.0</td>\n",
       "      <td>0.0</td>\n",
       "      <td>0.0</td>\n",
       "      <td>0.0</td>\n",
       "      <td>0.0</td>\n",
       "      <td>0.0</td>\n",
       "      <td>0.0</td>\n",
       "      <td>0.0</td>\n",
       "      <td>0.0</td>\n",
       "    </tr>\n",
       "    <tr>\n",
       "      <th>8772</th>\n",
       "      <td>8.81</td>\n",
       "      <td>0.0</td>\n",
       "      <td>0.0</td>\n",
       "      <td>0.0</td>\n",
       "      <td>0.0</td>\n",
       "      <td>0.0</td>\n",
       "      <td>0.0</td>\n",
       "      <td>0.0</td>\n",
       "      <td>0.0</td>\n",
       "      <td>0.0</td>\n",
       "      <td>0.0</td>\n",
       "      <td>0.0</td>\n",
       "      <td>0.0</td>\n",
       "      <td>0.0</td>\n",
       "      <td>0.0</td>\n",
       "      <td>0.0</td>\n",
       "      <td>0.0</td>\n",
       "      <td>0.0</td>\n",
       "      <td>0.0</td>\n",
       "      <td>0.0</td>\n",
       "    </tr>\n",
       "  </tbody>\n",
       "</table>\n",
       "<p>3361 rows × 20 columns</p>\n",
       "</div>"
      ],
      "text/plain": [
       "      protein  alanine  arginine  aspartic_acid  cystine  glutamic_acid  \\\n",
       "4        1.10      0.0       0.0            0.0      0.0            0.0   \n",
       "9       23.00      0.0       0.0            0.0      0.0            0.0   \n",
       "12       0.11      0.0       0.0            0.0      0.0            0.0   \n",
       "14      19.40      0.0       0.0            0.0      0.0            0.0   \n",
       "17       0.91      0.0       0.0            0.0      0.0            0.0   \n",
       "...       ...      ...       ...            ...      ...            ...   \n",
       "8764     0.14      0.0       0.0            0.0      0.0            0.0   \n",
       "8767     1.78      0.0       0.0            0.0      0.0            0.0   \n",
       "8770     1.48      0.0       0.0            0.0      0.0            0.0   \n",
       "8771     3.20      0.0       0.0            0.0      0.0            0.0   \n",
       "8772     8.81      0.0       0.0            0.0      0.0            0.0   \n",
       "\n",
       "      glycine  histidine  hydroxyproline  isoleucine  leucine  lysine  \\\n",
       "4         0.0        0.0             0.0         0.0      0.0     0.0   \n",
       "9         0.0        0.0             0.0         0.0      0.0     0.0   \n",
       "12        0.0        0.0             0.0         0.0      0.0     0.0   \n",
       "14        0.0        0.0             0.0         0.0      0.0     0.0   \n",
       "17        0.0        0.0             0.0         0.0      0.0     0.0   \n",
       "...       ...        ...             ...         ...      ...     ...   \n",
       "8764      0.0        0.0             0.0         0.0      0.0     0.0   \n",
       "8767      0.0        0.0             0.0         0.0      0.0     0.0   \n",
       "8770      0.0        0.0             0.0         0.0      0.0     0.0   \n",
       "8771      0.0        0.0             0.0         0.0      0.0     0.0   \n",
       "8772      0.0        0.0             0.0         0.0      0.0     0.0   \n",
       "\n",
       "      methionine  phenylalanine  proline  serine  threonine  tryptophan  \\\n",
       "4            0.0            0.0      0.0     0.0        0.0         0.0   \n",
       "9            0.0            0.0      0.0     0.0        0.0         0.0   \n",
       "12           0.0            0.0      0.0     0.0        0.0         0.0   \n",
       "14           0.0            0.0      0.0     0.0        0.0         0.0   \n",
       "17           0.0            0.0      0.0     0.0        0.0         0.0   \n",
       "...          ...            ...      ...     ...        ...         ...   \n",
       "8764         0.0            0.0      0.0     0.0        0.0         0.0   \n",
       "8767         0.0            0.0      0.0     0.0        0.0         0.0   \n",
       "8770         0.0            0.0      0.0     0.0        0.0         0.0   \n",
       "8771         0.0            0.0      0.0     0.0        0.0         0.0   \n",
       "8772         0.0            0.0      0.0     0.0        0.0         0.0   \n",
       "\n",
       "      tyrosine  valine  \n",
       "4          0.0     0.0  \n",
       "9          0.0     0.0  \n",
       "12         0.0     0.0  \n",
       "14         0.0     0.0  \n",
       "17         0.0     0.0  \n",
       "...        ...     ...  \n",
       "8764       0.0     0.0  \n",
       "8767       0.0     0.0  \n",
       "8770       0.0     0.0  \n",
       "8771       0.0     0.0  \n",
       "8772       0.0     0.0  \n",
       "\n",
       "[3361 rows x 20 columns]"
      ]
     },
     "execution_count": 74,
     "metadata": {},
     "output_type": "execute_result"
    }
   ],
   "source": [
    "df[(df['protein'] > 0) * (df[amino_acids].sum(axis=1) == 0)][['protein']+amino_acids]"
   ]
  },
  {
   "cell_type": "code",
   "execution_count": 75,
   "id": "latter-wheat",
   "metadata": {},
   "outputs": [
    {
     "data": {
      "text/html": [
       "<div>\n",
       "<style scoped>\n",
       "    .dataframe tbody tr th:only-of-type {\n",
       "        vertical-align: middle;\n",
       "    }\n",
       "\n",
       "    .dataframe tbody tr th {\n",
       "        vertical-align: top;\n",
       "    }\n",
       "\n",
       "    .dataframe thead th {\n",
       "        text-align: right;\n",
       "    }\n",
       "</style>\n",
       "<table border=\"1\" class=\"dataframe\">\n",
       "  <thead>\n",
       "    <tr style=\"text-align: right;\">\n",
       "      <th></th>\n",
       "      <th>protein</th>\n",
       "      <th>alanine</th>\n",
       "      <th>arginine</th>\n",
       "      <th>aspartic_acid</th>\n",
       "      <th>cystine</th>\n",
       "      <th>glutamic_acid</th>\n",
       "      <th>glycine</th>\n",
       "      <th>histidine</th>\n",
       "      <th>hydroxyproline</th>\n",
       "      <th>isoleucine</th>\n",
       "      <th>leucine</th>\n",
       "      <th>lysine</th>\n",
       "      <th>methionine</th>\n",
       "      <th>phenylalanine</th>\n",
       "      <th>proline</th>\n",
       "      <th>serine</th>\n",
       "      <th>threonine</th>\n",
       "      <th>tryptophan</th>\n",
       "      <th>tyrosine</th>\n",
       "      <th>valine</th>\n",
       "    </tr>\n",
       "  </thead>\n",
       "  <tbody>\n",
       "    <tr>\n",
       "      <th>615</th>\n",
       "      <td>0.0</td>\n",
       "      <td>0.000</td>\n",
       "      <td>0.000</td>\n",
       "      <td>0.002</td>\n",
       "      <td>0.000</td>\n",
       "      <td>0.002</td>\n",
       "      <td>0.000</td>\n",
       "      <td>0.000</td>\n",
       "      <td>0.0</td>\n",
       "      <td>0.000</td>\n",
       "      <td>0.001</td>\n",
       "      <td>0.000</td>\n",
       "      <td>0.000</td>\n",
       "      <td>0.000</td>\n",
       "      <td>0.000</td>\n",
       "      <td>0.000</td>\n",
       "      <td>0.000</td>\n",
       "      <td>0.000</td>\n",
       "      <td>0.000</td>\n",
       "      <td>0.000</td>\n",
       "    </tr>\n",
       "    <tr>\n",
       "      <th>1221</th>\n",
       "      <td>0.0</td>\n",
       "      <td>0.072</td>\n",
       "      <td>0.088</td>\n",
       "      <td>0.155</td>\n",
       "      <td>0.019</td>\n",
       "      <td>0.234</td>\n",
       "      <td>0.070</td>\n",
       "      <td>0.027</td>\n",
       "      <td>0.0</td>\n",
       "      <td>0.060</td>\n",
       "      <td>0.094</td>\n",
       "      <td>0.078</td>\n",
       "      <td>0.016</td>\n",
       "      <td>0.075</td>\n",
       "      <td>0.067</td>\n",
       "      <td>0.067</td>\n",
       "      <td>0.062</td>\n",
       "      <td>0.023</td>\n",
       "      <td>0.058</td>\n",
       "      <td>0.093</td>\n",
       "    </tr>\n",
       "    <tr>\n",
       "      <th>1474</th>\n",
       "      <td>0.0</td>\n",
       "      <td>0.003</td>\n",
       "      <td>0.002</td>\n",
       "      <td>0.003</td>\n",
       "      <td>0.001</td>\n",
       "      <td>0.007</td>\n",
       "      <td>0.001</td>\n",
       "      <td>0.001</td>\n",
       "      <td>0.0</td>\n",
       "      <td>0.001</td>\n",
       "      <td>0.005</td>\n",
       "      <td>0.001</td>\n",
       "      <td>0.001</td>\n",
       "      <td>0.002</td>\n",
       "      <td>0.003</td>\n",
       "      <td>0.002</td>\n",
       "      <td>0.001</td>\n",
       "      <td>0.000</td>\n",
       "      <td>0.001</td>\n",
       "      <td>0.002</td>\n",
       "    </tr>\n",
       "    <tr>\n",
       "      <th>2186</th>\n",
       "      <td>0.0</td>\n",
       "      <td>0.036</td>\n",
       "      <td>0.064</td>\n",
       "      <td>0.105</td>\n",
       "      <td>0.014</td>\n",
       "      <td>0.180</td>\n",
       "      <td>0.026</td>\n",
       "      <td>0.031</td>\n",
       "      <td>0.0</td>\n",
       "      <td>0.007</td>\n",
       "      <td>0.017</td>\n",
       "      <td>0.019</td>\n",
       "      <td>0.029</td>\n",
       "      <td>0.017</td>\n",
       "      <td>0.029</td>\n",
       "      <td>0.041</td>\n",
       "      <td>0.024</td>\n",
       "      <td>0.000</td>\n",
       "      <td>0.016</td>\n",
       "      <td>0.024</td>\n",
       "    </tr>\n",
       "    <tr>\n",
       "      <th>4438</th>\n",
       "      <td>0.0</td>\n",
       "      <td>0.013</td>\n",
       "      <td>0.007</td>\n",
       "      <td>0.003</td>\n",
       "      <td>0.000</td>\n",
       "      <td>0.017</td>\n",
       "      <td>0.002</td>\n",
       "      <td>0.001</td>\n",
       "      <td>0.0</td>\n",
       "      <td>0.001</td>\n",
       "      <td>0.002</td>\n",
       "      <td>0.002</td>\n",
       "      <td>0.000</td>\n",
       "      <td>0.002</td>\n",
       "      <td>0.002</td>\n",
       "      <td>0.002</td>\n",
       "      <td>0.002</td>\n",
       "      <td>0.000</td>\n",
       "      <td>0.000</td>\n",
       "      <td>0.002</td>\n",
       "    </tr>\n",
       "    <tr>\n",
       "      <th>4621</th>\n",
       "      <td>0.0</td>\n",
       "      <td>0.003</td>\n",
       "      <td>0.002</td>\n",
       "      <td>0.003</td>\n",
       "      <td>0.001</td>\n",
       "      <td>0.007</td>\n",
       "      <td>0.001</td>\n",
       "      <td>0.001</td>\n",
       "      <td>0.0</td>\n",
       "      <td>0.001</td>\n",
       "      <td>0.005</td>\n",
       "      <td>0.001</td>\n",
       "      <td>0.001</td>\n",
       "      <td>0.002</td>\n",
       "      <td>0.003</td>\n",
       "      <td>0.002</td>\n",
       "      <td>0.001</td>\n",
       "      <td>0.000</td>\n",
       "      <td>0.001</td>\n",
       "      <td>0.002</td>\n",
       "    </tr>\n",
       "  </tbody>\n",
       "</table>\n",
       "</div>"
      ],
      "text/plain": [
       "      protein  alanine  arginine  aspartic_acid  cystine  glutamic_acid  \\\n",
       "615       0.0    0.000     0.000          0.002    0.000          0.002   \n",
       "1221      0.0    0.072     0.088          0.155    0.019          0.234   \n",
       "1474      0.0    0.003     0.002          0.003    0.001          0.007   \n",
       "2186      0.0    0.036     0.064          0.105    0.014          0.180   \n",
       "4438      0.0    0.013     0.007          0.003    0.000          0.017   \n",
       "4621      0.0    0.003     0.002          0.003    0.001          0.007   \n",
       "\n",
       "      glycine  histidine  hydroxyproline  isoleucine  leucine  lysine  \\\n",
       "615     0.000      0.000             0.0       0.000    0.001   0.000   \n",
       "1221    0.070      0.027             0.0       0.060    0.094   0.078   \n",
       "1474    0.001      0.001             0.0       0.001    0.005   0.001   \n",
       "2186    0.026      0.031             0.0       0.007    0.017   0.019   \n",
       "4438    0.002      0.001             0.0       0.001    0.002   0.002   \n",
       "4621    0.001      0.001             0.0       0.001    0.005   0.001   \n",
       "\n",
       "      methionine  phenylalanine  proline  serine  threonine  tryptophan  \\\n",
       "615        0.000          0.000    0.000   0.000      0.000       0.000   \n",
       "1221       0.016          0.075    0.067   0.067      0.062       0.023   \n",
       "1474       0.001          0.002    0.003   0.002      0.001       0.000   \n",
       "2186       0.029          0.017    0.029   0.041      0.024       0.000   \n",
       "4438       0.000          0.002    0.002   0.002      0.002       0.000   \n",
       "4621       0.001          0.002    0.003   0.002      0.001       0.000   \n",
       "\n",
       "      tyrosine  valine  \n",
       "615      0.000   0.000  \n",
       "1221     0.058   0.093  \n",
       "1474     0.001   0.002  \n",
       "2186     0.016   0.024  \n",
       "4438     0.000   0.002  \n",
       "4621     0.001   0.002  "
      ]
     },
     "execution_count": 75,
     "metadata": {},
     "output_type": "execute_result"
    }
   ],
   "source": [
    "df[(df['protein'] == 0) * (df[amino_acids].sum(axis=1) > 0)][['protein']+amino_acids]"
   ]
  },
  {
   "cell_type": "code",
   "execution_count": 76,
   "id": "indoor-auckland",
   "metadata": {},
   "outputs": [],
   "source": [
    "complete = df[(df['protein'] > 0) * (df[amino_acids].sum(axis=1) > 0)][['protein']+amino_acids]"
   ]
  },
  {
   "cell_type": "code",
   "execution_count": 77,
   "id": "imported-polyester",
   "metadata": {},
   "outputs": [],
   "source": [
    "amino_median = []\n",
    "for idx in range(len(amino_acids)):\n",
    "    ratio = complete[[amino_acids[idx]]].sum(axis=1) / complete['protein']\n",
    "    amino_median.append(ratio.median())\n",
    "amino_median = 0.9 * np.array(amino_median)"
   ]
  },
  {
   "cell_type": "code",
   "execution_count": 78,
   "id": "advisory-situation",
   "metadata": {},
   "outputs": [
    {
     "name": "stderr",
     "output_type": "stream",
     "text": [
      "/var/folders/pj/mh9s37yn0r90tmd44r3slss00000gn/T/ipykernel_27438/715047728.py:4: SettingWithCopyWarning:\n",
      "\n",
      "\n",
      "A value is trying to be set on a copy of a slice from a DataFrame\n",
      "\n",
      "See the caveats in the documentation: https://pandas.pydata.org/pandas-docs/stable/user_guide/indexing.html#returning-a-view-versus-a-copy\n",
      "\n"
     ]
    }
   ],
   "source": [
    "mask = (df['protein'] > 0) * (df[amino_acids].sum(axis=1) == 0)\n",
    "fix = df[mask][['protein']].values * amino_median\n",
    "for idx in range(len(amino_acids)):\n",
    "    df[amino_acids[idx]][mask] = fix[:,idx]"
   ]
  },
  {
   "cell_type": "code",
   "execution_count": 82,
   "id": "ancient-spread",
   "metadata": {},
   "outputs": [],
   "source": [
    "#Save amended data\n",
    "df.to_csv('../data/nutrition_augment.csv', index=False)"
   ]
  },
  {
   "cell_type": "code",
   "execution_count": null,
   "id": "included-electricity",
   "metadata": {},
   "outputs": [],
   "source": []
  }
 ],
 "metadata": {
  "kernelspec": {
   "display_name": "Python 3 (ipykernel)",
   "language": "python",
   "name": "python3"
  },
  "language_info": {
   "codemirror_mode": {
    "name": "ipython",
    "version": 3
   },
   "file_extension": ".py",
   "mimetype": "text/x-python",
   "name": "python",
   "nbconvert_exporter": "python",
   "pygments_lexer": "ipython3",
   "version": "3.9.7"
  }
 },
 "nbformat": 4,
 "nbformat_minor": 5
}
