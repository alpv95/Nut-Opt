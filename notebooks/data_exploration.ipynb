{
 "cells": [
  {
   "cell_type": "code",
   "execution_count": 1,
   "id": "driving-combining",
   "metadata": {},
   "outputs": [],
   "source": [
    "%matplotlib inline\n",
    "import numpy as np\n",
    "import matplotlib.pyplot as plt\n",
    "import pandas as pd"
   ]
  },
  {
   "cell_type": "code",
   "execution_count": 2,
   "id": "systematic-springfield",
   "metadata": {},
   "outputs": [
    {
     "name": "stdout",
     "output_type": "stream",
     "text": [
      "19\n"
     ]
    }
   ],
   "source": [
    "#definitions\n",
    "amino_acids = ['alanine', \n",
    "       'arginine', 'aspartic_acid', 'cystine', 'glutamic_acid', 'glycine',\n",
    "       'histidine', 'hydroxyproline', 'isoleucine', 'leucine', 'lysine',\n",
    "       'methionine', 'phenylalanine', 'proline', 'serine', 'threonine',\n",
    "       'tryptophan', 'tyrosine', 'valine',]\n",
    "print(len(amino_acids))\n",
    "# misiing aspargine, glutamine"
   ]
  },
  {
   "cell_type": "markdown",
   "id": "fifth-advocacy",
   "metadata": {},
   "source": [
    "Amino acid assays measure glutamine and aspargine as glutamic acid and aspartic acid, in other words the glutamic acid column is actually glutamine + glutamic acid.\n",
    "\n",
    "Nine amino acids—histidine, isoleucine, leucine, lysine, methionine, phenylalanine, threonine, tryptophan, and valine—are not synthesized by mammals and are therefore dietarily essential or indispensable nutrients.\n",
    "\n",
    "Digestibility also affects amino acid uptake from foods. Food amino acids range from 60 - 100% digestible. "
   ]
  },
  {
   "cell_type": "code",
   "execution_count": 15,
   "id": "automotive-stupid",
   "metadata": {},
   "outputs": [],
   "source": [
    "df = pd.read_csv('../data/nutrition.csv').drop(['Unnamed: 0', 'serving_size'], axis=1)\n",
    "# use the name as the index \n",
    "df = df.drop('lucopene', axis=1)\n",
    "df = df.drop('fatty_acids_total_trans', axis=1)\n",
    "df = df.drop('tocopherol_alpha', axis=1)\n",
    "\n",
    "#Foods to be removed\n",
    "current_names = df['name']\n",
    "flags = ['babyfood', 'infant','dried','beverage','leavening','stevia','toddler']\n",
    "remove = [idx for idx in range(len(df)) if any([label in current_names.iloc[idx].lower() for label in flags])]\n",
    "df = df.drop(remove,axis=0)\n",
    "\n",
    "# names = df['name']\n",
    "# df = df.drop('name', axis=1)\n",
    "# name_to_idx = {v: k for k, v in names.to_dict().items()}"
   ]
  },
  {
   "cell_type": "code",
   "execution_count": 12,
   "id": "bottom-output",
   "metadata": {},
   "outputs": [],
   "source": [
    "mask = df['name'].str.contains('nuts')\n",
    "for food in ['tomato','avocado','yoghurt','milk','potato','lamb',\n",
    "             'celery','cheese','fish','beans','banana','lemon','onion',\n",
    "             'garlic','chicken','bread','cereal','beef','lettuce',\n",
    "            'cucumber','egg','turkey']:\n",
    "    mask = mask | df['name'].str.contains(food)"
   ]
  },
  {
   "cell_type": "code",
   "execution_count": 13,
   "id": "alone-zealand",
   "metadata": {},
   "outputs": [],
   "source": [
    "df = df[mask]\n",
    "names = df['name']\n",
    "df = df.drop('name', axis=1)\n",
    "name_to_idx = {v: k for k, v in names.to_dict().items()}"
   ]
  },
  {
   "cell_type": "code",
   "execution_count": 14,
   "id": "independent-possibility",
   "metadata": {},
   "outputs": [
    {
     "data": {
      "text/plain": [
       "16                                 Pie, lemon, fried pies\n",
       "19                                 Salami, turkey, cooked\n",
       "21                                 Nuts, raw, ginkgo nuts\n",
       "40                                 Gravy, mix, dry, onion\n",
       "60                                  Ground turkey, cooked\n",
       "                              ...                        \n",
       "8538    Turkey sausage, cooked (include BUTTERBALL bre...\n",
       "8560    Rice bowl with chicken, prepared (includes fri...\n",
       "8644    Spanish rice mix, prepared (with canola/vegeta...\n",
       "8731    Fast foods, regular patty; double decker bun w...\n",
       "8750    MORNINGSTAR FARMS Breakfast Sandwich Veggie Sa...\n",
       "Name: name, Length: 1189, dtype: object"
      ]
     },
     "execution_count": 14,
     "metadata": {},
     "output_type": "execute_result"
    }
   ],
   "source": [
    "names"
   ]
  },
  {
   "cell_type": "code",
   "execution_count": 4,
   "id": "hearing-desktop",
   "metadata": {},
   "outputs": [],
   "source": [
    "numbers = ['0', '1', '2', '3', '4', '5', '6', '7', '8', '9', '.']\n",
    "\n",
    "def get_unit(x):\n",
    "    if isinstance(x, str):\n",
    "        for char in range(len(x)):\n",
    "            if x[char] not in numbers:\n",
    "                return x[char:]\n",
    "    else: \n",
    "        return x\n",
    "\n",
    "def delete_unit(x):\n",
    "    if isinstance(x, str):\n",
    "        for char in range(len(x)):\n",
    "            if x[char] not in numbers:\n",
    "                return float(x[0:char:1])\n",
    "        return float(x)\n",
    "    else:\n",
    "        return float(0)"
   ]
  },
  {
   "cell_type": "code",
   "execution_count": 5,
   "id": "civil-horizontal",
   "metadata": {},
   "outputs": [
    {
     "ename": "ValueError",
     "evalue": "could not convert string to float: ''",
     "output_type": "error",
     "traceback": [
      "\u001b[1;31m---------------------------------------------------------------------------\u001b[0m",
      "\u001b[1;31mValueError\u001b[0m                                Traceback (most recent call last)",
      "\u001b[1;32m<ipython-input-5-12447c6c0820>\u001b[0m in \u001b[0;36m<module>\u001b[1;34m\u001b[0m\n\u001b[0;32m      7\u001b[0m \u001b[0mcols_with_unit\u001b[0m \u001b[1;33m=\u001b[0m \u001b[0mdf\u001b[0m\u001b[1;33m.\u001b[0m\u001b[0mcolumns\u001b[0m\u001b[1;33m.\u001b[0m\u001b[0mdrop\u001b[0m\u001b[1;33m(\u001b[0m\u001b[1;33m[\u001b[0m\u001b[1;34m'calories'\u001b[0m\u001b[1;33m]\u001b[0m\u001b[1;33m)\u001b[0m\u001b[1;33m\u001b[0m\u001b[1;33m\u001b[0m\u001b[0m\n\u001b[0;32m      8\u001b[0m \u001b[1;32mfor\u001b[0m \u001b[0mcol\u001b[0m \u001b[1;32min\u001b[0m \u001b[0mdf\u001b[0m\u001b[1;33m[\u001b[0m\u001b[0mcols_with_unit\u001b[0m\u001b[1;33m]\u001b[0m\u001b[1;33m:\u001b[0m\u001b[1;33m\u001b[0m\u001b[1;33m\u001b[0m\u001b[0m\n\u001b[1;32m----> 9\u001b[1;33m     \u001b[0mdf\u001b[0m\u001b[1;33m[\u001b[0m\u001b[0mcol\u001b[0m\u001b[1;33m]\u001b[0m \u001b[1;33m=\u001b[0m \u001b[0mdf\u001b[0m\u001b[1;33m[\u001b[0m\u001b[0mcol\u001b[0m\u001b[1;33m]\u001b[0m\u001b[1;33m.\u001b[0m\u001b[0mapply\u001b[0m\u001b[1;33m(\u001b[0m\u001b[0mdelete_unit\u001b[0m\u001b[1;33m)\u001b[0m\u001b[1;33m\u001b[0m\u001b[1;33m\u001b[0m\u001b[0m\n\u001b[0m\u001b[0;32m     10\u001b[0m \u001b[0mdf\u001b[0m\u001b[1;33m.\u001b[0m\u001b[0mhead\u001b[0m\u001b[1;33m(\u001b[0m\u001b[1;33m)\u001b[0m\u001b[1;33m\u001b[0m\u001b[1;33m\u001b[0m\u001b[0m\n",
      "\u001b[1;32m~\\anaconda3\\lib\\site-packages\\pandas\\core\\series.py\u001b[0m in \u001b[0;36mapply\u001b[1;34m(self, func, convert_dtype, args, **kwargs)\u001b[0m\n\u001b[0;32m   4355\u001b[0m         \u001b[0mdtype\u001b[0m\u001b[1;33m:\u001b[0m \u001b[0mfloat64\u001b[0m\u001b[1;33m\u001b[0m\u001b[1;33m\u001b[0m\u001b[0m\n\u001b[0;32m   4356\u001b[0m         \"\"\"\n\u001b[1;32m-> 4357\u001b[1;33m         \u001b[1;32mreturn\u001b[0m \u001b[0mSeriesApply\u001b[0m\u001b[1;33m(\u001b[0m\u001b[0mself\u001b[0m\u001b[1;33m,\u001b[0m \u001b[0mfunc\u001b[0m\u001b[1;33m,\u001b[0m \u001b[0mconvert_dtype\u001b[0m\u001b[1;33m,\u001b[0m \u001b[0margs\u001b[0m\u001b[1;33m,\u001b[0m \u001b[0mkwargs\u001b[0m\u001b[1;33m)\u001b[0m\u001b[1;33m.\u001b[0m\u001b[0mapply\u001b[0m\u001b[1;33m(\u001b[0m\u001b[1;33m)\u001b[0m\u001b[1;33m\u001b[0m\u001b[1;33m\u001b[0m\u001b[0m\n\u001b[0m\u001b[0;32m   4358\u001b[0m \u001b[1;33m\u001b[0m\u001b[0m\n\u001b[0;32m   4359\u001b[0m     def _reduce(\n",
      "\u001b[1;32m~\\anaconda3\\lib\\site-packages\\pandas\\core\\apply.py\u001b[0m in \u001b[0;36mapply\u001b[1;34m(self)\u001b[0m\n\u001b[0;32m   1041\u001b[0m             \u001b[1;32mreturn\u001b[0m \u001b[0mself\u001b[0m\u001b[1;33m.\u001b[0m\u001b[0mapply_str\u001b[0m\u001b[1;33m(\u001b[0m\u001b[1;33m)\u001b[0m\u001b[1;33m\u001b[0m\u001b[1;33m\u001b[0m\u001b[0m\n\u001b[0;32m   1042\u001b[0m \u001b[1;33m\u001b[0m\u001b[0m\n\u001b[1;32m-> 1043\u001b[1;33m         \u001b[1;32mreturn\u001b[0m \u001b[0mself\u001b[0m\u001b[1;33m.\u001b[0m\u001b[0mapply_standard\u001b[0m\u001b[1;33m(\u001b[0m\u001b[1;33m)\u001b[0m\u001b[1;33m\u001b[0m\u001b[1;33m\u001b[0m\u001b[0m\n\u001b[0m\u001b[0;32m   1044\u001b[0m \u001b[1;33m\u001b[0m\u001b[0m\n\u001b[0;32m   1045\u001b[0m     \u001b[1;32mdef\u001b[0m \u001b[0magg\u001b[0m\u001b[1;33m(\u001b[0m\u001b[0mself\u001b[0m\u001b[1;33m)\u001b[0m\u001b[1;33m:\u001b[0m\u001b[1;33m\u001b[0m\u001b[1;33m\u001b[0m\u001b[0m\n",
      "\u001b[1;32m~\\anaconda3\\lib\\site-packages\\pandas\\core\\apply.py\u001b[0m in \u001b[0;36mapply_standard\u001b[1;34m(self)\u001b[0m\n\u001b[0;32m   1096\u001b[0m                 \u001b[1;31m# List[Union[Callable[..., Any], str]]]]]\"; expected\u001b[0m\u001b[1;33m\u001b[0m\u001b[1;33m\u001b[0m\u001b[0m\n\u001b[0;32m   1097\u001b[0m                 \u001b[1;31m# \"Callable[[Any], Any]\"\u001b[0m\u001b[1;33m\u001b[0m\u001b[1;33m\u001b[0m\u001b[0m\n\u001b[1;32m-> 1098\u001b[1;33m                 mapped = lib.map_infer(\n\u001b[0m\u001b[0;32m   1099\u001b[0m                     \u001b[0mvalues\u001b[0m\u001b[1;33m,\u001b[0m\u001b[1;33m\u001b[0m\u001b[1;33m\u001b[0m\u001b[0m\n\u001b[0;32m   1100\u001b[0m                     \u001b[0mf\u001b[0m\u001b[1;33m,\u001b[0m  \u001b[1;31m# type: ignore[arg-type]\u001b[0m\u001b[1;33m\u001b[0m\u001b[1;33m\u001b[0m\u001b[0m\n",
      "\u001b[1;32m~\\anaconda3\\lib\\site-packages\\pandas\\_libs\\lib.pyx\u001b[0m in \u001b[0;36mpandas._libs.lib.map_infer\u001b[1;34m()\u001b[0m\n",
      "\u001b[1;32m<ipython-input-4-1ab5bed16278>\u001b[0m in \u001b[0;36mdelete_unit\u001b[1;34m(x)\u001b[0m\n\u001b[0;32m     13\u001b[0m         \u001b[1;32mfor\u001b[0m \u001b[0mchar\u001b[0m \u001b[1;32min\u001b[0m \u001b[0mrange\u001b[0m\u001b[1;33m(\u001b[0m\u001b[0mlen\u001b[0m\u001b[1;33m(\u001b[0m\u001b[0mx\u001b[0m\u001b[1;33m)\u001b[0m\u001b[1;33m)\u001b[0m\u001b[1;33m:\u001b[0m\u001b[1;33m\u001b[0m\u001b[1;33m\u001b[0m\u001b[0m\n\u001b[0;32m     14\u001b[0m             \u001b[1;32mif\u001b[0m \u001b[0mx\u001b[0m\u001b[1;33m[\u001b[0m\u001b[0mchar\u001b[0m\u001b[1;33m]\u001b[0m \u001b[1;32mnot\u001b[0m \u001b[1;32min\u001b[0m \u001b[0mnumbers\u001b[0m\u001b[1;33m:\u001b[0m\u001b[1;33m\u001b[0m\u001b[1;33m\u001b[0m\u001b[0m\n\u001b[1;32m---> 15\u001b[1;33m                 \u001b[1;32mreturn\u001b[0m \u001b[0mfloat\u001b[0m\u001b[1;33m(\u001b[0m\u001b[0mx\u001b[0m\u001b[1;33m[\u001b[0m\u001b[1;36m0\u001b[0m\u001b[1;33m:\u001b[0m\u001b[0mchar\u001b[0m\u001b[1;33m:\u001b[0m\u001b[1;36m1\u001b[0m\u001b[1;33m]\u001b[0m\u001b[1;33m)\u001b[0m\u001b[1;33m\u001b[0m\u001b[1;33m\u001b[0m\u001b[0m\n\u001b[0m\u001b[0;32m     16\u001b[0m         \u001b[1;32mreturn\u001b[0m \u001b[0mfloat\u001b[0m\u001b[1;33m(\u001b[0m\u001b[0mx\u001b[0m\u001b[1;33m)\u001b[0m\u001b[1;33m\u001b[0m\u001b[1;33m\u001b[0m\u001b[0m\n\u001b[0;32m     17\u001b[0m     \u001b[1;32melse\u001b[0m\u001b[1;33m:\u001b[0m\u001b[1;33m\u001b[0m\u001b[1;33m\u001b[0m\u001b[0m\n",
      "\u001b[1;31mValueError\u001b[0m: could not convert string to float: ''"
     ]
    }
   ],
   "source": [
    "units = df.iloc[1].apply(get_unit).to_dict()\n",
    "units['calories'] = 'kcal'\n",
    "units['hydroxyproline'] = 'g'\n",
    "units['galactose'] = 'g'\n",
    "units['cholesterol'] = 'mg'\n",
    "\n",
    "cols_with_unit = df.columns.drop(['calories'])\n",
    "for col in df[cols_with_unit]:\n",
    "    df[col] = df[col].apply(delete_unit)\n",
    "df.head()"
   ]
  },
  {
   "cell_type": "code",
   "execution_count": 67,
   "id": "current-knock",
   "metadata": {},
   "outputs": [
    {
     "name": "stderr",
     "output_type": "stream",
     "text": [
      "/var/folders/pj/mh9s37yn0r90tmd44r3slss00000gn/T/ipykernel_28289/4121910711.py:12: SettingWithCopyWarning: \n",
      "A value is trying to be set on a copy of a slice from a DataFrame\n",
      "\n",
      "See the caveats in the documentation: https://pandas.pydata.org/pandas-docs/stable/user_guide/indexing.html#returning-a-view-versus-a-copy\n",
      "  df[amino_acids[idx]][mask] = fix[:,idx]\n"
     ]
    }
   ],
   "source": [
    "complete = df[(df['protein'] > 0) * (df[amino_acids].sum(axis=1) > 0)][['protein']+amino_acids]\n",
    "\n",
    "amino_median = []\n",
    "for idx in range(len(amino_acids)):\n",
    "    ratio = complete[[amino_acids[idx]]].sum(axis=1) / complete['protein']\n",
    "    amino_median.append(ratio.median())\n",
    "amino_median = 0.9 * np.array(amino_median)\n",
    "\n",
    "mask = (df['protein'] > 0) * (df[amino_acids].sum(axis=1) == 0)\n",
    "fix = df[mask][['protein']].values * amino_median\n",
    "for idx in range(len(amino_acids)):\n",
    "    df[amino_acids[idx]][mask] = fix[:,idx]"
   ]
  },
  {
   "cell_type": "code",
   "execution_count": 8,
   "id": "laden-apparel",
   "metadata": {},
   "outputs": [
    {
     "data": {
      "text/html": [
       "<div>\n",
       "<style scoped>\n",
       "    .dataframe tbody tr th:only-of-type {\n",
       "        vertical-align: middle;\n",
       "    }\n",
       "\n",
       "    .dataframe tbody tr th {\n",
       "        vertical-align: top;\n",
       "    }\n",
       "\n",
       "    .dataframe thead th {\n",
       "        text-align: right;\n",
       "    }\n",
       "</style>\n",
       "<table border=\"1\" class=\"dataframe\">\n",
       "  <thead>\n",
       "    <tr style=\"text-align: right;\">\n",
       "      <th></th>\n",
       "      <th>calories</th>\n",
       "      <th>total_fat</th>\n",
       "      <th>saturated_fat</th>\n",
       "      <th>cholesterol</th>\n",
       "      <th>sodium</th>\n",
       "      <th>choline</th>\n",
       "      <th>folate</th>\n",
       "      <th>folic_acid</th>\n",
       "      <th>niacin</th>\n",
       "      <th>pantothenic_acid</th>\n",
       "      <th>...</th>\n",
       "      <th>sucrose</th>\n",
       "      <th>fat</th>\n",
       "      <th>saturated_fatty_acids</th>\n",
       "      <th>monounsaturated_fatty_acids</th>\n",
       "      <th>polyunsaturated_fatty_acids</th>\n",
       "      <th>alcohol</th>\n",
       "      <th>ash</th>\n",
       "      <th>caffeine</th>\n",
       "      <th>theobromine</th>\n",
       "      <th>water</th>\n",
       "    </tr>\n",
       "  </thead>\n",
       "  <tbody>\n",
       "    <tr>\n",
       "      <th>count</th>\n",
       "      <td>1189.000000</td>\n",
       "      <td>1189.000000</td>\n",
       "      <td>1189.000000</td>\n",
       "      <td>1189.00000</td>\n",
       "      <td>1189.000000</td>\n",
       "      <td>1189.000000</td>\n",
       "      <td>1189.000000</td>\n",
       "      <td>1189.000000</td>\n",
       "      <td>1189.000000</td>\n",
       "      <td>1189.00000</td>\n",
       "      <td>...</td>\n",
       "      <td>1189.000000</td>\n",
       "      <td>1189.000000</td>\n",
       "      <td>1189.000000</td>\n",
       "      <td>1189.000000</td>\n",
       "      <td>1189.000000</td>\n",
       "      <td>1189.0</td>\n",
       "      <td>1189.000000</td>\n",
       "      <td>1189.000000</td>\n",
       "      <td>1189.000000</td>\n",
       "      <td>1189.000000</td>\n",
       "    </tr>\n",
       "    <tr>\n",
       "      <th>mean</th>\n",
       "      <td>231.903280</td>\n",
       "      <td>11.594701</td>\n",
       "      <td>3.369554</td>\n",
       "      <td>28.64508</td>\n",
       "      <td>527.531539</td>\n",
       "      <td>18.654415</td>\n",
       "      <td>39.995795</td>\n",
       "      <td>11.713204</td>\n",
       "      <td>2.655678</td>\n",
       "      <td>0.42613</td>\n",
       "      <td>...</td>\n",
       "      <td>0.469899</td>\n",
       "      <td>11.584828</td>\n",
       "      <td>3.369747</td>\n",
       "      <td>4.421496</td>\n",
       "      <td>2.550116</td>\n",
       "      <td>0.0</td>\n",
       "      <td>2.261884</td>\n",
       "      <td>1.555929</td>\n",
       "      <td>2.821699</td>\n",
       "      <td>53.397939</td>\n",
       "    </tr>\n",
       "    <tr>\n",
       "      <th>std</th>\n",
       "      <td>163.763513</td>\n",
       "      <td>14.637707</td>\n",
       "      <td>5.075379</td>\n",
       "      <td>52.39397</td>\n",
       "      <td>1498.937023</td>\n",
       "      <td>29.142207</td>\n",
       "      <td>77.017855</td>\n",
       "      <td>34.362682</td>\n",
       "      <td>3.034824</td>\n",
       "      <td>0.56869</td>\n",
       "      <td>...</td>\n",
       "      <td>2.350745</td>\n",
       "      <td>14.624214</td>\n",
       "      <td>5.069425</td>\n",
       "      <td>7.208251</td>\n",
       "      <td>4.413667</td>\n",
       "      <td>0.0</td>\n",
       "      <td>3.465772</td>\n",
       "      <td>33.629637</td>\n",
       "      <td>20.226375</td>\n",
       "      <td>29.310566</td>\n",
       "    </tr>\n",
       "    <tr>\n",
       "      <th>min</th>\n",
       "      <td>3.000000</td>\n",
       "      <td>0.000000</td>\n",
       "      <td>0.000000</td>\n",
       "      <td>0.00000</td>\n",
       "      <td>0.000000</td>\n",
       "      <td>0.000000</td>\n",
       "      <td>0.000000</td>\n",
       "      <td>0.000000</td>\n",
       "      <td>0.000000</td>\n",
       "      <td>0.00000</td>\n",
       "      <td>...</td>\n",
       "      <td>0.000000</td>\n",
       "      <td>0.000000</td>\n",
       "      <td>0.000000</td>\n",
       "      <td>0.000000</td>\n",
       "      <td>0.000000</td>\n",
       "      <td>0.0</td>\n",
       "      <td>0.000000</td>\n",
       "      <td>0.000000</td>\n",
       "      <td>0.000000</td>\n",
       "      <td>0.000000</td>\n",
       "    </tr>\n",
       "    <tr>\n",
       "      <th>25%</th>\n",
       "      <td>100.000000</td>\n",
       "      <td>1.700000</td>\n",
       "      <td>0.400000</td>\n",
       "      <td>0.00000</td>\n",
       "      <td>78.000000</td>\n",
       "      <td>0.000000</td>\n",
       "      <td>4.000000</td>\n",
       "      <td>0.000000</td>\n",
       "      <td>0.500000</td>\n",
       "      <td>0.04300</td>\n",
       "      <td>...</td>\n",
       "      <td>0.000000</td>\n",
       "      <td>1.710000</td>\n",
       "      <td>0.409000</td>\n",
       "      <td>0.412000</td>\n",
       "      <td>0.233000</td>\n",
       "      <td>0.0</td>\n",
       "      <td>1.120000</td>\n",
       "      <td>0.000000</td>\n",
       "      <td>0.000000</td>\n",
       "      <td>33.870000</td>\n",
       "    </tr>\n",
       "    <tr>\n",
       "      <th>50%</th>\n",
       "      <td>206.000000</td>\n",
       "      <td>6.500000</td>\n",
       "      <td>1.800000</td>\n",
       "      <td>8.00000</td>\n",
       "      <td>364.000000</td>\n",
       "      <td>3.800000</td>\n",
       "      <td>14.000000</td>\n",
       "      <td>0.000000</td>\n",
       "      <td>1.700000</td>\n",
       "      <td>0.31600</td>\n",
       "      <td>...</td>\n",
       "      <td>0.000000</td>\n",
       "      <td>6.510000</td>\n",
       "      <td>1.832000</td>\n",
       "      <td>1.924000</td>\n",
       "      <td>1.063000</td>\n",
       "      <td>0.0</td>\n",
       "      <td>1.780000</td>\n",
       "      <td>0.000000</td>\n",
       "      <td>0.000000</td>\n",
       "      <td>59.550000</td>\n",
       "    </tr>\n",
       "    <tr>\n",
       "      <th>75%</th>\n",
       "      <td>324.000000</td>\n",
       "      <td>16.000000</td>\n",
       "      <td>4.600000</td>\n",
       "      <td>43.00000</td>\n",
       "      <td>619.000000</td>\n",
       "      <td>28.100000</td>\n",
       "      <td>51.000000</td>\n",
       "      <td>0.000000</td>\n",
       "      <td>3.758000</td>\n",
       "      <td>0.59200</td>\n",
       "      <td>...</td>\n",
       "      <td>0.000000</td>\n",
       "      <td>16.230000</td>\n",
       "      <td>4.601000</td>\n",
       "      <td>5.601000</td>\n",
       "      <td>3.016000</td>\n",
       "      <td>0.0</td>\n",
       "      <td>2.740000</td>\n",
       "      <td>0.000000</td>\n",
       "      <td>0.000000</td>\n",
       "      <td>76.100000</td>\n",
       "    </tr>\n",
       "    <tr>\n",
       "      <th>max</th>\n",
       "      <td>902.000000</td>\n",
       "      <td>100.000000</td>\n",
       "      <td>86.000000</td>\n",
       "      <td>933.00000</td>\n",
       "      <td>26000.000000</td>\n",
       "      <td>247.500000</td>\n",
       "      <td>1427.000000</td>\n",
       "      <td>422.000000</td>\n",
       "      <td>25.700000</td>\n",
       "      <td>10.10000</td>\n",
       "      <td>...</td>\n",
       "      <td>42.310000</td>\n",
       "      <td>100.000000</td>\n",
       "      <td>86.002000</td>\n",
       "      <td>70.554000</td>\n",
       "      <td>53.100000</td>\n",
       "      <td>0.0</td>\n",
       "      <td>59.300000</td>\n",
       "      <td>839.000000</td>\n",
       "      <td>368.000000</td>\n",
       "      <td>98.690000</td>\n",
       "    </tr>\n",
       "  </tbody>\n",
       "</table>\n",
       "<p>8 rows × 71 columns</p>\n",
       "</div>"
      ],
      "text/plain": [
       "          calories    total_fat  saturated_fat  cholesterol        sodium  \\\n",
       "count  1189.000000  1189.000000    1189.000000   1189.00000   1189.000000   \n",
       "mean    231.903280    11.594701       3.369554     28.64508    527.531539   \n",
       "std     163.763513    14.637707       5.075379     52.39397   1498.937023   \n",
       "min       3.000000     0.000000       0.000000      0.00000      0.000000   \n",
       "25%     100.000000     1.700000       0.400000      0.00000     78.000000   \n",
       "50%     206.000000     6.500000       1.800000      8.00000    364.000000   \n",
       "75%     324.000000    16.000000       4.600000     43.00000    619.000000   \n",
       "max     902.000000   100.000000      86.000000    933.00000  26000.000000   \n",
       "\n",
       "           choline       folate   folic_acid       niacin  pantothenic_acid  \\\n",
       "count  1189.000000  1189.000000  1189.000000  1189.000000        1189.00000   \n",
       "mean     18.654415    39.995795    11.713204     2.655678           0.42613   \n",
       "std      29.142207    77.017855    34.362682     3.034824           0.56869   \n",
       "min       0.000000     0.000000     0.000000     0.000000           0.00000   \n",
       "25%       0.000000     4.000000     0.000000     0.500000           0.04300   \n",
       "50%       3.800000    14.000000     0.000000     1.700000           0.31600   \n",
       "75%      28.100000    51.000000     0.000000     3.758000           0.59200   \n",
       "max     247.500000  1427.000000   422.000000    25.700000          10.10000   \n",
       "\n",
       "       ...      sucrose          fat  saturated_fatty_acids  \\\n",
       "count  ...  1189.000000  1189.000000            1189.000000   \n",
       "mean   ...     0.469899    11.584828               3.369747   \n",
       "std    ...     2.350745    14.624214               5.069425   \n",
       "min    ...     0.000000     0.000000               0.000000   \n",
       "25%    ...     0.000000     1.710000               0.409000   \n",
       "50%    ...     0.000000     6.510000               1.832000   \n",
       "75%    ...     0.000000    16.230000               4.601000   \n",
       "max    ...    42.310000   100.000000              86.002000   \n",
       "\n",
       "       monounsaturated_fatty_acids  polyunsaturated_fatty_acids  alcohol  \\\n",
       "count                  1189.000000                  1189.000000   1189.0   \n",
       "mean                      4.421496                     2.550116      0.0   \n",
       "std                       7.208251                     4.413667      0.0   \n",
       "min                       0.000000                     0.000000      0.0   \n",
       "25%                       0.412000                     0.233000      0.0   \n",
       "50%                       1.924000                     1.063000      0.0   \n",
       "75%                       5.601000                     3.016000      0.0   \n",
       "max                      70.554000                    53.100000      0.0   \n",
       "\n",
       "               ash     caffeine  theobromine        water  \n",
       "count  1189.000000  1189.000000  1189.000000  1189.000000  \n",
       "mean      2.261884     1.555929     2.821699    53.397939  \n",
       "std       3.465772    33.629637    20.226375    29.310566  \n",
       "min       0.000000     0.000000     0.000000     0.000000  \n",
       "25%       1.120000     0.000000     0.000000    33.870000  \n",
       "50%       1.780000     0.000000     0.000000    59.550000  \n",
       "75%       2.740000     0.000000     0.000000    76.100000  \n",
       "max      59.300000   839.000000   368.000000    98.690000  \n",
       "\n",
       "[8 rows x 71 columns]"
      ]
     },
     "execution_count": 8,
     "metadata": {},
     "output_type": "execute_result"
    }
   ],
   "source": [
    "df.describe()"
   ]
  },
  {
   "cell_type": "code",
   "execution_count": 9,
   "id": "fuzzy-experiment",
   "metadata": {},
   "outputs": [],
   "source": [
    "p_ratio = df['protein'] / df['calories']\n",
    "p_ratio.replace([np.inf, -np.inf], np.nan, inplace=True)\n",
    "p_ratio = p_ratio.dropna().sort_values(ascending=False)"
   ]
  },
  {
   "cell_type": "code",
   "execution_count": 10,
   "id": "communist-poland",
   "metadata": {},
   "outputs": [
    {
     "data": {
      "text/plain": [
       "Text(0.5, 0, 'Grams of Protein per calory')"
      ]
     },
     "execution_count": 10,
     "metadata": {},
     "output_type": "execute_result"
    },
    {
     "data": {
      "image/png": "[encoded data removed]",
      "text/plain": [
       "<Figure size 432x288 with 1 Axes>"
      ]
     },
     "metadata": {
      "needs_background": "light"
     },
     "output_type": "display_data"
    }
   ],
   "source": [
    "fig, ax1 = plt.subplots()\n",
    "p_ratio.head(15).plot.barh(title='Products with highest protein amount per calory', ax=ax1)\n",
    "ax1.set_yticklabels(names[p_ratio.head(15).index].values)\n",
    "ax1.set_xlabel('Grams of Protein per calory')"
   ]
  },
  {
   "cell_type": "code",
   "execution_count": 11,
   "id": "instructional-lighting",
   "metadata": {},
   "outputs": [],
   "source": [
    "f_ratio = df['total_fat'] / df['calories']\n",
    "f_ratio.replace([np.inf, -np.inf], np.nan, inplace=True)\n",
    "f_ratio = f_ratio.dropna().sort_values(ascending=False)"
   ]
  },
  {
   "cell_type": "code",
   "execution_count": 12,
   "id": "liked-password",
   "metadata": {},
   "outputs": [
    {
     "data": {
      "text/plain": [
       "Text(0.5, 0, 'Grams of Fat per calory')"
      ]
     },
     "execution_count": 12,
     "metadata": {},
     "output_type": "execute_result"
    },
    {
     "data": {
      "image/png": "[encoded data removed]",
      "text/plain": [
       "<Figure size 432x288 with 1 Axes>"
      ]
     },
     "metadata": {
      "needs_background": "light"
     },
     "output_type": "display_data"
    }
   ],
   "source": [
    "fig, ax1 = plt.subplots()\n",
    "f_ratio.head(15).plot.barh(title='Products with highest fat amount per calory', ax=ax1)\n",
    "ax1.set_yticklabels(names[f_ratio.head(15).index].values)\n",
    "ax1.set_xlabel('Grams of Fat per calory')"
   ]
  },
  {
   "cell_type": "markdown",
   "id": "likely-fleece",
   "metadata": {},
   "source": [
    "All makes sense."
   ]
  },
  {
   "cell_type": "code",
   "execution_count": 37,
   "id": "equipped-field",
   "metadata": {},
   "outputs": [],
   "source": [
    "#Save cleaned data\n",
    "df.to_csv('../data/nutrition_clean.csv', index=False)\n",
    "names.to_csv('../data/food_names.csv', index=False)"
   ]
  },
  {
   "cell_type": "code",
   "execution_count": 13,
   "id": "automotive-tobago",
   "metadata": {},
   "outputs": [],
   "source": [
    "#Save cleaned data subset\n",
    "df.to_csv('../data/nutrition_clean_subset.csv', index=False)\n",
    "names.to_csv('../data/food_names_subset.csv', index=False)"
   ]
  },
  {
   "cell_type": "code",
   "execution_count": 39,
   "id": "computational-offset",
   "metadata": {},
   "outputs": [],
   "source": [
    "import json\n",
    "with open('../data/units.json', \"w\") as outfile:\n",
    "    json.dump(units, outfile)"
   ]
  },
  {
   "cell_type": "code",
   "execution_count": 27,
   "id": "annoying-naples",
   "metadata": {},
   "outputs": [
    {
     "name": "stdout",
     "output_type": "stream",
     "text": [
      "50 < total_fat (g) < 120\n",
      "10 < saturated_fat (g) < 25\n",
      "50 < cholesterol (mg) < 250\n",
      "1500 < sodium (mg) < 3000\n",
      "550 < choline (mg) < 2500\n",
      "400 < folate (mcg) < 900\n",
      "16 < niacin (mg) < 30\n",
      "5 < pantothenic_acid (mg) < 100\n",
      "1.3 < riboflavin (mg) < 500\n",
      "1.2 < thiamin (mg) < 200\n",
      "3000 < vitamin_a (IU) < 8000\n",
      "2.4 < vitamin_b12 (mcg) < 8\n",
      "1.3 < vitamin_b6 (mg) < 4\n",
      "90 < vitamin_c (mg) < 1000\n",
      "600 < vitamin_d (IU) < 5000\n",
      "15 < vitamin_e (mg) < 500\n",
      "120 < vitamin_k (mcg) < 500\n",
      "1300 < calcium (mg) < 2000\n",
      "0.9 < copper (mg) < 7\n",
      "8 < irom (mg) < 35\n",
      "400 < magnesium (mg) < 500\n",
      "2.3 < manganese (mg) < 7\n",
      "700 < phosphorous (mg) < 3500\n",
      "4700 < potassium (mg) < 7000\n",
      "55 < selenium (mcg) < 300\n",
      "11 < zink (mg) < 35\n",
      "70 < protein (g) < 100\n",
      "0.287 < cystine (g) < inf\n",
      "0.7 < histidine (g) < inf\n",
      "1.4 < isoleucine (g) < inf\n",
      "2.73 < leucine (g) < inf\n",
      "2.1 < lysine (g) < inf\n",
      "0.728 < methionine (g) < inf\n",
      "0.875 < phenylalanine (g) < inf\n",
      "1.05 < threonine (g) < inf\n",
      "0.28 < tryptophan (g) < inf\n",
      "0.875 < tyrosine (g) < inf\n",
      "1.82 < valine (g) < inf\n",
      "130 < carbohydrate (g) < 400\n",
      "38 < fiber (g) < 55\n",
      "0 < sugars (g) < 40\n",
      "17 < polyunsaturated_fatty_acids (g) < 30\n",
      "0 < alcohol (g) < 5\n",
      "100 < water (g) < 2000\n",
      "Total calories:  861.0779326123795 kcal\n",
      "Total weight:  2272.736320920146 g\n",
      "                                                    0     1          2\n",
      "5                             Water, generic, bottled  1170  10.799745\n",
      "6                             Cauliflower, raw, green  1174   4.053304\n",
      "12  Mushrooms, grilled, exposed to ultraviolet lig...  5294   2.148794\n",
      "2                                     Watercress, raw   452   1.528965\n",
      "3                                      Chicken spread   487   0.825734\n",
      "8   Cocoa, processed with alkali, unsweetened, dry...  3685   0.551558\n",
      "4                       Fish, raw, mixed species, roe   669   0.544810\n",
      "14  Cabbage, without salt, drained, boiled, cooked...  5924   0.446486\n",
      "15  Tofu, prepared with calcium sulfate, salted an...  6069   0.435278\n",
      "13  Cereals ready-to-eat, FIBER ONE Bran Cereal, G...  5478   0.412898\n",
      "11  McDONALD'S, NEWMAN'S OWN Low Fat Balsamic Vina...  4862   0.392490\n",
      "9   Bamboo shoots, without salt, drained, boiled, ...  3838   0.162079\n",
      "7                Vitasoy USA Nasoya, Lite Silken Tofu  2261   0.157053\n",
      "10  Gelatin desserts, with aspartame, reduced calo...  4326   0.120376\n",
      "0                               Oil, soybean lecithin    62   0.096549\n",
      "1                                     Oil, wheat germ   423   0.051247\n",
      "Total calories:  863.5803976213211 kcal\n",
      "Total weight:  1125.6109450428264 g\n",
      "                                                    0     1         2\n",
      "5                             Cauliflower, raw, green  1174  3.782620\n",
      "11  Mushrooms, grilled, exposed to ultraviolet lig...  5294  2.176777\n",
      "2                                     Watercress, raw   452  1.519043\n",
      "3                                      Chicken spread   487  0.763757\n",
      "8   Cocoa, processed with alkali, unsweetened, dry...  3685  0.604412\n",
      "4                       Fish, raw, mixed species, roe   669  0.554090\n",
      "13  Cabbage, without salt, drained, boiled, cooked...  5924  0.525988\n",
      "14  Tofu, prepared with calcium sulfate, salted an...  6069  0.471137\n",
      "12  Cereals ready-to-eat, FIBER ONE Bran Cereal, G...  5478  0.398830\n",
      "9   Gelatin desserts, with aspartame, reduced calo...  4326  0.220989\n",
      "0                               Oil, soybean lecithin    62  0.124532\n",
      "1                                     Oil, wheat germ   423  0.049450\n",
      "7                Vitasoy USA Nasoya, Lite Silken Tofu  2261  0.030717\n",
      "6              Desserts, unsweetened, tablets, rennin  2073  0.019203\n",
      "10  Cereals ready-to-eat, Whole Grain TOTAL, GENER...  4816  0.014566\n",
      "Total calories:  951.6529548695112 kcal\n",
      "Total weight:  372.7707312283003 g\n",
      "                                                    0     1         2\n",
      "10  Cocoa, processed with alkali, unsweetened, dry...  3685  0.534038\n",
      "14  Soy sauce, made from hydrolyzed vegetable prot...  6015  0.378417\n",
      "12  Milk, with added vitamin A and vitamin D, regu...  5089  0.360381\n",
      "13  Cereals ready-to-eat, FIBER ONE Bran Cereal, G...  5478  0.351363\n",
      "16  Pork, simmered, cooked, chitterlings, variety ...  6540  0.326192\n",
      "0                               Oil, soybean lecithin    62  0.275665\n",
      "6                       Fish, raw, mixed species, roe   669  0.272379\n",
      "7                 Soy protein isolate, potassium type  1294  0.260163\n",
      "2                                Spices, chili powder   138  0.227077\n",
      "17  Mushrooms, raw, exposed to ultraviolet light, ...  6671  0.211384\n",
      "5                                         Carob flour   587  0.150164\n",
      "15  Cereals ready-to-eat, KRETSCHMER Toasted Wheat...  6068  0.145177\n",
      "11  Cereals ready-to-eat, Whole Grain TOTAL, GENER...  4816  0.089232\n",
      "1                               Egg, fresh, raw, yolk    63  0.046606\n",
      "8                  Acerola, raw, (west indian cherry)  1347  0.034160\n",
      "9              Desserts, unsweetened, tablets, rennin  2073  0.031921\n",
      "3                                Spices, ground, sage   173  0.025389\n",
      "4                                   Wheat bran, crude   351  0.007998\n"
     ]
    }
   ],
   "source": [
    "!python ../main.py --n_sweep 3"
   ]
  },
  {
   "cell_type": "code",
   "execution_count": null,
   "id": "possible-assumption",
   "metadata": {},
   "outputs": [],
   "source": []
  }
 ],
 "metadata": {
  "kernelspec": {
   "display_name": "Python 3 (ipykernel)",
   "language": "python",
   "name": "python3"
  },
  "language_info": {
   "codemirror_mode": {
    "name": "ipython",
    "version": 3
   },
   "file_extension": ".py",
   "mimetype": "text/x-python",
   "name": "python",
   "nbconvert_exporter": "python",
   "pygments_lexer": "ipython3",
   "version": "3.9.7"
  }
 },
 "nbformat": 4,
 "nbformat_minor": 5
}
