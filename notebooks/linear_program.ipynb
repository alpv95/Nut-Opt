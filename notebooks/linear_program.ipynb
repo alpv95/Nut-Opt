{
 "cells": [
  {
   "cell_type": "code",
   "execution_count": 1,
   "id": "guilty-article",
   "metadata": {},
   "outputs": [],
   "source": [
    "%matplotlib inline\n",
    "import numpy as np\n",
    "import matplotlib.pyplot as plt\n",
    "import pandas as pd\n",
    "import cvxpy as cp\n",
    "import json\n",
    "import plotly.express as px\n",
    "import plotly.graph_objects as go\n",
    "from plotly.subplots import make_subplots\n",
    "from collections import Counter"
   ]
  },
  {
   "cell_type": "code",
   "execution_count": 20,
   "id": "polar-interstate",
   "metadata": {},
   "outputs": [],
   "source": [
    "#definitions\n",
    "amino_acids = ['alanine', \n",
    "       'arginine', 'aspartic_acid', 'cystine', 'glutamic_acid', 'glycine',\n",
    "       'histidine', 'hydroxyproline', 'isoleucine', 'leucine', 'lysine',\n",
    "       'methionine', 'phenylalanine', 'proline', 'serine', 'threonine',\n",
    "       'tryptophan', 'tyrosine', 'valine',]\n",
    "essential = ['histidine', 'isoleucine', 'leucine', 'lysine', \n",
    "                         'methionine', 'phenylalanine', 'threonine', 'tryptophan', 'valine']\n",
    "macro_minerals = ['sodium', 'potassium', 'calcium', 'phosphorous','magnesium']\n",
    "trace_minerals = ['copper','irom','manganese','zink','selenium']\n",
    "vitamins = ['choline', 'riboflavin','thiamin','niacin','pantothenic_acid',\n",
    "            'folate','folic_acid','vitamin_a','vitamin_b12','vitamin_b6',\n",
    "            'vitamin_c','vitamin_d','vitamin_e','vitamin_k']\n",
    "fatty_acids = ['saturated_fatty_acids','monounsaturated_fatty_acids',\n",
    "               'polyunsaturated_fatty_acids']\n",
    "summary = ['protein','carbohydrate','sugars','total_fat','saturated_fat','fiber']\n",
    "other = ['cholesterol']"
   ]
  },
  {
   "cell_type": "code",
   "execution_count": 21,
   "id": "inside-horror",
   "metadata": {},
   "outputs": [],
   "source": [
    "df = pd.read_csv('../data/nutrition_clean_subset.csv')\n",
    "names = pd.read_csv('../data/food_names_subset.csv')\n",
    "names = names['name']\n",
    "name_to_idx = {v: k for k, v in names.to_dict().items()}\n",
    "columns_to_idx = {v: i for i, v in enumerate(df.columns)}\n",
    "\n",
    "with open('../data/units.json') as json_file:\n",
    "    units = json.load(json_file)"
   ]
  },
  {
   "cell_type": "markdown",
   "id": "bound-remainder",
   "metadata": {},
   "source": [
    "## Constraints"
   ]
  },
  {
   "cell_type": "code",
   "execution_count": 22,
   "id": "narrow-response",
   "metadata": {},
   "outputs": [],
   "source": [
    "lower = {'calories': 1900,\n",
    " 'total_fat': 50,\n",
    " 'saturated_fat': 10,\n",
    " 'cholesterol': 50,\n",
    " 'sodium': 1500,\n",
    " 'choline': 550,\n",
    " 'folate': 400,\n",
    "#  'folic_acid': 400,\n",
    " 'niacin': 16,\n",
    " 'pantothenic_acid': 5,\n",
    " 'riboflavin': 1.3,\n",
    " 'thiamin': 1.2,\n",
    " 'vitamin_a': 3000,\n",
    " 'vitamin_a_rae': ' mcg',\n",
    " 'carotene_alpha': ' mcg',\n",
    " 'carotene_beta': ' mcg',\n",
    " 'cryptoxanthin_beta': ' mcg',\n",
    " 'lutein_zeaxanthin': ' mcg',\n",
    " 'vitamin_b12': 2.4,\n",
    " 'vitamin_b6': 1.3,\n",
    " 'vitamin_c': 90,\n",
    " 'vitamin_d': 600,\n",
    " 'vitamin_e': 15,\n",
    " 'vitamin_k': 120,\n",
    " 'calcium': 1300,\n",
    " 'copper': 0.9,\n",
    " 'irom': 8,\n",
    " 'magnesium': 400,\n",
    " 'manganese': 2.3,\n",
    " 'phosphorous': 700,\n",
    " 'potassium': 4700,\n",
    " 'selenium': 55,\n",
    " 'zink': 11,\n",
    " 'protein': 70,\n",
    " 'alanine': ' g',\n",
    " 'arginine': ' g',\n",
    " 'aspartic_acid': ' g',\n",
    " 'cystine': 0.287,\n",
    " 'glutamic_acid': ' g',\n",
    " 'glycine': ' g',\n",
    " 'histidine': 0.7,\n",
    " 'hydroxyproline': 'g',\n",
    " 'isoleucine': 1.4,\n",
    " 'leucine': 2.73,\n",
    " 'lysine': 2.1,\n",
    " 'methionine': 0.728,\n",
    " 'phenylalanine': 0.875,\n",
    " 'proline': ' g',\n",
    " 'serine': ' g',\n",
    " 'threonine': 1.05,\n",
    " 'tryptophan': 0.28,\n",
    " 'tyrosine': 0.875,\n",
    " 'valine': 1.82,\n",
    " 'carbohydrate': 130, #130\n",
    " 'fiber': 38,\n",
    " 'sugars': 'g',\n",
    " 'fructose': 'g',\n",
    " 'galactose': 'g',\n",
    " 'glucose': 'g',\n",
    " 'lactose': 'g',\n",
    " 'maltose': 'g',\n",
    " 'sucrose': 'g',\n",
    " 'fat': 'g', #78\n",
    " 'saturated_fatty_acids': ' g',\n",
    " 'monounsaturated_fatty_acids': ' g',\n",
    " 'polyunsaturated_fatty_acids': 17,\n",
    " 'alcohol': 'g',\n",
    " 'ash': 'g',\n",
    " 'caffeine': 'g',\n",
    " 'theobromine': 'g',\n",
    " 'water': 100} #500\n",
    "\n",
    "upper = {'calories': 2500,\n",
    " 'total_fat': 120,\n",
    " 'saturated_fat': 25,\n",
    " 'cholesterol': 250,\n",
    " 'sodium': 3000,\n",
    " 'choline': 2500,\n",
    " 'folate': 900,\n",
    "#  'folic_acid': 900,\n",
    " 'niacin': 30,\n",
    " 'pantothenic_acid': 100,\n",
    " 'riboflavin': 500,\n",
    " 'thiamin': 200,\n",
    " 'vitamin_a': 8000,\n",
    " 'vitamin_a_rae': ' mcg',\n",
    " 'carotene_alpha': ' mcg',\n",
    " 'carotene_beta': ' mcg',\n",
    " 'cryptoxanthin_beta': ' mcg',\n",
    " 'lutein_zeaxanthin': ' mcg',\n",
    " 'vitamin_b12': 8,\n",
    " 'vitamin_b6': 4,\n",
    " 'vitamin_c': 1000,\n",
    " 'vitamin_d': 5000,\n",
    " 'vitamin_e': 500,\n",
    " 'vitamin_k': 500,\n",
    " 'calcium': 2000,\n",
    " 'copper': 7,\n",
    " 'irom': 35,\n",
    " 'magnesium': 500,\n",
    " 'manganese': 7,\n",
    " 'phosphorous': 3500,\n",
    " 'potassium': 7000,\n",
    " 'selenium': 300,\n",
    " 'zink': 35,\n",
    " 'protein': 100,\n",
    " 'alanine': ' g',\n",
    " 'arginine': ' g',\n",
    " 'aspartic_acid': ' g',\n",
    " 'cystine': ' g',\n",
    " 'glutamic_acid': ' g',\n",
    " 'glycine': ' g',\n",
    " 'histidine': ' g',\n",
    " 'hydroxyproline': 'g',\n",
    " 'isoleucine': ' g',\n",
    " 'leucine': ' g',\n",
    " 'lysine': ' g',\n",
    " 'methionine': ' g',\n",
    " 'phenylalanine': ' g',\n",
    " 'proline': ' g',\n",
    " 'serine': ' g',\n",
    " 'threonine': ' g',\n",
    " 'tryptophan': ' g',\n",
    " 'tyrosine': ' g',\n",
    " 'valine': ' g',\n",
    " 'carbohydrate': 400, #300\n",
    " 'fiber': 55,\n",
    " 'sugars': 40,\n",
    " 'fructose': ' g',\n",
    " 'galactose': 'g',\n",
    " 'glucose': ' g',\n",
    " 'lactose': ' g',\n",
    " 'maltose': ' g',\n",
    " 'sucrose': ' g',\n",
    " 'fat': 'g', #120\n",
    " 'saturated_fatty_acids': ' g',\n",
    " 'monounsaturated_fatty_acids': ' g',\n",
    " 'polyunsaturated_fatty_acids': 30,\n",
    " 'alcohol': 5,\n",
    " 'ash': ' g',\n",
    " 'caffeine': ' mg',\n",
    " 'theobromine': ' mg',\n",
    " 'water': 2000}"
   ]
  },
  {
   "cell_type": "code",
   "execution_count": 23,
   "id": "bottom-conditioning",
   "metadata": {},
   "outputs": [],
   "source": [
    "constraints = {k_up: (v_low, v_up) for (k_up, v_up), (_, v_low) in zip(upper.items(), lower.items()) \n",
    " if not (isinstance(v_low, str) and isinstance(v_up, str))}"
   ]
  },
  {
   "cell_type": "code",
   "execution_count": 24,
   "id": "ignored-injury",
   "metadata": {
    "scrolled": false
   },
   "outputs": [
    {
     "name": "stdout",
     "output_type": "stream",
     "text": [
      "1900 < calories (kcal) < 2500\n",
      "50 < total_fat (g) < 120\n",
      "10 < saturated_fat (g) < 25\n",
      "50 < cholesterol (mg) < 250\n",
      "1500 < sodium (mg) < 3000\n",
      "550 < choline (mg) < 2500\n",
      "400 < folate (mcg) < 900\n",
      "16 < niacin (mg) < 30\n",
      "5 < pantothenic_acid (mg) < 100\n",
      "1.3 < riboflavin (mg) < 500\n",
      "1.2 < thiamin (mg) < 200\n",
      "3000 < vitamin_a (IU) < 8000\n",
      "2.4 < vitamin_b12 (mcg) < 8\n",
      "1.3 < vitamin_b6 (mg) < 4\n",
      "90 < vitamin_c (mg) < 1000\n",
      "600 < vitamin_d (IU) < 5000\n",
      "15 < vitamin_e (mg) < 500\n",
      "120 < vitamin_k (mcg) < 500\n",
      "1300 < calcium (mg) < 2000\n",
      "0.9 < copper (mg) < 7\n",
      "8 < irom (mg) < 35\n",
      "400 < magnesium (mg) < 500\n",
      "2.3 < manganese (mg) < 7\n",
      "700 < phosphorous (mg) < 3500\n",
      "4700 < potassium (mg) < 7000\n",
      "55 < selenium (mcg) < 300\n",
      "11 < zink (mg) < 35\n",
      "70 < protein (g) < 100\n",
      "0.287 < cystine (g) < inf\n",
      "0.7 < histidine (g) < inf\n",
      "1.4 < isoleucine (g) < inf\n",
      "2.73 < leucine (g) < inf\n",
      "2.1 < lysine (g) < inf\n",
      "0.728 < methionine (g) < inf\n",
      "0.875 < phenylalanine (g) < inf\n",
      "1.05 < threonine (g) < inf\n",
      "0.28 < tryptophan (g) < inf\n",
      "0.875 < tyrosine (g) < inf\n",
      "1.82 < valine (g) < inf\n",
      "130 < carbohydrate (g) < 400\n",
      "38 < fiber (g) < 55\n",
      "0 < sugars (g) < 40\n",
      "17 < polyunsaturated_fatty_acids (g) < 30\n",
      "0 < alcohol (g) < 5\n",
      "100 < water (g) < 2000\n"
     ]
    }
   ],
   "source": [
    "for k,v in constraints.items():\n",
    "    upper = v[1]\n",
    "    lower = v[0]\n",
    "    if isinstance(v[1],str):\n",
    "        upper = 'inf'\n",
    "    if isinstance(v[0],str):\n",
    "        lower = 0\n",
    "    print(f\"{lower} < {k} ({units[k].replace(' ','')}) < {upper}\")"
   ]
  },
  {
   "cell_type": "markdown",
   "id": "forced-stake",
   "metadata": {},
   "source": [
    "Minimize $|\\mathbf{x}|_1$\n",
    "\n",
    "subject to $b_1 \\leq A\\mathbf{x} \\leq b_2$\n",
    "\n",
    "where $\\mathbf{x} \\in \\mathcal{R}_+$\n",
    "\n",
    "$\\mathbf{x}: 1\\times 8763$\n",
    "\n",
    "$\\mathbf{x}$ is the vector of all food weights in units of 100g"
   ]
  },
  {
   "cell_type": "code",
   "execution_count": 25,
   "id": "recovered-arrangement",
   "metadata": {},
   "outputs": [],
   "source": [
    "def get_constraint_vectors(constraints):\n",
    "    lower = []\n",
    "    upper = []\n",
    "    lower_idx = []\n",
    "    upper_idx = []\n",
    "    for k,v in constraints.items():\n",
    "        if not isinstance(v[0], str):\n",
    "            lower_idx.append(k)\n",
    "            lower.append(v[0])\n",
    "        if not isinstance(v[1], str):\n",
    "            upper_idx.append(k)\n",
    "            upper.append(v[1])\n",
    "    return lower, upper, lower_idx, upper_idx"
   ]
  },
  {
   "cell_type": "code",
   "execution_count": 26,
   "id": "advance-directive",
   "metadata": {},
   "outputs": [],
   "source": [
    "l, u, l_idxs, u_idxs = get_constraint_vectors(constraints)"
   ]
  },
  {
   "cell_type": "code",
   "execution_count": 27,
   "id": "brown-deployment",
   "metadata": {},
   "outputs": [],
   "source": [
    "#should be roughly 70 x 8700, i.e. A.T.\n",
    "Al_cal = df[l_idxs].values.T\n",
    "Au_cal = df[u_idxs].values.T\n",
    "\n",
    "c = Al_cal[0,:] \n",
    "Al_g = df[l_idxs].values.T\n",
    "Au_g = df[u_idxs].values.T\n",
    "Al_g[0,:] = 1\n",
    "Au_g[0,:] = 1\n",
    "l_g = l.copy()\n",
    "u_g = u.copy()\n",
    "# lower and upper bounds for weights of food in *100g \n",
    "l_g[0] = 1\n",
    "u_g[0] = 500\n",
    "ones = np.ones_like(c)"
   ]
  },
  {
   "cell_type": "code",
   "execution_count": 51,
   "id": "comparable-weekly",
   "metadata": {},
   "outputs": [
    {
     "name": "stdout",
     "output_type": "stream",
     "text": [
      "Total calories:  1900.0000000000048 kcal\n",
      "Total weight:  437.8383392972073 g\n"
     ]
    },
    {
     "data": {
      "text/html": [
       "<div>\n",
       "<style scoped>\n",
       "    .dataframe tbody tr th:only-of-type {\n",
       "        vertical-align: middle;\n",
       "    }\n",
       "\n",
       "    .dataframe tbody tr th {\n",
       "        vertical-align: top;\n",
       "    }\n",
       "\n",
       "    .dataframe thead th {\n",
       "        text-align: right;\n",
       "    }\n",
       "</style>\n",
       "<table border=\"1\" class=\"dataframe\">\n",
       "  <thead>\n",
       "    <tr style=\"text-align: right;\">\n",
       "      <th></th>\n",
       "      <th>0</th>\n",
       "      <th>1</th>\n",
       "      <th>2</th>\n",
       "    </tr>\n",
       "  </thead>\n",
       "  <tbody>\n",
       "    <tr>\n",
       "      <th>20</th>\n",
       "      <td>Pork, simmered, cooked, chitterlings, variety ...</td>\n",
       "      <td>6540</td>\n",
       "      <td>0.716118</td>\n",
       "    </tr>\n",
       "    <tr>\n",
       "      <th>16</th>\n",
       "      <td>Milk, with added vitamin A and vitamin D, regu...</td>\n",
       "      <td>5089</td>\n",
       "      <td>0.713639</td>\n",
       "    </tr>\n",
       "    <tr>\n",
       "      <th>5</th>\n",
       "      <td>Potato chips, reduced fat, without salt</td>\n",
       "      <td>1954</td>\n",
       "      <td>0.562921</td>\n",
       "    </tr>\n",
       "    <tr>\n",
       "      <th>17</th>\n",
       "      <td>Cocoa, processed with alkali, hi-fat or breakf...</td>\n",
       "      <td>5184</td>\n",
       "      <td>0.547534</td>\n",
       "    </tr>\n",
       "    <tr>\n",
       "      <th>10</th>\n",
       "      <td>Oil, high oleic, canola, industrial</td>\n",
       "      <td>2378</td>\n",
       "      <td>0.513569</td>\n",
       "    </tr>\n",
       "    <tr>\n",
       "      <th>13</th>\n",
       "      <td>Lambsquarters, raw (Northern Plains Indians)</td>\n",
       "      <td>2585</td>\n",
       "      <td>0.174747</td>\n",
       "    </tr>\n",
       "    <tr>\n",
       "      <th>12</th>\n",
       "      <td>Gums, seed gums (includes locust bean, guar)</td>\n",
       "      <td>2569</td>\n",
       "      <td>0.164321</td>\n",
       "    </tr>\n",
       "    <tr>\n",
       "      <th>8</th>\n",
       "      <td>Fish, dry heat, cooked, pink, salmon</td>\n",
       "      <td>2332</td>\n",
       "      <td>0.130240</td>\n",
       "    </tr>\n",
       "    <tr>\n",
       "      <th>21</th>\n",
       "      <td>Gelatin desserts, vitamin C, sodium, potassium...</td>\n",
       "      <td>7655</td>\n",
       "      <td>0.123088</td>\n",
       "    </tr>\n",
       "    <tr>\n",
       "      <th>0</th>\n",
       "      <td>Yeast extract spread</td>\n",
       "      <td>123</td>\n",
       "      <td>0.114481</td>\n",
       "    </tr>\n",
       "    <tr>\n",
       "      <th>3</th>\n",
       "      <td>Fat, chicken</td>\n",
       "      <td>580</td>\n",
       "      <td>0.114088</td>\n",
       "    </tr>\n",
       "    <tr>\n",
       "      <th>4</th>\n",
       "      <td>Soybeans, raw, mature seeds</td>\n",
       "      <td>853</td>\n",
       "      <td>0.112655</td>\n",
       "    </tr>\n",
       "    <tr>\n",
       "      <th>6</th>\n",
       "      <td>Fish, dry heat, cooked, chinook, salmon</td>\n",
       "      <td>1985</td>\n",
       "      <td>0.108208</td>\n",
       "    </tr>\n",
       "    <tr>\n",
       "      <th>9</th>\n",
       "      <td>Oil, bowhead (Alaska Native), whale</td>\n",
       "      <td>2376</td>\n",
       "      <td>0.099904</td>\n",
       "    </tr>\n",
       "    <tr>\n",
       "      <th>11</th>\n",
       "      <td>Vanilla extract, alcohol, imitation</td>\n",
       "      <td>2452</td>\n",
       "      <td>0.085638</td>\n",
       "    </tr>\n",
       "    <tr>\n",
       "      <th>15</th>\n",
       "      <td>Cereals ready-to-eat, Whole Grain TOTAL, GENER...</td>\n",
       "      <td>4816</td>\n",
       "      <td>0.042606</td>\n",
       "    </tr>\n",
       "    <tr>\n",
       "      <th>1</th>\n",
       "      <td>Fish oil, cod liver</td>\n",
       "      <td>239</td>\n",
       "      <td>0.017564</td>\n",
       "    </tr>\n",
       "    <tr>\n",
       "      <th>7</th>\n",
       "      <td>Soup, dry, chicken broth or bouillon</td>\n",
       "      <td>2267</td>\n",
       "      <td>0.012267</td>\n",
       "    </tr>\n",
       "    <tr>\n",
       "      <th>18</th>\n",
       "      <td>Margarine-like, with added vitamin D, with sal...</td>\n",
       "      <td>6145</td>\n",
       "      <td>0.011676</td>\n",
       "    </tr>\n",
       "    <tr>\n",
       "      <th>14</th>\n",
       "      <td>Protein supplement, powder, Muscle Milk Light,...</td>\n",
       "      <td>4434</td>\n",
       "      <td>0.004904</td>\n",
       "    </tr>\n",
       "    <tr>\n",
       "      <th>19</th>\n",
       "      <td>Beef, boiled, cooked, variety meats and by-pro...</td>\n",
       "      <td>6290</td>\n",
       "      <td>0.004414</td>\n",
       "    </tr>\n",
       "    <tr>\n",
       "      <th>2</th>\n",
       "      <td>Parsley, fresh</td>\n",
       "      <td>480</td>\n",
       "      <td>0.003802</td>\n",
       "    </tr>\n",
       "  </tbody>\n",
       "</table>\n",
       "</div>"
      ],
      "text/plain": [
       "                                                    0     1         2\n",
       "20  Pork, simmered, cooked, chitterlings, variety ...  6540  0.716118\n",
       "16  Milk, with added vitamin A and vitamin D, regu...  5089  0.713639\n",
       "5             Potato chips, reduced fat, without salt  1954  0.562921\n",
       "17  Cocoa, processed with alkali, hi-fat or breakf...  5184  0.547534\n",
       "10                Oil, high oleic, canola, industrial  2378  0.513569\n",
       "13       Lambsquarters, raw (Northern Plains Indians)  2585  0.174747\n",
       "12       Gums, seed gums (includes locust bean, guar)  2569  0.164321\n",
       "8                Fish, dry heat, cooked, pink, salmon  2332  0.130240\n",
       "21  Gelatin desserts, vitamin C, sodium, potassium...  7655  0.123088\n",
       "0                                Yeast extract spread   123  0.114481\n",
       "3                                        Fat, chicken   580  0.114088\n",
       "4                         Soybeans, raw, mature seeds   853  0.112655\n",
       "6             Fish, dry heat, cooked, chinook, salmon  1985  0.108208\n",
       "9                 Oil, bowhead (Alaska Native), whale  2376  0.099904\n",
       "11                Vanilla extract, alcohol, imitation  2452  0.085638\n",
       "15  Cereals ready-to-eat, Whole Grain TOTAL, GENER...  4816  0.042606\n",
       "1                                 Fish oil, cod liver   239  0.017564\n",
       "7                Soup, dry, chicken broth or bouillon  2267  0.012267\n",
       "18  Margarine-like, with added vitamin D, with sal...  6145  0.011676\n",
       "14  Protein supplement, powder, Muscle Milk Light,...  4434  0.004904\n",
       "19  Beef, boiled, cooked, variety meats and by-pro...  6290  0.004414\n",
       "2                                      Parsley, fresh   480  0.003802"
      ]
     },
     "execution_count": 51,
     "metadata": {},
     "output_type": "execute_result"
    }
   ],
   "source": [
    "n = len(df)\n",
    "\n",
    "# Define and solve the CVXPY problem: minimizing weight with calories fixed.\n",
    "x = cp.Variable(n)\n",
    "prob = cp.Problem(cp.Minimize(ones @ x), # Same as L1 norm minimization.\n",
    "                 [Au_cal @ x <= u, Al_cal @ x >= l, x >= 0])\n",
    "prob.solve()\n",
    "\n",
    "# Print result.\n",
    "print('Total calories: ', c @ x.value, 'kcal')\n",
    "print('Total weight: ', prob.value * 100, 'g')\n",
    "\n",
    "result = x.value\n",
    "idxs = np.array([i for i in range(len(result))])\n",
    "tol = 1e-6\n",
    "final_foods = pd.DataFrame([(names[food], food, val) for food, val in zip(idxs[result > tol], result[result > tol])])\n",
    "final_foods.sort_values(by=2,ascending=False)"
   ]
  },
  {
   "cell_type": "code",
   "execution_count": 52,
   "id": "conservative-harris",
   "metadata": {},
   "outputs": [
    {
     "name": "stdout",
     "output_type": "stream",
     "text": [
      "Total calories:  869.4665866743645 kcal\n",
      "Total weight:  2272.1971635343366 g\n"
     ]
    },
    {
     "data": {
      "text/html": [
       "<div>\n",
       "<style scoped>\n",
       "    .dataframe tbody tr th:only-of-type {\n",
       "        vertical-align: middle;\n",
       "    }\n",
       "\n",
       "    .dataframe tbody tr th {\n",
       "        vertical-align: top;\n",
       "    }\n",
       "\n",
       "    .dataframe thead th {\n",
       "        text-align: right;\n",
       "    }\n",
       "</style>\n",
       "<table border=\"1\" class=\"dataframe\">\n",
       "  <thead>\n",
       "    <tr style=\"text-align: right;\">\n",
       "      <th></th>\n",
       "      <th>0</th>\n",
       "      <th>1</th>\n",
       "      <th>2</th>\n",
       "    </tr>\n",
       "  </thead>\n",
       "  <tbody>\n",
       "    <tr>\n",
       "      <th>6</th>\n",
       "      <td>Water, generic, bottled</td>\n",
       "      <td>1170</td>\n",
       "      <td>11.153701</td>\n",
       "    </tr>\n",
       "    <tr>\n",
       "      <th>7</th>\n",
       "      <td>Cauliflower, raw, green</td>\n",
       "      <td>1174</td>\n",
       "      <td>4.333905</td>\n",
       "    </tr>\n",
       "    <tr>\n",
       "      <th>3</th>\n",
       "      <td>Watercress, raw</td>\n",
       "      <td>452</td>\n",
       "      <td>1.352581</td>\n",
       "    </tr>\n",
       "    <tr>\n",
       "      <th>10</th>\n",
       "      <td>Bamboo shoots, without salt, drained, boiled, ...</td>\n",
       "      <td>3838</td>\n",
       "      <td>0.994752</td>\n",
       "    </tr>\n",
       "    <tr>\n",
       "      <th>4</th>\n",
       "      <td>Chicken spread</td>\n",
       "      <td>487</td>\n",
       "      <td>0.669446</td>\n",
       "    </tr>\n",
       "    <tr>\n",
       "      <th>5</th>\n",
       "      <td>Fish, raw, mixed species, roe</td>\n",
       "      <td>669</td>\n",
       "      <td>0.568211</td>\n",
       "    </tr>\n",
       "    <tr>\n",
       "      <th>9</th>\n",
       "      <td>Cocoa, processed with alkali, unsweetened, dry...</td>\n",
       "      <td>3685</td>\n",
       "      <td>0.553046</td>\n",
       "    </tr>\n",
       "    <tr>\n",
       "      <th>14</th>\n",
       "      <td>Mushrooms, grilled, exposed to ultraviolet lig...</td>\n",
       "      <td>5294</td>\n",
       "      <td>0.491626</td>\n",
       "    </tr>\n",
       "    <tr>\n",
       "      <th>16</th>\n",
       "      <td>Cabbage, without salt, drained, boiled, cooked...</td>\n",
       "      <td>5924</td>\n",
       "      <td>0.486791</td>\n",
       "    </tr>\n",
       "    <tr>\n",
       "      <th>17</th>\n",
       "      <td>Tofu, prepared with calcium sulfate, salted an...</td>\n",
       "      <td>6069</td>\n",
       "      <td>0.430074</td>\n",
       "    </tr>\n",
       "    <tr>\n",
       "      <th>12</th>\n",
       "      <td>Asparagus, without salt, drained, boiled, cook...</td>\n",
       "      <td>4507</td>\n",
       "      <td>0.344800</td>\n",
       "    </tr>\n",
       "    <tr>\n",
       "      <th>15</th>\n",
       "      <td>Cereals ready-to-eat, FIBER ONE Bran Cereal, G...</td>\n",
       "      <td>5478</td>\n",
       "      <td>0.333820</td>\n",
       "    </tr>\n",
       "    <tr>\n",
       "      <th>11</th>\n",
       "      <td>Gelatin desserts, with aspartame, reduced calo...</td>\n",
       "      <td>4326</td>\n",
       "      <td>0.290338</td>\n",
       "    </tr>\n",
       "    <tr>\n",
       "      <th>8</th>\n",
       "      <td>Vitasoy USA Nasoya, Lite Silken Tofu</td>\n",
       "      <td>2261</td>\n",
       "      <td>0.210616</td>\n",
       "    </tr>\n",
       "    <tr>\n",
       "      <th>13</th>\n",
       "      <td>McDONALD'S, NEWMAN'S OWN Low Fat Balsamic Vina...</td>\n",
       "      <td>4862</td>\n",
       "      <td>0.188964</td>\n",
       "    </tr>\n",
       "    <tr>\n",
       "      <th>0</th>\n",
       "      <td>Oil, soybean lecithin</td>\n",
       "      <td>62</td>\n",
       "      <td>0.149268</td>\n",
       "    </tr>\n",
       "    <tr>\n",
       "      <th>1</th>\n",
       "      <td>Yeast extract spread</td>\n",
       "      <td>123</td>\n",
       "      <td>0.098624</td>\n",
       "    </tr>\n",
       "    <tr>\n",
       "      <th>2</th>\n",
       "      <td>Oil, wheat germ</td>\n",
       "      <td>423</td>\n",
       "      <td>0.043859</td>\n",
       "    </tr>\n",
       "    <tr>\n",
       "      <th>18</th>\n",
       "      <td>Mushrooms, raw, exposed to ultraviolet light, ...</td>\n",
       "      <td>6671</td>\n",
       "      <td>0.027547</td>\n",
       "    </tr>\n",
       "  </tbody>\n",
       "</table>\n",
       "</div>"
      ],
      "text/plain": [
       "                                                    0     1          2\n",
       "6                             Water, generic, bottled  1170  11.153701\n",
       "7                             Cauliflower, raw, green  1174   4.333905\n",
       "3                                     Watercress, raw   452   1.352581\n",
       "10  Bamboo shoots, without salt, drained, boiled, ...  3838   0.994752\n",
       "4                                      Chicken spread   487   0.669446\n",
       "5                       Fish, raw, mixed species, roe   669   0.568211\n",
       "9   Cocoa, processed with alkali, unsweetened, dry...  3685   0.553046\n",
       "14  Mushrooms, grilled, exposed to ultraviolet lig...  5294   0.491626\n",
       "16  Cabbage, without salt, drained, boiled, cooked...  5924   0.486791\n",
       "17  Tofu, prepared with calcium sulfate, salted an...  6069   0.430074\n",
       "12  Asparagus, without salt, drained, boiled, cook...  4507   0.344800\n",
       "15  Cereals ready-to-eat, FIBER ONE Bran Cereal, G...  5478   0.333820\n",
       "11  Gelatin desserts, with aspartame, reduced calo...  4326   0.290338\n",
       "8                Vitasoy USA Nasoya, Lite Silken Tofu  2261   0.210616\n",
       "13  McDONALD'S, NEWMAN'S OWN Low Fat Balsamic Vina...  4862   0.188964\n",
       "0                               Oil, soybean lecithin    62   0.149268\n",
       "1                                Yeast extract spread   123   0.098624\n",
       "2                                     Oil, wheat germ   423   0.043859\n",
       "18  Mushrooms, raw, exposed to ultraviolet light, ...  6671   0.027547"
      ]
     },
     "execution_count": 52,
     "metadata": {},
     "output_type": "execute_result"
    }
   ],
   "source": [
    "n = len(df)\n",
    "\n",
    "# Define and solve the CVXPY problem: minimizing calories with weight fixed.\n",
    "x2 = cp.Variable(n)\n",
    "prob2 = cp.Problem(cp.Minimize(c @ x2),\n",
    "                 [Au_g @ x2 <= u_g, Al_g @ x2 >= l_g, x2 >= 0])\n",
    "prob2.solve()\n",
    "\n",
    "# Print result.\n",
    "print('Total calories: ', prob2.value, 'kcal')\n",
    "print('Total weight: ', x2.value.sum() * 100, 'g')\n",
    "\n",
    "result = x2.value\n",
    "idxs = np.array([i for i in range(len(result))])\n",
    "tol = 1e-6\n",
    "final_foods = pd.DataFrame([(names[food], food, val) for food, val in zip(idxs[result > tol], result[result > tol])])\n",
    "final_foods.sort_values(by=2,ascending=False)"
   ]
  },
  {
   "cell_type": "code",
   "execution_count": 273,
   "id": "undefined-swift",
   "metadata": {},
   "outputs": [
    {
     "data": {
      "text/plain": [
       "choline              239.300\n",
       "riboflavin             1.901\n",
       "thiamin                1.176\n",
       "niacin                 9.828\n",
       "pantothenic_acid       5.115\n",
       "folate               118.000\n",
       "folic_acid             0.000\n",
       "vitamin_a           2328.000\n",
       "vitamin_b12            4.100\n",
       "vitamin_b6             1.990\n",
       "vitamin_c             74.300\n",
       "vitamin_d            450.000\n",
       "vitamin_e              0.390\n",
       "vitamin_k             11.100\n",
       "dtype: float64"
      ]
     },
     "execution_count": 273,
     "metadata": {},
     "output_type": "execute_result"
    }
   ],
   "source": [
    "indexes = [5089,5195,5293,5445,5849]\n",
    "df.iloc[indexes].sum()[vitamins]"
   ]
  },
  {
   "cell_type": "code",
   "execution_count": 34,
   "id": "dental-kansas",
   "metadata": {},
   "outputs": [
    {
     "name": "stdout",
     "output_type": "stream",
     "text": [
      "Total calories:  1140.0506467765981 kcal\n",
      "Total weight:  2273.4153925756154 g\n",
      "                                                    0     1         2\n",
      "17  Tomatoes, no salt added, packed in tomato juic...   992  7.740576\n",
      "7                  Soup, Chinese restaurant, egg drop   174  5.860557\n",
      "1                                 Pepper, raw, banana    39  2.628105\n",
      "15  Soybeans, steamed, cooked, sprouted, mature seeds   695  2.050958\n",
      "16  Soymilk, vitamins A and D, with added calcium,...   983  1.486659\n",
      "10              Waterchestnuts, raw, (matai), chinese   331  0.602783\n",
      "8                   Fish, dry heat, cooked, swordfish   199  0.515881\n",
      "12   Fruit juice smoothie, strawberry banana, ODWALLA   523  0.454075\n",
      "6                  Restaurant, refried beans, Mexican   158  0.446758\n",
      "0                                 Spices, celery seed    33  0.339419\n",
      "9              Fish, smoked, mixed species, whitefish   326  0.283070\n",
      "11              Fish, eggs (Alaska Native), whitefish   339  0.066978\n",
      "4                         Pate, canned, chicken liver    93  0.064532\n",
      "3                                         Fat, turkey    63  0.062361\n",
      "2                                     Oil, tomatoseed    55  0.047511\n",
      "14  Mollusks, breaded and fried, cooked, eastern, ...   603  0.027531\n",
      "13     KELLOGG'S, Buttermilk, FIBERPLUS Waffles, EGGO   552  0.022136\n",
      "5                              Nuts, english, walnuts   139  0.018334\n",
      "18  Oil, roasting nuts, oil sprays, principal uses...  1048  0.015932\n",
      "Total calories:  1140.0506467769733 kcal\n",
      "Total weight:  2273.415392575585 g\n",
      "                                                    0     1         2\n",
      "17  Tomatoes, no salt added, packed in tomato juic...   992  7.740576\n",
      "7                  Soup, Chinese restaurant, egg drop   174  5.860557\n",
      "1                                 Pepper, raw, banana    39  2.628105\n",
      "15  Soybeans, steamed, cooked, sprouted, mature seeds   695  2.050958\n",
      "16  Soymilk, vitamins A and D, with added calcium,...   983  1.486659\n",
      "10              Waterchestnuts, raw, (matai), chinese   331  0.602783\n",
      "8                   Fish, dry heat, cooked, swordfish   199  0.515881\n",
      "12   Fruit juice smoothie, strawberry banana, ODWALLA   523  0.454075\n",
      "6                  Restaurant, refried beans, Mexican   158  0.446758\n",
      "0                                 Spices, celery seed    33  0.339419\n",
      "9              Fish, smoked, mixed species, whitefish   326  0.283070\n",
      "11              Fish, eggs (Alaska Native), whitefish   339  0.066978\n",
      "4                         Pate, canned, chicken liver    93  0.064532\n",
      "3                                         Fat, turkey    63  0.062361\n",
      "2                                     Oil, tomatoseed    55  0.047511\n",
      "14  Mollusks, breaded and fried, cooked, eastern, ...   603  0.027531\n",
      "13     KELLOGG'S, Buttermilk, FIBERPLUS Waffles, EGGO   552  0.022136\n",
      "5                              Nuts, english, walnuts   139  0.018334\n",
      "18  Oil, roasting nuts, oil sprays, principal uses...  1048  0.015932\n",
      "Total calories:  1140.050646777799 kcal\n",
      "Total weight:  2273.415392575475 g\n",
      "                                                    0     1         2\n",
      "17  Tomatoes, no salt added, packed in tomato juic...   992  7.740576\n",
      "7                  Soup, Chinese restaurant, egg drop   174  5.860557\n",
      "1                                 Pepper, raw, banana    39  2.628105\n",
      "15  Soybeans, steamed, cooked, sprouted, mature seeds   695  2.050958\n",
      "16  Soymilk, vitamins A and D, with added calcium,...   983  1.486659\n",
      "10              Waterchestnuts, raw, (matai), chinese   331  0.602783\n",
      "8                   Fish, dry heat, cooked, swordfish   199  0.515881\n",
      "12   Fruit juice smoothie, strawberry banana, ODWALLA   523  0.454075\n",
      "6                  Restaurant, refried beans, Mexican   158  0.446758\n",
      "0                                 Spices, celery seed    33  0.339419\n",
      "9              Fish, smoked, mixed species, whitefish   326  0.283070\n",
      "11              Fish, eggs (Alaska Native), whitefish   339  0.066978\n",
      "4                         Pate, canned, chicken liver    93  0.064532\n",
      "3                                         Fat, turkey    63  0.062361\n",
      "2                                     Oil, tomatoseed    55  0.047511\n",
      "14  Mollusks, breaded and fried, cooked, eastern, ...   603  0.027531\n",
      "13     KELLOGG'S, Buttermilk, FIBERPLUS Waffles, EGGO   552  0.022136\n",
      "5                              Nuts, english, walnuts   139  0.018334\n",
      "18  Oil, roasting nuts, oil sprays, principal uses...  1048  0.015932\n",
      "Total calories:  1140.0506467788666 kcal\n",
      "Total weight:  2273.4153925751725 g\n",
      "                                                    0     1         2\n",
      "17  Tomatoes, no salt added, packed in tomato juic...   992  7.740576\n",
      "7                  Soup, Chinese restaurant, egg drop   174  5.860557\n",
      "1                                 Pepper, raw, banana    39  2.628105\n",
      "15  Soybeans, steamed, cooked, sprouted, mature seeds   695  2.050958\n",
      "16  Soymilk, vitamins A and D, with added calcium,...   983  1.486659\n",
      "10              Waterchestnuts, raw, (matai), chinese   331  0.602783\n",
      "8                   Fish, dry heat, cooked, swordfish   199  0.515881\n",
      "12   Fruit juice smoothie, strawberry banana, ODWALLA   523  0.454075\n",
      "6                  Restaurant, refried beans, Mexican   158  0.446758\n",
      "0                                 Spices, celery seed    33  0.339419\n",
      "9              Fish, smoked, mixed species, whitefish   326  0.283070\n",
      "11              Fish, eggs (Alaska Native), whitefish   339  0.066978\n",
      "4                         Pate, canned, chicken liver    93  0.064532\n",
      "3                                         Fat, turkey    63  0.062361\n",
      "2                                     Oil, tomatoseed    55  0.047511\n",
      "14  Mollusks, breaded and fried, cooked, eastern, ...   603  0.027531\n",
      "13     KELLOGG'S, Buttermilk, FIBERPLUS Waffles, EGGO   552  0.022136\n",
      "5                              Nuts, english, walnuts   139  0.018334\n",
      "18  Oil, roasting nuts, oil sprays, principal uses...  1048  0.015932\n",
      "Total calories:  1140.0506467787793 kcal\n",
      "Total weight:  2273.415392574995 g\n",
      "                                                    0     1         2\n",
      "17  Tomatoes, no salt added, packed in tomato juic...   992  7.740576\n",
      "7                  Soup, Chinese restaurant, egg drop   174  5.860557\n",
      "1                                 Pepper, raw, banana    39  2.628105\n",
      "15  Soybeans, steamed, cooked, sprouted, mature seeds   695  2.050958\n",
      "16  Soymilk, vitamins A and D, with added calcium,...   983  1.486659\n",
      "10              Waterchestnuts, raw, (matai), chinese   331  0.602783\n",
      "8                   Fish, dry heat, cooked, swordfish   199  0.515881\n",
      "12   Fruit juice smoothie, strawberry banana, ODWALLA   523  0.454075\n",
      "6                  Restaurant, refried beans, Mexican   158  0.446758\n",
      "0                                 Spices, celery seed    33  0.339419\n",
      "9              Fish, smoked, mixed species, whitefish   326  0.283070\n",
      "11              Fish, eggs (Alaska Native), whitefish   339  0.066978\n",
      "4                         Pate, canned, chicken liver    93  0.064532\n",
      "3                                         Fat, turkey    63  0.062361\n",
      "2                                     Oil, tomatoseed    55  0.047511\n",
      "14  Mollusks, breaded and fried, cooked, eastern, ...   603  0.027531\n",
      "13     KELLOGG'S, Buttermilk, FIBERPLUS Waffles, EGGO   552  0.022136\n",
      "5                              Nuts, english, walnuts   139  0.018334\n",
      "18  Oil, roasting nuts, oil sprays, principal uses...  1048  0.015932\n",
      "Total calories:  1140.0506467849755 kcal\n",
      "Total weight:  2273.415392570274 g\n",
      "                                                    0     1         2\n",
      "17  Tomatoes, no salt added, packed in tomato juic...   992  7.740576\n",
      "7                  Soup, Chinese restaurant, egg drop   174  5.860557\n",
      "1                                 Pepper, raw, banana    39  2.628105\n",
      "15  Soybeans, steamed, cooked, sprouted, mature seeds   695  2.050958\n",
      "16  Soymilk, vitamins A and D, with added calcium,...   983  1.486659\n",
      "10              Waterchestnuts, raw, (matai), chinese   331  0.602783\n",
      "8                   Fish, dry heat, cooked, swordfish   199  0.515881\n",
      "12   Fruit juice smoothie, strawberry banana, ODWALLA   523  0.454075\n",
      "6                  Restaurant, refried beans, Mexican   158  0.446758\n",
      "0                                 Spices, celery seed    33  0.339419\n",
      "9              Fish, smoked, mixed species, whitefish   326  0.283070\n",
      "11              Fish, eggs (Alaska Native), whitefish   339  0.066978\n",
      "4                         Pate, canned, chicken liver    93  0.064532\n",
      "3                                         Fat, turkey    63  0.062361\n",
      "2                                     Oil, tomatoseed    55  0.047511\n",
      "14  Mollusks, breaded and fried, cooked, eastern, ...   603  0.027531\n",
      "13     KELLOGG'S, Buttermilk, FIBERPLUS Waffles, EGGO   552  0.022136\n",
      "5                              Nuts, english, walnuts   139  0.018334\n",
      "18  Oil, roasting nuts, oil sprays, principal uses...  1048  0.015932\n"
     ]
    },
    {
     "name": "stdout",
     "output_type": "stream",
     "text": [
      "Total calories:  1169.87754789073 kcal\n",
      "Total weight:  1916.1963609909862 g\n",
      "                                                    0     1         2\n",
      "13  Tomatoes, no salt added, packed in tomato juic...   992  6.945502\n",
      "5                  Soup, Chinese restaurant, egg drop   174  2.988860\n",
      "11  Soybeans, steamed, cooked, sprouted, mature seeds   695  1.807660\n",
      "1                                 Pepper, raw, banana    39  1.618094\n",
      "4                  Restaurant, refried beans, Mexican   158  1.080630\n",
      "6              Fish, smoked, mixed species, whitefish   326  1.019816\n",
      "7               Waterchestnuts, raw, (matai), chinese   331  0.909218\n",
      "12  Soymilk, vitamins A and D, with added calcium,...   983  0.743670\n",
      "9    Fruit juice smoothie, strawberry banana, ODWALLA   523  0.573588\n",
      "15  Soymilk, vitamins A and D, with added calcium,...  1058  0.571545\n",
      "0                                 Spices, celery seed    33  0.372431\n",
      "3                         Pate, canned, chicken liver    93  0.352965\n",
      "16  Margarine-like spread, SMART BALANCE Omega Plu...  1175  0.081317\n",
      "2                                     Oil, tomatoseed    55  0.063265\n",
      "10  Mollusks, breaded and fried, cooked, eastern, ...   603  0.022925\n",
      "14  Oil, roasting nuts, oil sprays, principal uses...  1048  0.008901\n",
      "8               Fish, eggs (Alaska Native), whitefish   339  0.001576\n",
      "Total calories:  1271.9998749670726 kcal\n",
      "Total weight:  1295.4700209978776 g\n",
      "                                                    0     1         2\n",
      "13  Tomatoes, no salt added, packed in tomato juic...   992  4.249256\n",
      "2                  Restaurant, refried beans, Mexican   158  1.664313\n",
      "9   Soybeans, steamed, cooked, sprouted, mature seeds   695  1.504179\n",
      "5               Waterchestnuts, raw, (matai), chinese   331  1.256916\n",
      "4              Fish, smoked, mixed species, whitefish   326  1.125165\n",
      "7    Fruit juice smoothie, strawberry banana, ODWALLA   523  0.903066\n",
      "12  Cheese spread, reduced fat, American or Chedda...   911  0.437595\n",
      "11  Soymilk, vitamins A and D, with added calcium,...   804  0.419447\n",
      "1                         Pate, canned, chicken liver    93  0.419395\n",
      "3             Soybeans, salted, roasted, mature seeds   294  0.399856\n",
      "0                                 Spices, celery seed    33  0.312822\n",
      "14  KFC, skin and breading removed, meat only, Thi...  1067  0.190231\n",
      "6    Beans, with pork and tomato sauce, canned, baked   512  0.051811\n",
      "10  Protein supplement, powder, Muscle Milk Light,...   722  0.018049\n",
      "8   Mollusks, breaded and fried, cooked, eastern, ...   603  0.002599\n",
      "Total calories:  1374.5804026518465 kcal\n",
      "Total weight:  939.4979063509409 g\n",
      "                                                    0     1         2\n",
      "8               Waterchestnuts, raw, (matai), chinese   331  2.399242\n",
      "5                  Restaurant, refried beans, Mexican   158  1.375659\n",
      "7              Fish, smoked, mixed species, whitefish   326  0.984089\n",
      "10   Fruit juice smoothie, strawberry banana, ODWALLA   523  0.879982\n",
      "13  Soymilk, vitamins A and D, with added calcium,...   804  0.783931\n",
      "6             Soybeans, salted, roasted, mature seeds   294  0.691107\n",
      "3                         Pate, canned, chicken liver    93  0.369504\n",
      "0                                 Spices, celery seed    33  0.364486\n",
      "17  KFC, skin and breading removed, meat only, Thi...  1067  0.360293\n",
      "1                                 Pepper, raw, banana    39  0.325979\n",
      "16  Cheese spread, reduced fat, American or Chedda...   911  0.229396\n",
      "4                            Sweet potato leaves, raw   123  0.190045\n",
      "14  Fish, dry heat, cooked, flatfish (flounder and...   883  0.171390\n",
      "12  Protein supplement, powder, Muscle Milk Light,...   722  0.138595\n",
      "9                 Fish, raw (Alaska Native), sheefish   380  0.042997\n",
      "18  Vegetables, no salt added, mixed (corn, lima b...  1177  0.041654\n",
      "2                        Soup, dry, cubed, beef broth    83  0.021582\n",
      "11  Soybeans, steamed, cooked, sprouted, mature seeds   695  0.015109\n",
      "15  MORNINGSTAR FARMS Garden Veggie Patties, unpre...   903  0.009941\n",
      "Total calories:  1390.4319716445723 kcal\n",
      "Total weight:  916.3503087106585 g\n",
      "                                                    0     1         2\n",
      "9               Waterchestnuts, raw, (matai), chinese   331  2.441432\n",
      "6                  Restaurant, refried beans, Mexican   158  1.418024\n",
      "8              Fish, smoked, mixed species, whitefish   326  1.011775\n",
      "12   Fruit juice smoothie, strawberry banana, ODWALLA   523  0.862298\n",
      "7             Soybeans, salted, roasted, mature seeds   294  0.704871\n",
      "14  Soymilk, vitamins A and D, with added calcium,...   804  0.516992\n",
      "11      Frankfurter, fat free, and turkey, pork, beef   499  0.419697\n",
      "0                                 Spices, celery seed    33  0.344515\n",
      "3                         Pate, canned, chicken liver    93  0.339773\n",
      "16  Cheese spread, reduced fat, American or Chedda...   911  0.222880\n",
      "1                                 Pepper, raw, banana    39  0.193864\n",
      "5                            Sweet potato leaves, raw   123  0.191370\n",
      "13  Protein supplement, powder, Muscle Milk Light,...   722  0.183479\n",
      "2                                    Headcheese, pork    53  0.111890\n",
      "17  POPEYES, skin and breading removed, meat only,...  1124  0.086570\n",
      "4                          Fast foods, scrambled, egg   101  0.065279\n",
      "18  Vegetables, no salt added, mixed (corn, lima b...  1177  0.035987\n",
      "10               Soup, dry, chicken broth or bouillon   347  0.008958\n",
      "15  MORNINGSTAR FARMS Garden Veggie Patties, unpre...   903  0.003849\n"
     ]
    }
   ],
   "source": [
    "n = len(df)\n",
    "# potato_milk = np.ones(n)\n",
    "# indexes = [5089,5195,5293,5445,5849,6581]\n",
    "# potato_milk[indexes] = 0\n",
    "idxs = np.array([i for i in range(n)])\n",
    "tol = 1e-6\n",
    "\n",
    "# Define and solve the CVXPY problem: minimizing calories and weight.\n",
    "x3 = cp.Variable(n)\n",
    "gamma = cp.Parameter(nonneg=True)\n",
    "prob3 = cp.Problem(cp.Minimize(c @ x3 + gamma * ones @ x3),\n",
    "                 [Au_g @ x3 <= u_g, \n",
    "                  Al_g @ x3 >= l_g, x3 >= 0,])\n",
    "#                  potato_milk @ x3 == 0])\n",
    "\n",
    "gamma_vals = np.logspace(-1,2,10)\n",
    "cals = []\n",
    "weights = []\n",
    "food_count = Counter()\n",
    "for i in range(len(gamma_vals)):\n",
    "    gamma.value = gamma_vals[i]\n",
    "    prob3.solve()\n",
    "    if x3.value is None:\n",
    "        print('Problem infeasible')\n",
    "        break\n",
    "\n",
    "    # Print result.\n",
    "    print('Total calories: ', c @ x3.value, 'kcal')\n",
    "    print('Total weight: ', x3.value.sum() * 100, 'g')\n",
    "    cals.append(c @ x3.value)\n",
    "    weights.append(x3.value.sum() * 100)\n",
    "\n",
    "    result = x3.value\n",
    "    final_foods = pd.DataFrame([(names[food], food, val) for food, val \n",
    "                                in zip(idxs[result > tol], result[result > tol])])\n",
    "    food_count += Counter(final_foods[0].values)\n",
    "#     ordered = final_foods.sort_values(by=2,ascending=False).index\n",
    "    print(final_foods.sort_values(by=2,ascending=False))"
   ]
  },
  {
   "cell_type": "code",
   "execution_count": 33,
   "id": "touched-syntax",
   "metadata": {},
   "outputs": [
    {
     "data": {
      "text/plain": [
       "array(['Tomatoes, no salt added, packed in tomato juice, canned, ripe, red',\n",
       "       'Restaurant, refried beans, Mexican',\n",
       "       'Soybeans, steamed, cooked, sprouted, mature seeds',\n",
       "       'Waterchestnuts, raw, (matai), chinese',\n",
       "       'Fish, smoked, mixed species, whitefish',\n",
       "       'Fruit juice smoothie, strawberry banana, ODWALLA',\n",
       "       'Cheese spread, reduced fat, American or Cheddar cheese base',\n",
       "       'Soymilk, vitamins A and D, with added calcium, nonfat, chocolate',\n",
       "       'Pate, canned, chicken liver',\n",
       "       'Soybeans, salted, roasted, mature seeds', 'Spices, celery seed',\n",
       "       'KFC, skin and breading removed, meat only, Thigh, ORIGINAL RECIPE, Fried Chicken',\n",
       "       'Beans, with pork and tomato sauce, canned, baked',\n",
       "       'Fish, dry heat, cooked, swordfish',\n",
       "       'Mollusks, breaded and fried, cooked, eastern, oyster'],\n",
       "      dtype=object)"
      ]
     },
     "execution_count": 33,
     "metadata": {},
     "output_type": "execute_result"
    }
   ],
   "source": [
    "final_foods.sort_values(by=2,ascending=False)[0].values"
   ]
  },
  {
   "cell_type": "code",
   "execution_count": 47,
   "id": "blond-leone",
   "metadata": {},
   "outputs": [
    {
     "data": {
      "text/plain": [
       "[('Spices, celery seed', 10),\n",
       " ('Pate, canned, chicken liver', 10),\n",
       " ('Restaurant, refried beans, Mexican', 10),\n",
       " ('Fish, smoked, mixed species, whitefish', 10)]"
      ]
     },
     "execution_count": 47,
     "metadata": {},
     "output_type": "execute_result"
    }
   ],
   "source": [
    "food_count.most_common(4)"
   ]
  },
  {
   "cell_type": "code",
   "execution_count": 49,
   "id": "hindu-learning",
   "metadata": {},
   "outputs": [
    {
     "name": "stdout",
     "output_type": "stream",
     "text": [
      "Spices, celery seed\n",
      "Pate, canned, chicken liver\n",
      "Restaurant, refried beans, Mexican\n",
      "Fish, smoked, mixed species, whitefish\n"
     ]
    }
   ],
   "source": [
    "for name, _ in food_count.most_common(4):\n",
    "    print(name)"
   ]
  },
  {
   "cell_type": "code",
   "execution_count": 35,
   "id": "positive-heading",
   "metadata": {},
   "outputs": [
    {
     "data": {
      "image/png": "[encoded data removed]",
      "text/plain": [
       "<Figure size 720x360 with 1 Axes>"
      ]
     },
     "metadata": {
      "needs_background": "light"
     },
     "output_type": "display_data"
    }
   ],
   "source": [
    "plt.figure(figsize=(10,5))\n",
    "labels, values = zip(*food_count.most_common())\n",
    "\n",
    "indexes = np.arange(len(labels))\n",
    "width = 1\n",
    "\n",
    "plt.bar(indexes, [value / 50 * 100 for value in values], width)\n",
    "plt.xticks(indexes + width * 0.5, labels, rotation='vertical')\n",
    "plt.ylabel(\"Appearance Fraction [%]\")\n",
    "plt.show()"
   ]
  },
  {
   "cell_type": "code",
   "execution_count": 148,
   "id": "collective-insulin",
   "metadata": {},
   "outputs": [
    {
     "data": {
      "text/plain": [
       "Text(0.5, 0, 'Calories [kcal]')"
      ]
     },
     "execution_count": 148,
     "metadata": {},
     "output_type": "execute_result"
    },
    {
     "data": {
      "image/png": "[encoded data removed]",
      "text/plain": [
       "<Figure size 432x288 with 1 Axes>"
      ]
     },
     "metadata": {
      "needs_background": "light"
     },
     "output_type": "display_data"
    }
   ],
   "source": [
    "# Pareto frontier\n",
    "fig, ax = plt.subplots()\n",
    "\n",
    "ax.plot(cals, weights)\n",
    "ax.scatter(cals, weights,)\n",
    "for idx in [0,10,18,27,43]:\n",
    "    ax.annotate(f\"$\\gamma = {gamma_vals[idx]:.1f}$\",xy=(cals[idx]+5, weights[idx]+30))\n",
    "ax.set_ylabel('Weight [g]')\n",
    "ax.set_xlabel('Calories [kcal]')"
   ]
  },
  {
   "cell_type": "code",
   "execution_count": 178,
   "id": "parliamentary-baseball",
   "metadata": {},
   "outputs": [
    {
     "data": {
      "image/png": "[encoded data removed]",
      "text/plain": [
       "<Figure size 864x864 with 6 Axes>"
      ]
     },
     "metadata": {
      "needs_background": "light"
     },
     "output_type": "display_data"
    }
   ],
   "source": [
    "fig, axs = plt.subplots(figsize=(12,12), ncols=2, nrows=3, subplot_kw=dict(polar=True), \n",
    "                        gridspec_kw={'wspace': 0.0, 'hspace': 0.5})\n",
    "axs = axs.flatten()\n",
    "n_contours = 5\n",
    "# fig.suptitle(food_name, fontsize=20)\n",
    "\n",
    "for ax, group, radius in zip(axs,[summary, essential, \n",
    "                                  macro_minerals, trace_minerals, \n",
    "                                  vitamins, fatty_acids],[20,1.5,800,20,300,10]):\n",
    "    ax.set_ylim(0,radius)\n",
    "    ax.set_rgrids(np.linspace(0,radius,n_contours))\n",
    "    \n",
    "    for idx in [6,0,1,9,5,13]:\n",
    "        food_name = final_foods.iloc[idx][0]\n",
    "        food_index = final_foods.iloc[idx][1]\n",
    "        weight = final_foods.iloc[idx][2]\n",
    "\n",
    "        radar_names = df.iloc[food_index][group].index\n",
    "        radar_vals = df.iloc[food_index][group].values\n",
    "\n",
    "        label_loc = np.linspace(start=0, stop=2*np.pi, num=len(radar_names) + 1)\n",
    "        radar_vals = np.append(radar_vals, radar_vals[0])\n",
    "        radar_names = np.append(radar_names, radar_names[0])\n",
    "\n",
    "        ax.plot(label_loc, radar_vals, lw=2, label=food_name)\n",
    "        ax.fill(label_loc, radar_vals, alpha=0.3)\n",
    "\n",
    "        lines, labels = ax.set_thetagrids(np.degrees(label_loc), labels=radar_names)\n",
    "    \n",
    "    ax.tick_params(axis='both', which='major', pad=10, labelsize=10)\n",
    "\n",
    "        \n",
    "ax.legend(loc='upper left', bbox_to_anchor=(0.63,1.4))\n",
    "plt.show()"
   ]
  },
  {
   "cell_type": "code",
   "execution_count": 249,
   "id": "published-colonial",
   "metadata": {},
   "outputs": [
    {
     "name": "stdout",
     "output_type": "stream",
     "text": [
      "14125.00kcal  calories\n",
      "525.00g  total_fat\n",
      "325.00g  saturated_fat\n",
      "1375.00mg  cholesterol\n",
      "39625.00 mg  sodium\n",
      "1687.50 mg  choline\n",
      "1000.00 mcg  folate\n",
      "0.00 mcg  folic_acid\n",
      "134.00 mg  niacin\n",
      "58.50 mg  pantothenic_acid\n",
      "5.12 mg  riboflavin\n",
      "10.75 mg  thiamin\n",
      "17250.00 IU  vitamin_a\n",
      "4750.00 mcg  vitamin_a_rae\n",
      "0.00 mcg  carotene_alpha\n",
      "1125.00 mcg  carotene_beta\n",
      "0.00 mcg  cryptoxanthin_beta\n",
      "875.00 mcg  lutein_zeaxanthin\n",
      "8.75 mcg  vitamin_b12\n",
      "27.75 mg  vitamin_b6\n",
      "750.00 mg  vitamin_c\n",
      "1250.00 IU  vitamin_d\n",
      "15.00 mg  vitamin_e\n",
      "250.00 mcg  vitamin_k\n",
      "3000.00 mg  calcium\n",
      "17.25 mg  copper\n",
      "32.50 mg  irom\n",
      "2250.00 mg  magnesium\n",
      "14.25 mg  manganese\n",
      "5625.00 mg  phosphorous\n",
      "35500.00 mg  potassium\n",
      "100.00 mcg  selenium\n",
      "33.75 mg  zink\n",
      "232.50 g  protein\n",
      "7.25 g  alanine\n",
      "9.37 g  arginine\n",
      "46.75 g  aspartic_acid\n",
      "2.50 g  cystine\n",
      "41.12 g  glutamic_acid\n",
      "6.50 g  glycine\n",
      "5.25 g  histidine\n",
      "-0.00g  hydroxyproline\n",
      "10.25 g  isoleucine\n",
      "15.37 g  leucine\n",
      "13.25 g  lysine\n",
      "4.12 g  methionine\n",
      "10.37 g  phenylalanine\n",
      "12.62 g  proline\n",
      "9.62 g  serine\n",
      "8.87 g  threonine\n",
      "4.12 g  tryptophan\n",
      "9.25 g  tyrosine\n",
      "13.37 g  valine\n",
      "2101.25 g  carbohydrate\n",
      "187.50 g  fiber\n",
      "178.75 g  sugars\n",
      "30.00 g  fructose\n",
      "0.00g  galactose\n",
      "36.25 g  glucose\n",
      "88.75 g  lactose\n",
      "0.00 g  maltose\n",
      "18.75 g  sucrose\n",
      "527.50 g  fat\n",
      "326.62 g  saturated_fatty_acids\n",
      "133.75 g  monounsaturated_fatty_acids\n",
      "24.87 g  polyunsaturated_fatty_acids\n",
      "-0.00 g  alcohol\n",
      "187.50 g  ash\n",
      "0.00 mg  caffeine\n",
      "0.00 mg  theobromine\n",
      "9451.25 g  water\n"
     ]
    }
   ],
   "source": [
    "final = df.values.T @ x3.value\n",
    "for i, col in enumerate(df.columns):\n",
    "    print(f\"{final[i]:.2f}{units[col]}  {col}\")"
   ]
  },
  {
   "cell_type": "code",
   "execution_count": 57,
   "id": "single-lyric",
   "metadata": {},
   "outputs": [
    {
     "name": "stdout",
     "output_type": "stream",
     "text": [
      "1900.00kcal  calories\n",
      "120.00g  total_fat\n",
      "25.00g  saturated_fat\n",
      "250.00mg  cholesterol\n",
      "1500.00 mg  sodium\n",
      "550.00 mg  choline\n",
      "612.20 mcg  folate\n",
      "400.00 mcg  folic_acid\n",
      "25.96 mg  niacin\n",
      "5.00 mg  pantothenic_acid\n",
      "3.97 mg  riboflavin\n",
      "3.49 mg  thiamin\n",
      "4476.97 IU  vitamin_a\n",
      "1162.03 mcg  vitamin_a_rae\n",
      "0.00 mcg  carotene_alpha\n",
      "233.31 mcg  carotene_beta\n",
      "0.00 mcg  cryptoxanthin_beta\n",
      "678.25 mcg  lutein_zeaxanthin\n",
      "5.59 mcg  vitamin_b12\n",
      "1.30 mg  vitamin_b6\n",
      "90.00 mg  vitamin_c\n",
      "600.00 IU  vitamin_d\n",
      "15.00 mg  vitamin_e\n",
      "120.00 mcg  vitamin_k\n",
      "1300.00 mg  calcium\n",
      "2.66 mg  copper\n",
      "15.27 mg  irom\n",
      "500.00 mg  magnesium\n",
      "2.30 mg  manganese\n",
      "1465.76 mg  phosphorous\n",
      "4700.00 mg  potassium\n",
      "69.34 mcg  selenium\n",
      "11.96 mg  zink\n",
      "70.00 g  protein\n",
      "3.57 g  alanine\n",
      "3.76 g  arginine\n",
      "5.92 g  aspartic_acid\n",
      "0.65 g  cystine\n",
      "11.82 g  glutamic_acid\n",
      "3.91 g  glycine\n",
      "1.74 g  histidine\n",
      "0.00g  hydroxyproline\n",
      "3.26 g  isoleucine\n",
      "5.52 g  leucine\n",
      "5.08 g  lysine\n",
      "1.52 g  methionine\n",
      "2.88 g  phenylalanine\n",
      "5.20 g  proline\n",
      "3.17 g  serine\n",
      "2.77 g  threonine\n",
      "0.77 g  tryptophan\n",
      "2.48 g  tyrosine\n",
      "3.68 g  valine\n",
      "130.00 g  carbohydrate\n",
      "38.00 g  fiber\n",
      "40.00 g  sugars\n",
      "0.00 g  fructose\n",
      "0.00g  galactose\n",
      "0.00 g  glucose\n",
      "0.00 g  lactose\n",
      "0.18 g  maltose\n",
      "0.00 g  sucrose\n",
      "119.94 g  fat\n",
      "24.75 g  saturated_fatty_acids\n",
      "56.94 g  monounsaturated_fatty_acids\n",
      "20.46 g  polyunsaturated_fatty_acids\n",
      "2.82 g  alcohol\n",
      "16.79 g  ash\n",
      "39.42 mg  caffeine\n",
      "1338.72 mg  theobromine\n",
      "100.00 g  water\n"
     ]
    }
   ],
   "source": [
    "final = df.values.T @ x.value\n",
    "for i, col in enumerate(df.columns):\n",
    "    print(f\"{final[i]:.2f}{units[col]}  {col}\")"
   ]
  },
  {
   "cell_type": "code",
   "execution_count": 272,
   "id": "surprised-evaluation",
   "metadata": {},
   "outputs": [
    {
     "name": "stdout",
     "output_type": "stream",
     "text": [
      "                   0          1\n",
      "0           calories   0.000002\n",
      "1      saturated_fat   0.000002\n",
      "2        cholesterol   2.491296\n",
      "3             niacin   0.000009\n",
      "4   pantothenic_acid   0.000003\n",
      "5         riboflavin   0.000013\n",
      "6            thiamin   0.000023\n",
      "7        vitamin_b12   0.000011\n",
      "8         vitamin_b6   0.000011\n",
      "9          vitamin_d   0.667466\n",
      "10         vitamin_e   0.000005\n",
      "11         vitamin_k  39.733176\n",
      "12            copper   0.000012\n",
      "13              irom   0.000004\n",
      "14         manganese   0.000005\n",
      "15          selenium   0.568308\n",
      "16              zink   0.000008\n",
      "17           cystine   0.000164\n",
      "18         histidine   0.000049\n",
      "19        isoleucine   0.000020\n",
      "20           leucine   0.000015\n",
      "21            lysine   0.000017\n",
      "22        methionine   0.000059\n",
      "23     phenylalanine   0.000022\n",
      "24         threonine   0.000027\n",
      "25        tryptophan   0.000078\n",
      "26          tyrosine   0.000022\n",
      "27            valine   0.000021\n"
     ]
    }
   ],
   "source": [
    "l_dual = prob3.constraints[0].dual_value\n",
    "tol = 1e-6\n",
    "l_lim = pd.DataFrame([(nutrient, val) for nutrient, val in zip(np.array(l_idxs)[l_dual > tol], l_dual[l_dual > tol])])\n",
    "print(l_lim)"
   ]
  },
  {
   "cell_type": "code",
   "execution_count": 93,
   "id": "champion-storm",
   "metadata": {},
   "outputs": [
    {
     "name": "stdout",
     "output_type": "stream",
     "text": [
      "             0         1\n",
      "0     calories  0.002176\n",
      "1       sodium  0.000015\n",
      "2      choline  0.000297\n",
      "3   folic_acid  0.000015\n",
      "4    vitamin_c  0.000032\n",
      "5    vitamin_d  0.000010\n",
      "6    vitamin_e  0.000123\n",
      "7    vitamin_k  0.000064\n",
      "8      calcium  0.000074\n",
      "9    manganese  0.000460\n",
      "10   potassium  0.000067\n",
      "11       fiber  0.001647\n",
      "12       water  0.008779\n"
     ]
    }
   ],
   "source": [
    "l_dual = prob.constraints[1].dual_value\n",
    "tol = 1e-6\n",
    "l_lim = pd.DataFrame([(nutrient, val) for nutrient, val in zip(np.array(l_idxs)[l_dual > tol], l_dual[l_dual > tol])])\n",
    "print(l_lim)"
   ]
  },
  {
   "cell_type": "code",
   "execution_count": 94,
   "id": "built-vaccine",
   "metadata": {},
   "outputs": [],
   "source": [
    "result = x.value\n",
    "idxs = np.array([i for i in range(len(result))])\n",
    "tol = 1e-6\n",
    "final_foods = pd.DataFrame([(names[food], food, val) for food, val in zip(idxs[result > tol], result[result > tol])])"
   ]
  },
  {
   "cell_type": "code",
   "execution_count": 95,
   "id": "academic-dominant",
   "metadata": {},
   "outputs": [
    {
     "data": {
      "text/html": [
       "<div>\n",
       "<style scoped>\n",
       "    .dataframe tbody tr th:only-of-type {\n",
       "        vertical-align: middle;\n",
       "    }\n",
       "\n",
       "    .dataframe tbody tr th {\n",
       "        vertical-align: top;\n",
       "    }\n",
       "\n",
       "    .dataframe thead th {\n",
       "        text-align: right;\n",
       "    }\n",
       "</style>\n",
       "<table border=\"1\" class=\"dataframe\">\n",
       "  <thead>\n",
       "    <tr style=\"text-align: right;\">\n",
       "      <th></th>\n",
       "      <th>0</th>\n",
       "      <th>1</th>\n",
       "      <th>2</th>\n",
       "    </tr>\n",
       "  </thead>\n",
       "  <tbody>\n",
       "    <tr>\n",
       "      <th>13</th>\n",
       "      <td>Milk, with added vitamin A and vitamin D, regu...</td>\n",
       "      <td>5090</td>\n",
       "      <td>0.639470</td>\n",
       "    </tr>\n",
       "    <tr>\n",
       "      <th>5</th>\n",
       "      <td>Soybeans, raw, mature seeds</td>\n",
       "      <td>853</td>\n",
       "      <td>0.609297</td>\n",
       "    </tr>\n",
       "    <tr>\n",
       "      <th>17</th>\n",
       "      <td>Pork, simmered, cooked, chitterlings, variety ...</td>\n",
       "      <td>6541</td>\n",
       "      <td>0.548811</td>\n",
       "    </tr>\n",
       "    <tr>\n",
       "      <th>7</th>\n",
       "      <td>Potato chips, reduced fat, without salt</td>\n",
       "      <td>1954</td>\n",
       "      <td>0.517495</td>\n",
       "    </tr>\n",
       "    <tr>\n",
       "      <th>9</th>\n",
       "      <td>Oil, high oleic, canola, industrial</td>\n",
       "      <td>2378</td>\n",
       "      <td>0.476247</td>\n",
       "    </tr>\n",
       "    <tr>\n",
       "      <th>6</th>\n",
       "      <td>Frankfurter, low fat, beef</td>\n",
       "      <td>994</td>\n",
       "      <td>0.471681</td>\n",
       "    </tr>\n",
       "    <tr>\n",
       "      <th>14</th>\n",
       "      <td>Cocoa, processed with alkali, hi-fat or breakf...</td>\n",
       "      <td>5185</td>\n",
       "      <td>0.368832</td>\n",
       "    </tr>\n",
       "    <tr>\n",
       "      <th>11</th>\n",
       "      <td>Gums, seed gums (includes locust bean, guar)</td>\n",
       "      <td>2569</td>\n",
       "      <td>0.198783</td>\n",
       "    </tr>\n",
       "    <tr>\n",
       "      <th>4</th>\n",
       "      <td>Fat, chicken</td>\n",
       "      <td>580</td>\n",
       "      <td>0.195035</td>\n",
       "    </tr>\n",
       "    <tr>\n",
       "      <th>10</th>\n",
       "      <td>Vanilla extract, alcohol, imitation</td>\n",
       "      <td>2452</td>\n",
       "      <td>0.151976</td>\n",
       "    </tr>\n",
       "    <tr>\n",
       "      <th>1</th>\n",
       "      <td>Yeast extract spread</td>\n",
       "      <td>123</td>\n",
       "      <td>0.109995</td>\n",
       "    </tr>\n",
       "    <tr>\n",
       "      <th>18</th>\n",
       "      <td>Gelatin desserts, vitamin C, sodium, potassium...</td>\n",
       "      <td>7656</td>\n",
       "      <td>0.109322</td>\n",
       "    </tr>\n",
       "    <tr>\n",
       "      <th>12</th>\n",
       "      <td>Cereals ready-to-eat, Whole Grain TOTAL, GENER...</td>\n",
       "      <td>4817</td>\n",
       "      <td>0.053870</td>\n",
       "    </tr>\n",
       "    <tr>\n",
       "      <th>0</th>\n",
       "      <td>Egg, fresh, raw, yolk</td>\n",
       "      <td>63</td>\n",
       "      <td>0.032703</td>\n",
       "    </tr>\n",
       "    <tr>\n",
       "      <th>3</th>\n",
       "      <td>Parsley, fresh</td>\n",
       "      <td>480</td>\n",
       "      <td>0.029195</td>\n",
       "    </tr>\n",
       "    <tr>\n",
       "      <th>2</th>\n",
       "      <td>Fish oil, cod liver</td>\n",
       "      <td>239</td>\n",
       "      <td>0.024499</td>\n",
       "    </tr>\n",
       "    <tr>\n",
       "      <th>15</th>\n",
       "      <td>Soy sauce, made from hydrolyzed vegetable prot...</td>\n",
       "      <td>6016</td>\n",
       "      <td>0.019989</td>\n",
       "    </tr>\n",
       "    <tr>\n",
       "      <th>8</th>\n",
       "      <td>Oil, bowhead (Alaska Native), whale</td>\n",
       "      <td>2376</td>\n",
       "      <td>0.014630</td>\n",
       "    </tr>\n",
       "    <tr>\n",
       "      <th>16</th>\n",
       "      <td>Beef, boiled, cooked, variety meats and by-pro...</td>\n",
       "      <td>6291</td>\n",
       "      <td>0.001227</td>\n",
       "    </tr>\n",
       "  </tbody>\n",
       "</table>\n",
       "</div>"
      ],
      "text/plain": [
       "                                                    0     1         2\n",
       "13  Milk, with added vitamin A and vitamin D, regu...  5090  0.639470\n",
       "5                         Soybeans, raw, mature seeds   853  0.609297\n",
       "17  Pork, simmered, cooked, chitterlings, variety ...  6541  0.548811\n",
       "7             Potato chips, reduced fat, without salt  1954  0.517495\n",
       "9                 Oil, high oleic, canola, industrial  2378  0.476247\n",
       "6                          Frankfurter, low fat, beef   994  0.471681\n",
       "14  Cocoa, processed with alkali, hi-fat or breakf...  5185  0.368832\n",
       "11       Gums, seed gums (includes locust bean, guar)  2569  0.198783\n",
       "4                                        Fat, chicken   580  0.195035\n",
       "10                Vanilla extract, alcohol, imitation  2452  0.151976\n",
       "1                                Yeast extract spread   123  0.109995\n",
       "18  Gelatin desserts, vitamin C, sodium, potassium...  7656  0.109322\n",
       "12  Cereals ready-to-eat, Whole Grain TOTAL, GENER...  4817  0.053870\n",
       "0                               Egg, fresh, raw, yolk    63  0.032703\n",
       "3                                      Parsley, fresh   480  0.029195\n",
       "2                                 Fish oil, cod liver   239  0.024499\n",
       "15  Soy sauce, made from hydrolyzed vegetable prot...  6016  0.019989\n",
       "8                 Oil, bowhead (Alaska Native), whale  2376  0.014630\n",
       "16  Beef, boiled, cooked, variety meats and by-pro...  6291  0.001227"
      ]
     },
     "execution_count": 95,
     "metadata": {},
     "output_type": "execute_result"
    }
   ],
   "source": [
    "final_foods.sort_values(by=2,ascending=False)"
   ]
  },
  {
   "cell_type": "code",
   "execution_count": 35,
   "id": "stylish-martin",
   "metadata": {},
   "outputs": [
    {
     "name": "stdout",
     "output_type": "stream",
     "text": [
      "Yeast extract spread 2100.0\n",
      "Fish oil, cod liver 0.0\n",
      "Vanilla extract 148.0\n",
      "Fat, chicken 0.0\n",
      "Soybeans, raw, mature seeds 1797.0\n",
      "Frankfurter, low fat, beef 129.0\n",
      "Snacks, plain, pork skins 127.0\n",
      "Egg Mix, USDA Commodity 373.0\n",
      "Potato chips, reduced fat, without salt 1744.0\n",
      "Formulated Bar, SOUTH BEACH protein bar 793.0\n",
      "Gums, seed gums (includes locust bean, guar) 0.0\n",
      "Cereals, dry, plain, original, MALT-O-MEAL 100.0\n",
      "Cereals ready-to-eat, KELLOGG'S PRODUCT 19, KELLOGG 179.0\n",
      "Protein supplement, powder, Muscle Milk Light, milk based 840.0\n",
      "Milk, with added vitamin A and vitamin D, regular, nonfat, dry 1794.0\n",
      "Formulated bar, all flavors, SNICKERS MARATHON Energy Bar, MARS SNACKFOOD US 351.0\n",
      "Pork, simmered, cooked, chitterlings, variety meats and by-products, fresh 14.0\n"
     ]
    }
   ],
   "source": [
    "for idx in final_foods[1]:\n",
    "    print(names[idx], df.iloc[idx]['potassium'])"
   ]
  },
  {
   "cell_type": "code",
   "execution_count": 58,
   "id": "checked-stretch",
   "metadata": {},
   "outputs": [
    {
     "name": "stdout",
     "output_type": "stream",
     "text": [
      "sodium 2.0\n",
      "calcium 10.0\n",
      "copper 0.007\n",
      "magnesium 2.0\n",
      "ash 0.07\n",
      "water 99.98\n"
     ]
    }
   ],
   "source": [
    "for i, v in enumerate(df.iloc[1170].values):\n",
    "    if v != 0:\n",
    "        print(df.columns[i], v)"
   ]
  },
  {
   "cell_type": "code",
   "execution_count": 37,
   "id": "occupied-athens",
   "metadata": {},
   "outputs": [],
   "source": [
    "low_lim_sum = []\n",
    "low_lim_ess = []\n",
    "low_lim_min = []\n",
    "for nutrient in summary:\n",
    "    low, upp = constraints[nutrient]\n",
    "    low_lim_sum.append(low)\n",
    "for nutrient in essential:\n",
    "    low, upp = constraints[nutrient]\n",
    "    low_lim_ess.append(low)\n",
    "for nutrient in minerals:\n",
    "    low, upp = constraints[nutrient]\n",
    "    low_lim_min.append(low)"
   ]
  },
  {
   "cell_type": "code",
   "execution_count": 116,
   "id": "swedish-northern",
   "metadata": {},
   "outputs": [
    {
     "name": "stdout",
     "output_type": "stream",
     "text": [
      "96.7\n"
     ]
    },
    {
     "data": {
      "application/vnd.plotly.v1+json": {
       "config": {
        "plotlyServerURL": "https://plot.ly"
       },
       "data": [
        {
         "name": "lower_lim",
         "r": [
          70,
          150,
          50,
          100,
          70
         ],
         "subplot": "polar",
         "theta": [
          "protein",
          "carbohydrate",
          "total_fat",
          "water",
          "protein"
         ],
         "type": "scatterpolar"
        },
        {
         "fill": "toself",
         "name": "Lambsquarters, raw (Northern Plains Indians)",
         "r": [
          4.21,
          6.96,
          0.3,
          85.23,
          4.21
         ],
         "subplot": "polar",
         "theta": [
          "protein",
          "carbohydrate",
          "total_fat",
          "water",
          "protein"
         ],
         "type": "scatterpolar"
        },
        {
         "name": "lower_lim",
         "r": [
          0.7,
          1.4,
          2.73,
          2.1,
          0.728,
          0.875,
          1.05,
          0.28,
          1.82,
          0.7
         ],
         "subplot": "polar2",
         "theta": [
          "histidine",
          "isoleucine",
          "leucine",
          "lysine",
          "methionine",
          "phenylalanine",
          "threonine",
          "tryptophan",
          "valine",
          "histidine"
         ],
         "type": "scatterpolar"
        },
        {
         "fill": "toself",
         "name": "Lambsquarters, raw (Northern Plains Indians)",
         "r": [
          0.1056909231838694,
          0.1695271750790056,
          0.297052319163763,
          0.2914850434243176,
          0.0906994948924883,
          0.1541574884485516,
          0.1526374407582938,
          0.0424913923641333,
          0.1880765091080853,
          0.1056909231838694
         ],
         "subplot": "polar2",
         "theta": [
          "histidine",
          "isoleucine",
          "leucine",
          "lysine",
          "methionine",
          "phenylalanine",
          "threonine",
          "tryptophan",
          "valine",
          "histidine"
         ],
         "type": "scatterpolar"
        },
        {
         "name": "lower_lim",
         "r": [
          1300,
          0.9,
          8,
          400,
          2.3,
          700,
          4700,
          11,
          1300
         ],
         "subplot": "polar3",
         "theta": [
          "calcium",
          "copper",
          "irom",
          "magnesium",
          "manganese",
          "phosphorous",
          "potassium",
          "zink",
          "calcium"
         ],
         "type": "scatterpolar"
        },
        {
         "fill": "toself",
         "name": "Lambsquarters, raw (Northern Plains Indians)",
         "r": [
          366,
          0.12,
          1.16,
          163,
          1.49,
          63,
          1270,
          0.72,
          366
         ],
         "subplot": "polar3",
         "theta": [
          "calcium",
          "copper",
          "irom",
          "magnesium",
          "manganese",
          "phosphorous",
          "potassium",
          "zink",
          "calcium"
         ],
         "type": "scatterpolar"
        }
       ],
       "layout": {
        "height": 600,
        "polar": {
         "domain": {
          "x": [
           0,
           0.2888888888888889
          ],
          "y": [
           0,
           1
          ]
         },
         "radialaxis": {
          "visible": true
         }
        },
        "polar2": {
         "domain": {
          "x": [
           0.35555555555555557,
           0.6444444444444445
          ],
          "y": [
           0,
           1
          ]
         }
        },
        "polar3": {
         "domain": {
          "x": [
           0.7111111111111111,
           1
          ],
          "y": [
           0,
           1
          ]
         }
        },
        "showlegend": false,
        "template": {
         "data": {
          "bar": [
           {
            "error_x": {
             "color": "#2a3f5f"
            },
            "error_y": {
             "color": "#2a3f5f"
            },
            "marker": {
             "line": {
              "color": "#E5ECF6",
              "width": 0.5
             },
             "pattern": {
              "fillmode": "overlay",
              "size": 10,
              "solidity": 0.2
             }
            },
            "type": "bar"
           }
          ],
          "barpolar": [
           {
            "marker": {
             "line": {
              "color": "#E5ECF6",
              "width": 0.5
             },
             "pattern": {
              "fillmode": "overlay",
              "size": 10,
              "solidity": 0.2
             }
            },
            "type": "barpolar"
           }
          ],
          "carpet": [
           {
            "aaxis": {
             "endlinecolor": "#2a3f5f",
             "gridcolor": "white",
             "linecolor": "white",
             "minorgridcolor": "white",
             "startlinecolor": "#2a3f5f"
            },
            "baxis": {
             "endlinecolor": "#2a3f5f",
             "gridcolor": "white",
             "linecolor": "white",
             "minorgridcolor": "white",
             "startlinecolor": "#2a3f5f"
            },
            "type": "carpet"
           }
          ],
          "choropleth": [
           {
            "colorbar": {
             "outlinewidth": 0,
             "ticks": ""
            },
            "type": "choropleth"
           }
          ],
          "contour": [
           {
            "colorbar": {
             "outlinewidth": 0,
             "ticks": ""
            },
            "colorscale": [
             [
              0,
              "#0d0887"
             ],
             [
              0.1111111111111111,
              "#46039f"
             ],
             [
              0.2222222222222222,
              "#7201a8"
             ],
             [
              0.3333333333333333,
              "#9c179e"
             ],
             [
              0.4444444444444444,
              "#bd3786"
             ],
             [
              0.5555555555555556,
              "#d8576b"
             ],
             [
              0.6666666666666666,
              "#ed7953"
             ],
             [
              0.7777777777777778,
              "#fb9f3a"
             ],
             [
              0.8888888888888888,
              "#fdca26"
             ],
             [
              1,
              "#f0f921"
             ]
            ],
            "type": "contour"
           }
          ],
          "contourcarpet": [
           {
            "colorbar": {
             "outlinewidth": 0,
             "ticks": ""
            },
            "type": "contourcarpet"
           }
          ],
          "heatmap": [
           {
            "colorbar": {
             "outlinewidth": 0,
             "ticks": ""
            },
            "colorscale": [
             [
              0,
              "#0d0887"
             ],
             [
              0.1111111111111111,
              "#46039f"
             ],
             [
              0.2222222222222222,
              "#7201a8"
             ],
             [
              0.3333333333333333,
              "#9c179e"
             ],
             [
              0.4444444444444444,
              "#bd3786"
             ],
             [
              0.5555555555555556,
              "#d8576b"
             ],
             [
              0.6666666666666666,
              "#ed7953"
             ],
             [
              0.7777777777777778,
              "#fb9f3a"
             ],
             [
              0.8888888888888888,
              "#fdca26"
             ],
             [
              1,
              "#f0f921"
             ]
            ],
            "type": "heatmap"
           }
          ],
          "heatmapgl": [
           {
            "colorbar": {
             "outlinewidth": 0,
             "ticks": ""
            },
            "colorscale": [
             [
              0,
              "#0d0887"
             ],
             [
              0.1111111111111111,
              "#46039f"
             ],
             [
              0.2222222222222222,
              "#7201a8"
             ],
             [
              0.3333333333333333,
              "#9c179e"
             ],
             [
              0.4444444444444444,
              "#bd3786"
             ],
             [
              0.5555555555555556,
              "#d8576b"
             ],
             [
              0.6666666666666666,
              "#ed7953"
             ],
             [
              0.7777777777777778,
              "#fb9f3a"
             ],
             [
              0.8888888888888888,
              "#fdca26"
             ],
             [
              1,
              "#f0f921"
             ]
            ],
            "type": "heatmapgl"
           }
          ],
          "histogram": [
           {
            "marker": {
             "pattern": {
              "fillmode": "overlay",
              "size": 10,
              "solidity": 0.2
             }
            },
            "type": "histogram"
           }
          ],
          "histogram2d": [
           {
            "colorbar": {
             "outlinewidth": 0,
             "ticks": ""
            },
            "colorscale": [
             [
              0,
              "#0d0887"
             ],
             [
              0.1111111111111111,
              "#46039f"
             ],
             [
              0.2222222222222222,
              "#7201a8"
             ],
             [
              0.3333333333333333,
              "#9c179e"
             ],
             [
              0.4444444444444444,
              "#bd3786"
             ],
             [
              0.5555555555555556,
              "#d8576b"
             ],
             [
              0.6666666666666666,
              "#ed7953"
             ],
             [
              0.7777777777777778,
              "#fb9f3a"
             ],
             [
              0.8888888888888888,
              "#fdca26"
             ],
             [
              1,
              "#f0f921"
             ]
            ],
            "type": "histogram2d"
           }
          ],
          "histogram2dcontour": [
           {
            "colorbar": {
             "outlinewidth": 0,
             "ticks": ""
            },
            "colorscale": [
             [
              0,
              "#0d0887"
             ],
             [
              0.1111111111111111,
              "#46039f"
             ],
             [
              0.2222222222222222,
              "#7201a8"
             ],
             [
              0.3333333333333333,
              "#9c179e"
             ],
             [
              0.4444444444444444,
              "#bd3786"
             ],
             [
              0.5555555555555556,
              "#d8576b"
             ],
             [
              0.6666666666666666,
              "#ed7953"
             ],
             [
              0.7777777777777778,
              "#fb9f3a"
             ],
             [
              0.8888888888888888,
              "#fdca26"
             ],
             [
              1,
              "#f0f921"
             ]
            ],
            "type": "histogram2dcontour"
           }
          ],
          "mesh3d": [
           {
            "colorbar": {
             "outlinewidth": 0,
             "ticks": ""
            },
            "type": "mesh3d"
           }
          ],
          "parcoords": [
           {
            "line": {
             "colorbar": {
              "outlinewidth": 0,
              "ticks": ""
             }
            },
            "type": "parcoords"
           }
          ],
          "pie": [
           {
            "automargin": true,
            "type": "pie"
           }
          ],
          "scatter": [
           {
            "marker": {
             "colorbar": {
              "outlinewidth": 0,
              "ticks": ""
             }
            },
            "type": "scatter"
           }
          ],
          "scatter3d": [
           {
            "line": {
             "colorbar": {
              "outlinewidth": 0,
              "ticks": ""
             }
            },
            "marker": {
             "colorbar": {
              "outlinewidth": 0,
              "ticks": ""
             }
            },
            "type": "scatter3d"
           }
          ],
          "scattercarpet": [
           {
            "marker": {
             "colorbar": {
              "outlinewidth": 0,
              "ticks": ""
             }
            },
            "type": "scattercarpet"
           }
          ],
          "scattergeo": [
           {
            "marker": {
             "colorbar": {
              "outlinewidth": 0,
              "ticks": ""
             }
            },
            "type": "scattergeo"
           }
          ],
          "scattergl": [
           {
            "marker": {
             "colorbar": {
              "outlinewidth": 0,
              "ticks": ""
             }
            },
            "type": "scattergl"
           }
          ],
          "scattermapbox": [
           {
            "marker": {
             "colorbar": {
              "outlinewidth": 0,
              "ticks": ""
             }
            },
            "type": "scattermapbox"
           }
          ],
          "scatterpolar": [
           {
            "marker": {
             "colorbar": {
              "outlinewidth": 0,
              "ticks": ""
             }
            },
            "type": "scatterpolar"
           }
          ],
          "scatterpolargl": [
           {
            "marker": {
             "colorbar": {
              "outlinewidth": 0,
              "ticks": ""
             }
            },
            "type": "scatterpolargl"
           }
          ],
          "scatterternary": [
           {
            "marker": {
             "colorbar": {
              "outlinewidth": 0,
              "ticks": ""
             }
            },
            "type": "scatterternary"
           }
          ],
          "surface": [
           {
            "colorbar": {
             "outlinewidth": 0,
             "ticks": ""
            },
            "colorscale": [
             [
              0,
              "#0d0887"
             ],
             [
              0.1111111111111111,
              "#46039f"
             ],
             [
              0.2222222222222222,
              "#7201a8"
             ],
             [
              0.3333333333333333,
              "#9c179e"
             ],
             [
              0.4444444444444444,
              "#bd3786"
             ],
             [
              0.5555555555555556,
              "#d8576b"
             ],
             [
              0.6666666666666666,
              "#ed7953"
             ],
             [
              0.7777777777777778,
              "#fb9f3a"
             ],
             [
              0.8888888888888888,
              "#fdca26"
             ],
             [
              1,
              "#f0f921"
             ]
            ],
            "type": "surface"
           }
          ],
          "table": [
           {
            "cells": {
             "fill": {
              "color": "#EBF0F8"
             },
             "line": {
              "color": "white"
             }
            },
            "header": {
             "fill": {
              "color": "#C8D4E3"
             },
             "line": {
              "color": "white"
             }
            },
            "type": "table"
           }
          ]
         },
         "layout": {
          "annotationdefaults": {
           "arrowcolor": "#2a3f5f",
           "arrowhead": 0,
           "arrowwidth": 1
          },
          "autotypenumbers": "strict",
          "coloraxis": {
           "colorbar": {
            "outlinewidth": 0,
            "ticks": ""
           }
          },
          "colorscale": {
           "diverging": [
            [
             0,
             "#8e0152"
            ],
            [
             0.1,
             "#c51b7d"
            ],
            [
             0.2,
             "#de77ae"
            ],
            [
             0.3,
             "#f1b6da"
            ],
            [
             0.4,
             "#fde0ef"
            ],
            [
             0.5,
             "#f7f7f7"
            ],
            [
             0.6,
             "#e6f5d0"
            ],
            [
             0.7,
             "#b8e186"
            ],
            [
             0.8,
             "#7fbc41"
            ],
            [
             0.9,
             "#4d9221"
            ],
            [
             1,
             "#276419"
            ]
           ],
           "sequential": [
            [
             0,
             "#0d0887"
            ],
            [
             0.1111111111111111,
             "#46039f"
            ],
            [
             0.2222222222222222,
             "#7201a8"
            ],
            [
             0.3333333333333333,
             "#9c179e"
            ],
            [
             0.4444444444444444,
             "#bd3786"
            ],
            [
             0.5555555555555556,
             "#d8576b"
            ],
            [
             0.6666666666666666,
             "#ed7953"
            ],
            [
             0.7777777777777778,
             "#fb9f3a"
            ],
            [
             0.8888888888888888,
             "#fdca26"
            ],
            [
             1,
             "#f0f921"
            ]
           ],
           "sequentialminus": [
            [
             0,
             "#0d0887"
            ],
            [
             0.1111111111111111,
             "#46039f"
            ],
            [
             0.2222222222222222,
             "#7201a8"
            ],
            [
             0.3333333333333333,
             "#9c179e"
            ],
            [
             0.4444444444444444,
             "#bd3786"
            ],
            [
             0.5555555555555556,
             "#d8576b"
            ],
            [
             0.6666666666666666,
             "#ed7953"
            ],
            [
             0.7777777777777778,
             "#fb9f3a"
            ],
            [
             0.8888888888888888,
             "#fdca26"
            ],
            [
             1,
             "#f0f921"
            ]
           ]
          },
          "colorway": [
           "#636efa",
           "#EF553B",
           "#00cc96",
           "#ab63fa",
           "#FFA15A",
           "#19d3f3",
           "#FF6692",
           "#B6E880",
           "#FF97FF",
           "#FECB52"
          ],
          "font": {
           "color": "#2a3f5f"
          },
          "geo": {
           "bgcolor": "white",
           "lakecolor": "white",
           "landcolor": "#E5ECF6",
           "showlakes": true,
           "showland": true,
           "subunitcolor": "white"
          },
          "hoverlabel": {
           "align": "left"
          },
          "hovermode": "closest",
          "mapbox": {
           "style": "light"
          },
          "paper_bgcolor": "white",
          "plot_bgcolor": "#E5ECF6",
          "polar": {
           "angularaxis": {
            "gridcolor": "white",
            "linecolor": "white",
            "ticks": ""
           },
           "bgcolor": "#E5ECF6",
           "radialaxis": {
            "gridcolor": "white",
            "linecolor": "white",
            "ticks": ""
           }
          },
          "scene": {
           "xaxis": {
            "backgroundcolor": "#E5ECF6",
            "gridcolor": "white",
            "gridwidth": 2,
            "linecolor": "white",
            "showbackground": true,
            "ticks": "",
            "zerolinecolor": "white"
           },
           "yaxis": {
            "backgroundcolor": "#E5ECF6",
            "gridcolor": "white",
            "gridwidth": 2,
            "linecolor": "white",
            "showbackground": true,
            "ticks": "",
            "zerolinecolor": "white"
           },
           "zaxis": {
            "backgroundcolor": "#E5ECF6",
            "gridcolor": "white",
            "gridwidth": 2,
            "linecolor": "white",
            "showbackground": true,
            "ticks": "",
            "zerolinecolor": "white"
           }
          },
          "shapedefaults": {
           "line": {
            "color": "#2a3f5f"
           }
          },
          "ternary": {
           "aaxis": {
            "gridcolor": "white",
            "linecolor": "white",
            "ticks": ""
           },
           "baxis": {
            "gridcolor": "white",
            "linecolor": "white",
            "ticks": ""
           },
           "bgcolor": "#E5ECF6",
           "caxis": {
            "gridcolor": "white",
            "linecolor": "white",
            "ticks": ""
           }
          },
          "title": {
           "x": 0.05
          },
          "xaxis": {
           "automargin": true,
           "gridcolor": "white",
           "linecolor": "white",
           "ticks": "",
           "title": {
            "standoff": 15
           },
           "zerolinecolor": "white",
           "zerolinewidth": 2
          },
          "yaxis": {
           "automargin": true,
           "gridcolor": "white",
           "linecolor": "white",
           "ticks": "",
           "title": {
            "standoff": 15
           },
           "zerolinecolor": "white",
           "zerolinewidth": 2
          }
         }
        },
        "title": {
         "text": "Lambsquarters, raw (Northern Plains Indians)"
        },
        "width": 1800
       }
      },
      "text/html": [
       "<div>                            <div id=\"2e4eb65f-a33c-435b-8b1a-1e8346159224\" class=\"plotly-graph-div\" style=\"height:600px; width:1800px;\"></div>            <script type=\"text/javascript\">                require([\"plotly\"], function(Plotly) {                    window.PLOTLYENV=window.PLOTLYENV || {};                                    if (document.getElementById(\"2e4eb65f-a33c-435b-8b1a-1e8346159224\")) {                    Plotly.newPlot(                        \"2e4eb65f-a33c-435b-8b1a-1e8346159224\",                        [{\"name\":\"lower_lim\",\"r\":[70,150,50,100,70],\"theta\":[\"protein\",\"carbohydrate\",\"total_fat\",\"water\",\"protein\"],\"type\":\"scatterpolar\",\"subplot\":\"polar\"},{\"fill\":\"toself\",\"name\":\"Lambsquarters, raw (Northern Plains Indians)\",\"r\":[4.21,6.96,0.3,85.23,4.21],\"theta\":[\"protein\",\"carbohydrate\",\"total_fat\",\"water\",\"protein\"],\"type\":\"scatterpolar\",\"subplot\":\"polar\"},{\"name\":\"lower_lim\",\"r\":[0.7,1.4,2.73,2.1,0.728,0.875,1.05,0.28,1.82,0.7],\"theta\":[\"histidine\",\"isoleucine\",\"leucine\",\"lysine\",\"methionine\",\"phenylalanine\",\"threonine\",\"tryptophan\",\"valine\",\"histidine\"],\"type\":\"scatterpolar\",\"subplot\":\"polar2\"},{\"fill\":\"toself\",\"name\":\"Lambsquarters, raw (Northern Plains Indians)\",\"r\":[0.1056909231838694,0.1695271750790056,0.297052319163763,0.2914850434243176,0.0906994948924883,0.1541574884485516,0.1526374407582938,0.0424913923641333,0.1880765091080853,0.1056909231838694],\"theta\":[\"histidine\",\"isoleucine\",\"leucine\",\"lysine\",\"methionine\",\"phenylalanine\",\"threonine\",\"tryptophan\",\"valine\",\"histidine\"],\"type\":\"scatterpolar\",\"subplot\":\"polar2\"},{\"name\":\"lower_lim\",\"r\":[1300,0.9,8,400,2.3,700,4700,11,1300],\"theta\":[\"calcium\",\"copper\",\"irom\",\"magnesium\",\"manganese\",\"phosphorous\",\"potassium\",\"zink\",\"calcium\"],\"type\":\"scatterpolar\",\"subplot\":\"polar3\"},{\"fill\":\"toself\",\"name\":\"Lambsquarters, raw (Northern Plains Indians)\",\"r\":[366.0,0.12,1.16,163.0,1.49,63.0,1270.0,0.72,366.0],\"theta\":[\"calcium\",\"copper\",\"irom\",\"magnesium\",\"manganese\",\"phosphorous\",\"potassium\",\"zink\",\"calcium\"],\"type\":\"scatterpolar\",\"subplot\":\"polar3\"}],                        {\"template\":{\"data\":{\"bar\":[{\"error_x\":{\"color\":\"#2a3f5f\"},\"error_y\":{\"color\":\"#2a3f5f\"},\"marker\":{\"line\":{\"color\":\"#E5ECF6\",\"width\":0.5},\"pattern\":{\"fillmode\":\"overlay\",\"size\":10,\"solidity\":0.2}},\"type\":\"bar\"}],\"barpolar\":[{\"marker\":{\"line\":{\"color\":\"#E5ECF6\",\"width\":0.5},\"pattern\":{\"fillmode\":\"overlay\",\"size\":10,\"solidity\":0.2}},\"type\":\"barpolar\"}],\"carpet\":[{\"aaxis\":{\"endlinecolor\":\"#2a3f5f\",\"gridcolor\":\"white\",\"linecolor\":\"white\",\"minorgridcolor\":\"white\",\"startlinecolor\":\"#2a3f5f\"},\"baxis\":{\"endlinecolor\":\"#2a3f5f\",\"gridcolor\":\"white\",\"linecolor\":\"white\",\"minorgridcolor\":\"white\",\"startlinecolor\":\"#2a3f5f\"},\"type\":\"carpet\"}],\"choropleth\":[{\"colorbar\":{\"outlinewidth\":0,\"ticks\":\"\"},\"type\":\"choropleth\"}],\"contour\":[{\"colorbar\":{\"outlinewidth\":0,\"ticks\":\"\"},\"colorscale\":[[0.0,\"#0d0887\"],[0.1111111111111111,\"#46039f\"],[0.2222222222222222,\"#7201a8\"],[0.3333333333333333,\"#9c179e\"],[0.4444444444444444,\"#bd3786\"],[0.5555555555555556,\"#d8576b\"],[0.6666666666666666,\"#ed7953\"],[0.7777777777777778,\"#fb9f3a\"],[0.8888888888888888,\"#fdca26\"],[1.0,\"#f0f921\"]],\"type\":\"contour\"}],\"contourcarpet\":[{\"colorbar\":{\"outlinewidth\":0,\"ticks\":\"\"},\"type\":\"contourcarpet\"}],\"heatmap\":[{\"colorbar\":{\"outlinewidth\":0,\"ticks\":\"\"},\"colorscale\":[[0.0,\"#0d0887\"],[0.1111111111111111,\"#46039f\"],[0.2222222222222222,\"#7201a8\"],[0.3333333333333333,\"#9c179e\"],[0.4444444444444444,\"#bd3786\"],[0.5555555555555556,\"#d8576b\"],[0.6666666666666666,\"#ed7953\"],[0.7777777777777778,\"#fb9f3a\"],[0.8888888888888888,\"#fdca26\"],[1.0,\"#f0f921\"]],\"type\":\"heatmap\"}],\"heatmapgl\":[{\"colorbar\":{\"outlinewidth\":0,\"ticks\":\"\"},\"colorscale\":[[0.0,\"#0d0887\"],[0.1111111111111111,\"#46039f\"],[0.2222222222222222,\"#7201a8\"],[0.3333333333333333,\"#9c179e\"],[0.4444444444444444,\"#bd3786\"],[0.5555555555555556,\"#d8576b\"],[0.6666666666666666,\"#ed7953\"],[0.7777777777777778,\"#fb9f3a\"],[0.8888888888888888,\"#fdca26\"],[1.0,\"#f0f921\"]],\"type\":\"heatmapgl\"}],\"histogram\":[{\"marker\":{\"pattern\":{\"fillmode\":\"overlay\",\"size\":10,\"solidity\":0.2}},\"type\":\"histogram\"}],\"histogram2d\":[{\"colorbar\":{\"outlinewidth\":0,\"ticks\":\"\"},\"colorscale\":[[0.0,\"#0d0887\"],[0.1111111111111111,\"#46039f\"],[0.2222222222222222,\"#7201a8\"],[0.3333333333333333,\"#9c179e\"],[0.4444444444444444,\"#bd3786\"],[0.5555555555555556,\"#d8576b\"],[0.6666666666666666,\"#ed7953\"],[0.7777777777777778,\"#fb9f3a\"],[0.8888888888888888,\"#fdca26\"],[1.0,\"#f0f921\"]],\"type\":\"histogram2d\"}],\"histogram2dcontour\":[{\"colorbar\":{\"outlinewidth\":0,\"ticks\":\"\"},\"colorscale\":[[0.0,\"#0d0887\"],[0.1111111111111111,\"#46039f\"],[0.2222222222222222,\"#7201a8\"],[0.3333333333333333,\"#9c179e\"],[0.4444444444444444,\"#bd3786\"],[0.5555555555555556,\"#d8576b\"],[0.6666666666666666,\"#ed7953\"],[0.7777777777777778,\"#fb9f3a\"],[0.8888888888888888,\"#fdca26\"],[1.0,\"#f0f921\"]],\"type\":\"histogram2dcontour\"}],\"mesh3d\":[{\"colorbar\":{\"outlinewidth\":0,\"ticks\":\"\"},\"type\":\"mesh3d\"}],\"parcoords\":[{\"line\":{\"colorbar\":{\"outlinewidth\":0,\"ticks\":\"\"}},\"type\":\"parcoords\"}],\"pie\":[{\"automargin\":true,\"type\":\"pie\"}],\"scatter\":[{\"marker\":{\"colorbar\":{\"outlinewidth\":0,\"ticks\":\"\"}},\"type\":\"scatter\"}],\"scatter3d\":[{\"line\":{\"colorbar\":{\"outlinewidth\":0,\"ticks\":\"\"}},\"marker\":{\"colorbar\":{\"outlinewidth\":0,\"ticks\":\"\"}},\"type\":\"scatter3d\"}],\"scattercarpet\":[{\"marker\":{\"colorbar\":{\"outlinewidth\":0,\"ticks\":\"\"}},\"type\":\"scattercarpet\"}],\"scattergeo\":[{\"marker\":{\"colorbar\":{\"outlinewidth\":0,\"ticks\":\"\"}},\"type\":\"scattergeo\"}],\"scattergl\":[{\"marker\":{\"colorbar\":{\"outlinewidth\":0,\"ticks\":\"\"}},\"type\":\"scattergl\"}],\"scattermapbox\":[{\"marker\":{\"colorbar\":{\"outlinewidth\":0,\"ticks\":\"\"}},\"type\":\"scattermapbox\"}],\"scatterpolar\":[{\"marker\":{\"colorbar\":{\"outlinewidth\":0,\"ticks\":\"\"}},\"type\":\"scatterpolar\"}],\"scatterpolargl\":[{\"marker\":{\"colorbar\":{\"outlinewidth\":0,\"ticks\":\"\"}},\"type\":\"scatterpolargl\"}],\"scatterternary\":[{\"marker\":{\"colorbar\":{\"outlinewidth\":0,\"ticks\":\"\"}},\"type\":\"scatterternary\"}],\"surface\":[{\"colorbar\":{\"outlinewidth\":0,\"ticks\":\"\"},\"colorscale\":[[0.0,\"#0d0887\"],[0.1111111111111111,\"#46039f\"],[0.2222222222222222,\"#7201a8\"],[0.3333333333333333,\"#9c179e\"],[0.4444444444444444,\"#bd3786\"],[0.5555555555555556,\"#d8576b\"],[0.6666666666666666,\"#ed7953\"],[0.7777777777777778,\"#fb9f3a\"],[0.8888888888888888,\"#fdca26\"],[1.0,\"#f0f921\"]],\"type\":\"surface\"}],\"table\":[{\"cells\":{\"fill\":{\"color\":\"#EBF0F8\"},\"line\":{\"color\":\"white\"}},\"header\":{\"fill\":{\"color\":\"#C8D4E3\"},\"line\":{\"color\":\"white\"}},\"type\":\"table\"}]},\"layout\":{\"annotationdefaults\":{\"arrowcolor\":\"#2a3f5f\",\"arrowhead\":0,\"arrowwidth\":1},\"autotypenumbers\":\"strict\",\"coloraxis\":{\"colorbar\":{\"outlinewidth\":0,\"ticks\":\"\"}},\"colorscale\":{\"diverging\":[[0,\"#8e0152\"],[0.1,\"#c51b7d\"],[0.2,\"#de77ae\"],[0.3,\"#f1b6da\"],[0.4,\"#fde0ef\"],[0.5,\"#f7f7f7\"],[0.6,\"#e6f5d0\"],[0.7,\"#b8e186\"],[0.8,\"#7fbc41\"],[0.9,\"#4d9221\"],[1,\"#276419\"]],\"sequential\":[[0.0,\"#0d0887\"],[0.1111111111111111,\"#46039f\"],[0.2222222222222222,\"#7201a8\"],[0.3333333333333333,\"#9c179e\"],[0.4444444444444444,\"#bd3786\"],[0.5555555555555556,\"#d8576b\"],[0.6666666666666666,\"#ed7953\"],[0.7777777777777778,\"#fb9f3a\"],[0.8888888888888888,\"#fdca26\"],[1.0,\"#f0f921\"]],\"sequentialminus\":[[0.0,\"#0d0887\"],[0.1111111111111111,\"#46039f\"],[0.2222222222222222,\"#7201a8\"],[0.3333333333333333,\"#9c179e\"],[0.4444444444444444,\"#bd3786\"],[0.5555555555555556,\"#d8576b\"],[0.6666666666666666,\"#ed7953\"],[0.7777777777777778,\"#fb9f3a\"],[0.8888888888888888,\"#fdca26\"],[1.0,\"#f0f921\"]]},\"colorway\":[\"#636efa\",\"#EF553B\",\"#00cc96\",\"#ab63fa\",\"#FFA15A\",\"#19d3f3\",\"#FF6692\",\"#B6E880\",\"#FF97FF\",\"#FECB52\"],\"font\":{\"color\":\"#2a3f5f\"},\"geo\":{\"bgcolor\":\"white\",\"lakecolor\":\"white\",\"landcolor\":\"#E5ECF6\",\"showlakes\":true,\"showland\":true,\"subunitcolor\":\"white\"},\"hoverlabel\":{\"align\":\"left\"},\"hovermode\":\"closest\",\"mapbox\":{\"style\":\"light\"},\"paper_bgcolor\":\"white\",\"plot_bgcolor\":\"#E5ECF6\",\"polar\":{\"angularaxis\":{\"gridcolor\":\"white\",\"linecolor\":\"white\",\"ticks\":\"\"},\"bgcolor\":\"#E5ECF6\",\"radialaxis\":{\"gridcolor\":\"white\",\"linecolor\":\"white\",\"ticks\":\"\"}},\"scene\":{\"xaxis\":{\"backgroundcolor\":\"#E5ECF6\",\"gridcolor\":\"white\",\"gridwidth\":2,\"linecolor\":\"white\",\"showbackground\":true,\"ticks\":\"\",\"zerolinecolor\":\"white\"},\"yaxis\":{\"backgroundcolor\":\"#E5ECF6\",\"gridcolor\":\"white\",\"gridwidth\":2,\"linecolor\":\"white\",\"showbackground\":true,\"ticks\":\"\",\"zerolinecolor\":\"white\"},\"zaxis\":{\"backgroundcolor\":\"#E5ECF6\",\"gridcolor\":\"white\",\"gridwidth\":2,\"linecolor\":\"white\",\"showbackground\":true,\"ticks\":\"\",\"zerolinecolor\":\"white\"}},\"shapedefaults\":{\"line\":{\"color\":\"#2a3f5f\"}},\"ternary\":{\"aaxis\":{\"gridcolor\":\"white\",\"linecolor\":\"white\",\"ticks\":\"\"},\"baxis\":{\"gridcolor\":\"white\",\"linecolor\":\"white\",\"ticks\":\"\"},\"bgcolor\":\"#E5ECF6\",\"caxis\":{\"gridcolor\":\"white\",\"linecolor\":\"white\",\"ticks\":\"\"}},\"title\":{\"x\":0.05},\"xaxis\":{\"automargin\":true,\"gridcolor\":\"white\",\"linecolor\":\"white\",\"ticks\":\"\",\"title\":{\"standoff\":15},\"zerolinecolor\":\"white\",\"zerolinewidth\":2},\"yaxis\":{\"automargin\":true,\"gridcolor\":\"white\",\"linecolor\":\"white\",\"ticks\":\"\",\"title\":{\"standoff\":15},\"zerolinecolor\":\"white\",\"zerolinewidth\":2}}},\"polar\":{\"domain\":{\"x\":[0.0,0.2888888888888889],\"y\":[0.0,1.0]},\"radialaxis\":{\"visible\":true}},\"polar2\":{\"domain\":{\"x\":[0.35555555555555557,0.6444444444444445],\"y\":[0.0,1.0]}},\"polar3\":{\"domain\":{\"x\":[0.7111111111111111,1.0],\"y\":[0.0,1.0]}},\"height\":600,\"width\":1800,\"title\":{\"text\":\"Lambsquarters, raw (Northern Plains Indians)\"},\"showlegend\":false},                        {\"responsive\": true}                    ).then(function(){\n",
       "                            \n",
       "var gd = document.getElementById('2e4eb65f-a33c-435b-8b1a-1e8346159224');\n",
       "var x = new MutationObserver(function (mutations, observer) {{\n",
       "        var display = window.getComputedStyle(gd).display;\n",
       "        if (!display || display === 'none') {{\n",
       "            console.log([gd, 'removed!']);\n",
       "            Plotly.purge(gd);\n",
       "            observer.disconnect();\n",
       "        }}\n",
       "}});\n",
       "\n",
       "// Listen for the removal of the full notebook cells\n",
       "var notebookContainer = gd.closest('#notebook-container');\n",
       "if (notebookContainer) {{\n",
       "    x.observe(notebookContainer, {childList: true});\n",
       "}}\n",
       "\n",
       "// Listen for the clearing of the current output cell\n",
       "var outputEl = gd.closest('.output');\n",
       "if (outputEl) {{\n",
       "    x.observe(outputEl, {childList: true});\n",
       "}}\n",
       "\n",
       "                        })                };                });            </script>        </div>"
      ]
     },
     "metadata": {},
     "output_type": "display_data"
    }
   ],
   "source": [
    "idx = 2585\n",
    "print(df[summary].iloc[idx].sum())\n",
    "\n",
    "fig = make_subplots(rows=1, cols=3, specs=[[{'type':'polar'},{'type':'polar'},{'type':'polar'}]])\n",
    "\n",
    "fig.add_trace(go.Scatterpolar(\n",
    "      r=low_lim_sum + [low_lim_sum[0]],theta=summary + [summary[0]],\n",
    "      name='lower_lim'\n",
    "), row=1, col=1)\n",
    "\n",
    "fig.add_trace(go.Scatterpolar(\n",
    "      r=df[summary+[summary[0]]].iloc[idx],\n",
    "      theta=summary+ [summary[0]],\n",
    "      fill='toself',\n",
    "      name=names[idx]\n",
    "), row=1, col=1)\n",
    "\n",
    "fig.add_trace(go.Scatterpolar(\n",
    "      r=low_lim_ess + [low_lim_ess[0]],theta=essential + [essential[0]],\n",
    "      name='lower_lim'\n",
    "), row=1, col=2)\n",
    "\n",
    "fig.add_trace(go.Scatterpolar(\n",
    "      r=df[essential+[essential[0]]].iloc[idx],\n",
    "      theta=essential+ [essential[0]],\n",
    "      fill='toself',\n",
    "      name=names[idx]\n",
    "), row=1, col=2)\n",
    "\n",
    "fig.add_trace(go.Scatterpolar(\n",
    "      r=low_lim_min + [low_lim_min[0]],theta=minerals + [minerals[0]],\n",
    "      name='lower_lim'\n",
    "), row=1, col=3)\n",
    "\n",
    "fig.add_trace(go.Scatterpolar(\n",
    "      r=df[minerals+[minerals[0]]].iloc[idx],\n",
    "      theta=minerals+ [minerals[0]],\n",
    "      fill='toself',\n",
    "      name=names[idx]\n",
    "), row=1, col=3)\n",
    "\n",
    "\n",
    "\n",
    "fig.update_layout(\n",
    "    height=600, width=1800,\n",
    "    title=names[idx],\n",
    "  polar=dict(\n",
    "    radialaxis=dict(\n",
    "      visible=True,\n",
    "#       range=[0, 100]\n",
    "    )),\n",
    "  showlegend=False\n",
    ")\n",
    "\n",
    "fig.show()"
   ]
  },
  {
   "cell_type": "code",
   "execution_count": 50,
   "id": "thousand-overall",
   "metadata": {},
   "outputs": [
    {
     "data": {
      "text/plain": [
       "protein          7.1\n",
       "carbohydrate    67.8\n",
       "total_fat       21.0\n",
       "water            1.0\n",
       "Name: 1954, dtype: float64"
      ]
     },
     "execution_count": 50,
     "metadata": {},
     "output_type": "execute_result"
    }
   ],
   "source": [
    "df[summary].iloc[1954]"
   ]
  },
  {
   "cell_type": "code",
   "execution_count": 51,
   "id": "pediatric-swing",
   "metadata": {},
   "outputs": [
    {
     "data": {
      "text/plain": [
       "protein         12.34\n",
       "carbohydrate    66.36\n",
       "total_fat       15.00\n",
       "water            5.05\n",
       "Name: 995, dtype: float64"
      ]
     },
     "execution_count": 51,
     "metadata": {},
     "output_type": "execute_result"
    }
   ],
   "source": [
    "df[summary].iloc[995]"
   ]
  },
  {
   "cell_type": "code",
   "execution_count": 52,
   "id": "minor-certificate",
   "metadata": {},
   "outputs": [
    {
     "data": {
      "text/plain": [
       "protein         12.0\n",
       "carbohydrate     1.6\n",
       "total_fat        9.5\n",
       "water           63.8\n",
       "Name: 994, dtype: float64"
      ]
     },
     "execution_count": 52,
     "metadata": {},
     "output_type": "execute_result"
    }
   ],
   "source": [
    "df[summary].iloc[994]"
   ]
  },
  {
   "cell_type": "code",
   "execution_count": null,
   "id": "concerned-accommodation",
   "metadata": {},
   "outputs": [],
   "source": []
  },
  {
   "cell_type": "code",
   "execution_count": null,
   "id": "divine-mobility",
   "metadata": {},
   "outputs": [],
   "source": []
  },
  {
   "cell_type": "code",
   "execution_count": null,
   "id": "alpine-baker",
   "metadata": {},
   "outputs": [],
   "source": []
  },
  {
   "cell_type": "code",
   "execution_count": null,
   "id": "reserved-constitution",
   "metadata": {},
   "outputs": [],
   "source": []
  },
  {
   "cell_type": "code",
   "execution_count": null,
   "id": "sustainable-first",
   "metadata": {},
   "outputs": [],
   "source": []
  },
  {
   "cell_type": "code",
   "execution_count": null,
   "id": "starting-burning",
   "metadata": {},
   "outputs": [],
   "source": []
  },
  {
   "cell_type": "code",
   "execution_count": null,
   "id": "precious-gospel",
   "metadata": {},
   "outputs": [],
   "source": []
  },
  {
   "cell_type": "code",
   "execution_count": 74,
   "id": "bigger-engine",
   "metadata": {},
   "outputs": [
    {
     "data": {
      "text/html": [
       "<div>\n",
       "<style scoped>\n",
       "    .dataframe tbody tr th:only-of-type {\n",
       "        vertical-align: middle;\n",
       "    }\n",
       "\n",
       "    .dataframe tbody tr th {\n",
       "        vertical-align: top;\n",
       "    }\n",
       "\n",
       "    .dataframe thead th {\n",
       "        text-align: right;\n",
       "    }\n",
       "</style>\n",
       "<table border=\"1\" class=\"dataframe\">\n",
       "  <thead>\n",
       "    <tr style=\"text-align: right;\">\n",
       "      <th></th>\n",
       "      <th>protein</th>\n",
       "      <th>alanine</th>\n",
       "      <th>arginine</th>\n",
       "      <th>aspartic_acid</th>\n",
       "      <th>cystine</th>\n",
       "      <th>glutamic_acid</th>\n",
       "      <th>glycine</th>\n",
       "      <th>histidine</th>\n",
       "      <th>hydroxyproline</th>\n",
       "      <th>isoleucine</th>\n",
       "      <th>leucine</th>\n",
       "      <th>lysine</th>\n",
       "      <th>methionine</th>\n",
       "      <th>phenylalanine</th>\n",
       "      <th>proline</th>\n",
       "      <th>serine</th>\n",
       "      <th>threonine</th>\n",
       "      <th>tryptophan</th>\n",
       "      <th>tyrosine</th>\n",
       "      <th>valine</th>\n",
       "    </tr>\n",
       "  </thead>\n",
       "  <tbody>\n",
       "    <tr>\n",
       "      <th>4</th>\n",
       "      <td>1.10</td>\n",
       "      <td>0.0</td>\n",
       "      <td>0.0</td>\n",
       "      <td>0.0</td>\n",
       "      <td>0.0</td>\n",
       "      <td>0.0</td>\n",
       "      <td>0.0</td>\n",
       "      <td>0.0</td>\n",
       "      <td>0.0</td>\n",
       "      <td>0.0</td>\n",
       "      <td>0.0</td>\n",
       "      <td>0.0</td>\n",
       "      <td>0.0</td>\n",
       "      <td>0.0</td>\n",
       "      <td>0.0</td>\n",
       "      <td>0.0</td>\n",
       "      <td>0.0</td>\n",
       "      <td>0.0</td>\n",
       "      <td>0.0</td>\n",
       "      <td>0.0</td>\n",
       "    </tr>\n",
       "    <tr>\n",
       "      <th>9</th>\n",
       "      <td>23.00</td>\n",
       "      <td>0.0</td>\n",
       "      <td>0.0</td>\n",
       "      <td>0.0</td>\n",
       "      <td>0.0</td>\n",
       "      <td>0.0</td>\n",
       "      <td>0.0</td>\n",
       "      <td>0.0</td>\n",
       "      <td>0.0</td>\n",
       "      <td>0.0</td>\n",
       "      <td>0.0</td>\n",
       "      <td>0.0</td>\n",
       "      <td>0.0</td>\n",
       "      <td>0.0</td>\n",
       "      <td>0.0</td>\n",
       "      <td>0.0</td>\n",
       "      <td>0.0</td>\n",
       "      <td>0.0</td>\n",
       "      <td>0.0</td>\n",
       "      <td>0.0</td>\n",
       "    </tr>\n",
       "    <tr>\n",
       "      <th>12</th>\n",
       "      <td>0.11</td>\n",
       "      <td>0.0</td>\n",
       "      <td>0.0</td>\n",
       "      <td>0.0</td>\n",
       "      <td>0.0</td>\n",
       "      <td>0.0</td>\n",
       "      <td>0.0</td>\n",
       "      <td>0.0</td>\n",
       "      <td>0.0</td>\n",
       "      <td>0.0</td>\n",
       "      <td>0.0</td>\n",
       "      <td>0.0</td>\n",
       "      <td>0.0</td>\n",
       "      <td>0.0</td>\n",
       "      <td>0.0</td>\n",
       "      <td>0.0</td>\n",
       "      <td>0.0</td>\n",
       "      <td>0.0</td>\n",
       "      <td>0.0</td>\n",
       "      <td>0.0</td>\n",
       "    </tr>\n",
       "    <tr>\n",
       "      <th>14</th>\n",
       "      <td>19.40</td>\n",
       "      <td>0.0</td>\n",
       "      <td>0.0</td>\n",
       "      <td>0.0</td>\n",
       "      <td>0.0</td>\n",
       "      <td>0.0</td>\n",
       "      <td>0.0</td>\n",
       "      <td>0.0</td>\n",
       "      <td>0.0</td>\n",
       "      <td>0.0</td>\n",
       "      <td>0.0</td>\n",
       "      <td>0.0</td>\n",
       "      <td>0.0</td>\n",
       "      <td>0.0</td>\n",
       "      <td>0.0</td>\n",
       "      <td>0.0</td>\n",
       "      <td>0.0</td>\n",
       "      <td>0.0</td>\n",
       "      <td>0.0</td>\n",
       "      <td>0.0</td>\n",
       "    </tr>\n",
       "    <tr>\n",
       "      <th>17</th>\n",
       "      <td>0.91</td>\n",
       "      <td>0.0</td>\n",
       "      <td>0.0</td>\n",
       "      <td>0.0</td>\n",
       "      <td>0.0</td>\n",
       "      <td>0.0</td>\n",
       "      <td>0.0</td>\n",
       "      <td>0.0</td>\n",
       "      <td>0.0</td>\n",
       "      <td>0.0</td>\n",
       "      <td>0.0</td>\n",
       "      <td>0.0</td>\n",
       "      <td>0.0</td>\n",
       "      <td>0.0</td>\n",
       "      <td>0.0</td>\n",
       "      <td>0.0</td>\n",
       "      <td>0.0</td>\n",
       "      <td>0.0</td>\n",
       "      <td>0.0</td>\n",
       "      <td>0.0</td>\n",
       "    </tr>\n",
       "    <tr>\n",
       "      <th>...</th>\n",
       "      <td>...</td>\n",
       "      <td>...</td>\n",
       "      <td>...</td>\n",
       "      <td>...</td>\n",
       "      <td>...</td>\n",
       "      <td>...</td>\n",
       "      <td>...</td>\n",
       "      <td>...</td>\n",
       "      <td>...</td>\n",
       "      <td>...</td>\n",
       "      <td>...</td>\n",
       "      <td>...</td>\n",
       "      <td>...</td>\n",
       "      <td>...</td>\n",
       "      <td>...</td>\n",
       "      <td>...</td>\n",
       "      <td>...</td>\n",
       "      <td>...</td>\n",
       "      <td>...</td>\n",
       "      <td>...</td>\n",
       "    </tr>\n",
       "    <tr>\n",
       "      <th>8764</th>\n",
       "      <td>0.14</td>\n",
       "      <td>0.0</td>\n",
       "      <td>0.0</td>\n",
       "      <td>0.0</td>\n",
       "      <td>0.0</td>\n",
       "      <td>0.0</td>\n",
       "      <td>0.0</td>\n",
       "      <td>0.0</td>\n",
       "      <td>0.0</td>\n",
       "      <td>0.0</td>\n",
       "      <td>0.0</td>\n",
       "      <td>0.0</td>\n",
       "      <td>0.0</td>\n",
       "      <td>0.0</td>\n",
       "      <td>0.0</td>\n",
       "      <td>0.0</td>\n",
       "      <td>0.0</td>\n",
       "      <td>0.0</td>\n",
       "      <td>0.0</td>\n",
       "      <td>0.0</td>\n",
       "    </tr>\n",
       "    <tr>\n",
       "      <th>8767</th>\n",
       "      <td>1.78</td>\n",
       "      <td>0.0</td>\n",
       "      <td>0.0</td>\n",
       "      <td>0.0</td>\n",
       "      <td>0.0</td>\n",
       "      <td>0.0</td>\n",
       "      <td>0.0</td>\n",
       "      <td>0.0</td>\n",
       "      <td>0.0</td>\n",
       "      <td>0.0</td>\n",
       "      <td>0.0</td>\n",
       "      <td>0.0</td>\n",
       "      <td>0.0</td>\n",
       "      <td>0.0</td>\n",
       "      <td>0.0</td>\n",
       "      <td>0.0</td>\n",
       "      <td>0.0</td>\n",
       "      <td>0.0</td>\n",
       "      <td>0.0</td>\n",
       "      <td>0.0</td>\n",
       "    </tr>\n",
       "    <tr>\n",
       "      <th>8770</th>\n",
       "      <td>1.48</td>\n",
       "      <td>0.0</td>\n",
       "      <td>0.0</td>\n",
       "      <td>0.0</td>\n",
       "      <td>0.0</td>\n",
       "      <td>0.0</td>\n",
       "      <td>0.0</td>\n",
       "      <td>0.0</td>\n",
       "      <td>0.0</td>\n",
       "      <td>0.0</td>\n",
       "      <td>0.0</td>\n",
       "      <td>0.0</td>\n",
       "      <td>0.0</td>\n",
       "      <td>0.0</td>\n",
       "      <td>0.0</td>\n",
       "      <td>0.0</td>\n",
       "      <td>0.0</td>\n",
       "      <td>0.0</td>\n",
       "      <td>0.0</td>\n",
       "      <td>0.0</td>\n",
       "    </tr>\n",
       "    <tr>\n",
       "      <th>8771</th>\n",
       "      <td>3.20</td>\n",
       "      <td>0.0</td>\n",
       "      <td>0.0</td>\n",
       "      <td>0.0</td>\n",
       "      <td>0.0</td>\n",
       "      <td>0.0</td>\n",
       "      <td>0.0</td>\n",
       "      <td>0.0</td>\n",
       "      <td>0.0</td>\n",
       "      <td>0.0</td>\n",
       "      <td>0.0</td>\n",
       "      <td>0.0</td>\n",
       "      <td>0.0</td>\n",
       "      <td>0.0</td>\n",
       "      <td>0.0</td>\n",
       "      <td>0.0</td>\n",
       "      <td>0.0</td>\n",
       "      <td>0.0</td>\n",
       "      <td>0.0</td>\n",
       "      <td>0.0</td>\n",
       "    </tr>\n",
       "    <tr>\n",
       "      <th>8772</th>\n",
       "      <td>8.81</td>\n",
       "      <td>0.0</td>\n",
       "      <td>0.0</td>\n",
       "      <td>0.0</td>\n",
       "      <td>0.0</td>\n",
       "      <td>0.0</td>\n",
       "      <td>0.0</td>\n",
       "      <td>0.0</td>\n",
       "      <td>0.0</td>\n",
       "      <td>0.0</td>\n",
       "      <td>0.0</td>\n",
       "      <td>0.0</td>\n",
       "      <td>0.0</td>\n",
       "      <td>0.0</td>\n",
       "      <td>0.0</td>\n",
       "      <td>0.0</td>\n",
       "      <td>0.0</td>\n",
       "      <td>0.0</td>\n",
       "      <td>0.0</td>\n",
       "      <td>0.0</td>\n",
       "    </tr>\n",
       "  </tbody>\n",
       "</table>\n",
       "<p>3361 rows × 20 columns</p>\n",
       "</div>"
      ],
      "text/plain": [
       "      protein  alanine  arginine  aspartic_acid  cystine  glutamic_acid  \\\n",
       "4        1.10      0.0       0.0            0.0      0.0            0.0   \n",
       "9       23.00      0.0       0.0            0.0      0.0            0.0   \n",
       "12       0.11      0.0       0.0            0.0      0.0            0.0   \n",
       "14      19.40      0.0       0.0            0.0      0.0            0.0   \n",
       "17       0.91      0.0       0.0            0.0      0.0            0.0   \n",
       "...       ...      ...       ...            ...      ...            ...   \n",
       "8764     0.14      0.0       0.0            0.0      0.0            0.0   \n",
       "8767     1.78      0.0       0.0            0.0      0.0            0.0   \n",
       "8770     1.48      0.0       0.0            0.0      0.0            0.0   \n",
       "8771     3.20      0.0       0.0            0.0      0.0            0.0   \n",
       "8772     8.81      0.0       0.0            0.0      0.0            0.0   \n",
       "\n",
       "      glycine  histidine  hydroxyproline  isoleucine  leucine  lysine  \\\n",
       "4         0.0        0.0             0.0         0.0      0.0     0.0   \n",
       "9         0.0        0.0             0.0         0.0      0.0     0.0   \n",
       "12        0.0        0.0             0.0         0.0      0.0     0.0   \n",
       "14        0.0        0.0             0.0         0.0      0.0     0.0   \n",
       "17        0.0        0.0             0.0         0.0      0.0     0.0   \n",
       "...       ...        ...             ...         ...      ...     ...   \n",
       "8764      0.0        0.0             0.0         0.0      0.0     0.0   \n",
       "8767      0.0        0.0             0.0         0.0      0.0     0.0   \n",
       "8770      0.0        0.0             0.0         0.0      0.0     0.0   \n",
       "8771      0.0        0.0             0.0         0.0      0.0     0.0   \n",
       "8772      0.0        0.0             0.0         0.0      0.0     0.0   \n",
       "\n",
       "      methionine  phenylalanine  proline  serine  threonine  tryptophan  \\\n",
       "4            0.0            0.0      0.0     0.0        0.0         0.0   \n",
       "9            0.0            0.0      0.0     0.0        0.0         0.0   \n",
       "12           0.0            0.0      0.0     0.0        0.0         0.0   \n",
       "14           0.0            0.0      0.0     0.0        0.0         0.0   \n",
       "17           0.0            0.0      0.0     0.0        0.0         0.0   \n",
       "...          ...            ...      ...     ...        ...         ...   \n",
       "8764         0.0            0.0      0.0     0.0        0.0         0.0   \n",
       "8767         0.0            0.0      0.0     0.0        0.0         0.0   \n",
       "8770         0.0            0.0      0.0     0.0        0.0         0.0   \n",
       "8771         0.0            0.0      0.0     0.0        0.0         0.0   \n",
       "8772         0.0            0.0      0.0     0.0        0.0         0.0   \n",
       "\n",
       "      tyrosine  valine  \n",
       "4          0.0     0.0  \n",
       "9          0.0     0.0  \n",
       "12         0.0     0.0  \n",
       "14         0.0     0.0  \n",
       "17         0.0     0.0  \n",
       "...        ...     ...  \n",
       "8764       0.0     0.0  \n",
       "8767       0.0     0.0  \n",
       "8770       0.0     0.0  \n",
       "8771       0.0     0.0  \n",
       "8772       0.0     0.0  \n",
       "\n",
       "[3361 rows x 20 columns]"
      ]
     },
     "execution_count": 74,
     "metadata": {},
     "output_type": "execute_result"
    }
   ],
   "source": [
    "df[(df['protein'] > 0) * (df[amino_acids].sum(axis=1) == 0)][['protein']+amino_acids]"
   ]
  },
  {
   "cell_type": "code",
   "execution_count": 75,
   "id": "latter-wheat",
   "metadata": {},
   "outputs": [
    {
     "data": {
      "text/html": [
       "<div>\n",
       "<style scoped>\n",
       "    .dataframe tbody tr th:only-of-type {\n",
       "        vertical-align: middle;\n",
       "    }\n",
       "\n",
       "    .dataframe tbody tr th {\n",
       "        vertical-align: top;\n",
       "    }\n",
       "\n",
       "    .dataframe thead th {\n",
       "        text-align: right;\n",
       "    }\n",
       "</style>\n",
       "<table border=\"1\" class=\"dataframe\">\n",
       "  <thead>\n",
       "    <tr style=\"text-align: right;\">\n",
       "      <th></th>\n",
       "      <th>protein</th>\n",
       "      <th>alanine</th>\n",
       "      <th>arginine</th>\n",
       "      <th>aspartic_acid</th>\n",
       "      <th>cystine</th>\n",
       "      <th>glutamic_acid</th>\n",
       "      <th>glycine</th>\n",
       "      <th>histidine</th>\n",
       "      <th>hydroxyproline</th>\n",
       "      <th>isoleucine</th>\n",
       "      <th>leucine</th>\n",
       "      <th>lysine</th>\n",
       "      <th>methionine</th>\n",
       "      <th>phenylalanine</th>\n",
       "      <th>proline</th>\n",
       "      <th>serine</th>\n",
       "      <th>threonine</th>\n",
       "      <th>tryptophan</th>\n",
       "      <th>tyrosine</th>\n",
       "      <th>valine</th>\n",
       "    </tr>\n",
       "  </thead>\n",
       "  <tbody>\n",
       "    <tr>\n",
       "      <th>615</th>\n",
       "      <td>0.0</td>\n",
       "      <td>0.000</td>\n",
       "      <td>0.000</td>\n",
       "      <td>0.002</td>\n",
       "      <td>0.000</td>\n",
       "      <td>0.002</td>\n",
       "      <td>0.000</td>\n",
       "      <td>0.000</td>\n",
       "      <td>0.0</td>\n",
       "      <td>0.000</td>\n",
       "      <td>0.001</td>\n",
       "      <td>0.000</td>\n",
       "      <td>0.000</td>\n",
       "      <td>0.000</td>\n",
       "      <td>0.000</td>\n",
       "      <td>0.000</td>\n",
       "      <td>0.000</td>\n",
       "      <td>0.000</td>\n",
       "      <td>0.000</td>\n",
       "      <td>0.000</td>\n",
       "    </tr>\n",
       "    <tr>\n",
       "      <th>1221</th>\n",
       "      <td>0.0</td>\n",
       "      <td>0.072</td>\n",
       "      <td>0.088</td>\n",
       "      <td>0.155</td>\n",
       "      <td>0.019</td>\n",
       "      <td>0.234</td>\n",
       "      <td>0.070</td>\n",
       "      <td>0.027</td>\n",
       "      <td>0.0</td>\n",
       "      <td>0.060</td>\n",
       "      <td>0.094</td>\n",
       "      <td>0.078</td>\n",
       "      <td>0.016</td>\n",
       "      <td>0.075</td>\n",
       "      <td>0.067</td>\n",
       "      <td>0.067</td>\n",
       "      <td>0.062</td>\n",
       "      <td>0.023</td>\n",
       "      <td>0.058</td>\n",
       "      <td>0.093</td>\n",
       "    </tr>\n",
       "    <tr>\n",
       "      <th>1474</th>\n",
       "      <td>0.0</td>\n",
       "      <td>0.003</td>\n",
       "      <td>0.002</td>\n",
       "      <td>0.003</td>\n",
       "      <td>0.001</td>\n",
       "      <td>0.007</td>\n",
       "      <td>0.001</td>\n",
       "      <td>0.001</td>\n",
       "      <td>0.0</td>\n",
       "      <td>0.001</td>\n",
       "      <td>0.005</td>\n",
       "      <td>0.001</td>\n",
       "      <td>0.001</td>\n",
       "      <td>0.002</td>\n",
       "      <td>0.003</td>\n",
       "      <td>0.002</td>\n",
       "      <td>0.001</td>\n",
       "      <td>0.000</td>\n",
       "      <td>0.001</td>\n",
       "      <td>0.002</td>\n",
       "    </tr>\n",
       "    <tr>\n",
       "      <th>2186</th>\n",
       "      <td>0.0</td>\n",
       "      <td>0.036</td>\n",
       "      <td>0.064</td>\n",
       "      <td>0.105</td>\n",
       "      <td>0.014</td>\n",
       "      <td>0.180</td>\n",
       "      <td>0.026</td>\n",
       "      <td>0.031</td>\n",
       "      <td>0.0</td>\n",
       "      <td>0.007</td>\n",
       "      <td>0.017</td>\n",
       "      <td>0.019</td>\n",
       "      <td>0.029</td>\n",
       "      <td>0.017</td>\n",
       "      <td>0.029</td>\n",
       "      <td>0.041</td>\n",
       "      <td>0.024</td>\n",
       "      <td>0.000</td>\n",
       "      <td>0.016</td>\n",
       "      <td>0.024</td>\n",
       "    </tr>\n",
       "    <tr>\n",
       "      <th>4438</th>\n",
       "      <td>0.0</td>\n",
       "      <td>0.013</td>\n",
       "      <td>0.007</td>\n",
       "      <td>0.003</td>\n",
       "      <td>0.000</td>\n",
       "      <td>0.017</td>\n",
       "      <td>0.002</td>\n",
       "      <td>0.001</td>\n",
       "      <td>0.0</td>\n",
       "      <td>0.001</td>\n",
       "      <td>0.002</td>\n",
       "      <td>0.002</td>\n",
       "      <td>0.000</td>\n",
       "      <td>0.002</td>\n",
       "      <td>0.002</td>\n",
       "      <td>0.002</td>\n",
       "      <td>0.002</td>\n",
       "      <td>0.000</td>\n",
       "      <td>0.000</td>\n",
       "      <td>0.002</td>\n",
       "    </tr>\n",
       "    <tr>\n",
       "      <th>4621</th>\n",
       "      <td>0.0</td>\n",
       "      <td>0.003</td>\n",
       "      <td>0.002</td>\n",
       "      <td>0.003</td>\n",
       "      <td>0.001</td>\n",
       "      <td>0.007</td>\n",
       "      <td>0.001</td>\n",
       "      <td>0.001</td>\n",
       "      <td>0.0</td>\n",
       "      <td>0.001</td>\n",
       "      <td>0.005</td>\n",
       "      <td>0.001</td>\n",
       "      <td>0.001</td>\n",
       "      <td>0.002</td>\n",
       "      <td>0.003</td>\n",
       "      <td>0.002</td>\n",
       "      <td>0.001</td>\n",
       "      <td>0.000</td>\n",
       "      <td>0.001</td>\n",
       "      <td>0.002</td>\n",
       "    </tr>\n",
       "  </tbody>\n",
       "</table>\n",
       "</div>"
      ],
      "text/plain": [
       "      protein  alanine  arginine  aspartic_acid  cystine  glutamic_acid  \\\n",
       "615       0.0    0.000     0.000          0.002    0.000          0.002   \n",
       "1221      0.0    0.072     0.088          0.155    0.019          0.234   \n",
       "1474      0.0    0.003     0.002          0.003    0.001          0.007   \n",
       "2186      0.0    0.036     0.064          0.105    0.014          0.180   \n",
       "4438      0.0    0.013     0.007          0.003    0.000          0.017   \n",
       "4621      0.0    0.003     0.002          0.003    0.001          0.007   \n",
       "\n",
       "      glycine  histidine  hydroxyproline  isoleucine  leucine  lysine  \\\n",
       "615     0.000      0.000             0.0       0.000    0.001   0.000   \n",
       "1221    0.070      0.027             0.0       0.060    0.094   0.078   \n",
       "1474    0.001      0.001             0.0       0.001    0.005   0.001   \n",
       "2186    0.026      0.031             0.0       0.007    0.017   0.019   \n",
       "4438    0.002      0.001             0.0       0.001    0.002   0.002   \n",
       "4621    0.001      0.001             0.0       0.001    0.005   0.001   \n",
       "\n",
       "      methionine  phenylalanine  proline  serine  threonine  tryptophan  \\\n",
       "615        0.000          0.000    0.000   0.000      0.000       0.000   \n",
       "1221       0.016          0.075    0.067   0.067      0.062       0.023   \n",
       "1474       0.001          0.002    0.003   0.002      0.001       0.000   \n",
       "2186       0.029          0.017    0.029   0.041      0.024       0.000   \n",
       "4438       0.000          0.002    0.002   0.002      0.002       0.000   \n",
       "4621       0.001          0.002    0.003   0.002      0.001       0.000   \n",
       "\n",
       "      tyrosine  valine  \n",
       "615      0.000   0.000  \n",
       "1221     0.058   0.093  \n",
       "1474     0.001   0.002  \n",
       "2186     0.016   0.024  \n",
       "4438     0.000   0.002  \n",
       "4621     0.001   0.002  "
      ]
     },
     "execution_count": 75,
     "metadata": {},
     "output_type": "execute_result"
    }
   ],
   "source": [
    "df[(df['protein'] == 0) * (df[amino_acids].sum(axis=1) > 0)][['protein']+amino_acids]"
   ]
  },
  {
   "cell_type": "code",
   "execution_count": 76,
   "id": "indoor-auckland",
   "metadata": {},
   "outputs": [],
   "source": [
    "complete = df[(df['protein'] > 0) * (df[amino_acids].sum(axis=1) > 0)][['protein']+amino_acids]"
   ]
  },
  {
   "cell_type": "code",
   "execution_count": 77,
   "id": "imported-polyester",
   "metadata": {},
   "outputs": [],
   "source": [
    "amino_median = []\n",
    "for idx in range(len(amino_acids)):\n",
    "    ratio = complete[[amino_acids[idx]]].sum(axis=1) / complete['protein']\n",
    "    amino_median.append(ratio.median())\n",
    "amino_median = 0.9 * np.array(amino_median)"
   ]
  },
  {
   "cell_type": "code",
   "execution_count": 78,
   "id": "advisory-situation",
   "metadata": {},
   "outputs": [
    {
     "name": "stderr",
     "output_type": "stream",
     "text": [
      "/var/folders/pj/mh9s37yn0r90tmd44r3slss00000gn/T/ipykernel_27438/715047728.py:4: SettingWithCopyWarning:\n",
      "\n",
      "\n",
      "A value is trying to be set on a copy of a slice from a DataFrame\n",
      "\n",
      "See the caveats in the documentation: https://pandas.pydata.org/pandas-docs/stable/user_guide/indexing.html#returning-a-view-versus-a-copy\n",
      "\n"
     ]
    }
   ],
   "source": [
    "mask = (df['protein'] > 0) * (df[amino_acids].sum(axis=1) == 0)\n",
    "fix = df[mask][['protein']].values * amino_median\n",
    "for idx in range(len(amino_acids)):\n",
    "    df[amino_acids[idx]][mask] = fix[:,idx]"
   ]
  },
  {
   "cell_type": "code",
   "execution_count": 82,
   "id": "ancient-spread",
   "metadata": {},
   "outputs": [],
   "source": [
    "#Save amended data\n",
    "df.to_csv('../data/nutrition_augment.csv', index=False)"
   ]
  },
  {
   "cell_type": "code",
   "execution_count": null,
   "id": "included-electricity",
   "metadata": {},
   "outputs": [],
   "source": []
  }
 ],
 "metadata": {
  "kernelspec": {
   "display_name": "Python 3 (ipykernel)",
   "language": "python",
   "name": "python3"
  },
  "language_info": {
   "codemirror_mode": {
    "name": "ipython",
    "version": 3
   },
   "file_extension": ".py",
   "mimetype": "text/x-python",
   "name": "python",
   "nbconvert_exporter": "python",
   "pygments_lexer": "ipython3",
   "version": "3.9.7"
  }
 },
 "nbformat": 4,
 "nbformat_minor": 5
}
